{
 "cells": [
  {
   "cell_type": "markdown",
   "metadata": {},
   "source": [
    "# Partie 3 : Modélisation"
   ]
  },
  {
   "cell_type": "code",
   "execution_count": 21,
   "metadata": {},
   "outputs": [],
   "source": [
    "import numpy as np\n",
    "import pandas as pd\n",
    "import matplotlib.pyplot as plt\n",
    "import keras\n",
    "from keras.datasets import mnist\n",
    "from keras.models import Sequential\n",
    "from keras.layers import Dense, Dropout, Flatten\n",
    "from keras.layers import Conv2D, MaxPooling2D\n",
    "from keras import activations\n",
    "import sklearn as sk\n",
    "from sklearn.model_selection import train_test_split\n",
    "from sklearn.metrics import confusion_matrix\n",
    "from sklearn.metrics import mean_squared_error"
   ]
  },
  {
   "cell_type": "code",
   "execution_count": 2,
   "metadata": {
    "scrolled": false
   },
   "outputs": [
    {
     "name": "stderr",
     "output_type": "stream",
     "text": [
      "C:\\Users\\theoc\\anaconda3\\envs\\ML\\lib\\site-packages\\IPython\\core\\interactiveshell.py:3145: DtypeWarning: Columns (2,3,4,5,6,15) have mixed types.Specify dtype option on import or set low_memory=False.\n",
      "  has_raised = await self.run_ast_nodes(code_ast.body, cell_name,\n"
     ]
    },
    {
     "data": {
      "text/html": [
       "<div>\n",
       "<style scoped>\n",
       "    .dataframe tbody tr th:only-of-type {\n",
       "        vertical-align: middle;\n",
       "    }\n",
       "\n",
       "    .dataframe tbody tr th {\n",
       "        vertical-align: top;\n",
       "    }\n",
       "\n",
       "    .dataframe thead th {\n",
       "        text-align: right;\n",
       "    }\n",
       "</style>\n",
       "<table border=\"1\" class=\"dataframe\">\n",
       "  <thead>\n",
       "    <tr style=\"text-align: right;\">\n",
       "      <th></th>\n",
       "      <th>Année</th>\n",
       "      <th>Date de première alerte</th>\n",
       "      <th>Département</th>\n",
       "      <th>Commune</th>\n",
       "      <th>Code postal</th>\n",
       "      <th>Code INSEE</th>\n",
       "      <th>Latitude commune</th>\n",
       "      <th>Longitude commune</th>\n",
       "      <th>Surface brûlée (m2)</th>\n",
       "      <th>Surface forêt (m2)</th>\n",
       "      <th>...</th>\n",
       "      <th>Station la plus proche</th>\n",
       "      <th>id_station</th>\n",
       "      <th>Latitude station</th>\n",
       "      <th>Longitude station</th>\n",
       "      <th>Altitude station</th>\n",
       "      <th>Date</th>\n",
       "      <th>Température (°C)</th>\n",
       "      <th>Précipitations (3 heures)</th>\n",
       "      <th>Humidité (%)</th>\n",
       "      <th>Vitesse du vent (m/s)</th>\n",
       "    </tr>\n",
       "  </thead>\n",
       "  <tbody>\n",
       "    <tr>\n",
       "      <th>0</th>\n",
       "      <td>2006.0</td>\n",
       "      <td>2006-01-01 12:50:00</td>\n",
       "      <td>66</td>\n",
       "      <td>SAINT LAURENT DE CERDANS</td>\n",
       "      <td>66260</td>\n",
       "      <td>66179</td>\n",
       "      <td>42.3833</td>\n",
       "      <td>2.61667</td>\n",
       "      <td>10000.0</td>\n",
       "      <td>10000.0</td>\n",
       "      <td>...</td>\n",
       "      <td>PERPIGNAN</td>\n",
       "      <td>7747.0</td>\n",
       "      <td>42.737167</td>\n",
       "      <td>2.872833</td>\n",
       "      <td>42.0</td>\n",
       "      <td>2006-01-01 12:00:00</td>\n",
       "      <td>11.7</td>\n",
       "      <td>0.0</td>\n",
       "      <td>50.0</td>\n",
       "      <td>8.7</td>\n",
       "    </tr>\n",
       "    <tr>\n",
       "      <th>1</th>\n",
       "      <td>2006.0</td>\n",
       "      <td>2006-01-01 12:56:00</td>\n",
       "      <td>66</td>\n",
       "      <td>SALSES LE CHATEAU</td>\n",
       "      <td>66600</td>\n",
       "      <td>66190</td>\n",
       "      <td>42.8328</td>\n",
       "      <td>2.91889</td>\n",
       "      <td>20000.0</td>\n",
       "      <td>0.0</td>\n",
       "      <td>...</td>\n",
       "      <td>PERPIGNAN</td>\n",
       "      <td>7747.0</td>\n",
       "      <td>42.737167</td>\n",
       "      <td>2.872833</td>\n",
       "      <td>42.0</td>\n",
       "      <td>2006-01-01 12:00:00</td>\n",
       "      <td>11.7</td>\n",
       "      <td>0.0</td>\n",
       "      <td>50.0</td>\n",
       "      <td>8.7</td>\n",
       "    </tr>\n",
       "    <tr>\n",
       "      <th>2</th>\n",
       "      <td>2006.0</td>\n",
       "      <td>2006-01-01 15:40:00</td>\n",
       "      <td>83</td>\n",
       "      <td>CALLAS</td>\n",
       "      <td>83830</td>\n",
       "      <td>83028</td>\n",
       "      <td>43.5833</td>\n",
       "      <td>6.53333</td>\n",
       "      <td>30.0</td>\n",
       "      <td>30.0</td>\n",
       "      <td>...</td>\n",
       "      <td>NICE</td>\n",
       "      <td>7690.0</td>\n",
       "      <td>43.648833</td>\n",
       "      <td>7.209000</td>\n",
       "      <td>2.0</td>\n",
       "      <td>2006-01-01 15:00:00</td>\n",
       "      <td>10.4</td>\n",
       "      <td>0.0</td>\n",
       "      <td>76.0</td>\n",
       "      <td>6.2</td>\n",
       "    </tr>\n",
       "    <tr>\n",
       "      <th>3</th>\n",
       "      <td>2006.0</td>\n",
       "      <td>2006-01-02 18:19:00</td>\n",
       "      <td>34</td>\n",
       "      <td>ROUJAN</td>\n",
       "      <td>34320</td>\n",
       "      <td>34237</td>\n",
       "      <td>43.5167</td>\n",
       "      <td>3.30000</td>\n",
       "      <td>37500.0</td>\n",
       "      <td>10000.0</td>\n",
       "      <td>...</td>\n",
       "      <td>MONTPELLIER</td>\n",
       "      <td>7643.0</td>\n",
       "      <td>43.577000</td>\n",
       "      <td>3.963167</td>\n",
       "      <td>2.0</td>\n",
       "      <td>2006-01-02 18:00:00</td>\n",
       "      <td>7.5</td>\n",
       "      <td>0.0</td>\n",
       "      <td>54.0</td>\n",
       "      <td>4.1</td>\n",
       "    </tr>\n",
       "    <tr>\n",
       "      <th>4</th>\n",
       "      <td>2006.0</td>\n",
       "      <td>2006-01-02 20:57:00</td>\n",
       "      <td>83</td>\n",
       "      <td>DRAGUIGNAN</td>\n",
       "      <td>83300</td>\n",
       "      <td>83050</td>\n",
       "      <td>43.5333</td>\n",
       "      <td>6.46667</td>\n",
       "      <td>200.0</td>\n",
       "      <td>200.0</td>\n",
       "      <td>...</td>\n",
       "      <td>NICE</td>\n",
       "      <td>7690.0</td>\n",
       "      <td>43.648833</td>\n",
       "      <td>7.209000</td>\n",
       "      <td>2.0</td>\n",
       "      <td>2006-01-02 21:00:00</td>\n",
       "      <td>6.8</td>\n",
       "      <td>0.0</td>\n",
       "      <td>64.0</td>\n",
       "      <td>4.1</td>\n",
       "    </tr>\n",
       "  </tbody>\n",
       "</table>\n",
       "<p>5 rows × 24 columns</p>\n",
       "</div>"
      ],
      "text/plain": [
       "    Année Date de première alerte Département                   Commune  \\\n",
       "0  2006.0     2006-01-01 12:50:00          66  SAINT LAURENT DE CERDANS   \n",
       "1  2006.0     2006-01-01 12:56:00          66         SALSES LE CHATEAU   \n",
       "2  2006.0     2006-01-01 15:40:00          83                    CALLAS   \n",
       "3  2006.0     2006-01-02 18:19:00          34                    ROUJAN   \n",
       "4  2006.0     2006-01-02 20:57:00          83                DRAGUIGNAN   \n",
       "\n",
       "  Code postal Code INSEE  Latitude commune  Longitude commune  \\\n",
       "0       66260      66179           42.3833            2.61667   \n",
       "1       66600      66190           42.8328            2.91889   \n",
       "2       83830      83028           43.5833            6.53333   \n",
       "3       34320      34237           43.5167            3.30000   \n",
       "4       83300      83050           43.5333            6.46667   \n",
       "\n",
       "   Surface brûlée (m2)  Surface forêt (m2)  ...  Station la plus proche  \\\n",
       "0              10000.0             10000.0  ...               PERPIGNAN   \n",
       "1              20000.0                 0.0  ...               PERPIGNAN   \n",
       "2                 30.0                30.0  ...                    NICE   \n",
       "3              37500.0             10000.0  ...             MONTPELLIER   \n",
       "4                200.0               200.0  ...                    NICE   \n",
       "\n",
       "   id_station  Latitude station  Longitude station Altitude station  \\\n",
       "0      7747.0         42.737167           2.872833             42.0   \n",
       "1      7747.0         42.737167           2.872833             42.0   \n",
       "2      7690.0         43.648833           7.209000              2.0   \n",
       "3      7643.0         43.577000           3.963167              2.0   \n",
       "4      7690.0         43.648833           7.209000              2.0   \n",
       "\n",
       "                  Date  Température (°C)  Précipitations (3 heures)  \\\n",
       "0  2006-01-01 12:00:00              11.7                        0.0   \n",
       "1  2006-01-01 12:00:00              11.7                        0.0   \n",
       "2  2006-01-01 15:00:00              10.4                        0.0   \n",
       "3  2006-01-02 18:00:00               7.5                        0.0   \n",
       "4  2006-01-02 21:00:00               6.8                        0.0   \n",
       "\n",
       "   Humidité (%) Vitesse du vent (m/s)  \n",
       "0          50.0                   8.7  \n",
       "1          50.0                   8.7  \n",
       "2          76.0                   6.2  \n",
       "3          54.0                   4.1  \n",
       "4          64.0                   4.1  \n",
       "\n",
       "[5 rows x 24 columns]"
      ]
     },
     "execution_count": 2,
     "metadata": {},
     "output_type": "execute_result"
    }
   ],
   "source": [
    "df = pd.read_csv('data.csv').dropna(subset = ['Température (°C)', 'Précipitations (3 heures)', 'Humidité (%)', 'Vitesse du vent (m/s)'])\n",
    "df_feu = df[df['Départ de feu'] == 1]\n",
    "df_feu = df_feu.drop(columns = ['Départ de feu'])\n",
    "df_feu = df_feu.sort_values(['Date de première alerte'])\n",
    "df_feu = df_feu.reset_index(drop = True)\n",
    "df_feu.head()"
   ]
  },
  {
   "cell_type": "code",
   "execution_count": 3,
   "metadata": {},
   "outputs": [
    {
     "data": {
      "text/plain": [
       "Année                                        float64\n",
       "Date de première alerte                       object\n",
       "Département                                   object\n",
       "Commune                                       object\n",
       "Code postal                                   object\n",
       "Code INSEE                                    object\n",
       "Latitude commune                             float64\n",
       "Longitude commune                            float64\n",
       "Surface brûlée (m2)                          float64\n",
       "Surface forêt (m2)                           float64\n",
       "Surface autres terres boisées (m2)           float64\n",
       "Surfaces non boisées naturelles (m2)         float64\n",
       "Surfaces non boisées artificialisées (m2)    float64\n",
       "Surfaces non boisées (m2)                    float64\n",
       "Station la plus proche                        object\n",
       "id_station                                   float64\n",
       "Latitude station                             float64\n",
       "Longitude station                            float64\n",
       "Altitude station                             float64\n",
       "Date                                          object\n",
       "Température (°C)                             float64\n",
       "Précipitations (3 heures)                    float64\n",
       "Humidité (%)                                 float64\n",
       "Vitesse du vent (m/s)                        float64\n",
       "dtype: object"
      ]
     },
     "execution_count": 3,
     "metadata": {},
     "output_type": "execute_result"
    }
   ],
   "source": [
    "df_feu.dtypes"
   ]
  },
  {
   "cell_type": "code",
   "execution_count": 4,
   "metadata": {},
   "outputs": [
    {
     "data": {
      "text/plain": [
       "array([[2006.0, '2006-01-01 12:50:00', '66', ..., 0.0, 50.0, 8.7],\n",
       "       [2006.0, '2006-01-01 12:56:00', '66', ..., 0.0, 50.0, 8.7],\n",
       "       [2006.0, '2006-01-01 15:40:00', '83', ..., 0.0, 76.0, 6.2],\n",
       "       ...,\n",
       "       [2019.0, '2019-12-28 17:36:00', '40', ..., 0.0, 88.0, 1.5],\n",
       "       [2019.0, '2019-12-30 17:05:00', '83', ..., 0.0, 80.0, 3.6],\n",
       "       [2019.0, '2019-12-30 18:16:00', '2B', ..., 0.0, 67.0, 2.5]],\n",
       "      dtype=object)"
      ]
     },
     "execution_count": 4,
     "metadata": {},
     "output_type": "execute_result"
    }
   ],
   "source": [
    "values = df_feu.values\n",
    "values"
   ]
  },
  {
   "cell_type": "code",
   "execution_count": 5,
   "metadata": {},
   "outputs": [],
   "source": [
    "x = values[:,[22,23]].astype(float)\n",
    "y = values[:,8].astype(float)"
   ]
  },
  {
   "cell_type": "code",
   "execution_count": 6,
   "metadata": {},
   "outputs": [],
   "source": [
    "x_train,x_test,y_train,y_test = train_test_split(x, y, test_size = 0.3, random_state = 10)"
   ]
  },
  {
   "cell_type": "code",
   "execution_count": 7,
   "metadata": {},
   "outputs": [
    {
     "data": {
      "text/plain": [
       "(22964, 2)"
      ]
     },
     "execution_count": 7,
     "metadata": {},
     "output_type": "execute_result"
    }
   ],
   "source": [
    "x_train.shape"
   ]
  },
  {
   "cell_type": "code",
   "execution_count": 24,
   "metadata": {},
   "outputs": [
    {
     "name": "stdout",
     "output_type": "stream",
     "text": [
      "Model: \"sequential_4\"\n",
      "_________________________________________________________________\n",
      "Layer (type)                 Output Shape              Param #   \n",
      "=================================================================\n",
      "dense_16 (Dense)             (None, 500)               1500      \n",
      "_________________________________________________________________\n",
      "dense_17 (Dense)             (None, 100)               50100     \n",
      "_________________________________________________________________\n",
      "dense_18 (Dense)             (None, 50)                5050      \n",
      "_________________________________________________________________\n",
      "dense_19 (Dense)             (None, 1)                 51        \n",
      "=================================================================\n",
      "Total params: 56,701\n",
      "Trainable params: 56,701\n",
      "Non-trainable params: 0\n",
      "_________________________________________________________________\n"
     ]
    }
   ],
   "source": [
    "model = Sequential()\n",
    "\n",
    "model.add(Dense(500, input_dim = 2, activation = 'relu'))\n",
    "model.add(Dense(100, activation = 'relu'))\n",
    "model.add(Dense(50, activation = 'relu'))\n",
    "model.add(Dense(1))\n",
    "\n",
    "model.compile(loss = \"mean_squared_error\" , optimizer = \"adam\", metrics = [\"mean_squared_error\"])\n",
    "\n",
    "model.summary()"
   ]
  },
  {
   "cell_type": "code",
   "execution_count": 25,
   "metadata": {},
   "outputs": [
    {
     "name": "stdout",
     "output_type": "stream",
     "text": [
      "Epoch 1/20\n",
      "718/718 [==============================] - 3s 4ms/step - loss: 219317174272.0000 - mean_squared_error: 219317174272.0000 - val_loss: 140852658176.0000 - val_mean_squared_error: 140852658176.0000\n",
      "Epoch 2/20\n",
      "718/718 [==============================] - 2s 3ms/step - loss: 219040202752.0000 - mean_squared_error: 219040202752.0000 - val_loss: 140764200960.0000 - val_mean_squared_error: 140764200960.0000\n",
      "Epoch 3/20\n",
      "718/718 [==============================] - 2s 3ms/step - loss: 218941440000.0000 - mean_squared_error: 218941440000.0000 - val_loss: 140679118848.0000 - val_mean_squared_error: 140679118848.0000\n",
      "Epoch 4/20\n",
      "718/718 [==============================] - 2s 3ms/step - loss: 218789625856.0000 - mean_squared_error: 218789625856.0000 - val_loss: 140570066944.0000 - val_mean_squared_error: 140570066944.0000\n",
      "Epoch 5/20\n",
      "718/718 [==============================] - 2s 3ms/step - loss: 218578960384.0000 - mean_squared_error: 218578960384.0000 - val_loss: 140393971712.0000 - val_mean_squared_error: 140393971712.0000\n",
      "Epoch 6/20\n",
      "718/718 [==============================] - 2s 3ms/step - loss: 218324107264.0000 - mean_squared_error: 218324107264.0000 - val_loss: 140301926400.0000 - val_mean_squared_error: 140301926400.0000\n",
      "Epoch 7/20\n",
      "718/718 [==============================] - 2s 3ms/step - loss: 218143342592.0000 - mean_squared_error: 218143342592.0000 - val_loss: 140404424704.0000 - val_mean_squared_error: 140404424704.0000\n",
      "Epoch 8/20\n",
      "718/718 [==============================] - 3s 4ms/step - loss: 218066239488.0000 - mean_squared_error: 218066239488.0000 - val_loss: 140167872512.0000 - val_mean_squared_error: 140167872512.0000\n",
      "Epoch 9/20\n",
      "718/718 [==============================] - 2s 3ms/step - loss: 217995804672.0000 - mean_squared_error: 217995804672.0000 - val_loss: 140154814464.0000 - val_mean_squared_error: 140154814464.0000\n",
      "Epoch 10/20\n",
      "718/718 [==============================] - 2s 3ms/step - loss: 217978355712.0000 - mean_squared_error: 217978355712.0000 - val_loss: 140157894656.0000 - val_mean_squared_error: 140157894656.0000\n",
      "Epoch 11/20\n",
      "718/718 [==============================] - 3s 4ms/step - loss: 217910050816.0000 - mean_squared_error: 217910050816.0000 - val_loss: 140190711808.0000 - val_mean_squared_error: 140190711808.0000\n",
      "Epoch 12/20\n",
      "718/718 [==============================] - 2s 3ms/step - loss: 217928581120.0000 - mean_squared_error: 217928581120.0000 - val_loss: 140112052224.0000 - val_mean_squared_error: 140112052224.0000\n",
      "Epoch 13/20\n",
      "718/718 [==============================] - 2s 3ms/step - loss: 217909723136.0000 - mean_squared_error: 217909723136.0000 - val_loss: 140101156864.0000 - val_mean_squared_error: 140101156864.0000\n",
      "Epoch 14/20\n",
      "718/718 [==============================] - 2s 3ms/step - loss: 217889521664.0000 - mean_squared_error: 217889521664.0000 - val_loss: 140117164032.0000 - val_mean_squared_error: 140117164032.0000\n",
      "Epoch 15/20\n",
      "718/718 [==============================] - 3s 4ms/step - loss: 217869860864.0000 - mean_squared_error: 217869860864.0000 - val_loss: 140176375808.0000 - val_mean_squared_error: 140176375808.0000\n",
      "Epoch 16/20\n",
      "718/718 [==============================] - 2s 3ms/step - loss: 217880920064.0000 - mean_squared_error: 217880920064.0000 - val_loss: 140073336832.0000 - val_mean_squared_error: 140073336832.0000\n",
      "Epoch 17/20\n",
      "718/718 [==============================] - 2s 3ms/step - loss: 217855213568.0000 - mean_squared_error: 217855213568.0000 - val_loss: 140249907200.0000 - val_mean_squared_error: 140249907200.0000\n",
      "Epoch 18/20\n",
      "718/718 [==============================] - 2s 3ms/step - loss: 217871171584.0000 - mean_squared_error: 217871171584.0000 - val_loss: 140113952768.0000 - val_mean_squared_error: 140113952768.0000\n",
      "Epoch 19/20\n",
      "718/718 [==============================] - 3s 4ms/step - loss: 217838714880.0000 - mean_squared_error: 217838714880.0000 - val_loss: 140141150208.0000 - val_mean_squared_error: 140141150208.0000\n",
      "Epoch 20/20\n",
      "718/718 [==============================] - 2s 3ms/step - loss: 217840631808.0000 - mean_squared_error: 217840631808.0000 - val_loss: 140098748416.0000 - val_mean_squared_error: 140098748416.0000\n"
     ]
    }
   ],
   "source": [
    "history = model.fit(x_train, y_train, epochs = 20, verbose = 1, validation_data=(x_test, y_test))"
   ]
  },
  {
   "cell_type": "code",
   "execution_count": 26,
   "metadata": {},
   "outputs": [
    {
     "data": {
      "image/png": "[encoded data removed]",
      "text/plain": [
       "<Figure size 504x360 with 1 Axes>"
      ]
     },
     "metadata": {
      "needs_background": "light"
     },
     "output_type": "display_data"
    }
   ],
   "source": [
    "plt.figure(figsize=(7, 5))\n",
    "plt.plot(history.epoch, history.history['loss'], lw=3, label='Training set')\n",
    "plt.plot(history.epoch, history.history['val_loss'], lw=3, label='Test set')\n",
    "plt.legend(fontsize=14)\n",
    "plt.title('Loss of the FFNN', fontsize=16)\n",
    "plt.xlabel('Epoch', fontsize=14)\n",
    "plt.ylabel('MAE', fontsize=14)\n",
    "plt.tight_layout()"
   ]
  },
  {
   "cell_type": "code",
   "execution_count": 27,
   "metadata": {},
   "outputs": [
    {
     "name": "stdout",
     "output_type": "stream",
     "text": [
      "466654.5058136352\n",
      "374297.6606975381\n"
     ]
    }
   ],
   "source": [
    "pred_train = model.predict(x_train)\n",
    "print(np.sqrt(mean_squared_error(y_train,pred_train)))\n",
    "\n",
    "pred = model.predict(x_test)\n",
    "print(np.sqrt(mean_squared_error(y_test,pred))) "
   ]
  },
  {
   "cell_type": "code",
   "execution_count": null,
   "metadata": {},
   "outputs": [],
   "source": [
    "confusion_matrix(y_true, y_pred)"
   ]
  }
 ],
 "metadata": {
  "kernelspec": {
   "display_name": "Python 3",
   "language": "python",
   "name": "python3"
  },
  "language_info": {
   "codemirror_mode": {
    "name": "ipython",
    "version": 3
   },
   "file_extension": ".py",
   "mimetype": "text/x-python",
   "name": "python",
   "nbconvert_exporter": "python",
   "pygments_lexer": "ipython3",
   "version": "3.8.5"
  }
 },
 "nbformat": 4,
 "nbformat_minor": 4
}
