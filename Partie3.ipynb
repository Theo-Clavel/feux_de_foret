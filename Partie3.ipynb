{
 "cells": [
  {
   "cell_type": "markdown",
   "metadata": {
    "id": "3QfapiE3E-XR"
   },
   "source": [
    "# **Partie 3 : Modélisation**\n",
    "\n",
    "Prédiction de l'occurence d'un feu de forêt et de la surface brûlée grâce à l'apprentissage supervisé. \n"
   ]
  },
  {
   "cell_type": "markdown",
   "metadata": {
    "id": "MMEZbJLKFuD2"
   },
   "source": [
    "## **A. Prédiction du déclenchement d'un feu de forêt**\n",
    "\n",
    "L'objectif de cette partie est de prédire les zones dans lesquelles un feu de forêt est propice de se déclencher dans les minutes à venir. On s'aide pour cela des relevés météorologiques pris en temps réel. \n",
    "\n",
    "\n",
    "\n",
    "Le problème auquel nous sommes confrontés est celui d'une classification en deux catégories (va-t-il y avoir un départ de feu ou non ?). Nous disposons des données des relevés météorologiques et feux passés pour entraîner notre algorithme. \n",
    "\n",
    "\n",
    "Nous avons alors sélectionné deux modèles adaptés : \n",
    "\n",
    "\n",
    "1.   Decision Tree Classifier\n",
    "2.   Random Forest Regression\n",
    "3.   Réseaux de neurones"
   ]
  },
  {
   "cell_type": "markdown",
   "metadata": {
    "id": "ff-VzU5gGJqM"
   },
   "source": [
    "## Premier essai des modèles avec les valeurs météorologiques brutes"
   ]
  },
  {
   "cell_type": "code",
   "execution_count": 1,
   "metadata": {
    "id": "wE5s2IQmF_uy"
   },
   "outputs": [],
   "source": [
    "import pandas as pd\n",
    "import numpy as np\n",
    "from sklearn.model_selection import train_test_split\n",
    "from sklearn.metrics import confusion_matrix, accuracy_score, classification_report"
   ]
  },
  {
   "cell_type": "markdown",
   "metadata": {
    "id": "s6v97fGgGDMR"
   },
   "source": [
    "On utilise la base de données obtenue dans la partie 1, dont on ne va garder plus que les variables météorologiques et la variable binaire *Départ de feu*."
   ]
  },
  {
   "cell_type": "code",
   "execution_count": 27,
   "metadata": {
    "id": "kgfGj9wBGHuo"
   },
   "outputs": [
    {
     "data": {
      "text/html": [
       "<div>\n",
       "<style scoped>\n",
       "    .dataframe tbody tr th:only-of-type {\n",
       "        vertical-align: middle;\n",
       "    }\n",
       "\n",
       "    .dataframe tbody tr th {\n",
       "        vertical-align: top;\n",
       "    }\n",
       "\n",
       "    .dataframe thead th {\n",
       "        text-align: right;\n",
       "    }\n",
       "</style>\n",
       "<table border=\"1\" class=\"dataframe\">\n",
       "  <thead>\n",
       "    <tr style=\"text-align: right;\">\n",
       "      <th></th>\n",
       "      <th>Départ de feu</th>\n",
       "      <th>Température (°C)</th>\n",
       "      <th>Précipitations (3 heures)</th>\n",
       "      <th>Humidité (%)</th>\n",
       "      <th>Vitesse du vent (m/s)</th>\n",
       "    </tr>\n",
       "  </thead>\n",
       "  <tbody>\n",
       "    <tr>\n",
       "      <th>0</th>\n",
       "      <td>0</td>\n",
       "      <td>4.0</td>\n",
       "      <td>2.0</td>\n",
       "      <td>92.0</td>\n",
       "      <td>5.1</td>\n",
       "    </tr>\n",
       "    <tr>\n",
       "      <th>1</th>\n",
       "      <td>0</td>\n",
       "      <td>3.7</td>\n",
       "      <td>0.0</td>\n",
       "      <td>91.0</td>\n",
       "      <td>4.1</td>\n",
       "    </tr>\n",
       "    <tr>\n",
       "      <th>2</th>\n",
       "      <td>0</td>\n",
       "      <td>3.1</td>\n",
       "      <td>3.0</td>\n",
       "      <td>92.0</td>\n",
       "      <td>5.1</td>\n",
       "    </tr>\n",
       "    <tr>\n",
       "      <th>3</th>\n",
       "      <td>0</td>\n",
       "      <td>4.7</td>\n",
       "      <td>0.6</td>\n",
       "      <td>96.0</td>\n",
       "      <td>3.1</td>\n",
       "    </tr>\n",
       "    <tr>\n",
       "      <th>4</th>\n",
       "      <td>0</td>\n",
       "      <td>6.1</td>\n",
       "      <td>2.0</td>\n",
       "      <td>94.0</td>\n",
       "      <td>5.1</td>\n",
       "    </tr>\n",
       "  </tbody>\n",
       "</table>\n",
       "</div>"
      ],
      "text/plain": [
       "   Départ de feu  Température (°C)  Précipitations (3 heures)  Humidité (%)  \\\n",
       "0              0               4.0                        2.0          92.0   \n",
       "1              0               3.7                        0.0          91.0   \n",
       "2              0               3.1                        3.0          92.0   \n",
       "3              0               4.7                        0.6          96.0   \n",
       "4              0               6.1                        2.0          94.0   \n",
       "\n",
       "   Vitesse du vent (m/s)  \n",
       "0                    5.1  \n",
       "1                    4.1  \n",
       "2                    5.1  \n",
       "3                    3.1  \n",
       "4                    5.1  "
      ]
     },
     "execution_count": 27,
     "metadata": {},
     "output_type": "execute_result"
    }
   ],
   "source": [
    "df = pd.read_csv('data.zip', low_memory = False)\n",
    "df = df.iloc[:, [0,21,22,23,24]]\n",
    "df = df.dropna()\n",
    "df.head()"
   ]
  },
  {
   "cell_type": "markdown",
   "metadata": {
    "id": "y_GqyToXGW3N"
   },
   "source": [
    "### **Préparation des bases d'apprentissage et de test**\n",
    "\n",
    "On sépare de façon aléatoire la base de données obtenue dans la partie 1 en deux bases : 80% servira à l'entraînement de l'algorithme (base train) et 20% à observer sa précision (base test). "
   ]
  },
  {
   "cell_type": "code",
   "execution_count": 3,
   "metadata": {
    "id": "QKPqgfsUGdZH"
   },
   "outputs": [],
   "source": [
    "train, test = train_test_split(df, test_size=0.2, random_state=1, stratify = df['Départ de feu'])"
   ]
  },
  {
   "cell_type": "markdown",
   "metadata": {
    "id": "UyxKQ6MDGjmt"
   },
   "source": [
    " On vérifie que les proportions des classes sont bien respectées."
   ]
  },
  {
   "cell_type": "code",
   "execution_count": 4,
   "metadata": {
    "colab": {
     "base_uri": "https://localhost:8080/"
    },
    "id": "HM0oePbfGpeV",
    "outputId": "a0838b9b-0cfa-41ca-9c38-123bb543ccc3"
   },
   "outputs": [
    {
     "name": "stdout",
     "output_type": "stream",
     "text": [
      "La proportion de départ de feux dans la base d'entraînement est de 1.61%\n",
      "Elle est également de 1.61% dans la base de test\n"
     ]
    }
   ],
   "source": [
    "print(\"La proportion de départ de feux dans la base d'entraînement est de \" + str(round(train[\"Départ de feu\"].mean() * 10**(4))/10**2) + '%')\n",
    "print(\"Elle est également de \" + str(round(test[\"Départ de feu\"].mean() * 10**(4))/10**2) + '% dans la base de test')"
   ]
  },
  {
   "cell_type": "markdown",
   "metadata": {
    "id": "J6qW9ZOcG3Wr"
   },
   "source": [
    "Ensuite, on spécifie pour chaque base la matrice X des variables prédictives (les données météorologiques) et le vecteur Y de la variable cible (*Départ de feu*).\n",
    "\n",
    "Le vecteur Y défini 2 classes : \n",
    "\n",
    "\n",
    "*   Une observation est de classe 0 s'il n'y a pas de départ de feux, i.e. \"Départ de feu\" == 0.\n",
    "*   Une observation est de classe 1 s'il y a départ de feu, i.e. \"Départ de feu\" == 1.\n",
    "\n",
    "On appelle Vrai Négatif $-$ VN $-$ (resp. Vrai Positif $-$ VP $-$) une observation de classe 0 (resp. de classe 1) qui est reconnue par le modèle comme étant de classe 0 (resp. de classe 1). \n",
    "\n",
    "Un Faux Négatif $-$ FN $-$ (resp. Faux Positif $-$ FP $-$) est une observation prédite de classe 0 alors qu'elle est de classe 1 (resp. prédite de classe 1 alors qu'elle est de classe 0).\n"
   ]
  },
  {
   "cell_type": "code",
   "execution_count": 5,
   "metadata": {
    "id": "x1nlTCiRG-9d"
   },
   "outputs": [],
   "source": [
    "X_train = train.drop(['Départ de feu'], axis = 1).to_numpy()\n",
    "Y_train = train[['Départ de feu']].to_numpy()\n",
    "\n",
    "X_test = test.drop(['Départ de feu'], axis = 1).to_numpy()\n",
    "Y_test = test[['Départ de feu']].to_numpy()\n",
    "\n",
    "Y_train = Y_train.reshape(Y_train.shape[0])\n",
    "Y_test = Y_test.reshape(Y_test.shape[0])"
   ]
  },
  {
   "cell_type": "markdown",
   "metadata": {
    "id": "ZNarmvBlHBH5"
   },
   "source": [
    "### **Modèle 1 : l'arbre de décision**"
   ]
  },
  {
   "cell_type": "markdown",
   "metadata": {
    "id": "5y3YkuBxHDyE"
   },
   "source": [
    "**Entraînement**\n",
    "\n",
    "On entraîne le modèle sur la base d'entraînement."
   ]
  },
  {
   "cell_type": "code",
   "execution_count": 6,
   "metadata": {
    "id": "zS_dQYBqHJo4"
   },
   "outputs": [],
   "source": [
    "#instanciation de l'arbre\n",
    "from sklearn.tree import DecisionTreeClassifier\n",
    "tree = DecisionTreeClassifier()\n",
    "\n",
    "#construction de l'arbre\n",
    "tree = tree.fit(X_train, Y_train)"
   ]
  },
  {
   "cell_type": "markdown",
   "metadata": {
    "id": "wdvzsdYLHMtB"
   },
   "source": [
    "**Evaluation**\n",
    "\n",
    "On évalue les performances prédictives de l'arbre en le testant sur la base de test, puis en comparant les prédictions avec la réalité. \n",
    "\n",
    "*   Distribution de la prédiction"
   ]
  },
  {
   "cell_type": "code",
   "execution_count": 7,
   "metadata": {
    "colab": {
     "base_uri": "https://localhost:8080/"
    },
    "id": "YVwSMWtEHQJ0",
    "outputId": "4e671ac4-5e9a-4302-baf0-1eb7e124aef1"
   },
   "outputs": [
    {
     "name": "stdout",
     "output_type": "stream",
     "text": [
      "(array([0, 1], dtype=int64), array([401163,   5136], dtype=int64))\n",
      "La classe 0 a été assignée 401163 fois.\n"
     ]
    }
   ],
   "source": [
    "tree_predict_test = tree.predict(X_test)\n",
    "\n",
    "#distribution \n",
    "tree_predict = np.unique(tree_predict_test,return_counts=True)\n",
    "print(tree_predict)\n",
    "print('La classe ' + str(tree_predict[0][0]) + ' a été assignée ' + str(tree_predict[1][0]) + ' fois.')"
   ]
  },
  {
   "cell_type": "code",
   "execution_count": 8,
   "metadata": {
    "colab": {
     "base_uri": "https://localhost:8080/"
    },
    "id": "DuMD4ZmtHVPi",
    "outputId": "97f15df2-2c28-402d-cb9d-638b4c854cf8"
   },
   "outputs": [
    {
     "name": "stdout",
     "output_type": "stream",
     "text": [
      "Notre modèle prédit ainsi qu'il y a parmi la base de test 401163 observations ne correspondant pas à un feu de forêt (classe 0).\n",
      "Il prédit que 5136 observations correspondent à un feu de forêt (classe 1).\n"
     ]
    }
   ],
   "source": [
    "print(\"Notre modèle prédit ainsi qu'il y a parmi la base de test \" + str(tree_predict[1][0]) + \" observations \\\n",
    "ne correspondant pas à un feu de forêt (classe \" + str(tree_predict[0][0]) + \").\")\n",
    "print(\"Il prédit que \" + str(tree_predict[1][1]) + \" observations \\\n",
    "correspondent à un feu de forêt (classe \" + str(tree_predict[0][1]) + \").\")"
   ]
  },
  {
   "attachments": {
    "image.png": {
     "image/png": "[encoded data removed]"
    }
   },
   "cell_type": "markdown",
   "metadata": {
    "id": "VoK63seHHZML"
   },
   "source": [
    "*   Calcul de la matrice de confusion\n",
    "\n",
    "![image.png](attachment:image.png)\n",
    "\n",
    "Dans notre cas, la i-ème ligne est la ligne des \"Départ de feu\" = i et la i-ème colonne est la \"Prédiction de Départ de feu\" = i"
   ]
  },
  {
   "cell_type": "code",
   "execution_count": 9,
   "metadata": {
    "colab": {
     "base_uri": "https://localhost:8080/"
    },
    "id": "YITZH-azHfVs",
    "outputId": "11eda394-0091-4da7-8753-026631d5bdfc"
   },
   "outputs": [
    {
     "name": "stdout",
     "output_type": "stream",
     "text": [
      "Matrice de confusion\n",
      "[[395939   3799]\n",
      " [  5224   1337]]\n"
     ]
    }
   ],
   "source": [
    "#calcul de la matrice de confusion \n",
    "print('Matrice de confusion')\n",
    "confu_tree = confusion_matrix(Y_test,tree_predict_test)\n",
    "print(confu_tree)  "
   ]
  },
  {
   "cell_type": "markdown",
   "metadata": {
    "id": "dUqNby_nHjE_"
   },
   "source": [
    "Les lignes et les colonnes sont données par ordre croissant. La ligne donne la classe observée (c'est-à-dire la réalité), la colonne la classe prédite (par le modèle). Par exemple : \n"
   ]
  },
  {
   "cell_type": "code",
   "execution_count": 10,
   "metadata": {
    "colab": {
     "base_uri": "https://localhost:8080/"
    },
    "id": "QVPz3sTkHliL",
    "outputId": "63dde97e-8b25-42d3-8e75-5de2d1586cf4"
   },
   "outputs": [
    {
     "name": "stdout",
     "output_type": "stream",
     "text": [
      "395939 observations sans feu ont été prédites à raison comme ne correspondant pas à un feu de forêt.\n",
      "5224 observations avec feu ont été prédites à tort comme ne correspondant pas à un feu de forêt.\n"
     ]
    }
   ],
   "source": [
    "print(str(confu_tree[0][0]) + \" observations sans feu ont été prédites à raison comme ne correspondant pas à un feu de forêt.\")\n",
    "print(str(confu_tree[1][0]) + \" observations avec feu ont été prédites à tort comme ne correspondant pas à un feu de forêt.\")"
   ]
  },
  {
   "cell_type": "markdown",
   "metadata": {
    "id": "UWtrS0kPHoak"
   },
   "source": [
    "La matrice de confusion nous permet déjà d'observer qu'une très grande proportion des observations correspondant à un feu de forêt ne sont pas reconnues comme telle par le modèle. "
   ]
  },
  {
   "cell_type": "markdown",
   "metadata": {
    "id": "GPLgWZmRHrZJ"
   },
   "source": [
    "*   Indicateurs de précision"
   ]
  },
  {
   "cell_type": "code",
   "execution_count": 11,
   "metadata": {
    "colab": {
     "base_uri": "https://localhost:8080/"
    },
    "id": "Ad2uj0uuHtde",
    "outputId": "44af8b6d-f524-4827-8e3a-ec535bc3d50e"
   },
   "outputs": [
    {
     "name": "stdout",
     "output_type": "stream",
     "text": [
      "le taux de reconnaissance est : 0.977792217061819\n",
      "le taux d'erreur est : 0.022207782938181042\n"
     ]
    }
   ],
   "source": [
    "#taux de reconnaissance\n",
    "print('le taux de reconnaissance est :', accuracy_score(Y_test,tree_predict_test))\n",
    "\n",
    "#taux d'erreur \n",
    "print(\"le taux d'erreur est :\", 1.0 - accuracy_score(Y_test,tree_predict_test))"
   ]
  },
  {
   "cell_type": "markdown",
   "metadata": {
    "id": "eVtW3nY0Hz8K"
   },
   "source": [
    "Où le taux de reconnaissance est défini par : \n",
    "\n",
    "$ ( VP + VN ) / Nombre total d'observations $ \n",
    "\n",
    "Le taux de reconnaissance de notre modèle est très bon. Néanmoins, il nous faut encore regarder la répartition de faux-négatifs (déclarés de classe 0 à tort) et de faux-positifs (déclarés de classe 1 à tort). On utilise pour cela le rapport de classification."
   ]
  },
  {
   "cell_type": "code",
   "execution_count": 12,
   "metadata": {
    "colab": {
     "base_uri": "https://localhost:8080/"
    },
    "id": "uKK1pw1WH2RQ",
    "outputId": "a5609690-2e18-4c79-e4c3-30d58583e92c"
   },
   "outputs": [
    {
     "name": "stdout",
     "output_type": "stream",
     "text": [
      "Rapport de prédiction sur la base de test :\n",
      "              precision    recall  f1-score   support\n",
      "\n",
      "           0       0.99      0.99      0.99    399738\n",
      "           1       0.26      0.20      0.23      6561\n",
      "\n",
      "    accuracy                           0.98    406299\n",
      "   macro avg       0.62      0.60      0.61    406299\n",
      "weighted avg       0.98      0.98      0.98    406299\n",
      "\n"
     ]
    }
   ],
   "source": [
    "print('Rapport de prédiction sur la base de test :')\n",
    "print(classification_report(Y_test, tree_predict_test))"
   ]
  },
  {
   "cell_type": "markdown",
   "metadata": {
    "id": "zrEnr5G9H9SH"
   },
   "source": [
    "**Comment lire le rapport de prédiction ?**\n",
    "\n",
    "*   *Precision : quelle proportion des prédictions est correcte ?*\n",
    "\n",
    "Pour chaque classe, la colonne *precision* indique la proportion d'observations prédites à raison dans cette classe. \n",
    "\n",
    "\n",
    "Alors, \n",
    "\n",
    "$precision_0 = VN / ( VN + FN) $\n",
    "\n",
    "$precision_1 = VP / ( VP + FP ) $ \n",
    "\n",
    "\n",
    "\n",
    "*   *Recall : quelle proportion des cas est detectée ?*\n",
    "\n",
    "Pour chaque classe, la colonne *Recall* indique la proportion d'observations de cette classe qui ont été correctement prédites. \n",
    "\n",
    "$recall_0 = VN / ( VN + FP ) $\n",
    "\n",
    "$recall_1 = VP / ( VP + FN ) $ \n",
    "\n",
    "\n",
    "\n",
    "\n",
    "\n",
    "*   *F1-score* \n",
    "\n",
    "Le *f1 score* est la moyenne harmonique de *precision* et *recall*. \n",
    "\n",
    "$f1score_i = 2 * (recall_i * precision_i) / (recall_i + precision_i)$ \n",
    "\n"
   ]
  },
  {
   "cell_type": "markdown",
   "metadata": {
    "id": "LOV64r7LICjl"
   },
   "source": [
    "**Interprétation**\n",
    "\n",
    "Le modèle semblait être satisfaisant car il avait un faible taux d'erreur. \n",
    "Néanmoins, il prédit très mal les observations de classe 1 : à peine un cinquième d'entre elles sont reconnues par l'arbre de décision. La faible proportion d'observations de classe 1 dans la base de données (1,6%) explique que le modèle conserve une très grande précision malgré ce défaut majeur.\n",
    "\n",
    "Le modèle de l'arbre de décision n'est donc pas satisfaisant. "
   ]
  },
  {
   "cell_type": "markdown",
   "metadata": {
    "id": "nkOtWrLeIF-g"
   },
   "source": [
    "### **Modèle 2 : Random Forest**\n",
    "\n",
    "Ce modèle combine de nombreux arbres de décision, ce qui devrait le rendre plus performant que le premier modèle. \n",
    "\n",
    "\n",
    "\n",
    "**Entraînement**"
   ]
  },
  {
   "cell_type": "code",
   "execution_count": 13,
   "metadata": {
    "id": "S0aTJpGDIJiJ"
   },
   "outputs": [],
   "source": [
    "from sklearn.ensemble import RandomForestClassifier\n",
    "\n",
    "rfc = RandomForestClassifier()\n",
    "rfc = rfc.fit(X_train, Y_train)\n",
    "\n",
    "#Attention : cette cellule met cinq bonnes minutes à tourner "
   ]
  },
  {
   "cell_type": "markdown",
   "metadata": {
    "id": "QpAEaDyMIMHE"
   },
   "source": [
    "**Evaluation**"
   ]
  },
  {
   "cell_type": "code",
   "execution_count": 14,
   "metadata": {
    "id": "kyXbH15YIPsy"
   },
   "outputs": [],
   "source": [
    "rfc_predict_test = rfc.predict(X_test)"
   ]
  },
  {
   "cell_type": "code",
   "execution_count": 15,
   "metadata": {
    "colab": {
     "base_uri": "https://localhost:8080/"
    },
    "id": "PTa0p4FrIRtM",
    "outputId": "5a92cfc6-322e-443b-aecd-1a42a2be215d"
   },
   "outputs": [
    {
     "name": "stdout",
     "output_type": "stream",
     "text": [
      "Matrice de confusion\n",
      "[[398025   1713]\n",
      " [  5331   1230]]\n",
      "le taux de reconnaissance est : 0.9826630141841354\n",
      "le taux d'erreur est : 0.017336985815864625\n"
     ]
    }
   ],
   "source": [
    "#calcul de la matrice de confusion \n",
    "print('Matrice de confusion')\n",
    "confu_rfc = confusion_matrix(Y_test,rfc_predict_test)\n",
    "print(confu_rfc)   \n",
    "\n",
    "#taux de reconnaissance\n",
    "print('le taux de reconnaissance est :', accuracy_score(Y_test,rfc_predict_test))\n",
    "\n",
    "#taux d'erreur \n",
    "print(\"le taux d'erreur est :\", 1.0 - accuracy_score(Y_test,rfc_predict_test))"
   ]
  },
  {
   "cell_type": "code",
   "execution_count": 16,
   "metadata": {
    "colab": {
     "base_uri": "https://localhost:8080/"
    },
    "id": "-O96R2nmIUF_",
    "outputId": "d83ba3f8-2b84-4d9f-a320-0d37982254a3"
   },
   "outputs": [
    {
     "name": "stdout",
     "output_type": "stream",
     "text": [
      "Rapport de prédiction sur la base de test :\n",
      "              precision    recall  f1-score   support\n",
      "\n",
      "           0       0.99      1.00      0.99    399738\n",
      "           1       0.42      0.19      0.26      6561\n",
      "\n",
      "    accuracy                           0.98    406299\n",
      "   macro avg       0.70      0.59      0.63    406299\n",
      "weighted avg       0.98      0.98      0.98    406299\n",
      "\n"
     ]
    }
   ],
   "source": [
    "print('Rapport de prédiction sur la base de test :')\n",
    "print(classification_report(Y_test, rfc_predict_test))"
   ]
  },
  {
   "cell_type": "markdown",
   "metadata": {
    "id": "NDLA5ydmIYqC"
   },
   "source": [
    "Le même problème qu'au modèle 1 apparaît : la plupart des observations correspondant à un feu de forêt ne sont pas reconnues par le modèle (le recall est même légèrement pire pour la random forest). Du fait de l'écrasante majorité d'observations ne correspond pas à un feu de forêt, le modèle semble très précis, mais il est dans les faits très peu performant. "
   ]
  },
  {
   "cell_type": "markdown",
   "metadata": {
    "id": "hJ7mwthpIZtp"
   },
   "source": [
    "En conclusion, les modèles de Machine Learning que nous avons testés sont inefficaces pour prédire le déclenchement d'un feu de forêt. \n",
    "\n",
    "On peut évoquer plusieurs raisons à cela : \n",
    "\n",
    "*   Il y a une bien trop faible proportion d'observations correspondant à un feu de forêt. \n",
    "*   Les variables étudiées ne suffissent pas à expliquer le déclenchement d'un feu de forêt : il ne suffit pas qu'il fasse la bonne température, couplée avec la bonne humidité (ou avec la bonne vitesse du vent, le bon niveau de précipitation, etc) pour qu'un feu parte. \n"
   ]
  },
  {
   "cell_type": "markdown",
   "metadata": {
    "id": "Q68Otl4TGgJa"
   },
   "source": [
    "### **Modèle 3 : Réseaux de neurones**"
   ]
  },
  {
   "cell_type": "markdown",
   "metadata": {},
   "source": [
    "Cette partie implémente un Feed Forward Neural Network (FFNN) toujours dans le but de classifier : départ de feu ou non."
   ]
  },
  {
   "cell_type": "code",
   "execution_count": 28,
   "metadata": {
    "id": "Jar7YceUE-Xw"
   },
   "outputs": [],
   "source": [
    "import matplotlib.pyplot as plt\n",
    "import keras\n",
    "from keras.datasets import mnist\n",
    "from keras.models import Sequential\n",
    "from keras.layers import Dense, Dropout, Flatten\n",
    "from keras.layers import Conv2D, MaxPooling2D\n",
    "from keras import activations\n",
    "import sklearn as sk\n",
    "from sklearn.model_selection import train_test_split\n",
    "from sklearn.metrics import confusion_matrix\n",
    "from sklearn.metrics import mean_squared_error"
   ]
  },
  {
   "cell_type": "markdown",
   "metadata": {},
   "source": [
    "**Préparation des données*"
   ]
  },
  {
   "cell_type": "code",
   "execution_count": 29,
   "metadata": {
    "colab": {
     "base_uri": "https://localhost:8080/",
     "height": 442
    },
    "id": "qzvLexqXE-X1",
    "outputId": "1d641a63-4c5f-4336-ebc4-166beb418f37",
    "scrolled": false
   },
   "outputs": [
    {
     "name": "stderr",
     "output_type": "stream",
     "text": [
      "C:\\Users\\theoc\\anaconda3\\envs\\ML\\lib\\site-packages\\IPython\\core\\interactiveshell.py:3145: DtypeWarning: Columns (2,3,4,5,6) have mixed types.Specify dtype option on import or set low_memory=False.\n",
      "  has_raised = await self.run_ast_nodes(code_ast.body, cell_name,\n"
     ]
    },
    {
     "data": {
      "text/html": [
       "<div>\n",
       "<style scoped>\n",
       "    .dataframe tbody tr th:only-of-type {\n",
       "        vertical-align: middle;\n",
       "    }\n",
       "\n",
       "    .dataframe tbody tr th {\n",
       "        vertical-align: top;\n",
       "    }\n",
       "\n",
       "    .dataframe thead th {\n",
       "        text-align: right;\n",
       "    }\n",
       "</style>\n",
       "<table border=\"1\" class=\"dataframe\">\n",
       "  <thead>\n",
       "    <tr style=\"text-align: right;\">\n",
       "      <th></th>\n",
       "      <th>Année</th>\n",
       "      <th>Date de première alerte</th>\n",
       "      <th>Département</th>\n",
       "      <th>Commune</th>\n",
       "      <th>Code postal</th>\n",
       "      <th>Code INSEE</th>\n",
       "      <th>Latitude commune</th>\n",
       "      <th>Longitude commune</th>\n",
       "      <th>Surface brûlée (m2)</th>\n",
       "      <th>Surface forêt (m2)</th>\n",
       "      <th>...</th>\n",
       "      <th>Nom station</th>\n",
       "      <th>id_station</th>\n",
       "      <th>Latitude station</th>\n",
       "      <th>Longitude station</th>\n",
       "      <th>Altitude station</th>\n",
       "      <th>Date</th>\n",
       "      <th>Température (°C)</th>\n",
       "      <th>Précipitations (3 heures)</th>\n",
       "      <th>Humidité (%)</th>\n",
       "      <th>Vitesse du vent (m/s)</th>\n",
       "    </tr>\n",
       "  </thead>\n",
       "  <tbody>\n",
       "    <tr>\n",
       "      <th>0</th>\n",
       "      <td>2006.0</td>\n",
       "      <td>2006-01-01 12:50:00</td>\n",
       "      <td>66</td>\n",
       "      <td>SAINT LAURENT DE CERDANS</td>\n",
       "      <td>66260</td>\n",
       "      <td>66179</td>\n",
       "      <td>42.3833</td>\n",
       "      <td>2.61667</td>\n",
       "      <td>10000.0</td>\n",
       "      <td>10000.0</td>\n",
       "      <td>...</td>\n",
       "      <td>PERPIGNAN</td>\n",
       "      <td>7747</td>\n",
       "      <td>42.737167</td>\n",
       "      <td>2.872833</td>\n",
       "      <td>42</td>\n",
       "      <td>2006-01-01 12:00:00</td>\n",
       "      <td>11.7</td>\n",
       "      <td>0.0</td>\n",
       "      <td>50.0</td>\n",
       "      <td>8.7</td>\n",
       "    </tr>\n",
       "    <tr>\n",
       "      <th>1</th>\n",
       "      <td>2006.0</td>\n",
       "      <td>2006-01-01 12:56:00</td>\n",
       "      <td>66</td>\n",
       "      <td>SALSES LE CHATEAU</td>\n",
       "      <td>66600</td>\n",
       "      <td>66190</td>\n",
       "      <td>42.8328</td>\n",
       "      <td>2.91889</td>\n",
       "      <td>20000.0</td>\n",
       "      <td>0.0</td>\n",
       "      <td>...</td>\n",
       "      <td>PERPIGNAN</td>\n",
       "      <td>7747</td>\n",
       "      <td>42.737167</td>\n",
       "      <td>2.872833</td>\n",
       "      <td>42</td>\n",
       "      <td>2006-01-01 12:00:00</td>\n",
       "      <td>11.7</td>\n",
       "      <td>0.0</td>\n",
       "      <td>50.0</td>\n",
       "      <td>8.7</td>\n",
       "    </tr>\n",
       "    <tr>\n",
       "      <th>2</th>\n",
       "      <td>2006.0</td>\n",
       "      <td>2006-01-01 15:40:00</td>\n",
       "      <td>83</td>\n",
       "      <td>CALLAS</td>\n",
       "      <td>83830</td>\n",
       "      <td>83028</td>\n",
       "      <td>43.5833</td>\n",
       "      <td>6.53333</td>\n",
       "      <td>30.0</td>\n",
       "      <td>30.0</td>\n",
       "      <td>...</td>\n",
       "      <td>NICE</td>\n",
       "      <td>7690</td>\n",
       "      <td>43.648833</td>\n",
       "      <td>7.209000</td>\n",
       "      <td>2</td>\n",
       "      <td>2006-01-01 15:00:00</td>\n",
       "      <td>10.4</td>\n",
       "      <td>0.0</td>\n",
       "      <td>76.0</td>\n",
       "      <td>6.2</td>\n",
       "    </tr>\n",
       "    <tr>\n",
       "      <th>3</th>\n",
       "      <td>2006.0</td>\n",
       "      <td>2006-01-02 18:19:00</td>\n",
       "      <td>34</td>\n",
       "      <td>ROUJAN</td>\n",
       "      <td>34320</td>\n",
       "      <td>34237</td>\n",
       "      <td>43.5167</td>\n",
       "      <td>3.30000</td>\n",
       "      <td>37500.0</td>\n",
       "      <td>10000.0</td>\n",
       "      <td>...</td>\n",
       "      <td>MONTPELLIER</td>\n",
       "      <td>7643</td>\n",
       "      <td>43.577000</td>\n",
       "      <td>3.963167</td>\n",
       "      <td>2</td>\n",
       "      <td>2006-01-02 18:00:00</td>\n",
       "      <td>7.5</td>\n",
       "      <td>0.0</td>\n",
       "      <td>54.0</td>\n",
       "      <td>4.1</td>\n",
       "    </tr>\n",
       "    <tr>\n",
       "      <th>4</th>\n",
       "      <td>2006.0</td>\n",
       "      <td>2006-01-02 20:57:00</td>\n",
       "      <td>83</td>\n",
       "      <td>DRAGUIGNAN</td>\n",
       "      <td>83300</td>\n",
       "      <td>83050</td>\n",
       "      <td>43.5333</td>\n",
       "      <td>6.46667</td>\n",
       "      <td>200.0</td>\n",
       "      <td>200.0</td>\n",
       "      <td>...</td>\n",
       "      <td>NICE</td>\n",
       "      <td>7690</td>\n",
       "      <td>43.648833</td>\n",
       "      <td>7.209000</td>\n",
       "      <td>2</td>\n",
       "      <td>2006-01-02 21:00:00</td>\n",
       "      <td>6.8</td>\n",
       "      <td>0.0</td>\n",
       "      <td>64.0</td>\n",
       "      <td>4.1</td>\n",
       "    </tr>\n",
       "  </tbody>\n",
       "</table>\n",
       "<p>5 rows × 24 columns</p>\n",
       "</div>"
      ],
      "text/plain": [
       "    Année Date de première alerte Département                   Commune  \\\n",
       "0  2006.0     2006-01-01 12:50:00          66  SAINT LAURENT DE CERDANS   \n",
       "1  2006.0     2006-01-01 12:56:00          66         SALSES LE CHATEAU   \n",
       "2  2006.0     2006-01-01 15:40:00          83                    CALLAS   \n",
       "3  2006.0     2006-01-02 18:19:00          34                    ROUJAN   \n",
       "4  2006.0     2006-01-02 20:57:00          83                DRAGUIGNAN   \n",
       "\n",
       "  Code postal Code INSEE  Latitude commune  Longitude commune  \\\n",
       "0       66260      66179           42.3833            2.61667   \n",
       "1       66600      66190           42.8328            2.91889   \n",
       "2       83830      83028           43.5833            6.53333   \n",
       "3       34320      34237           43.5167            3.30000   \n",
       "4       83300      83050           43.5333            6.46667   \n",
       "\n",
       "   Surface brûlée (m2)  Surface forêt (m2)  ...  Nom station  id_station  \\\n",
       "0              10000.0             10000.0  ...    PERPIGNAN        7747   \n",
       "1              20000.0                 0.0  ...    PERPIGNAN        7747   \n",
       "2                 30.0                30.0  ...         NICE        7690   \n",
       "3              37500.0             10000.0  ...  MONTPELLIER        7643   \n",
       "4                200.0               200.0  ...         NICE        7690   \n",
       "\n",
       "   Latitude station  Longitude station Altitude station                 Date  \\\n",
       "0         42.737167           2.872833               42  2006-01-01 12:00:00   \n",
       "1         42.737167           2.872833               42  2006-01-01 12:00:00   \n",
       "2         43.648833           7.209000                2  2006-01-01 15:00:00   \n",
       "3         43.577000           3.963167                2  2006-01-02 18:00:00   \n",
       "4         43.648833           7.209000                2  2006-01-02 21:00:00   \n",
       "\n",
       "   Température (°C)  Précipitations (3 heures)  Humidité (%)  \\\n",
       "0              11.7                        0.0          50.0   \n",
       "1              11.7                        0.0          50.0   \n",
       "2              10.4                        0.0          76.0   \n",
       "3               7.5                        0.0          54.0   \n",
       "4               6.8                        0.0          64.0   \n",
       "\n",
       "  Vitesse du vent (m/s)  \n",
       "0                   8.7  \n",
       "1                   8.7  \n",
       "2                   6.2  \n",
       "3                   4.1  \n",
       "4                   4.1  \n",
       "\n",
       "[5 rows x 24 columns]"
      ]
     },
     "execution_count": 29,
     "metadata": {},
     "output_type": "execute_result"
    }
   ],
   "source": [
    "df = pd.read_csv('data.csv').dropna(subset = ['Température (°C)', 'Précipitations (3 heures)', 'Humidité (%)', 'Vitesse du vent (m/s)'])\n",
    "df_feu = df[df['Départ de feu'] == 1]\n",
    "df_feu = df_feu.drop(columns = ['Départ de feu'])\n",
    "df_feu = df_feu.sort_values(['Date de première alerte'])\n",
    "df_feu = df_feu.reset_index(drop = True)\n",
    "df_feu.head()"
   ]
  },
  {
   "cell_type": "code",
   "execution_count": 30,
   "metadata": {
    "id": "yezwe6B6E-X6"
   },
   "outputs": [
    {
     "data": {
      "text/plain": [
       "Année                                        float64\n",
       "Date de première alerte                       object\n",
       "Département                                   object\n",
       "Commune                                       object\n",
       "Code postal                                   object\n",
       "Code INSEE                                    object\n",
       "Latitude commune                             float64\n",
       "Longitude commune                            float64\n",
       "Surface brûlée (m2)                          float64\n",
       "Surface forêt (m2)                           float64\n",
       "Surface autres terres boisées (m2)           float64\n",
       "Surfaces non boisées naturelles (m2)         float64\n",
       "Surfaces non boisées artificialisées (m2)    float64\n",
       "Surfaces non boisées (m2)                    float64\n",
       "Nom station                                   object\n",
       "id_station                                     int64\n",
       "Latitude station                             float64\n",
       "Longitude station                            float64\n",
       "Altitude station                               int64\n",
       "Date                                          object\n",
       "Température (°C)                             float64\n",
       "Précipitations (3 heures)                    float64\n",
       "Humidité (%)                                 float64\n",
       "Vitesse du vent (m/s)                        float64\n",
       "dtype: object"
      ]
     },
     "execution_count": 30,
     "metadata": {},
     "output_type": "execute_result"
    }
   ],
   "source": [
    "df_feu.dtypes"
   ]
  },
  {
   "cell_type": "code",
   "execution_count": 31,
   "metadata": {
    "id": "yHIvESJ1E-X7"
   },
   "outputs": [
    {
     "data": {
      "text/plain": [
       "array([[2006.0, '2006-01-01 12:50:00', 66.0, ..., 0.0, 50.0, 8.7],\n",
       "       [2006.0, '2006-01-01 12:56:00', 66.0, ..., 0.0, 50.0, 8.7],\n",
       "       [2006.0, '2006-01-01 15:40:00', 83.0, ..., 0.0, 76.0, 6.2],\n",
       "       ...,\n",
       "       [2019.0, '2019-12-28 17:36:00', 40.0, ..., 0.0, 88.0, 1.5],\n",
       "       [2019.0, '2019-12-30 17:05:00', 83.0, ..., 0.0, 80.0, 3.6],\n",
       "       [2019.0, '2019-12-30 18:16:00', '2B', ..., 0.0, 67.0, 2.5]],\n",
       "      dtype=object)"
      ]
     },
     "execution_count": 31,
     "metadata": {},
     "output_type": "execute_result"
    }
   ],
   "source": [
    "values = df_feu.values\n",
    "values"
   ]
  },
  {
   "cell_type": "code",
   "execution_count": 39,
   "metadata": {
    "id": "37VCLVEGE-X9"
   },
   "outputs": [],
   "source": [
    "x = values[:,[20,21,22,23]].astype(float)\n",
    "y = values[:,8].astype(float)"
   ]
  },
  {
   "cell_type": "code",
   "execution_count": 40,
   "metadata": {
    "id": "o0cdrT8AE-X-"
   },
   "outputs": [],
   "source": [
    "x_train,x_test,y_train,y_test = train_test_split(x, y, test_size = 0.3, random_state = 10)"
   ]
  },
  {
   "cell_type": "code",
   "execution_count": 41,
   "metadata": {
    "id": "hpjwJ-ppE-X_"
   },
   "outputs": [
    {
     "data": {
      "text/plain": [
       "(22964, 4)"
      ]
     },
     "execution_count": 41,
     "metadata": {},
     "output_type": "execute_result"
    }
   ],
   "source": [
    "x_train.shape"
   ]
  },
  {
   "cell_type": "markdown",
   "metadata": {},
   "source": [
    "**Création du FFNN**"
   ]
  },
  {
   "cell_type": "markdown",
   "metadata": {},
   "source": [
    "Il a 3 couches cachées de respectivement 500, 100 et 50 neurones avec des fonctions d'activation 'relu'. Nous choisissons la métrique Mean Squared Error."
   ]
  },
  {
   "cell_type": "code",
   "execution_count": 42,
   "metadata": {
    "id": "nuqbPtmTE-YA"
   },
   "outputs": [
    {
     "name": "stdout",
     "output_type": "stream",
     "text": [
      "Model: \"sequential\"\n",
      "_________________________________________________________________\n",
      "Layer (type)                 Output Shape              Param #   \n",
      "=================================================================\n",
      "dense (Dense)                (None, 500)               2500      \n",
      "_________________________________________________________________\n",
      "dense_1 (Dense)              (None, 100)               50100     \n",
      "_________________________________________________________________\n",
      "dense_2 (Dense)              (None, 50)                5050      \n",
      "_________________________________________________________________\n",
      "dense_3 (Dense)              (None, 1)                 51        \n",
      "=================================================================\n",
      "Total params: 57,701\n",
      "Trainable params: 57,701\n",
      "Non-trainable params: 0\n",
      "_________________________________________________________________\n"
     ]
    }
   ],
   "source": [
    "model = Sequential()\n",
    "\n",
    "model.add(Dense(500, input_dim = x_train.shape[1], activation = 'relu'))\n",
    "model.add(Dense(100, activation = 'relu'))\n",
    "model.add(Dense(50, activation = 'relu'))\n",
    "model.add(Dense(1))\n",
    "\n",
    "model.compile(loss = \"mean_squared_error\" , optimizer = \"adam\", metrics = [\"mean_squared_error\"])\n",
    "\n",
    "model.summary()"
   ]
  },
  {
   "cell_type": "markdown",
   "metadata": {},
   "source": [
    "**Entraînement**"
   ]
  },
  {
   "cell_type": "markdown",
   "metadata": {},
   "source": [
    "Nous avons choisi 50 epochs (c'est-à-dire 50 cycles, 1 cycle est un aller et un retour dans le réseau de toutes les données)"
   ]
  },
  {
   "cell_type": "code",
   "execution_count": 43,
   "metadata": {
    "id": "w3cafD3xE-YC"
   },
   "outputs": [
    {
     "name": "stdout",
     "output_type": "stream",
     "text": [
      "Epoch 1/50\n",
      "718/718 [==============================] - 3s 4ms/step - loss: 219253735424.0000 - mean_squared_error: 219253735424.0000 - val_loss: 140007129088.0000 - val_mean_squared_error: 140007129088.0000\n",
      "Epoch 2/50\n",
      "718/718 [==============================] - 3s 4ms/step - loss: 218923909120.0000 - mean_squared_error: 218923909120.0000 - val_loss: 139653758976.0000 - val_mean_squared_error: 139653758976.0000\n",
      "Epoch 3/50\n",
      "718/718 [==============================] - 3s 4ms/step - loss: 218588119040.0000 - mean_squared_error: 218588119040.0000 - val_loss: 139613798400.0000 - val_mean_squared_error: 139613798400.0000\n",
      "Epoch 4/50\n",
      "718/718 [==============================] - 3s 5ms/step - loss: 218230947840.0000 - mean_squared_error: 218230947840.0000 - val_loss: 139323572224.0000 - val_mean_squared_error: 139323572224.0000\n",
      "Epoch 5/50\n",
      "718/718 [==============================] - 3s 4ms/step - loss: 218026655744.0000 - mean_squared_error: 218026655744.0000 - val_loss: 139240636416.0000 - val_mean_squared_error: 139240636416.0000\n",
      "Epoch 6/50\n",
      "718/718 [==============================] - 3s 4ms/step - loss: 217866633216.0000 - mean_squared_error: 217866633216.0000 - val_loss: 139223171072.0000 - val_mean_squared_error: 139223171072.0000\n",
      "Epoch 7/50\n",
      "718/718 [==============================] - 3s 4ms/step - loss: 217726795776.0000 - mean_squared_error: 217726795776.0000 - val_loss: 139142758400.0000 - val_mean_squared_error: 139142758400.0000\n",
      "Epoch 8/50\n",
      "718/718 [==============================] - 3s 4ms/step - loss: 217477201920.0000 - mean_squared_error: 217477201920.0000 - val_loss: 140145115136.0000 - val_mean_squared_error: 140145115136.0000\n",
      "Epoch 9/50\n",
      "718/718 [==============================] - 3s 4ms/step - loss: 217564643328.0000 - mean_squared_error: 217564643328.0000 - val_loss: 139142316032.0000 - val_mean_squared_error: 139142316032.0000\n",
      "Epoch 10/50\n",
      "718/718 [==============================] - 3s 4ms/step - loss: 217402261504.0000 - mean_squared_error: 217402261504.0000 - val_loss: 139054727168.0000 - val_mean_squared_error: 139054727168.0000\n",
      "Epoch 11/50\n",
      "718/718 [==============================] - 3s 4ms/step - loss: 217312362496.0000 - mean_squared_error: 217312362496.0000 - val_loss: 139726651392.0000 - val_mean_squared_error: 139726651392.0000\n",
      "Epoch 12/50\n",
      "718/718 [==============================] - 3s 4ms/step - loss: 217258590208.0000 - mean_squared_error: 217258590208.0000 - val_loss: 139349098496.0000 - val_mean_squared_error: 139349098496.0000\n",
      "Epoch 13/50\n",
      "718/718 [==============================] - 3s 5ms/step - loss: 217246482432.0000 - mean_squared_error: 217246482432.0000 - val_loss: 139045060608.0000 - val_mean_squared_error: 139045060608.0000\n",
      "Epoch 14/50\n",
      "718/718 [==============================] - 3s 5ms/step - loss: 217196593152.0000 - mean_squared_error: 217196593152.0000 - val_loss: 139089199104.0000 - val_mean_squared_error: 139089199104.0000\n",
      "Epoch 15/50\n",
      "718/718 [==============================] - 3s 5ms/step - loss: 217104760832.0000 - mean_squared_error: 217104760832.0000 - val_loss: 139150802944.0000 - val_mean_squared_error: 139150802944.0000\n",
      "Epoch 16/50\n",
      "718/718 [==============================] - 3s 4ms/step - loss: 217005654016.0000 - mean_squared_error: 217005654016.0000 - val_loss: 139012161536.0000 - val_mean_squared_error: 139012161536.0000\n",
      "Epoch 17/50\n",
      "718/718 [==============================] - 3s 5ms/step - loss: 216941281280.0000 - mean_squared_error: 216941281280.0000 - val_loss: 138944593920.0000 - val_mean_squared_error: 138944593920.0000\n",
      "Epoch 18/50\n",
      "718/718 [==============================] - 3s 4ms/step - loss: 216872566784.0000 - mean_squared_error: 216872566784.0000 - val_loss: 139273371648.0000 - val_mean_squared_error: 139273371648.0000\n",
      "Epoch 19/50\n",
      "718/718 [==============================] - 3s 4ms/step - loss: 216982700032.0000 - mean_squared_error: 216982700032.0000 - val_loss: 139241783296.0000 - val_mean_squared_error: 139241783296.0000\n",
      "Epoch 20/50\n",
      "718/718 [==============================] - 3s 4ms/step - loss: 216915787776.0000 - mean_squared_error: 216915787776.0000 - val_loss: 139296407552.0000 - val_mean_squared_error: 139296407552.0000\n",
      "Epoch 21/50\n",
      "718/718 [==============================] - 3s 4ms/step - loss: 216853348352.0000 - mean_squared_error: 216853348352.0000 - val_loss: 139124228096.0000 - val_mean_squared_error: 139124228096.0000\n",
      "Epoch 22/50\n",
      "718/718 [==============================] - 3s 4ms/step - loss: 216812945408.0000 - mean_squared_error: 216812945408.0000 - val_loss: 139132977152.0000 - val_mean_squared_error: 139132977152.0000\n",
      "Epoch 23/50\n",
      "718/718 [==============================] - 3s 4ms/step - loss: 216800329728.0000 - mean_squared_error: 216800329728.0000 - val_loss: 139168956416.0000 - val_mean_squared_error: 139168956416.0000\n",
      "Epoch 24/50\n",
      "718/718 [==============================] - 3s 4ms/step - loss: 216729698304.0000 - mean_squared_error: 216729698304.0000 - val_loss: 139214880768.0000 - val_mean_squared_error: 139214880768.0000\n",
      "Epoch 25/50\n",
      "718/718 [==============================] - 3s 4ms/step - loss: 216605573120.0000 - mean_squared_error: 216605573120.0000 - val_loss: 139083038720.0000 - val_mean_squared_error: 139083038720.0000\n",
      "Epoch 26/50\n",
      "718/718 [==============================] - 3s 4ms/step - loss: 216749621248.0000 - mean_squared_error: 216749621248.0000 - val_loss: 139261706240.0000 - val_mean_squared_error: 139261706240.0000\n",
      "Epoch 27/50\n",
      "718/718 [==============================] - 3s 4ms/step - loss: 216705941504.0000 - mean_squared_error: 216705941504.0000 - val_loss: 139229511680.0000 - val_mean_squared_error: 139229511680.0000\n",
      "Epoch 28/50\n",
      "718/718 [==============================] - 3s 4ms/step - loss: 216657084416.0000 - mean_squared_error: 216657084416.0000 - val_loss: 139268341760.0000 - val_mean_squared_error: 139268341760.0000\n",
      "Epoch 29/50\n",
      "718/718 [==============================] - 3s 4ms/step - loss: 216663572480.0000 - mean_squared_error: 216663572480.0000 - val_loss: 139239374848.0000 - val_mean_squared_error: 139239374848.0000\n",
      "Epoch 30/50\n",
      "718/718 [==============================] - 3s 4ms/step - loss: 216582733824.0000 - mean_squared_error: 216582733824.0000 - val_loss: 139745984512.0000 - val_mean_squared_error: 139745984512.0000\n",
      "Epoch 31/50\n",
      "718/718 [==============================] - 3s 4ms/step - loss: 216674500608.0000 - mean_squared_error: 216674500608.0000 - val_loss: 139292196864.0000 - val_mean_squared_error: 139292196864.0000\n",
      "Epoch 32/50\n",
      "718/718 [==============================] - 3s 4ms/step - loss: 216482463744.0000 - mean_squared_error: 216482463744.0000 - val_loss: 139813421056.0000 - val_mean_squared_error: 139813421056.0000\n",
      "Epoch 33/50\n",
      "718/718 [==============================] - 3s 4ms/step - loss: 216620695552.0000 - mean_squared_error: 216620695552.0000 - val_loss: 139417436160.0000 - val_mean_squared_error: 139417436160.0000\n",
      "Epoch 34/50\n",
      "718/718 [==============================] - 3s 4ms/step - loss: 216502943744.0000 - mean_squared_error: 216502943744.0000 - val_loss: 139355275264.0000 - val_mean_squared_error: 139355275264.0000\n",
      "Epoch 35/50\n",
      "718/718 [==============================] - 3s 4ms/step - loss: 216562352128.0000 - mean_squared_error: 216562352128.0000 - val_loss: 139471880192.0000 - val_mean_squared_error: 139471880192.0000\n",
      "Epoch 36/50\n",
      "718/718 [==============================] - 3s 4ms/step - loss: 216535859200.0000 - mean_squared_error: 216535859200.0000 - val_loss: 139517788160.0000 - val_mean_squared_error: 139517788160.0000\n",
      "Epoch 37/50\n",
      "718/718 [==============================] - 2s 3ms/step - loss: 216522063872.0000 - mean_squared_error: 216522063872.0000 - val_loss: 139580866560.0000 - val_mean_squared_error: 139580866560.0000\n",
      "Epoch 38/50\n",
      "718/718 [==============================] - 3s 4ms/step - loss: 216536514560.0000 - mean_squared_error: 216536514560.0000 - val_loss: 139473780736.0000 - val_mean_squared_error: 139473780736.0000\n",
      "Epoch 39/50\n",
      "718/718 [==============================] - 3s 5ms/step - loss: 216491917312.0000 - mean_squared_error: 216491917312.0000 - val_loss: 139476320256.0000 - val_mean_squared_error: 139476320256.0000\n",
      "Epoch 40/50\n",
      "718/718 [==============================] - 3s 5ms/step - loss: 216492589056.0000 - mean_squared_error: 216492589056.0000 - val_loss: 139770445824.0000 - val_mean_squared_error: 139770445824.0000\n"
     ]
    },
    {
     "name": "stdout",
     "output_type": "stream",
     "text": [
      "Epoch 41/50\n",
      "718/718 [==============================] - 3s 5ms/step - loss: 216459788288.0000 - mean_squared_error: 216459788288.0000 - val_loss: 139564662784.0000 - val_mean_squared_error: 139564662784.0000\n",
      "Epoch 42/50\n",
      "718/718 [==============================] - 3s 5ms/step - loss: 216428740608.0000 - mean_squared_error: 216428740608.0000 - val_loss: 139616239616.0000 - val_mean_squared_error: 139616239616.0000\n",
      "Epoch 43/50\n",
      "718/718 [==============================] - 3s 4ms/step - loss: 216330715136.0000 - mean_squared_error: 216330715136.0000 - val_loss: 139438686208.0000 - val_mean_squared_error: 139438686208.0000\n",
      "Epoch 44/50\n",
      "718/718 [==============================] - 3s 4ms/step - loss: 216412192768.0000 - mean_squared_error: 216412192768.0000 - val_loss: 139962548224.0000 - val_mean_squared_error: 139962548224.0000\n",
      "Epoch 45/50\n",
      "718/718 [==============================] - 3s 4ms/step - loss: 216390582272.0000 - mean_squared_error: 216390582272.0000 - val_loss: 139647614976.0000 - val_mean_squared_error: 139647614976.0000\n",
      "Epoch 46/50\n",
      "718/718 [==============================] - 3s 4ms/step - loss: 216468127744.0000 - mean_squared_error: 216468127744.0000 - val_loss: 139855724544.0000 - val_mean_squared_error: 139855724544.0000\n",
      "Epoch 47/50\n",
      "718/718 [==============================] - 3s 4ms/step - loss: 216319655936.0000 - mean_squared_error: 216319655936.0000 - val_loss: 139570888704.0000 - val_mean_squared_error: 139570888704.0000\n",
      "Epoch 48/50\n",
      "718/718 [==============================] - 3s 4ms/step - loss: 216334172160.0000 - mean_squared_error: 216334172160.0000 - val_loss: 140225478656.0000 - val_mean_squared_error: 140225478656.0000\n",
      "Epoch 49/50\n",
      "718/718 [==============================] - 3s 4ms/step - loss: 216556322816.0000 - mean_squared_error: 216556322816.0000 - val_loss: 139785322496.0000 - val_mean_squared_error: 139785322496.0000\n",
      "Epoch 50/50\n",
      "718/718 [==============================] - 3s 4ms/step - loss: 216445321216.0000 - mean_squared_error: 216445321216.0000 - val_loss: 139823185920.0000 - val_mean_squared_error: 139823185920.0000\n"
     ]
    }
   ],
   "source": [
    "history = model.fit(x_train, y_train, epochs = 50, verbose = 1, validation_data=(x_test, y_test))"
   ]
  },
  {
   "cell_type": "code",
   "execution_count": 45,
   "metadata": {
    "id": "0TRPivMJE-YD",
    "scrolled": false
   },
   "outputs": [
    {
     "data": {
      "image/png": "[encoded data removed]",
      "text/plain": [
       "<Figure size 504x360 with 1 Axes>"
      ]
     },
     "metadata": {
      "needs_background": "light"
     },
     "output_type": "display_data"
    }
   ],
   "source": [
    "plt.figure(figsize=(7, 5))\n",
    "plt.plot(history.epoch, history.history['loss'], lw=3, label='Training set')\n",
    "plt.plot(history.epoch, history.history['val_loss'], lw=3, label='Test set')\n",
    "plt.legend(fontsize=14)\n",
    "plt.title('Loss of the FFNN', fontsize=16)\n",
    "plt.xlabel('Epoch', fontsize=14)\n",
    "plt.ylabel('MSE', fontsize=14)\n",
    "plt.tight_layout()"
   ]
  },
  {
   "cell_type": "markdown",
   "metadata": {},
   "source": [
    "La Mean Squared Error est de l'ordre de 10^11, peu importe le nombre d'epochs. Le réseau n'est absolument pas efficace. L'erreur est même plus faible sur le Test set, ce qui est étrange, mais tellement l'erreur est grande cela ne veut plus rien dire."
   ]
  },
  {
   "cell_type": "code",
   "execution_count": 64,
   "metadata": {
    "id": "-zF9rooUE-YF"
   },
   "outputs": [
    {
     "name": "stdout",
     "output_type": "stream",
     "text": [
      "464837.35950346745\n",
      "373929.3592720606\n"
     ]
    }
   ],
   "source": [
    "pred_train = model.predict(x_train)\n",
    "print(np.sqrt(mean_squared_error(y_train,pred_train)))\n",
    "\n",
    "pred = model.predict(x_test)\n",
    "print(np.sqrt(mean_squared_error(y_test,pred))) "
   ]
  },
  {
   "cell_type": "markdown",
   "metadata": {},
   "source": [
    "On obtient une Root Mean Squared Error de 464 837 m2 sur l'échantillon de train et de 373 929 sur celui de test. "
   ]
  },
  {
   "cell_type": "markdown",
   "metadata": {},
   "source": [
    "On obtient des erreurs du même ordre de grandeur avec des arbres de décision/random forest pour prédire la surface brûlée. C'est pour cela qu'on a tenté un réseau de neurones. On ne surcharge pas le notebook avec ces arbres/random forest car c'est quasiment les mêmes codes que pour la classification ci-dessus."
   ]
  },
  {
   "cell_type": "markdown",
   "metadata": {
    "id": "yZ4KaL8fIi08"
   },
   "source": [
    "## Deuxième essai : création de nouvelles variables"
   ]
  },
  {
   "cell_type": "markdown",
   "metadata": {
    "id": "2ETta9NqJPLB"
   },
   "source": [
    "Comme vu précédemment, le faible nombre de variables considérées est une des raisons pour lesquelles nos modèles ne sont pas satisfaits. \n",
    "\n",
    "Dans cette partie, nous tâcherons de créer de nouvelles variables/features qui témoigneront de la propension d'une observation à être un feu de forêt grâce à sa localisation et au mois considéré. Notre étude prend désormais en compte des variables géographiques (et non juste météorologiques)."
   ]
  },
  {
   "cell_type": "markdown",
   "metadata": {
    "id": "OII_xvspKbF7"
   },
   "source": [
    "### **Création des variables**"
   ]
  },
  {
   "cell_type": "code",
   "execution_count": 157,
   "metadata": {
    "id": "JH50rkyyKK0z"
   },
   "outputs": [],
   "source": [
    "from datetime import datetime\n",
    "df = pd.read_csv('data.zip', low_memory = False)"
   ]
  },
  {
   "cell_type": "code",
   "execution_count": 158,
   "metadata": {
    "id": "duv6APpsKkq3"
   },
   "outputs": [],
   "source": [
    "df_feu = df[df[\"Départ de feu\"] == 1]"
   ]
  },
  {
   "cell_type": "markdown",
   "metadata": {
    "id": "PwfKj1fjKrnm"
   },
   "source": [
    "**Création d'une variable sur le mois** \n",
    "\n",
    "L'on va ici chercher à créer une variable quantitative qui rende compte de la \"prédisposition\" d'un mois à connaître des feux de forêts. Comme on a pu le voir précédemment, il y a empiriquement plus de feux en août qu'en octobre. On cherche donc une variable qui permette d'en témoigner. \n",
    "\n",
    "On crée ainsi une variable *Mois propice* qui à chaque observation donne le pourcentage des feux des années précédentes (dans la limite de nos données, c'est-à-dire l'année 2006) s'étant produits durant ce mois de l'année. Plus ce chiffre est élevé, plus ce mois est à risque.\n",
    "\n",
    "Cette variable s'appuie exclusivement sur les données des années précédentes. La valeur attribuée à chaque mois varie également d'une année à l'autre, car elle prend en compte les feux de l'année qui vient de s'écouler. Ce comptage est intéressant car il gagne en fiabilité d'années en années. \n"
   ]
  },
  {
   "cell_type": "code",
   "execution_count": 159,
   "metadata": {
    "colab": {
     "base_uri": "https://localhost:8080/"
    },
    "id": "Hu93YgefKzvg",
    "outputId": "5d9237b6-8709-4214-d21a-3a27abea210e"
   },
   "outputs": [
    {
     "data": {
      "text/plain": [
       "[[2007,\n",
       "  array([0.01557839, 0.03579715, 0.05502154, 0.09214451, 0.09048724,\n",
       "         0.1528008 , 0.25223732, 0.18362612, 0.06463374, 0.02320186,\n",
       "         0.02552204, 0.00894929])],\n",
       " [2008,\n",
       "  array([0.02895404, 0.03184944, 0.07871878, 0.09156714, 0.06858487,\n",
       "         0.11653999, 0.2062975 , 0.15635179, 0.09989142, 0.06424177,\n",
       "         0.03999276, 0.0170105 ])],\n",
       " [2009,\n",
       "  array([0.03337488, 0.06051793, 0.08613765, 0.08932281, 0.06093339,\n",
       "         0.09735494, 0.19055532, 0.15939621, 0.09901676, 0.07519734,\n",
       "         0.0340673 , 0.01412547])]]"
      ]
     },
     "execution_count": 159,
     "metadata": {},
     "output_type": "execute_result"
    }
   ],
   "source": [
    "répartition = []\n",
    "\n",
    "for année in range(2007,2020) :\n",
    "\n",
    "    mois, nb_mois_previous_years = np.unique(df_feu['Date de première alerte'][df_feu.Année < année].str[5:7], return_counts=True)\n",
    "    répartition_previous_years = nb_mois_previous_years / sum(nb_mois_previous_years)\n",
    "\n",
    "    répartition.append([année,répartition_previous_years])\n",
    "\n",
    "répartition[0:3]"
   ]
  },
  {
   "cell_type": "markdown",
   "metadata": {
    "id": "CN0xShB9K371"
   },
   "source": [
    "Le tableau *répartition* indique pour chaque année la proportion par mois des feux déclarés les années précédentes (depuis 2006). "
   ]
  },
  {
   "cell_type": "code",
   "execution_count": 160,
   "metadata": {
    "colab": {
     "base_uri": "https://localhost:8080/"
    },
    "id": "k8drdI6xK6Ub",
    "outputId": "2e3b21bc-eb57-4a56-f6c8-538ed2557b7a"
   },
   "outputs": [
    {
     "data": {
      "text/plain": [
       "[2011,\n",
       " array([0.02136822, 0.0519987 , 0.11594085, 0.08409165, 0.05492363,\n",
       "        0.09140396, 0.190039  , 0.17907052, 0.10814105, 0.06857329,\n",
       "        0.02445564, 0.0099935 ])]"
      ]
     },
     "execution_count": 160,
     "metadata": {},
     "output_type": "execute_result"
    }
   ],
   "source": [
    "répartition[4]"
   ]
  },
  {
   "cell_type": "markdown",
   "metadata": {
    "id": "4KMJUX83K9Fp"
   },
   "source": [
    "Par exemple, entre 2006 et 2010, 2% des feux se sont produits durant les mois de janviers, alors que 19% des feux entre 2006 et 2010 ont été en juillet. "
   ]
  },
  {
   "cell_type": "code",
   "execution_count": 161,
   "metadata": {
    "id": "csFkPI_ALB4Y"
   },
   "outputs": [],
   "source": [
    "def mois_propice(date) : \n",
    "    \"renvoie la proportion des feux déclenchés ce mois-ci les années précédentes\"\n",
    "    date = datetime.strptime(date, '%Y-%m-%d %H:%M:%S')\n",
    "    month, year = date.month, date.year\n",
    "\n",
    "    if year > 2006 : \n",
    "        return répartition[year-2007][1][month-1]"
   ]
  },
  {
   "cell_type": "code",
   "execution_count": 162,
   "metadata": {
    "id": "_di80bzBLEEu"
   },
   "outputs": [],
   "source": [
    "df['Mois propice'] = df['Date'].apply(lambda row: mois_propice(row))"
   ]
  },
  {
   "cell_type": "markdown",
   "metadata": {
    "id": "GbJLI4bCLJ6p"
   },
   "source": [
    "**Création d'une variable sur la station** \n",
    "\n",
    "On crée maintenant une variable qui témoigne de la \"prédisposition\" d'une zone géographique (représentée par une station) à connaître des feux de forêts. \n",
    "\n",
    "On raisonne pareillement que pour la variable *Mois propice* en termes de pourcentage de feux des années précédentes observée par station. \n",
    "\n",
    "\n",
    "On ne peut en effet pas : \n",
    "\n",
    "\n",
    "*   Compter le nombre de feux par station dans la base, car lorsqu'on utilisera les méthodes de prédiction sur une certaine observation (à une certaine date), cela voudrait dire que l'on utilise les données de dates ultérieures, et donc qu'on connaît l'avenir. \n",
    "\n",
    "\n",
    "*   Compter le nombre de feux par station qui se sont produits avant l'observation. Les valeurs prises par une station seraient différentes d'une année à l'autre, et la variable n'aurait alors plus de sens. (Par exemple, on peut imaginer qu'il y ait autant de feu en Haute-Corse en 2006 qu'en Bretagne entre 2006 et 2018 : la valeur prise par la variable *Zone propice* pour une observation en Corse en 2007 serait égale à celle prise par une observation en Bretagne en 2019, ce qui ne rendrait pas bien compte de la réalité lorsqu'on utilisera les techniques de prédiction. \n",
    "\n",
    "Considérer les données sur toutes les années précédentes permet de créer une variable plus fiable que si l'on utilisait que celle d'une année précédente."
   ]
  },
  {
   "cell_type": "code",
   "execution_count": 163,
   "metadata": {
    "id": "FLZHoGVTLQag"
   },
   "outputs": [],
   "source": [
    "répartition_zone = []\n",
    "\n",
    "for année in range(2007,2020) :\n",
    "\n",
    "    zone, nb_zone = np.unique(df_feu['id_station'][df_feu.Année < année], return_counts=True)\n",
    "    prop_zone = nb_zone / sum(nb_zone)\n",
    "    prop_zone_previous = [ [zone[i], prop_zone[i]] for i in range(0,len(zone)) ]\n",
    "    répartition_zone.append([année,prop_zone_previous])"
   ]
  },
  {
   "cell_type": "markdown",
   "metadata": {
    "id": "mAA3aUQDLTem"
   },
   "source": [
    "*répartition_zone* est un tableau donnant, pour chaque année, la proportion de feux s'étant déclarée dans chaque station les années précédentes"
   ]
  },
  {
   "cell_type": "code",
   "execution_count": 164,
   "metadata": {
    "colab": {
     "base_uri": "https://localhost:8080/"
    },
    "id": "ov61AAHgLWMf",
    "outputId": "2c45f50f-0ded-4736-c62d-042ff1799f18"
   },
   "outputs": [
    {
     "data": {
      "text/plain": [
       "[[7110, 0.0006629101756711965],\n",
       " [7130, 0.0019887305270135896],\n",
       " [7139, 0.004971826317533974],\n",
       " [7149, 0.003646005966191581],\n",
       " [7207, 0.0016572754391779914],\n",
       " [7222, 0.00033145508783559825],\n",
       " [7240, 0.0029830957905203847],\n",
       " [7255, 0.0016572754391779914],\n",
       " [7280, 0.0009943652635067948],\n",
       " [7299, 0.0016572754391779914],\n",
       " [7314, 0.003977461054027179],\n",
       " [7335, 0.0029830957905203847],\n",
       " [7434, 0.011269472986410341],\n",
       " [7460, 0.0019887305270135896],\n",
       " [7471, 0.008286377195889956],\n",
       " [7481, 0.010275107722903546],\n",
       " [7510, 0.12595293337752733],\n",
       " [7535, 0.03513423931057342],\n",
       " [7558, 0.01358965860125953],\n",
       " [7577, 0.0573417301955585],\n",
       " [7591, 0.005634736493205171],\n",
       " [7607, 0.07093138879681803],\n",
       " [7621, 0.00033145508783559825],\n",
       " [7627, 0.013258203513423931],\n",
       " [7630, 0.006297646668876367],\n",
       " [7643, 0.04441498176997017],\n",
       " [7650, 0.07590321511435201],\n",
       " [7661, 0.060656281073914485],\n",
       " [7690, 0.07225720914816043],\n",
       " [7747, 0.06529665230361285],\n",
       " [7761, 0.1537951607557176],\n",
       " [7790, 0.13921113689095127],\n",
       " [61968, 0.0006629101756711965]]"
      ]
     },
     "execution_count": 164,
     "metadata": {},
     "output_type": "execute_result"
    }
   ],
   "source": [
    "#Exemple : la répartition pour l'année 2007\n",
    "répartition_zone[0][1]"
   ]
  },
  {
   "cell_type": "code",
   "execution_count": 165,
   "metadata": {
    "id": "MsIvgFaVLY8Q"
   },
   "outputs": [],
   "source": [
    "def zone_propice(date,station) : \n",
    "    \"renvoie la proportion des feux déclenchés dans cette zone les années précédentes\"\n",
    "\n",
    "    date = datetime.strptime(date, '%Y-%m-%d %H:%M:%S')\n",
    "    year = date.year\n",
    " \n",
    "    if year > 2006 : \n",
    "        ligne = [i for i in range(0,len(répartition_zone[year-2007][1])) if répartition_zone[year-2007][1][i][0] == station]\n",
    "        #liste des lignes correspondant à l'année et à la station \n",
    "        if len(ligne) != 0 :\n",
    "            #len(ligne) == 1 si la station n'est pas dégénérée (existe dans les données)\n",
    "            return répartition_zone[year-2007][1][ligne[0]][1]"
   ]
  },
  {
   "cell_type": "code",
   "execution_count": 166,
   "metadata": {
    "id": "_Z8xAm3hLbXZ"
   },
   "outputs": [],
   "source": [
    "df['Zone propice'] = df.apply(lambda row: zone_propice(row['Date'], row['id_station']), axis=1)"
   ]
  },
  {
   "cell_type": "code",
   "execution_count": 167,
   "metadata": {
    "colab": {
     "base_uri": "https://localhost:8080/",
     "height": 204
    },
    "id": "J2GzziPiLd-5",
    "outputId": "a6a074bf-67aa-4db8-80fe-1e7bab88e36a"
   },
   "outputs": [
    {
     "data": {
      "text/html": [
       "<div>\n",
       "<style scoped>\n",
       "    .dataframe tbody tr th:only-of-type {\n",
       "        vertical-align: middle;\n",
       "    }\n",
       "\n",
       "    .dataframe tbody tr th {\n",
       "        vertical-align: top;\n",
       "    }\n",
       "\n",
       "    .dataframe thead th {\n",
       "        text-align: right;\n",
       "    }\n",
       "</style>\n",
       "<table border=\"1\" class=\"dataframe\">\n",
       "  <thead>\n",
       "    <tr style=\"text-align: right;\">\n",
       "      <th></th>\n",
       "      <th>Date</th>\n",
       "      <th>Zone propice</th>\n",
       "    </tr>\n",
       "  </thead>\n",
       "  <tbody>\n",
       "    <tr>\n",
       "      <th>1610904</th>\n",
       "      <td>2006-05-06 15:00:00</td>\n",
       "      <td>NaN</td>\n",
       "    </tr>\n",
       "    <tr>\n",
       "      <th>1642930</th>\n",
       "      <td>2017-01-27 06:00:00</td>\n",
       "      <td>0.127048</td>\n",
       "    </tr>\n",
       "    <tr>\n",
       "      <th>1650685</th>\n",
       "      <td>2019-09-22 15:00:00</td>\n",
       "      <td>0.111874</td>\n",
       "    </tr>\n",
       "    <tr>\n",
       "      <th>1619821</th>\n",
       "      <td>2009-04-18 15:00:00</td>\n",
       "      <td>0.158981</td>\n",
       "    </tr>\n",
       "    <tr>\n",
       "      <th>1649491</th>\n",
       "      <td>2019-04-26 12:00:00</td>\n",
       "      <td>0.111874</td>\n",
       "    </tr>\n",
       "  </tbody>\n",
       "</table>\n",
       "</div>"
      ],
      "text/plain": [
       "                        Date  Zone propice\n",
       "1610904  2006-05-06 15:00:00           NaN\n",
       "1642930  2017-01-27 06:00:00      0.127048\n",
       "1650685  2019-09-22 15:00:00      0.111874\n",
       "1619821  2009-04-18 15:00:00      0.158981\n",
       "1649491  2019-04-26 12:00:00      0.111874"
      ]
     },
     "execution_count": 167,
     "metadata": {},
     "output_type": "execute_result"
    }
   ],
   "source": [
    "#Exemple d'une station Corse\n",
    "df[df[\"id_station\"] == 7761][[\"Date\",\"Zone propice\"]].sample(5) "
   ]
  },
  {
   "cell_type": "markdown",
   "metadata": {
    "id": "EQCxbsMKLx13"
   },
   "source": [
    "Le raisonnement que l'on va maintenant mener est identique à celui que nous avons eu dans le premier essai. Nous allons comparer les résultats des deux essais, et on s'attend à ce que ce deuxième essai, qui prend en compte davantage de variables, ait de meilleurs résultats. "
   ]
  },
  {
   "cell_type": "markdown",
   "metadata": {
    "id": "Wqu_cZMILqyK"
   },
   "source": [
    "### **Préparation des bases d'apprentissage et de test**"
   ]
  },
  {
   "cell_type": "code",
   "execution_count": 135,
   "metadata": {
    "id": "ruPzzrcrMCM-"
   },
   "outputs": [],
   "source": [
    "df2 = df.iloc[:, [0,17,18,19,21,22,23,24,25,26]]  \n",
    "df2 = df2.dropna()"
   ]
  },
  {
   "cell_type": "code",
   "execution_count": 136,
   "metadata": {
    "colab": {
     "base_uri": "https://localhost:8080/",
     "height": 221
    },
    "id": "fFVEwsV4MC80",
    "outputId": "3f629fd1-a989-41a2-e12f-36a05a4c1281"
   },
   "outputs": [
    {
     "data": {
      "text/html": [
       "<div>\n",
       "<style scoped>\n",
       "    .dataframe tbody tr th:only-of-type {\n",
       "        vertical-align: middle;\n",
       "    }\n",
       "\n",
       "    .dataframe tbody tr th {\n",
       "        vertical-align: top;\n",
       "    }\n",
       "\n",
       "    .dataframe thead th {\n",
       "        text-align: right;\n",
       "    }\n",
       "</style>\n",
       "<table border=\"1\" class=\"dataframe\">\n",
       "  <thead>\n",
       "    <tr style=\"text-align: right;\">\n",
       "      <th></th>\n",
       "      <th>Départ de feu</th>\n",
       "      <th>Latitude station</th>\n",
       "      <th>Longitude station</th>\n",
       "      <th>Altitude station</th>\n",
       "      <th>Température (°C)</th>\n",
       "      <th>Précipitations (3 heures)</th>\n",
       "      <th>Humidité (%)</th>\n",
       "      <th>Vitesse du vent (m/s)</th>\n",
       "      <th>Mois propice</th>\n",
       "      <th>Zone propice</th>\n",
       "    </tr>\n",
       "  </thead>\n",
       "  <tbody>\n",
       "    <tr>\n",
       "      <th>69920</th>\n",
       "      <td>0</td>\n",
       "      <td>50.57</td>\n",
       "      <td>3.0975</td>\n",
       "      <td>47</td>\n",
       "      <td>7.7</td>\n",
       "      <td>-0.1</td>\n",
       "      <td>86.0</td>\n",
       "      <td>4.1</td>\n",
       "      <td>0.024042</td>\n",
       "      <td>0.000042</td>\n",
       "    </tr>\n",
       "    <tr>\n",
       "      <th>69921</th>\n",
       "      <td>0</td>\n",
       "      <td>50.57</td>\n",
       "      <td>3.0975</td>\n",
       "      <td>47</td>\n",
       "      <td>5.4</td>\n",
       "      <td>0.0</td>\n",
       "      <td>87.0</td>\n",
       "      <td>3.3</td>\n",
       "      <td>0.024042</td>\n",
       "      <td>0.000042</td>\n",
       "    </tr>\n",
       "    <tr>\n",
       "      <th>69922</th>\n",
       "      <td>0</td>\n",
       "      <td>50.57</td>\n",
       "      <td>3.0975</td>\n",
       "      <td>47</td>\n",
       "      <td>2.7</td>\n",
       "      <td>0.0</td>\n",
       "      <td>96.0</td>\n",
       "      <td>1.4</td>\n",
       "      <td>0.024042</td>\n",
       "      <td>0.000042</td>\n",
       "    </tr>\n",
       "    <tr>\n",
       "      <th>69923</th>\n",
       "      <td>0</td>\n",
       "      <td>50.57</td>\n",
       "      <td>3.0975</td>\n",
       "      <td>47</td>\n",
       "      <td>2.7</td>\n",
       "      <td>-0.1</td>\n",
       "      <td>97.0</td>\n",
       "      <td>0.9</td>\n",
       "      <td>0.024042</td>\n",
       "      <td>0.000042</td>\n",
       "    </tr>\n",
       "    <tr>\n",
       "      <th>69924</th>\n",
       "      <td>0</td>\n",
       "      <td>50.57</td>\n",
       "      <td>3.0975</td>\n",
       "      <td>47</td>\n",
       "      <td>6.3</td>\n",
       "      <td>0.0</td>\n",
       "      <td>97.0</td>\n",
       "      <td>2.9</td>\n",
       "      <td>0.024042</td>\n",
       "      <td>0.000042</td>\n",
       "    </tr>\n",
       "  </tbody>\n",
       "</table>\n",
       "</div>"
      ],
      "text/plain": [
       "       Départ de feu  Latitude station  Longitude station  Altitude station  \\\n",
       "69920              0             50.57             3.0975                47   \n",
       "69921              0             50.57             3.0975                47   \n",
       "69922              0             50.57             3.0975                47   \n",
       "69923              0             50.57             3.0975                47   \n",
       "69924              0             50.57             3.0975                47   \n",
       "\n",
       "       Température (°C)  Précipitations (3 heures)  Humidité (%)  \\\n",
       "69920               7.7                       -0.1          86.0   \n",
       "69921               5.4                        0.0          87.0   \n",
       "69922               2.7                        0.0          96.0   \n",
       "69923               2.7                       -0.1          97.0   \n",
       "69924               6.3                        0.0          97.0   \n",
       "\n",
       "       Vitesse du vent (m/s)  Mois propice  Zone propice  \n",
       "69920                    4.1      0.024042      0.000042  \n",
       "69921                    3.3      0.024042      0.000042  \n",
       "69922                    1.4      0.024042      0.000042  \n",
       "69923                    0.9      0.024042      0.000042  \n",
       "69924                    2.9      0.024042      0.000042  "
      ]
     },
     "execution_count": 136,
     "metadata": {},
     "output_type": "execute_result"
    }
   ],
   "source": [
    "df2.head()"
   ]
  },
  {
   "cell_type": "markdown",
   "metadata": {
    "id": "Tu0bJDSBMVfC"
   },
   "source": [
    "Le dataframe que nous considérons maintenant comporte davantage de variables que celui utilisé précédemment : on a des informations sur la localisation de la station (latitude, longitude et altitude) et sur la prédisposition du mois et de la zone à être victime de feux de forêt. "
   ]
  },
  {
   "cell_type": "code",
   "execution_count": 137,
   "metadata": {
    "id": "fNfgXWAlNRqs"
   },
   "outputs": [],
   "source": [
    "train, test = train_test_split(df2, test_size=0.2, random_state=1)"
   ]
  },
  {
   "cell_type": "code",
   "execution_count": 138,
   "metadata": {
    "id": "07JrAYNkNW0S"
   },
   "outputs": [],
   "source": [
    "X_train = train.drop(['Départ de feu'], axis = 1).to_numpy()\n",
    "Y_train = train[['Départ de feu']].to_numpy()\n",
    "\n",
    "X_test = test.drop(['Départ de feu'], axis = 1).to_numpy()\n",
    "Y_test = test[['Départ de feu']].to_numpy()\n",
    "\n",
    "Y_train = Y_train.reshape(Y_train.shape[0])\n",
    "Y_test = Y_test.reshape(Y_test.shape[0])"
   ]
  },
  {
   "cell_type": "markdown",
   "metadata": {
    "id": "xxBGzP9VNc2-"
   },
   "source": [
    "### **Modèle 1 : l'arbre de décision**"
   ]
  },
  {
   "cell_type": "markdown",
   "metadata": {
    "id": "Ic8QqfyBNpmH"
   },
   "source": [
    "**Entraînement**"
   ]
  },
  {
   "cell_type": "code",
   "execution_count": 139,
   "metadata": {
    "id": "FNfjm1Y_Ncn8"
   },
   "outputs": [],
   "source": [
    "#instanciation de l'arbre\n",
    "from sklearn.tree import DecisionTreeClassifier\n",
    "tree = DecisionTreeClassifier()\n",
    "\n",
    "#construction de l'arbre\n",
    "tree = tree.fit(X_train, Y_train)"
   ]
  },
  {
   "cell_type": "markdown",
   "metadata": {
    "id": "orScCSuiN0a5"
   },
   "source": [
    "**Evaluation**"
   ]
  },
  {
   "cell_type": "code",
   "execution_count": 140,
   "metadata": {
    "id": "zZhi5q5wN28t"
   },
   "outputs": [],
   "source": [
    "tree_predict_test = tree.predict(X_test)"
   ]
  },
  {
   "cell_type": "markdown",
   "metadata": {
    "id": "oXSQKdGqOLwg"
   },
   "source": [
    "Comme l'on a pu le voir précédemment, les taux de reconnaissance et d'erreur du modèle peuvent être trompeurs du fait de la faible proportion d'observations correspondant à un feu de forêt. On s'intéressera donc principalement au rapport de prédiction. "
   ]
  },
  {
   "cell_type": "code",
   "execution_count": 141,
   "metadata": {
    "colab": {
     "base_uri": "https://localhost:8080/"
    },
    "id": "MUvJO6EdOGUK",
    "outputId": "7971c3d0-b2fa-4456-ae83-1c813409e40e"
   },
   "outputs": [
    {
     "name": "stdout",
     "output_type": "stream",
     "text": [
      "Rapport de prédiction sur la base de test :\n",
      "              precision    recall  f1-score   support\n",
      "\n",
      "           0       0.99      0.98      0.98    282442\n",
      "           1       0.30      0.39      0.34      6004\n",
      "\n",
      "    accuracy                           0.97    288446\n",
      "   macro avg       0.65      0.68      0.66    288446\n",
      "weighted avg       0.97      0.97      0.97    288446\n",
      "\n"
     ]
    }
   ],
   "source": [
    "print('Rapport de prédiction sur la base de test :')\n",
    "print(classification_report(Y_test, tree_predict_test))"
   ]
  },
  {
   "cell_type": "code",
   "execution_count": 142,
   "metadata": {},
   "outputs": [
    {
     "name": "stdout",
     "output_type": "stream",
     "text": [
      "Matrice de confusion\n",
      "[[277111   5331]\n",
      " [  3672   2332]]\n"
     ]
    }
   ],
   "source": [
    "#calcul de la matrice de confusion \n",
    "print('Matrice de confusion')\n",
    "confu_tree = confusion_matrix(Y_test,tree_predict_test)\n",
    "print(confu_tree)  "
   ]
  },
  {
   "cell_type": "markdown",
   "metadata": {
    "id": "90kqqrvsOeh-"
   },
   "source": [
    "On observe encore une fois une très bonne performance du modèle sur les observations ne correspondant pas à un feu de forêt. \n",
    "\n",
    "En ce qui concerne les observations correspondant à un feu de forêt (*Départ de feu* == 1), le modèle affiche de meilleures performances en précision et en recall. Cela est encourageant, néanmoins nous sommes encore loin d'une prédiction satisfaisante.\n",
    "\n",
    "Nous sommes passés de 1337 vrais positifs (1er arbre de décision) à 2345 ! C'est déjà mieux. Le recall est passé de 0.2 à 0.39 !"
   ]
  },
  {
   "cell_type": "markdown",
   "metadata": {
    "id": "2FL5Q934PKVW"
   },
   "source": [
    "### **Modèle 2 : Random forest**"
   ]
  },
  {
   "cell_type": "markdown",
   "metadata": {
    "id": "Y2MGIzjfPf_a"
   },
   "source": [
    "Le modèle *Random Forest* est censé nous livrer de meilleurs résultats qu'un arbre de décision seul.\n",
    "\n",
    "**Entraînement**"
   ]
  },
  {
   "cell_type": "code",
   "execution_count": 104,
   "metadata": {
    "id": "tdNrVfaoPKDK"
   },
   "outputs": [],
   "source": [
    "#Attention : cellule longue à exécuter\n",
    "rfc = RandomForestClassifier()\n",
    "rfc = rfc.fit(X_train, Y_train)"
   ]
  },
  {
   "cell_type": "markdown",
   "metadata": {
    "id": "uArpQGOsPo0Y"
   },
   "source": [
    "**Evaluation**"
   ]
  },
  {
   "cell_type": "code",
   "execution_count": 105,
   "metadata": {
    "id": "sRC4ecOXPrwd"
   },
   "outputs": [],
   "source": [
    "rfc_predict_test = rfc.predict(X_test)"
   ]
  },
  {
   "cell_type": "code",
   "execution_count": 106,
   "metadata": {
    "colab": {
     "base_uri": "https://localhost:8080/"
    },
    "id": "JHrXWX2qRuWK",
    "outputId": "6c690038-18bd-43e0-bb48-d87bf97bedb5"
   },
   "outputs": [
    {
     "name": "stdout",
     "output_type": "stream",
     "text": [
      "Matrice de confusion\n",
      "[[281983    459]\n",
      " [  4202   1802]]\n"
     ]
    }
   ],
   "source": [
    "#calcul de la matrice de confusion \n",
    "print('Matrice de confusion')\n",
    "confu_rfc = confusion_matrix(Y_test,rfc_predict_test)\n",
    "print(confu_rfc)  "
   ]
  },
  {
   "cell_type": "code",
   "execution_count": 107,
   "metadata": {
    "colab": {
     "base_uri": "https://localhost:8080/"
    },
    "id": "5OIt_UNYRAwf",
    "outputId": "904965ce-eac7-4354-844d-7e150c96921b"
   },
   "outputs": [
    {
     "name": "stdout",
     "output_type": "stream",
     "text": [
      "Rapport de prédiction sur la base de test :\n",
      "              precision    recall  f1-score   support\n",
      "\n",
      "           0       0.99      1.00      0.99    282442\n",
      "           1       0.80      0.30      0.44      6004\n",
      "\n",
      "    accuracy                           0.98    288446\n",
      "   macro avg       0.89      0.65      0.71    288446\n",
      "weighted avg       0.98      0.98      0.98    288446\n",
      "\n"
     ]
    }
   ],
   "source": [
    "print('Rapport de prédiction sur la base de test :')\n",
    "print(classification_report(Y_test, rfc_predict_test))"
   ]
  },
  {
   "cell_type": "markdown",
   "metadata": {
    "id": "oIxpP2OGR0tf"
   },
   "source": [
    "Notre travail commence à porter ses fruits : \n",
    "\n",
    "Le modèle *Random Forest* a une excellente performance sur les observations ne correspondant pas à un feu de forêt. \n",
    "\n",
    "Concernant les observations correspondant à un feu de forêt, la précision s'est grandement améliorée et commence à devenir intéressante. La part de faux positifs a diminué ( $ = 1 - precision_1 $), comme on peut l'obverser sur la matrice de confusion (cellule 1,1). Le modèle arrive à mieux reconnaître les observations ne correspondant pas à un feu de forêt. \n",
    "\n",
    "Néanmoins, $recall_1$ demeure faible : le modèle a des difficultés à reconnaître lorsqu'une observation correspond à un feu de forêt. Ce recall est même mieux avec l'arbre de décision (0.39) qu'avec la random forest (0.29).\n",
    "\n",
    "\n"
   ]
  },
  {
   "cell_type": "markdown",
   "metadata": {
    "id": "h6th1uR8Vo6b"
   },
   "source": [
    "### **Modèle 3 :**"
   ]
  },
  {
   "cell_type": "markdown",
   "metadata": {},
   "source": [
    "Dans cette toute dernière partie on retest le réseau de neurones avec les nouvelles features.\n",
    "\n",
    "On va même ajouter 2 nouvelles features qui étaient beaucoup trop longues à faire tourner sur la base de données avec tous les relevés météo. Ici, on s'intéresse seulement aux relevés avec départ de feu.\n",
    "\n",
    "Ces 2 nouvelles features sont \"la quantité moyenne de précipitation de la semaine précédent le relevé\" et \"la moyenne de température des deux semaines précédent le relevé\"."
   ]
  },
  {
   "cell_type": "markdown",
   "metadata": {},
   "source": [
    "Tout d'abord on garde les mêmes features que précédemment et seulement les lignes sans valeurs manquantes et où il y a eu départ de feu (grâce au dropna)."
   ]
  },
  {
   "cell_type": "code",
   "execution_count": 211,
   "metadata": {},
   "outputs": [
    {
     "data": {
      "text/html": [
       "<div>\n",
       "<style scoped>\n",
       "    .dataframe tbody tr th:only-of-type {\n",
       "        vertical-align: middle;\n",
       "    }\n",
       "\n",
       "    .dataframe tbody tr th {\n",
       "        vertical-align: top;\n",
       "    }\n",
       "\n",
       "    .dataframe thead th {\n",
       "        text-align: right;\n",
       "    }\n",
       "</style>\n",
       "<table border=\"1\" class=\"dataframe\">\n",
       "  <thead>\n",
       "    <tr style=\"text-align: right;\">\n",
       "      <th></th>\n",
       "      <th>Surface brûlée (m2)</th>\n",
       "      <th>Latitude station</th>\n",
       "      <th>Longitude station</th>\n",
       "      <th>Altitude station</th>\n",
       "      <th>Température (°C)</th>\n",
       "      <th>Précipitations (3 heures)</th>\n",
       "      <th>Humidité (%)</th>\n",
       "      <th>Vitesse du vent (m/s)</th>\n",
       "      <th>Mois propice</th>\n",
       "      <th>Zone propice</th>\n",
       "    </tr>\n",
       "  </thead>\n",
       "  <tbody>\n",
       "    <tr>\n",
       "      <th>99242</th>\n",
       "      <td>100000.0</td>\n",
       "      <td>49.725167</td>\n",
       "      <td>-1.939833</td>\n",
       "      <td>6</td>\n",
       "      <td>11.4</td>\n",
       "      <td>0.0</td>\n",
       "      <td>78.0</td>\n",
       "      <td>4.1</td>\n",
       "      <td>0.089479</td>\n",
       "      <td>0.000067</td>\n",
       "    </tr>\n",
       "    <tr>\n",
       "      <th>103316</th>\n",
       "      <td>1000.0</td>\n",
       "      <td>49.725167</td>\n",
       "      <td>-1.939833</td>\n",
       "      <td>6</td>\n",
       "      <td>11.4</td>\n",
       "      <td>0.0</td>\n",
       "      <td>90.0</td>\n",
       "      <td>0.0</td>\n",
       "      <td>0.165589</td>\n",
       "      <td>0.000114</td>\n",
       "    </tr>\n",
       "    <tr>\n",
       "      <th>113680</th>\n",
       "      <td>6800.0</td>\n",
       "      <td>49.725167</td>\n",
       "      <td>-1.939833</td>\n",
       "      <td>6</td>\n",
       "      <td>11.1</td>\n",
       "      <td>0.0</td>\n",
       "      <td>86.0</td>\n",
       "      <td>6.4</td>\n",
       "      <td>0.083454</td>\n",
       "      <td>0.000114</td>\n",
       "    </tr>\n",
       "    <tr>\n",
       "      <th>113740</th>\n",
       "      <td>2000.0</td>\n",
       "      <td>49.725167</td>\n",
       "      <td>-1.939833</td>\n",
       "      <td>6</td>\n",
       "      <td>10.8</td>\n",
       "      <td>0.0</td>\n",
       "      <td>89.0</td>\n",
       "      <td>5.0</td>\n",
       "      <td>0.083454</td>\n",
       "      <td>0.000114</td>\n",
       "    </tr>\n",
       "    <tr>\n",
       "      <th>117143</th>\n",
       "      <td>800.0</td>\n",
       "      <td>49.725167</td>\n",
       "      <td>-1.939833</td>\n",
       "      <td>6</td>\n",
       "      <td>16.0</td>\n",
       "      <td>0.0</td>\n",
       "      <td>66.0</td>\n",
       "      <td>4.0</td>\n",
       "      <td>0.091385</td>\n",
       "      <td>0.000173</td>\n",
       "    </tr>\n",
       "  </tbody>\n",
       "</table>\n",
       "</div>"
      ],
      "text/plain": [
       "        Surface brûlée (m2)  Latitude station  Longitude station  \\\n",
       "99242              100000.0         49.725167          -1.939833   \n",
       "103316               1000.0         49.725167          -1.939833   \n",
       "113680               6800.0         49.725167          -1.939833   \n",
       "113740               2000.0         49.725167          -1.939833   \n",
       "117143                800.0         49.725167          -1.939833   \n",
       "\n",
       "        Altitude station  Température (°C)  Précipitations (3 heures)  \\\n",
       "99242                  6              11.4                        0.0   \n",
       "103316                 6              11.4                        0.0   \n",
       "113680                 6              11.1                        0.0   \n",
       "113740                 6              10.8                        0.0   \n",
       "117143                 6              16.0                        0.0   \n",
       "\n",
       "        Humidité (%)  Vitesse du vent (m/s)  Mois propice  Zone propice  \n",
       "99242           78.0                    4.1      0.089479      0.000067  \n",
       "103316          90.0                    0.0      0.165589      0.000114  \n",
       "113680          86.0                    6.4      0.083454      0.000114  \n",
       "113740          89.0                    5.0      0.083454      0.000114  \n",
       "117143          66.0                    4.0      0.091385      0.000173  "
      ]
     },
     "execution_count": 211,
     "metadata": {},
     "output_type": "execute_result"
    }
   ],
   "source": [
    "df3 = df.iloc[:, [9,17,18,19,21,22,23,24,25,26]]  \n",
    "df3 = df3.dropna()\n",
    "df3.head()"
   ]
  },
  {
   "cell_type": "code",
   "execution_count": 212,
   "metadata": {},
   "outputs": [],
   "source": [
    "df3['Index'] = df3.index"
   ]
  },
  {
   "cell_type": "markdown",
   "metadata": {},
   "source": [
    "On crée une variable nous donnant la quantité moyenne de précipitation de la semaine précédent le relevé.\n",
    "\n",
    "Comme il y a des relevés toutes les 3 heures, une semaine correspond à 56 relevés. Pour chaque ligne, on somme donc sa quantité de précipitation avec les 55 précédentes (la base est déjà ordonnée par date). Cela signifie qu'il faudra ignorer la première semaine des données, ce qui n'est pas dramatique étant donnée la taille de base. On fait cela pour chaque station.\n",
    "\n"
   ]
  },
  {
   "cell_type": "markdown",
   "metadata": {},
   "source": [
    "Attention : la création de ces 2 nouvelles features sont longues à exécuter."
   ]
  },
  {
   "cell_type": "code",
   "execution_count": 213,
   "metadata": {},
   "outputs": [],
   "source": [
    "df_constru = pd.read_csv('data.zip', low_memory = False)"
   ]
  },
  {
   "cell_type": "code",
   "execution_count": 214,
   "metadata": {},
   "outputs": [],
   "source": [
    "def moyenne_precipitations(index):\n",
    "    if math.isnan(df_constru.iloc[index,16]):\n",
    "        return np.nan\n",
    "    sub = df_constru[df_constru['id_station'] == df_constru.iloc[index,16]]  #on se restreint aux relevés d'une même station. La base est ordonnée par station donc les index restent dans le bon ordre et se suivent\n",
    "    if index >= 55 and index+1 <= sub.shape[0]:\n",
    "        sub = sub.iloc[range(index-54,index+1),]        #on garde prend les 55 relevés précédents\n",
    "        return sub['Précipitations (3 heures)'].sum(axis=0)/56   #on fait la moyenne pour les relevés pertinents\n",
    "    else:\n",
    "        return np.nan   #pour les premier relevés, on ne peut pas avoir la moyenne de la semaine précédente, la valeur est NaN"
   ]
  },
  {
   "cell_type": "code",
   "execution_count": 215,
   "metadata": {},
   "outputs": [],
   "source": [
    "df3['Précipitation semaine'] = df3['Index'].apply(lambda row: moyenne_precipitations(row))"
   ]
  },
  {
   "cell_type": "markdown",
   "metadata": {},
   "source": [
    "On crée une variable nous donnant la moyenne de température des deux semaines précédent le relevé (moyenne avec les 111 relevés précedents donc)."
   ]
  },
  {
   "cell_type": "code",
   "execution_count": 216,
   "metadata": {},
   "outputs": [],
   "source": [
    "def moyenne_temperature(index):\n",
    "    if math.isnan(df_constru.iloc[index,16]):\n",
    "        return np.nan\n",
    "    sub = df_constru[df_constru['id_station'] == df_constru.iloc[index,16]]  #on se restreint aux relevés d'une même station. La base est ordonnée par station donc les index restent dans le bon ordre et se suivent\n",
    "    if index >= 111 and index+1 <= sub.shape[0]:\n",
    "        sub = sub.iloc[range(index-110,index+1),]        #on garde prend les 111 relevés précédents\n",
    "        return sub['Température (°C)'].sum(axis=0)/112   #on fait la moyenne pour les relevés pertinents\n",
    "    else:\n",
    "        return np.nan                #pour les premier relevés, on ne peut pas avoir la moyenne de la semaine précédente, la valeur est NaN"
   ]
  },
  {
   "cell_type": "code",
   "execution_count": 217,
   "metadata": {},
   "outputs": [],
   "source": [
    "df3['Température semaine'] = df3['Index'].apply(lambda row: moyenne_temperature(row))"
   ]
  },
  {
   "cell_type": "code",
   "execution_count": 218,
   "metadata": {},
   "outputs": [
    {
     "data": {
      "text/html": [
       "<div>\n",
       "<style scoped>\n",
       "    .dataframe tbody tr th:only-of-type {\n",
       "        vertical-align: middle;\n",
       "    }\n",
       "\n",
       "    .dataframe tbody tr th {\n",
       "        vertical-align: top;\n",
       "    }\n",
       "\n",
       "    .dataframe thead th {\n",
       "        text-align: right;\n",
       "    }\n",
       "</style>\n",
       "<table border=\"1\" class=\"dataframe\">\n",
       "  <thead>\n",
       "    <tr style=\"text-align: right;\">\n",
       "      <th></th>\n",
       "      <th>Surface brûlée (m2)</th>\n",
       "      <th>Latitude station</th>\n",
       "      <th>Longitude station</th>\n",
       "      <th>Altitude station</th>\n",
       "      <th>Température (°C)</th>\n",
       "      <th>Précipitations (3 heures)</th>\n",
       "      <th>Humidité (%)</th>\n",
       "      <th>Vitesse du vent (m/s)</th>\n",
       "      <th>Mois propice</th>\n",
       "      <th>Zone propice</th>\n",
       "      <th>Index</th>\n",
       "      <th>Précipitation semaine</th>\n",
       "      <th>Température semaine</th>\n",
       "    </tr>\n",
       "  </thead>\n",
       "  <tbody>\n",
       "    <tr>\n",
       "      <th>99242</th>\n",
       "      <td>100000.0</td>\n",
       "      <td>49.725167</td>\n",
       "      <td>-1.939833</td>\n",
       "      <td>6</td>\n",
       "      <td>11.4</td>\n",
       "      <td>0.0</td>\n",
       "      <td>78.0</td>\n",
       "      <td>4.1</td>\n",
       "      <td>0.089479</td>\n",
       "      <td>0.000067</td>\n",
       "      <td>99242</td>\n",
       "      <td>NaN</td>\n",
       "      <td>NaN</td>\n",
       "    </tr>\n",
       "    <tr>\n",
       "      <th>103316</th>\n",
       "      <td>1000.0</td>\n",
       "      <td>49.725167</td>\n",
       "      <td>-1.939833</td>\n",
       "      <td>6</td>\n",
       "      <td>11.4</td>\n",
       "      <td>0.0</td>\n",
       "      <td>90.0</td>\n",
       "      <td>0.0</td>\n",
       "      <td>0.165589</td>\n",
       "      <td>0.000114</td>\n",
       "      <td>103316</td>\n",
       "      <td>NaN</td>\n",
       "      <td>NaN</td>\n",
       "    </tr>\n",
       "    <tr>\n",
       "      <th>113680</th>\n",
       "      <td>6800.0</td>\n",
       "      <td>49.725167</td>\n",
       "      <td>-1.939833</td>\n",
       "      <td>6</td>\n",
       "      <td>11.1</td>\n",
       "      <td>0.0</td>\n",
       "      <td>86.0</td>\n",
       "      <td>6.4</td>\n",
       "      <td>0.083454</td>\n",
       "      <td>0.000114</td>\n",
       "      <td>113680</td>\n",
       "      <td>NaN</td>\n",
       "      <td>NaN</td>\n",
       "    </tr>\n",
       "    <tr>\n",
       "      <th>113740</th>\n",
       "      <td>2000.0</td>\n",
       "      <td>49.725167</td>\n",
       "      <td>-1.939833</td>\n",
       "      <td>6</td>\n",
       "      <td>10.8</td>\n",
       "      <td>0.0</td>\n",
       "      <td>89.0</td>\n",
       "      <td>5.0</td>\n",
       "      <td>0.083454</td>\n",
       "      <td>0.000114</td>\n",
       "      <td>113740</td>\n",
       "      <td>NaN</td>\n",
       "      <td>NaN</td>\n",
       "    </tr>\n",
       "    <tr>\n",
       "      <th>117143</th>\n",
       "      <td>800.0</td>\n",
       "      <td>49.725167</td>\n",
       "      <td>-1.939833</td>\n",
       "      <td>6</td>\n",
       "      <td>16.0</td>\n",
       "      <td>0.0</td>\n",
       "      <td>66.0</td>\n",
       "      <td>4.0</td>\n",
       "      <td>0.091385</td>\n",
       "      <td>0.000173</td>\n",
       "      <td>117143</td>\n",
       "      <td>NaN</td>\n",
       "      <td>NaN</td>\n",
       "    </tr>\n",
       "    <tr>\n",
       "      <th>...</th>\n",
       "      <td>...</td>\n",
       "      <td>...</td>\n",
       "      <td>...</td>\n",
       "      <td>...</td>\n",
       "      <td>...</td>\n",
       "      <td>...</td>\n",
       "      <td>...</td>\n",
       "      <td>...</td>\n",
       "      <td>...</td>\n",
       "      <td>...</td>\n",
       "      <td>...</td>\n",
       "      <td>...</td>\n",
       "      <td>...</td>\n",
       "    </tr>\n",
       "    <tr>\n",
       "      <th>1722201</th>\n",
       "      <td>300.0</td>\n",
       "      <td>-11.582667</td>\n",
       "      <td>47.289667</td>\n",
       "      <td>3</td>\n",
       "      <td>25.1</td>\n",
       "      <td>0.0</td>\n",
       "      <td>75.0</td>\n",
       "      <td>4.5</td>\n",
       "      <td>0.068166</td>\n",
       "      <td>0.002772</td>\n",
       "      <td>1722201</td>\n",
       "      <td>NaN</td>\n",
       "      <td>NaN</td>\n",
       "    </tr>\n",
       "    <tr>\n",
       "      <th>1722276</th>\n",
       "      <td>100.0</td>\n",
       "      <td>-11.582667</td>\n",
       "      <td>47.289667</td>\n",
       "      <td>3</td>\n",
       "      <td>25.2</td>\n",
       "      <td>0.0</td>\n",
       "      <td>83.0</td>\n",
       "      <td>0.0</td>\n",
       "      <td>0.025471</td>\n",
       "      <td>0.002772</td>\n",
       "      <td>1722276</td>\n",
       "      <td>NaN</td>\n",
       "      <td>NaN</td>\n",
       "    </tr>\n",
       "    <tr>\n",
       "      <th>1724477</th>\n",
       "      <td>1541.0</td>\n",
       "      <td>-11.582667</td>\n",
       "      <td>47.289667</td>\n",
       "      <td>3</td>\n",
       "      <td>26.7</td>\n",
       "      <td>0.0</td>\n",
       "      <td>75.0</td>\n",
       "      <td>1.6</td>\n",
       "      <td>0.176923</td>\n",
       "      <td>0.003448</td>\n",
       "      <td>1724477</td>\n",
       "      <td>NaN</td>\n",
       "      <td>NaN</td>\n",
       "    </tr>\n",
       "    <tr>\n",
       "      <th>1725083</th>\n",
       "      <td>3835.0</td>\n",
       "      <td>-11.582667</td>\n",
       "      <td>47.289667</td>\n",
       "      <td>3</td>\n",
       "      <td>27.1</td>\n",
       "      <td>0.0</td>\n",
       "      <td>74.0</td>\n",
       "      <td>2.4</td>\n",
       "      <td>0.024693</td>\n",
       "      <td>0.003448</td>\n",
       "      <td>1725083</td>\n",
       "      <td>NaN</td>\n",
       "      <td>NaN</td>\n",
       "    </tr>\n",
       "    <tr>\n",
       "      <th>1725123</th>\n",
       "      <td>1100.0</td>\n",
       "      <td>-11.582667</td>\n",
       "      <td>47.289667</td>\n",
       "      <td>3</td>\n",
       "      <td>28.3</td>\n",
       "      <td>0.0</td>\n",
       "      <td>79.0</td>\n",
       "      <td>1.5</td>\n",
       "      <td>0.024693</td>\n",
       "      <td>0.003448</td>\n",
       "      <td>1725123</td>\n",
       "      <td>NaN</td>\n",
       "      <td>NaN</td>\n",
       "    </tr>\n",
       "  </tbody>\n",
       "</table>\n",
       "<p>29755 rows × 13 columns</p>\n",
       "</div>"
      ],
      "text/plain": [
       "         Surface brûlée (m2)  Latitude station  Longitude station  \\\n",
       "99242               100000.0         49.725167          -1.939833   \n",
       "103316                1000.0         49.725167          -1.939833   \n",
       "113680                6800.0         49.725167          -1.939833   \n",
       "113740                2000.0         49.725167          -1.939833   \n",
       "117143                 800.0         49.725167          -1.939833   \n",
       "...                      ...               ...                ...   \n",
       "1722201                300.0        -11.582667          47.289667   \n",
       "1722276                100.0        -11.582667          47.289667   \n",
       "1724477               1541.0        -11.582667          47.289667   \n",
       "1725083               3835.0        -11.582667          47.289667   \n",
       "1725123               1100.0        -11.582667          47.289667   \n",
       "\n",
       "         Altitude station  Température (°C)  Précipitations (3 heures)  \\\n",
       "99242                   6              11.4                        0.0   \n",
       "103316                  6              11.4                        0.0   \n",
       "113680                  6              11.1                        0.0   \n",
       "113740                  6              10.8                        0.0   \n",
       "117143                  6              16.0                        0.0   \n",
       "...                   ...               ...                        ...   \n",
       "1722201                 3              25.1                        0.0   \n",
       "1722276                 3              25.2                        0.0   \n",
       "1724477                 3              26.7                        0.0   \n",
       "1725083                 3              27.1                        0.0   \n",
       "1725123                 3              28.3                        0.0   \n",
       "\n",
       "         Humidité (%)  Vitesse du vent (m/s)  Mois propice  Zone propice  \\\n",
       "99242            78.0                    4.1      0.089479      0.000067   \n",
       "103316           90.0                    0.0      0.165589      0.000114   \n",
       "113680           86.0                    6.4      0.083454      0.000114   \n",
       "113740           89.0                    5.0      0.083454      0.000114   \n",
       "117143           66.0                    4.0      0.091385      0.000173   \n",
       "...               ...                    ...           ...           ...   \n",
       "1722201          75.0                    4.5      0.068166      0.002772   \n",
       "1722276          83.0                    0.0      0.025471      0.002772   \n",
       "1724477          75.0                    1.6      0.176923      0.003448   \n",
       "1725083          74.0                    2.4      0.024693      0.003448   \n",
       "1725123          79.0                    1.5      0.024693      0.003448   \n",
       "\n",
       "           Index  Précipitation semaine  Température semaine  \n",
       "99242      99242                    NaN                  NaN  \n",
       "103316    103316                    NaN                  NaN  \n",
       "113680    113680                    NaN                  NaN  \n",
       "113740    113740                    NaN                  NaN  \n",
       "117143    117143                    NaN                  NaN  \n",
       "...          ...                    ...                  ...  \n",
       "1722201  1722201                    NaN                  NaN  \n",
       "1722276  1722276                    NaN                  NaN  \n",
       "1724477  1724477                    NaN                  NaN  \n",
       "1725083  1725083                    NaN                  NaN  \n",
       "1725123  1725123                    NaN                  NaN  \n",
       "\n",
       "[29755 rows x 13 columns]"
      ]
     },
     "execution_count": 218,
     "metadata": {},
     "output_type": "execute_result"
    }
   ],
   "source": [
    "df3"
   ]
  },
  {
   "cell_type": "code",
   "execution_count": 197,
   "metadata": {},
   "outputs": [],
   "source": [
    "df3 = df3.drop(columns = ['Index'])"
   ]
  },
  {
   "cell_type": "code",
   "execution_count": 202,
   "metadata": {},
   "outputs": [
    {
     "data": {
      "text/html": [
       "<div>\n",
       "<style scoped>\n",
       "    .dataframe tbody tr th:only-of-type {\n",
       "        vertical-align: middle;\n",
       "    }\n",
       "\n",
       "    .dataframe tbody tr th {\n",
       "        vertical-align: top;\n",
       "    }\n",
       "\n",
       "    .dataframe thead th {\n",
       "        text-align: right;\n",
       "    }\n",
       "</style>\n",
       "<table border=\"1\" class=\"dataframe\">\n",
       "  <thead>\n",
       "    <tr style=\"text-align: right;\">\n",
       "      <th></th>\n",
       "      <th>Surface brûlée (m2)</th>\n",
       "      <th>Latitude station</th>\n",
       "      <th>Longitude station</th>\n",
       "      <th>Altitude station</th>\n",
       "      <th>Température (°C)</th>\n",
       "      <th>Précipitations (3 heures)</th>\n",
       "      <th>Humidité (%)</th>\n",
       "      <th>Vitesse du vent (m/s)</th>\n",
       "      <th>Mois propice</th>\n",
       "      <th>Zone propice</th>\n",
       "      <th>Précipitation semaine</th>\n",
       "      <th>Température semaine</th>\n",
       "    </tr>\n",
       "  </thead>\n",
       "  <tbody>\n",
       "  </tbody>\n",
       "</table>\n",
       "</div>"
      ],
      "text/plain": [
       "Empty DataFrame\n",
       "Columns: [Surface brûlée (m2), Latitude station, Longitude station, Altitude station, Température (°C), Précipitations (3 heures), Humidité (%), Vitesse du vent (m/s), Mois propice, Zone propice, Précipitation semaine, Température semaine]\n",
       "Index: []"
      ]
     },
     "execution_count": 202,
     "metadata": {},
     "output_type": "execute_result"
    }
   ],
   "source": [
    "df3 = df3.dropna()\n",
    "df3"
   ]
  },
  {
   "cell_type": "code",
   "execution_count": 199,
   "metadata": {},
   "outputs": [
    {
     "data": {
      "text/plain": [
       "Surface brûlée (m2)          float64\n",
       "Latitude station             float64\n",
       "Longitude station            float64\n",
       "Altitude station               int64\n",
       "Température (°C)             float64\n",
       "Précipitations (3 heures)    float64\n",
       "Humidité (%)                 float64\n",
       "Vitesse du vent (m/s)        float64\n",
       "Mois propice                 float64\n",
       "Zone propice                 float64\n",
       "Précipitation semaine        float64\n",
       "Température semaine          float64\n",
       "dtype: object"
      ]
     },
     "execution_count": 199,
     "metadata": {},
     "output_type": "execute_result"
    }
   ],
   "source": [
    "df3.dtypes"
   ]
  },
  {
   "cell_type": "code",
   "execution_count": 200,
   "metadata": {},
   "outputs": [
    {
     "data": {
      "text/plain": [
       "array([], shape=(0, 12), dtype=float64)"
      ]
     },
     "execution_count": 200,
     "metadata": {},
     "output_type": "execute_result"
    }
   ],
   "source": [
    "values = df3.values\n",
    "values"
   ]
  },
  {
   "cell_type": "code",
   "execution_count": 201,
   "metadata": {},
   "outputs": [],
   "source": [
    "x = values[:,[1,2,3,4,5,6,7,8,9,10,11]].astype(float)\n",
    "y = values[:,0].astype(float)"
   ]
  },
  {
   "cell_type": "code",
   "execution_count": 192,
   "metadata": {},
   "outputs": [],
   "source": [
    "x_train,x_test,y_train,y_test = train_test_split(x, y, test_size = 0.3, random_state = 10)"
   ]
  },
  {
   "cell_type": "code",
   "execution_count": 193,
   "metadata": {},
   "outputs": [
    {
     "data": {
      "text/plain": [
       "(20828, 11)"
      ]
     },
     "execution_count": 193,
     "metadata": {},
     "output_type": "execute_result"
    }
   ],
   "source": [
    "x_train.shape"
   ]
  },
  {
   "cell_type": "code",
   "execution_count": 194,
   "metadata": {},
   "outputs": [
    {
     "name": "stdout",
     "output_type": "stream",
     "text": [
      "Model: \"sequential_1\"\n",
      "_________________________________________________________________\n",
      "Layer (type)                 Output Shape              Param #   \n",
      "=================================================================\n",
      "dense_4 (Dense)              (None, 500)               6000      \n",
      "_________________________________________________________________\n",
      "dense_5 (Dense)              (None, 100)               50100     \n",
      "_________________________________________________________________\n",
      "dense_6 (Dense)              (None, 50)                5050      \n",
      "_________________________________________________________________\n",
      "dense_7 (Dense)              (None, 1)                 51        \n",
      "=================================================================\n",
      "Total params: 61,201\n",
      "Trainable params: 61,201\n",
      "Non-trainable params: 0\n",
      "_________________________________________________________________\n"
     ]
    }
   ],
   "source": [
    "model = Sequential()\n",
    "\n",
    "model.add(Dense(500, input_dim = x_train.shape[1], activation = 'relu'))\n",
    "model.add(Dense(100, activation = 'relu'))\n",
    "model.add(Dense(50, activation = 'relu'))\n",
    "model.add(Dense(1))\n",
    "\n",
    "model.compile(loss = \"mean_squared_error\" , optimizer = \"adam\", metrics = [\"mean_squared_error\"])\n",
    "\n",
    "model.summary()"
   ]
  },
  {
   "cell_type": "code",
   "execution_count": 195,
   "metadata": {},
   "outputs": [
    {
     "name": "stdout",
     "output_type": "stream",
     "text": [
      "Epoch 1/50\n",
      "651/651 [==============================] - 3s 5ms/step - loss: nan - mean_squared_error: nan - val_loss: nan - val_mean_squared_error: nan\n",
      "Epoch 2/50\n",
      "651/651 [==============================] - 3s 4ms/step - loss: nan - mean_squared_error: nan - val_loss: nan - val_mean_squared_error: nan\n",
      "Epoch 3/50\n",
      "651/651 [==============================] - 2s 4ms/step - loss: nan - mean_squared_error: nan - val_loss: nan - val_mean_squared_error: nan\n",
      "Epoch 4/50\n",
      "651/651 [==============================] - 2s 4ms/step - loss: nan - mean_squared_error: nan - val_loss: nan - val_mean_squared_error: nan\n",
      "Epoch 5/50\n",
      "651/651 [==============================] - 3s 4ms/step - loss: nan - mean_squared_error: nan - val_loss: nan - val_mean_squared_error: nan\n",
      "Epoch 6/50\n",
      "651/651 [==============================] - 3s 4ms/step - loss: nan - mean_squared_error: nan - val_loss: nan - val_mean_squared_error: nan\n",
      "Epoch 7/50\n",
      "651/651 [==============================] - 3s 4ms/step - loss: nan - mean_squared_error: nan - val_loss: nan - val_mean_squared_error: nan\n",
      "Epoch 8/50\n",
      "651/651 [==============================] - 2s 4ms/step - loss: nan - mean_squared_error: nan - val_loss: nan - val_mean_squared_error: nan\n",
      "Epoch 9/50\n",
      "651/651 [==============================] - 2s 4ms/step - loss: nan - mean_squared_error: nan - val_loss: nan - val_mean_squared_error: nan\n",
      "Epoch 10/50\n",
      "651/651 [==============================] - 3s 4ms/step - loss: nan - mean_squared_error: nan - val_loss: nan - val_mean_squared_error: nan\n",
      "Epoch 11/50\n",
      "651/651 [==============================] - 2s 4ms/step - loss: nan - mean_squared_error: nan - val_loss: nan - val_mean_squared_error: nan\n",
      "Epoch 12/50\n",
      "651/651 [==============================] - 3s 4ms/step - loss: nan - mean_squared_error: nan - val_loss: nan - val_mean_squared_error: nan\n",
      "Epoch 13/50\n",
      "651/651 [==============================] - 3s 4ms/step - loss: nan - mean_squared_error: nan - val_loss: nan - val_mean_squared_error: nan\n",
      "Epoch 14/50\n",
      "651/651 [==============================] - 3s 5ms/step - loss: nan - mean_squared_error: nan - val_loss: nan - val_mean_squared_error: nan\n",
      "Epoch 15/50\n",
      "651/651 [==============================] - 3s 5ms/step - loss: nan - mean_squared_error: nan - val_loss: nan - val_mean_squared_error: nan\n",
      "Epoch 16/50\n",
      "596/651 [==========================>...] - ETA: 0s - loss: nan - mean_squared_error: nan"
     ]
    },
    {
     "ename": "KeyboardInterrupt",
     "evalue": "",
     "output_type": "error",
     "traceback": [
      "\u001b[1;31m---------------------------------------------------------------------------\u001b[0m",
      "\u001b[1;31mKeyboardInterrupt\u001b[0m                         Traceback (most recent call last)",
      "\u001b[1;32m<ipython-input-195-3d4711be2525>\u001b[0m in \u001b[0;36m<module>\u001b[1;34m\u001b[0m\n\u001b[1;32m----> 1\u001b[1;33m \u001b[0mhistory\u001b[0m \u001b[1;33m=\u001b[0m \u001b[0mmodel\u001b[0m\u001b[1;33m.\u001b[0m\u001b[0mfit\u001b[0m\u001b[1;33m(\u001b[0m\u001b[0mx_train\u001b[0m\u001b[1;33m,\u001b[0m \u001b[0my_train\u001b[0m\u001b[1;33m,\u001b[0m \u001b[0mepochs\u001b[0m \u001b[1;33m=\u001b[0m \u001b[1;36m50\u001b[0m\u001b[1;33m,\u001b[0m \u001b[0mverbose\u001b[0m \u001b[1;33m=\u001b[0m \u001b[1;36m1\u001b[0m\u001b[1;33m,\u001b[0m \u001b[0mvalidation_data\u001b[0m\u001b[1;33m=\u001b[0m\u001b[1;33m(\u001b[0m\u001b[0mx_test\u001b[0m\u001b[1;33m,\u001b[0m \u001b[0my_test\u001b[0m\u001b[1;33m)\u001b[0m\u001b[1;33m)\u001b[0m\u001b[1;33m\u001b[0m\u001b[1;33m\u001b[0m\u001b[0m\n\u001b[0m",
      "\u001b[1;32m~\\AppData\\Roaming\\Python\\Python38\\site-packages\\tensorflow\\python\\keras\\engine\\training.py\u001b[0m in \u001b[0;36m_method_wrapper\u001b[1;34m(self, *args, **kwargs)\u001b[0m\n\u001b[0;32m    106\u001b[0m   \u001b[1;32mdef\u001b[0m \u001b[0m_method_wrapper\u001b[0m\u001b[1;33m(\u001b[0m\u001b[0mself\u001b[0m\u001b[1;33m,\u001b[0m \u001b[1;33m*\u001b[0m\u001b[0margs\u001b[0m\u001b[1;33m,\u001b[0m \u001b[1;33m**\u001b[0m\u001b[0mkwargs\u001b[0m\u001b[1;33m)\u001b[0m\u001b[1;33m:\u001b[0m\u001b[1;33m\u001b[0m\u001b[1;33m\u001b[0m\u001b[0m\n\u001b[0;32m    107\u001b[0m     \u001b[1;32mif\u001b[0m \u001b[1;32mnot\u001b[0m \u001b[0mself\u001b[0m\u001b[1;33m.\u001b[0m\u001b[0m_in_multi_worker_mode\u001b[0m\u001b[1;33m(\u001b[0m\u001b[1;33m)\u001b[0m\u001b[1;33m:\u001b[0m  \u001b[1;31m# pylint: disable=protected-access\u001b[0m\u001b[1;33m\u001b[0m\u001b[1;33m\u001b[0m\u001b[0m\n\u001b[1;32m--> 108\u001b[1;33m       \u001b[1;32mreturn\u001b[0m \u001b[0mmethod\u001b[0m\u001b[1;33m(\u001b[0m\u001b[0mself\u001b[0m\u001b[1;33m,\u001b[0m \u001b[1;33m*\u001b[0m\u001b[0margs\u001b[0m\u001b[1;33m,\u001b[0m \u001b[1;33m**\u001b[0m\u001b[0mkwargs\u001b[0m\u001b[1;33m)\u001b[0m\u001b[1;33m\u001b[0m\u001b[1;33m\u001b[0m\u001b[0m\n\u001b[0m\u001b[0;32m    109\u001b[0m \u001b[1;33m\u001b[0m\u001b[0m\n\u001b[0;32m    110\u001b[0m     \u001b[1;31m# Running inside `run_distribute_coordinator` already.\u001b[0m\u001b[1;33m\u001b[0m\u001b[1;33m\u001b[0m\u001b[1;33m\u001b[0m\u001b[0m\n",
      "\u001b[1;32m~\\AppData\\Roaming\\Python\\Python38\\site-packages\\tensorflow\\python\\keras\\engine\\training.py\u001b[0m in \u001b[0;36mfit\u001b[1;34m(self, x, y, batch_size, epochs, verbose, callbacks, validation_split, validation_data, shuffle, class_weight, sample_weight, initial_epoch, steps_per_epoch, validation_steps, validation_batch_size, validation_freq, max_queue_size, workers, use_multiprocessing)\u001b[0m\n\u001b[0;32m   1096\u001b[0m                 batch_size=batch_size):\n\u001b[0;32m   1097\u001b[0m               \u001b[0mcallbacks\u001b[0m\u001b[1;33m.\u001b[0m\u001b[0mon_train_batch_begin\u001b[0m\u001b[1;33m(\u001b[0m\u001b[0mstep\u001b[0m\u001b[1;33m)\u001b[0m\u001b[1;33m\u001b[0m\u001b[1;33m\u001b[0m\u001b[0m\n\u001b[1;32m-> 1098\u001b[1;33m               \u001b[0mtmp_logs\u001b[0m \u001b[1;33m=\u001b[0m \u001b[0mtrain_function\u001b[0m\u001b[1;33m(\u001b[0m\u001b[0miterator\u001b[0m\u001b[1;33m)\u001b[0m\u001b[1;33m\u001b[0m\u001b[1;33m\u001b[0m\u001b[0m\n\u001b[0m\u001b[0;32m   1099\u001b[0m               \u001b[1;32mif\u001b[0m \u001b[0mdata_handler\u001b[0m\u001b[1;33m.\u001b[0m\u001b[0mshould_sync\u001b[0m\u001b[1;33m:\u001b[0m\u001b[1;33m\u001b[0m\u001b[1;33m\u001b[0m\u001b[0m\n\u001b[0;32m   1100\u001b[0m                 \u001b[0mcontext\u001b[0m\u001b[1;33m.\u001b[0m\u001b[0masync_wait\u001b[0m\u001b[1;33m(\u001b[0m\u001b[1;33m)\u001b[0m\u001b[1;33m\u001b[0m\u001b[1;33m\u001b[0m\u001b[0m\n",
      "\u001b[1;32m~\\AppData\\Roaming\\Python\\Python38\\site-packages\\tensorflow\\python\\eager\\def_function.py\u001b[0m in \u001b[0;36m__call__\u001b[1;34m(self, *args, **kwds)\u001b[0m\n\u001b[0;32m    778\u001b[0m       \u001b[1;32melse\u001b[0m\u001b[1;33m:\u001b[0m\u001b[1;33m\u001b[0m\u001b[1;33m\u001b[0m\u001b[0m\n\u001b[0;32m    779\u001b[0m         \u001b[0mcompiler\u001b[0m \u001b[1;33m=\u001b[0m \u001b[1;34m\"nonXla\"\u001b[0m\u001b[1;33m\u001b[0m\u001b[1;33m\u001b[0m\u001b[0m\n\u001b[1;32m--> 780\u001b[1;33m         \u001b[0mresult\u001b[0m \u001b[1;33m=\u001b[0m \u001b[0mself\u001b[0m\u001b[1;33m.\u001b[0m\u001b[0m_call\u001b[0m\u001b[1;33m(\u001b[0m\u001b[1;33m*\u001b[0m\u001b[0margs\u001b[0m\u001b[1;33m,\u001b[0m \u001b[1;33m**\u001b[0m\u001b[0mkwds\u001b[0m\u001b[1;33m)\u001b[0m\u001b[1;33m\u001b[0m\u001b[1;33m\u001b[0m\u001b[0m\n\u001b[0m\u001b[0;32m    781\u001b[0m \u001b[1;33m\u001b[0m\u001b[0m\n\u001b[0;32m    782\u001b[0m       \u001b[0mnew_tracing_count\u001b[0m \u001b[1;33m=\u001b[0m \u001b[0mself\u001b[0m\u001b[1;33m.\u001b[0m\u001b[0m_get_tracing_count\u001b[0m\u001b[1;33m(\u001b[0m\u001b[1;33m)\u001b[0m\u001b[1;33m\u001b[0m\u001b[1;33m\u001b[0m\u001b[0m\n",
      "\u001b[1;32m~\\AppData\\Roaming\\Python\\Python38\\site-packages\\tensorflow\\python\\eager\\def_function.py\u001b[0m in \u001b[0;36m_call\u001b[1;34m(self, *args, **kwds)\u001b[0m\n\u001b[0;32m    805\u001b[0m       \u001b[1;31m# In this case we have created variables on the first call, so we run the\u001b[0m\u001b[1;33m\u001b[0m\u001b[1;33m\u001b[0m\u001b[1;33m\u001b[0m\u001b[0m\n\u001b[0;32m    806\u001b[0m       \u001b[1;31m# defunned version which is guaranteed to never create variables.\u001b[0m\u001b[1;33m\u001b[0m\u001b[1;33m\u001b[0m\u001b[1;33m\u001b[0m\u001b[0m\n\u001b[1;32m--> 807\u001b[1;33m       \u001b[1;32mreturn\u001b[0m \u001b[0mself\u001b[0m\u001b[1;33m.\u001b[0m\u001b[0m_stateless_fn\u001b[0m\u001b[1;33m(\u001b[0m\u001b[1;33m*\u001b[0m\u001b[0margs\u001b[0m\u001b[1;33m,\u001b[0m \u001b[1;33m**\u001b[0m\u001b[0mkwds\u001b[0m\u001b[1;33m)\u001b[0m  \u001b[1;31m# pylint: disable=not-callable\u001b[0m\u001b[1;33m\u001b[0m\u001b[1;33m\u001b[0m\u001b[0m\n\u001b[0m\u001b[0;32m    808\u001b[0m     \u001b[1;32melif\u001b[0m \u001b[0mself\u001b[0m\u001b[1;33m.\u001b[0m\u001b[0m_stateful_fn\u001b[0m \u001b[1;32mis\u001b[0m \u001b[1;32mnot\u001b[0m \u001b[1;32mNone\u001b[0m\u001b[1;33m:\u001b[0m\u001b[1;33m\u001b[0m\u001b[1;33m\u001b[0m\u001b[0m\n\u001b[0;32m    809\u001b[0m       \u001b[1;31m# Release the lock early so that multiple threads can perform the call\u001b[0m\u001b[1;33m\u001b[0m\u001b[1;33m\u001b[0m\u001b[1;33m\u001b[0m\u001b[0m\n",
      "\u001b[1;32m~\\AppData\\Roaming\\Python\\Python38\\site-packages\\tensorflow\\python\\eager\\function.py\u001b[0m in \u001b[0;36m__call__\u001b[1;34m(self, *args, **kwargs)\u001b[0m\n\u001b[0;32m   2827\u001b[0m     \u001b[1;32mwith\u001b[0m \u001b[0mself\u001b[0m\u001b[1;33m.\u001b[0m\u001b[0m_lock\u001b[0m\u001b[1;33m:\u001b[0m\u001b[1;33m\u001b[0m\u001b[1;33m\u001b[0m\u001b[0m\n\u001b[0;32m   2828\u001b[0m       \u001b[0mgraph_function\u001b[0m\u001b[1;33m,\u001b[0m \u001b[0margs\u001b[0m\u001b[1;33m,\u001b[0m \u001b[0mkwargs\u001b[0m \u001b[1;33m=\u001b[0m \u001b[0mself\u001b[0m\u001b[1;33m.\u001b[0m\u001b[0m_maybe_define_function\u001b[0m\u001b[1;33m(\u001b[0m\u001b[0margs\u001b[0m\u001b[1;33m,\u001b[0m \u001b[0mkwargs\u001b[0m\u001b[1;33m)\u001b[0m\u001b[1;33m\u001b[0m\u001b[1;33m\u001b[0m\u001b[0m\n\u001b[1;32m-> 2829\u001b[1;33m     \u001b[1;32mreturn\u001b[0m \u001b[0mgraph_function\u001b[0m\u001b[1;33m.\u001b[0m\u001b[0m_filtered_call\u001b[0m\u001b[1;33m(\u001b[0m\u001b[0margs\u001b[0m\u001b[1;33m,\u001b[0m \u001b[0mkwargs\u001b[0m\u001b[1;33m)\u001b[0m  \u001b[1;31m# pylint: disable=protected-access\u001b[0m\u001b[1;33m\u001b[0m\u001b[1;33m\u001b[0m\u001b[0m\n\u001b[0m\u001b[0;32m   2830\u001b[0m \u001b[1;33m\u001b[0m\u001b[0m\n\u001b[0;32m   2831\u001b[0m   \u001b[1;33m@\u001b[0m\u001b[0mproperty\u001b[0m\u001b[1;33m\u001b[0m\u001b[1;33m\u001b[0m\u001b[0m\n",
      "\u001b[1;32m~\\AppData\\Roaming\\Python\\Python38\\site-packages\\tensorflow\\python\\eager\\function.py\u001b[0m in \u001b[0;36m_filtered_call\u001b[1;34m(self, args, kwargs, cancellation_manager)\u001b[0m\n\u001b[0;32m   1841\u001b[0m       \u001b[0;31m`\u001b[0m\u001b[0margs\u001b[0m\u001b[0;31m`\u001b[0m \u001b[1;32mand\u001b[0m\u001b[0;31m \u001b[0m\u001b[0;31m`\u001b[0m\u001b[0mkwargs\u001b[0m\u001b[0;31m`\u001b[0m\u001b[1;33m.\u001b[0m\u001b[1;33m\u001b[0m\u001b[1;33m\u001b[0m\u001b[0m\n\u001b[0;32m   1842\u001b[0m     \"\"\"\n\u001b[1;32m-> 1843\u001b[1;33m     return self._call_flat(\n\u001b[0m\u001b[0;32m   1844\u001b[0m         [t for t in nest.flatten((args, kwargs), expand_composites=True)\n\u001b[0;32m   1845\u001b[0m          if isinstance(t, (ops.Tensor,\n",
      "\u001b[1;32m~\\AppData\\Roaming\\Python\\Python38\\site-packages\\tensorflow\\python\\eager\\function.py\u001b[0m in \u001b[0;36m_call_flat\u001b[1;34m(self, args, captured_inputs, cancellation_manager)\u001b[0m\n\u001b[0;32m   1921\u001b[0m         and executing_eagerly):\n\u001b[0;32m   1922\u001b[0m       \u001b[1;31m# No tape is watching; skip to running the function.\u001b[0m\u001b[1;33m\u001b[0m\u001b[1;33m\u001b[0m\u001b[1;33m\u001b[0m\u001b[0m\n\u001b[1;32m-> 1923\u001b[1;33m       return self._build_call_outputs(self._inference_function.call(\n\u001b[0m\u001b[0;32m   1924\u001b[0m           ctx, args, cancellation_manager=cancellation_manager))\n\u001b[0;32m   1925\u001b[0m     forward_backward = self._select_forward_and_backward_functions(\n",
      "\u001b[1;32m~\\AppData\\Roaming\\Python\\Python38\\site-packages\\tensorflow\\python\\eager\\function.py\u001b[0m in \u001b[0;36mcall\u001b[1;34m(self, ctx, args, cancellation_manager)\u001b[0m\n\u001b[0;32m    543\u001b[0m       \u001b[1;32mwith\u001b[0m \u001b[0m_InterpolateFunctionError\u001b[0m\u001b[1;33m(\u001b[0m\u001b[0mself\u001b[0m\u001b[1;33m)\u001b[0m\u001b[1;33m:\u001b[0m\u001b[1;33m\u001b[0m\u001b[1;33m\u001b[0m\u001b[0m\n\u001b[0;32m    544\u001b[0m         \u001b[1;32mif\u001b[0m \u001b[0mcancellation_manager\u001b[0m \u001b[1;32mis\u001b[0m \u001b[1;32mNone\u001b[0m\u001b[1;33m:\u001b[0m\u001b[1;33m\u001b[0m\u001b[1;33m\u001b[0m\u001b[0m\n\u001b[1;32m--> 545\u001b[1;33m           outputs = execute.execute(\n\u001b[0m\u001b[0;32m    546\u001b[0m               \u001b[0mstr\u001b[0m\u001b[1;33m(\u001b[0m\u001b[0mself\u001b[0m\u001b[1;33m.\u001b[0m\u001b[0msignature\u001b[0m\u001b[1;33m.\u001b[0m\u001b[0mname\u001b[0m\u001b[1;33m)\u001b[0m\u001b[1;33m,\u001b[0m\u001b[1;33m\u001b[0m\u001b[1;33m\u001b[0m\u001b[0m\n\u001b[0;32m    547\u001b[0m               \u001b[0mnum_outputs\u001b[0m\u001b[1;33m=\u001b[0m\u001b[0mself\u001b[0m\u001b[1;33m.\u001b[0m\u001b[0m_num_outputs\u001b[0m\u001b[1;33m,\u001b[0m\u001b[1;33m\u001b[0m\u001b[1;33m\u001b[0m\u001b[0m\n",
      "\u001b[1;32m~\\AppData\\Roaming\\Python\\Python38\\site-packages\\tensorflow\\python\\eager\\execute.py\u001b[0m in \u001b[0;36mquick_execute\u001b[1;34m(op_name, num_outputs, inputs, attrs, ctx, name)\u001b[0m\n\u001b[0;32m     57\u001b[0m   \u001b[1;32mtry\u001b[0m\u001b[1;33m:\u001b[0m\u001b[1;33m\u001b[0m\u001b[1;33m\u001b[0m\u001b[0m\n\u001b[0;32m     58\u001b[0m     \u001b[0mctx\u001b[0m\u001b[1;33m.\u001b[0m\u001b[0mensure_initialized\u001b[0m\u001b[1;33m(\u001b[0m\u001b[1;33m)\u001b[0m\u001b[1;33m\u001b[0m\u001b[1;33m\u001b[0m\u001b[0m\n\u001b[1;32m---> 59\u001b[1;33m     tensors = pywrap_tfe.TFE_Py_Execute(ctx._handle, device_name, op_name,\n\u001b[0m\u001b[0;32m     60\u001b[0m                                         inputs, attrs, num_outputs)\n\u001b[0;32m     61\u001b[0m   \u001b[1;32mexcept\u001b[0m \u001b[0mcore\u001b[0m\u001b[1;33m.\u001b[0m\u001b[0m_NotOkStatusException\u001b[0m \u001b[1;32mas\u001b[0m \u001b[0me\u001b[0m\u001b[1;33m:\u001b[0m\u001b[1;33m\u001b[0m\u001b[1;33m\u001b[0m\u001b[0m\n",
      "\u001b[1;31mKeyboardInterrupt\u001b[0m: "
     ]
    }
   ],
   "source": [
    "history = model.fit(x_train, y_train, epochs = 50, verbose = 1, validation_data=(x_test, y_test))"
   ]
  },
  {
   "cell_type": "code",
   "execution_count": null,
   "metadata": {},
   "outputs": [],
   "source": [
    "plt.figure(figsize=(7, 5))\n",
    "plt.plot(history.epoch, history.history['loss'], lw=3, label='Training set')\n",
    "plt.plot(history.epoch, history.history['val_loss'], lw=3, label='Test set')\n",
    "plt.legend(fontsize=14)\n",
    "plt.title('Loss of the FFNN', fontsize=16)\n",
    "plt.xlabel('Epoch', fontsize=14)\n",
    "plt.ylabel('MAE', fontsize=14)\n",
    "plt.tight_layout()"
   ]
  },
  {
   "cell_type": "code",
   "execution_count": null,
   "metadata": {},
   "outputs": [],
   "source": [
    "pred_train = model.predict(x_train)\n",
    "print(np.sqrt(mean_squared_error(y_train,pred_train)))\n",
    "\n",
    "pred = model.predict(x_test)\n",
    "print(np.sqrt(mean_squared_error(y_test,pred))) "
   ]
  },
  {
   "cell_type": "code",
   "execution_count": null,
   "metadata": {},
   "outputs": [],
   "source": []
  }
 ],
 "metadata": {
  "colab": {
   "collapsed_sections": [
    "y_GqyToXGW3N",
    "Q68Otl4TGgJa",
    "OII_xvspKbF7"
   ],
   "name": "Partie3.ipynb",
   "provenance": []
  },
  "kernelspec": {
   "display_name": "Python 3",
   "language": "python",
   "name": "python3"
  },
  "language_info": {
   "codemirror_mode": {
    "name": "ipython",
    "version": 3
   },
   "file_extension": ".py",
   "mimetype": "text/x-python",
   "name": "python",
   "nbconvert_exporter": "python",
   "pygments_lexer": "ipython3",
   "version": "3.8.5"
  }
 },
 "nbformat": 4,
 "nbformat_minor": 1
}
