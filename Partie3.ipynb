{
  "nbformat": 4,
  "nbformat_minor": 0,
  "metadata": {
    "colab": {
      "name": "Partie3.ipynb",
      "provenance": [],
      "collapsed_sections": [
        "0OIRA-mRYjpO",
        "Q68Otl4TGgJa"
      ]
    },
    "kernelspec": {
      "display_name": "Python 3",
      "language": "python",
      "name": "python3"
    },
    "language_info": {
      "codemirror_mode": {
        "name": "ipython",
        "version": 3
      },
      "file_extension": ".py",
      "mimetype": "text/x-python",
      "name": "python",
      "nbconvert_exporter": "python",
      "pygments_lexer": "ipython3",
      "version": "3.8.5"
    }
  },
  "cells": [
    {
      "cell_type": "markdown",
      "metadata": {
        "id": "3QfapiE3E-XR"
      },
      "source": [
        "# **Partie 3 : Modélisation**\n",
        "\n",
        "La troisième partie de notre projet consiste en une introduction au Machine Learning. Pour cela, nous avons réalisé des prédictions de l'occurence d'un feu de forêt et de la surface brûlée grâce à l'apprentissage supervisé. \n",
        "\n",
        "Nous avons pour cela identifié certaines méthodes d'apprentissage, que nous avons testé avec notre base de données. Néanmoins, les performances de notre premier essai fût très peu performant. Nous avons donc ensuite tâché d'améliorer ces performances, en exploitant davantage nos données par la création de nouvelles variables. \n"
      ]
    },
    {
      "cell_type": "markdown",
      "metadata": {
        "id": "0OIRA-mRYjpO"
      },
      "source": [
        "# **A. Premier essai : utilisation des données météorologiques seules**"
      ]
    },
    {
      "cell_type": "markdown",
      "metadata": {
        "id": "ff-VzU5gGJqM"
      },
      "source": [
        "## **A.1. Prédiction du déclenchement d'un feu de forêt** "
      ]
    },
    {
      "cell_type": "markdown",
      "metadata": {
        "id": "MMEZbJLKFuD2"
      },
      "source": [
        "\n",
        "L'objectif de cette partie est de prédire les zones dans lesquelles un feu de forêt est propice de se déclencher dans les minutes à venir. On s'aide pour cela des relevés météorologiques pris en temps réel. \n",
        "\n",
        "\n",
        "\n",
        "Le problème auquel nous sommes confrontés est celui d'une classification en deux catégories (va-t-il y avoir un départ de feu ou non ?). Nous disposons des données des relevés météorologiques et feux passés pour entraîner notre algorithme. \n",
        "\n",
        "\n",
        "Nous avons alors sélectionné deux modèles adaptés : \n",
        "\n",
        "\n",
        "1.   Decision Tree Classifier\n",
        "2.   Random Forest Regression"
      ]
    },
    {
      "cell_type": "code",
      "metadata": {
        "id": "wE5s2IQmF_uy"
      },
      "source": [
        "import pandas as pd\n",
        "import numpy as np\n",
        "import matplotlib.pyplot as plt\n",
        "from sklearn.model_selection import train_test_split\n",
        "from sklearn.metrics import confusion_matrix, accuracy_score, classification_report, roc_auc_score"
      ],
      "execution_count": 28,
      "outputs": []
    },
    {
      "cell_type": "markdown",
      "metadata": {
        "id": "s6v97fGgGDMR"
      },
      "source": [
        "On utilise la base de données obtenue dans la partie 1, dont on ne va garder plus que les variables météorologiques et la variable binaire *Départ de feu*."
      ]
    },
    {
      "cell_type": "code",
      "metadata": {
        "colab": {
          "base_uri": "https://localhost:8080/",
          "height": 204
        },
        "id": "kgfGj9wBGHuo",
        "outputId": "cb591e59-acce-4efa-cdb4-d4e594cfdb68"
      },
      "source": [
        "df = pd.read_csv('data.zip', low_memory = False)\n",
        "df = df.iloc[:, [0,21,22,23,24]]\n",
        "df = df.dropna()\n",
        "df.head()"
      ],
      "execution_count": null,
      "outputs": [
        {
          "output_type": "execute_result",
          "data": {
            "text/html": [
              "<div>\n",
              "<style scoped>\n",
              "    .dataframe tbody tr th:only-of-type {\n",
              "        vertical-align: middle;\n",
              "    }\n",
              "\n",
              "    .dataframe tbody tr th {\n",
              "        vertical-align: top;\n",
              "    }\n",
              "\n",
              "    .dataframe thead th {\n",
              "        text-align: right;\n",
              "    }\n",
              "</style>\n",
              "<table border=\"1\" class=\"dataframe\">\n",
              "  <thead>\n",
              "    <tr style=\"text-align: right;\">\n",
              "      <th></th>\n",
              "      <th>Départ de feu</th>\n",
              "      <th>Température (°C)</th>\n",
              "      <th>Précipitations (3 heures)</th>\n",
              "      <th>Humidité (%)</th>\n",
              "      <th>Vitesse du vent (m/s)</th>\n",
              "    </tr>\n",
              "  </thead>\n",
              "  <tbody>\n",
              "    <tr>\n",
              "      <th>0</th>\n",
              "      <td>0</td>\n",
              "      <td>4.0</td>\n",
              "      <td>2.0</td>\n",
              "      <td>92.0</td>\n",
              "      <td>5.1</td>\n",
              "    </tr>\n",
              "    <tr>\n",
              "      <th>1</th>\n",
              "      <td>0</td>\n",
              "      <td>3.7</td>\n",
              "      <td>0.0</td>\n",
              "      <td>91.0</td>\n",
              "      <td>4.1</td>\n",
              "    </tr>\n",
              "    <tr>\n",
              "      <th>2</th>\n",
              "      <td>0</td>\n",
              "      <td>3.1</td>\n",
              "      <td>3.0</td>\n",
              "      <td>92.0</td>\n",
              "      <td>5.1</td>\n",
              "    </tr>\n",
              "    <tr>\n",
              "      <th>3</th>\n",
              "      <td>0</td>\n",
              "      <td>4.7</td>\n",
              "      <td>0.6</td>\n",
              "      <td>96.0</td>\n",
              "      <td>3.1</td>\n",
              "    </tr>\n",
              "    <tr>\n",
              "      <th>4</th>\n",
              "      <td>0</td>\n",
              "      <td>6.1</td>\n",
              "      <td>2.0</td>\n",
              "      <td>94.0</td>\n",
              "      <td>5.1</td>\n",
              "    </tr>\n",
              "  </tbody>\n",
              "</table>\n",
              "</div>"
            ],
            "text/plain": [
              "   Départ de feu  Température (°C)  Précipitations (3 heures)  Humidité (%)  \\\n",
              "0              0               4.0                        2.0          92.0   \n",
              "1              0               3.7                        0.0          91.0   \n",
              "2              0               3.1                        3.0          92.0   \n",
              "3              0               4.7                        0.6          96.0   \n",
              "4              0               6.1                        2.0          94.0   \n",
              "\n",
              "   Vitesse du vent (m/s)  \n",
              "0                    5.1  \n",
              "1                    4.1  \n",
              "2                    5.1  \n",
              "3                    3.1  \n",
              "4                    5.1  "
            ]
          },
          "metadata": {
            "tags": []
          },
          "execution_count": 3
        }
      ]
    },
    {
      "cell_type": "markdown",
      "metadata": {
        "id": "y_GqyToXGW3N"
      },
      "source": [
        "### **Préparation des bases d'apprentissage et de test**\n",
        "\n",
        "On sépare de façon aléatoire la base de données obtenue dans la partie 1 en deux bases : 80% servira à l'entraînement de l'algorithme (base train) et 20% à observer sa précision (base test). "
      ]
    },
    {
      "cell_type": "code",
      "metadata": {
        "id": "QKPqgfsUGdZH"
      },
      "source": [
        "train, test = train_test_split(df, test_size=0.2, random_state=1, stratify = df['Départ de feu'])"
      ],
      "execution_count": null,
      "outputs": []
    },
    {
      "cell_type": "markdown",
      "metadata": {
        "id": "UyxKQ6MDGjmt"
      },
      "source": [
        " On vérifie que les proportions des classes sont bien respectées."
      ]
    },
    {
      "cell_type": "code",
      "metadata": {
        "colab": {
          "base_uri": "https://localhost:8080/"
        },
        "id": "HM0oePbfGpeV",
        "outputId": "ef21ac22-6741-4632-9bb0-4ec37c9253bd"
      },
      "source": [
        "print(\"La proportion de départ de feux dans la base d'entraînement est de \" + str(round(train[\"Départ de feu\"].mean() * 10**(4))/10**2) + '%')\n",
        "print(\"Elle est également de \" + str(round(test[\"Départ de feu\"].mean() * 10**(4))/10**2) + '% dans la base de test')"
      ],
      "execution_count": null,
      "outputs": [
        {
          "output_type": "stream",
          "text": [
            "La proportion de départ de feux dans la base d'entraînement est de 1.61%\n",
            "Elle est également de 1.61% dans la base de test\n"
          ],
          "name": "stdout"
        }
      ]
    },
    {
      "cell_type": "markdown",
      "metadata": {
        "id": "J6qW9ZOcG3Wr"
      },
      "source": [
        "Ensuite, on spécifie pour chaque base la matrice X des variables prédictives (les données météorologiques) et le vecteur Y de la variable cible (*Départ de feu*).\n",
        "\n",
        "Le vecteur Y défini 2 classes : \n",
        "\n",
        "\n",
        "*   Une observation est de classe 0 s'il n'y a pas de départ de feux, i.e. \"Départ de feu\" == 0.\n",
        "*   Une observation est de classe 1 s'il y a départ de feu, i.e. \"Départ de feu\" == 1.\n",
        "\n",
        "On appelle Vrai Négatif $-$ VN $-$ (resp. Vrai Positif $-$ VP $-$) une observation de classe 0 (resp. de classe 1) qui est reconnue par le modèle comme étant de classe 0 (resp. de classe 1). \n",
        "\n",
        "Un Faux Négatif $-$ FN $-$ (resp. Faux Positif $-$ FP $-$) est une observation prédite de classe 0 alors qu'elle est de classe 1 (resp. prédite de classe 1 alors qu'elle est de classe 0).\n"
      ]
    },
    {
      "cell_type": "code",
      "metadata": {
        "id": "x1nlTCiRG-9d"
      },
      "source": [
        "X_train = train.drop(['Départ de feu'], axis = 1).to_numpy()\n",
        "Y_train = train[['Départ de feu']].to_numpy()\n",
        "\n",
        "X_test = test.drop(['Départ de feu'], axis = 1).to_numpy()\n",
        "Y_test = test[['Départ de feu']].to_numpy()\n",
        "\n",
        "Y_train = Y_train.reshape(Y_train.shape[0])\n",
        "Y_test = Y_test.reshape(Y_test.shape[0])"
      ],
      "execution_count": null,
      "outputs": []
    },
    {
      "cell_type": "markdown",
      "metadata": {
        "id": "ZNarmvBlHBH5"
      },
      "source": [
        "### **Modèle 1 : l'arbre de décision**"
      ]
    },
    {
      "cell_type": "markdown",
      "metadata": {
        "id": "5y3YkuBxHDyE"
      },
      "source": [
        "**Entraînement**\n",
        "\n",
        "On entraîne le modèle sur la base d'entraînement."
      ]
    },
    {
      "cell_type": "code",
      "metadata": {
        "id": "zS_dQYBqHJo4"
      },
      "source": [
        "#instanciation de l'arbre\n",
        "from sklearn.tree import DecisionTreeClassifier\n",
        "tree = DecisionTreeClassifier()\n",
        "\n",
        "#construction de l'arbre\n",
        "tree = tree.fit(X_train, Y_train)"
      ],
      "execution_count": null,
      "outputs": []
    },
    {
      "cell_type": "markdown",
      "metadata": {
        "id": "wdvzsdYLHMtB"
      },
      "source": [
        "**Evaluation**\n",
        "\n",
        "On évalue les performances prédictives de l'arbre en le testant sur la base de test, puis en comparant les prédictions avec la réalité. \n",
        "\n",
        "*   Distribution de la prédiction"
      ]
    },
    {
      "cell_type": "code",
      "metadata": {
        "colab": {
          "base_uri": "https://localhost:8080/"
        },
        "id": "YVwSMWtEHQJ0",
        "outputId": "b22f1e06-ed8d-42b8-aa5e-9f780de6fb9b"
      },
      "source": [
        "tree_predict_test = tree.predict(X_test)\n",
        "\n",
        "#distribution \n",
        "tree_predict = np.unique(tree_predict_test,return_counts=True)\n",
        "print(tree_predict)\n",
        "print('La classe ' + str(tree_predict[0][0]) + ' a été assignée ' + str(tree_predict[1][0]) + ' fois.')"
      ],
      "execution_count": null,
      "outputs": [
        {
          "output_type": "stream",
          "text": [
            "(array([0, 1], dtype=int64), array([401164,   5135], dtype=int64))\n",
            "La classe 0 a été assignée 401164 fois.\n"
          ],
          "name": "stdout"
        }
      ]
    },
    {
      "cell_type": "code",
      "metadata": {
        "colab": {
          "base_uri": "https://localhost:8080/"
        },
        "id": "DuMD4ZmtHVPi",
        "outputId": "e482fd6f-83d6-4739-8a08-f2a1faf9dde5"
      },
      "source": [
        "print(\"Notre modèle prédit ainsi qu'il y a parmi la base de test \" + str(tree_predict[1][0]) + \" observations \\\n",
        "ne correspondant pas à un feu de forêt (classe \" + str(tree_predict[0][0]) + \").\")\n",
        "print(\"Il prédit que \" + str(tree_predict[1][1]) + \" observations \\\n",
        "correspondent à un feu de forêt (classe \" + str(tree_predict[0][1]) + \").\")"
      ],
      "execution_count": null,
      "outputs": [
        {
          "output_type": "stream",
          "text": [
            "Notre modèle prédit ainsi qu'il y a parmi la base de test 401164 observations ne correspondant pas à un feu de forêt (classe 0).\n",
            "Il prédit que 5135 observations correspondent à un feu de forêt (classe 1).\n"
          ],
          "name": "stdout"
        }
      ]
    },
    {
      "cell_type": "markdown",
      "metadata": {
        "id": "VoK63seHHZML"
      },
      "source": [
        "*   Calcul de la matrice de confusion\n",
        "\n",
        "\n",
        "Dans notre cas, la i-ème ligne est la ligne des \"Départ de feu\" = i et la i-ème colonne est la \"Prédiction de Départ de feu\" = i"
      ]
    },
    {
      "cell_type": "code",
      "metadata": {
        "colab": {
          "base_uri": "https://localhost:8080/"
        },
        "id": "YITZH-azHfVs",
        "outputId": "ed133aea-360d-4940-f765-546d47a9e264"
      },
      "source": [
        "#calcul de la matrice de confusion \n",
        "print('Matrice de confusion')\n",
        "confu_tree = confusion_matrix(Y_test,tree_predict_test)\n",
        "print(confu_tree)  "
      ],
      "execution_count": null,
      "outputs": [
        {
          "output_type": "stream",
          "text": [
            "Matrice de confusion\n",
            "[[395951   3787]\n",
            " [  5213   1348]]\n"
          ],
          "name": "stdout"
        }
      ]
    },
    {
      "cell_type": "markdown",
      "metadata": {
        "id": "dUqNby_nHjE_"
      },
      "source": [
        "Les lignes et les colonnes sont données par ordre croissant. La ligne donne la classe observée (c'est-à-dire la réalité), la colonne la classe prédite (par le modèle). Par exemple : \n"
      ]
    },
    {
      "cell_type": "code",
      "metadata": {
        "colab": {
          "base_uri": "https://localhost:8080/"
        },
        "id": "QVPz3sTkHliL",
        "outputId": "c9dfdcf3-b164-480c-dcc0-ec45ed5ed7b6"
      },
      "source": [
        "print(str(confu_tree[0][0]) + \" observations sans feu ont été prédites à raison comme ne correspondant pas à un feu de forêt.\")\n",
        "print(str(confu_tree[1][0]) + \" observations avec feu ont été prédites à tort comme ne correspondant pas à un feu de forêt.\")"
      ],
      "execution_count": null,
      "outputs": [
        {
          "output_type": "stream",
          "text": [
            "395951 observations sans feu ont été prédites à raison comme ne correspondant pas à un feu de forêt.\n",
            "5213 observations avec feu ont été prédites à tort comme ne correspondant pas à un feu de forêt.\n"
          ],
          "name": "stdout"
        }
      ]
    },
    {
      "cell_type": "markdown",
      "metadata": {
        "id": "UWtrS0kPHoak"
      },
      "source": [
        "La matrice de confusion nous permet déjà d'observer qu'une très grande proportion des observations correspondant à un feu de forêt ne sont pas reconnues comme telle par le modèle. "
      ]
    },
    {
      "cell_type": "markdown",
      "metadata": {
        "id": "GPLgWZmRHrZJ"
      },
      "source": [
        "*   Indicateurs de précision"
      ]
    },
    {
      "cell_type": "code",
      "metadata": {
        "colab": {
          "base_uri": "https://localhost:8080/"
        },
        "id": "Ad2uj0uuHtde",
        "outputId": "9ac0d9a3-877e-4dba-d191-50219d58f801"
      },
      "source": [
        "#taux de reconnaissance\n",
        "print('le taux de reconnaissance est :', accuracy_score(Y_test,tree_predict_test))\n",
        "\n",
        "#taux d'erreur \n",
        "print(\"le taux d'erreur est :\", 1.0 - accuracy_score(Y_test,tree_predict_test))"
      ],
      "execution_count": null,
      "outputs": [
        {
          "output_type": "stream",
          "text": [
            "le taux de reconnaissance est : 0.9778488256185716\n",
            "le taux d'erreur est : 0.02215117438142844\n"
          ],
          "name": "stdout"
        }
      ]
    },
    {
      "cell_type": "markdown",
      "metadata": {
        "id": "eVtW3nY0Hz8K"
      },
      "source": [
        "Où le taux de reconnaissance est défini par : \n",
        "\n",
        "$ ( VP + VN ) / Nombre total d'observations $ \n",
        "\n",
        "Le taux de reconnaissance de notre modèle est très bon. Néanmoins, il nous faut encore regarder la répartition de faux-négatifs (déclarés de classe 0 à tort) et de faux-positifs (déclarés de classe 1 à tort). On utilise pour cela le rapport de classification."
      ]
    },
    {
      "cell_type": "code",
      "metadata": {
        "colab": {
          "base_uri": "https://localhost:8080/"
        },
        "id": "uKK1pw1WH2RQ",
        "outputId": "c896bbf5-88d2-42ac-b2a0-7ea4cccc372d"
      },
      "source": [
        "print('Rapport de prédiction sur la base de test :')\n",
        "print(classification_report(Y_test, tree_predict_test))"
      ],
      "execution_count": null,
      "outputs": [
        {
          "output_type": "stream",
          "text": [
            "Rapport de prédiction sur la base de test :\n",
            "              precision    recall  f1-score   support\n",
            "\n",
            "           0       0.99      0.99      0.99    399738\n",
            "           1       0.26      0.21      0.23      6561\n",
            "\n",
            "    accuracy                           0.98    406299\n",
            "   macro avg       0.62      0.60      0.61    406299\n",
            "weighted avg       0.98      0.98      0.98    406299\n",
            "\n"
          ],
          "name": "stdout"
        }
      ]
    },
    {
      "cell_type": "markdown",
      "metadata": {
        "id": "zrEnr5G9H9SH"
      },
      "source": [
        "**Comment lire le rapport de prédiction ?**\n",
        "\n",
        "*   *Precision : quelle proportion des prédictions est correcte ?*\n",
        "\n",
        "Pour chaque classe, la colonne *precision* indique la proportion d'observations prédites à raison dans cette classe. \n",
        "\n",
        "\n",
        "Alors, \n",
        "\n",
        "$precision_0 = VN / ( VN + FN) $\n",
        "\n",
        "$precision_1 = VP / ( VP + FP ) $ \n",
        "\n",
        "\n",
        "\n",
        "*   *Recall : quelle proportion des cas est detectée ?*\n",
        "\n",
        "Pour chaque classe, la colonne *Recall* indique la proportion d'observations de cette classe qui ont été correctement prédites. \n",
        "\n",
        "$recall_0 = VN / ( VN + FP ) $\n",
        "\n",
        "$recall_1 = VP / ( VP + FN ) $ \n",
        "\n",
        "\n",
        "\n",
        "\n",
        "\n",
        "*   *F1-score* \n",
        "\n",
        "Le *f1 score* est la moyenne harmonique de *precision* et *recall*. \n",
        "\n",
        "$f1score_i = 2 * (recall_i * precision_i) / (recall_i + precision_i)$ \n",
        "\n"
      ]
    },
    {
      "cell_type": "markdown",
      "metadata": {
        "id": "1MiHQXrQ_bSz"
      },
      "source": [
        "*   Aire sous la courbe ROC"
      ]
    },
    {
      "cell_type": "code",
      "metadata": {
        "colab": {
          "base_uri": "https://localhost:8080/"
        },
        "id": "GWN-iCBYzbQ2",
        "outputId": "28d980ed-b77c-4b07-a26e-3821bad97918"
      },
      "source": [
        "roc_auc_score(Y_test,tree_predict_test)"
      ],
      "execution_count": null,
      "outputs": [
        {
          "output_type": "execute_result",
          "data": {
            "text/plain": [
              "0.5979913900074599"
            ]
          },
          "metadata": {
            "tags": []
          },
          "execution_count": 14
        }
      ]
    },
    {
      "cell_type": "markdown",
      "metadata": {
        "id": "LOV64r7LICjl"
      },
      "source": [
        "**Interprétation**\n",
        "\n",
        "Le modèle semblait être satisfaisant car il avait un faible taux d'erreur. Le score AUC est satisfaisant (1 correspond à une distinction parfaite entre les deux classes, 0 à une prévision aléatoire). \n",
        "Néanmoins, il prédit très mal les observations de classe 1 : à peine un cinquième d'entre elles sont reconnues par l'arbre de décision. La faible proportion d'observations de classe 1 dans la base de données (1,6%) explique que le modèle conserve une très grande précision malgré ce défaut majeur."
      ]
    },
    {
      "cell_type": "markdown",
      "metadata": {
        "id": "-ilQktMLKF7A"
      },
      "source": [
        "On peut tenter de corriger ce défaut en surpondérant la classe sous-représentée grâce à l'argument \"class_weight\"."
      ]
    },
    {
      "cell_type": "code",
      "metadata": {
        "colab": {
          "base_uri": "https://localhost:8080/"
        },
        "id": "O7mQDqF5gU0o",
        "outputId": "44086f1e-883f-48e2-b43c-9ac93b81f0d4"
      },
      "source": [
        "#instanciation de l'arbre\n",
        "from sklearn.tree import DecisionTreeClassifier\n",
        "tree = DecisionTreeClassifier(class_weight = 'balanced')\n",
        "\n",
        "#construction de l'arbre\n",
        "tree = tree.fit(X_train, Y_train)\n",
        "tree_predict_test = tree.predict(X_test)\n",
        "print('Rapport de prédiction sur la base de test :')\n",
        "print(classification_report(Y_test, tree_predict_test))"
      ],
      "execution_count": null,
      "outputs": [
        {
          "output_type": "stream",
          "text": [
            "Rapport de prédiction sur la base de test :\n",
            "              precision    recall  f1-score   support\n",
            "\n",
            "           0       0.99      0.97      0.98    399738\n",
            "           1       0.14      0.34      0.20      6561\n",
            "\n",
            "    accuracy                           0.96    406299\n",
            "   macro avg       0.57      0.65      0.59    406299\n",
            "weighted avg       0.98      0.96      0.97    406299\n",
            "\n"
          ],
          "name": "stdout"
        }
      ]
    },
    {
      "cell_type": "code",
      "metadata": {
        "id": "-5ST15Fdvdj0",
        "outputId": "f1a9de79-bde1-4f66-f51d-6d8183d34fed"
      },
      "source": [
        "#calcul de la matrice de confusion \n",
        "print('Matrice de confusion')\n",
        "confu_tree = confusion_matrix(Y_test, tree_predict_test)\n",
        "print(confu_tree)  "
      ],
      "execution_count": null,
      "outputs": [
        {
          "output_type": "stream",
          "text": [
            "Matrice de confusion\n",
            "[[386530  13208]\n",
            " [  4343   2218]]\n"
          ],
          "name": "stdout"
        }
      ]
    },
    {
      "cell_type": "code",
      "metadata": {
        "colab": {
          "base_uri": "https://localhost:8080/"
        },
        "id": "5dlv2yQXzyg5",
        "outputId": "290705bb-a106-4a8e-9c03-d0ba9988e9d6"
      },
      "source": [
        "roc_auc_score(Y_test,tree_predict_test)"
      ],
      "execution_count": null,
      "outputs": [
        {
          "output_type": "execute_result",
          "data": {
            "text/plain": [
              "0.6525082902780973"
            ]
          },
          "metadata": {
            "tags": []
          },
          "execution_count": 17
        }
      ]
    },
    {
      "cell_type": "markdown",
      "metadata": {
        "id": "LQ_6Zxn1zyhQ"
      },
      "source": [
        "Les résultats sont légèrement meilleurs (l'AUC est notamment un peu plus élevé) en choisissant des pondérations \"extrêmes\" (autant d'observations avec feu que sans feu). Le recall est passé de 0.2 à 0.34 mais la précision est passée de 0.26 à 0.14 et les 2 f1 score ont diminué donc c'est moins bien.\n",
        "Ces résultats restent trop faibles, le modèle de l'arbre de décision n'est donc pas satisfaisant. "
      ]
    },
    {
      "cell_type": "markdown",
      "metadata": {
        "id": "nkOtWrLeIF-g"
      },
      "source": [
        "### **Modèle 2 : Random Forest**\n",
        "\n",
        "Ce modèle combine de nombreux arbres de décision, ce qui devrait le rendre plus performant que le premier modèle. \n",
        "\n",
        "On n'utilise plDésormais on utilise class_weight = 'balanced' comme ci-dessus.\n",
        "\n",
        "**Entraînement**"
      ]
    },
    {
      "cell_type": "code",
      "metadata": {
        "id": "S0aTJpGDIJiJ"
      },
      "source": [
        "from sklearn.ensemble import RandomForestClassifier\n",
        "\n",
        "rfc = RandomForestClassifier()\n",
        "rfc = rfc.fit(X_train, Y_train)\n",
        "\n",
        "#Attention : cette cellule met cinq bonnes minutes à tourner "
      ],
      "execution_count": null,
      "outputs": []
    },
    {
      "cell_type": "markdown",
      "metadata": {
        "id": "QpAEaDyMIMHE"
      },
      "source": [
        "**Evaluation**"
      ]
    },
    {
      "cell_type": "code",
      "metadata": {
        "id": "kyXbH15YIPsy"
      },
      "source": [
        "rfc_predict_test = rfc.predict(X_test)"
      ],
      "execution_count": null,
      "outputs": []
    },
    {
      "cell_type": "code",
      "metadata": {
        "colab": {
          "base_uri": "https://localhost:8080/"
        },
        "id": "PTa0p4FrIRtM",
        "outputId": "e91b4dac-25fe-450e-e858-bd8a69feb47e"
      },
      "source": [
        "#calcul de la matrice de confusion \n",
        "print('Matrice de confusion')\n",
        "confu_rfc = confusion_matrix(Y_test,rfc_predict_test)\n",
        "print(confu_rfc)   \n",
        "\n",
        "#taux de reconnaissance\n",
        "print('le taux de reconnaissance est :', accuracy_score(Y_test,rfc_predict_test))\n",
        "\n",
        "#taux d'erreur \n",
        "print(\"le taux d'erreur est :\", 1.0 - accuracy_score(Y_test,rfc_predict_test))"
      ],
      "execution_count": null,
      "outputs": [
        {
          "output_type": "stream",
          "text": [
            "Matrice de confusion\n",
            "[[398037   1701]\n",
            " [  5333   1228]]\n",
            "le taux de reconnaissance est : 0.9826876266001147\n",
            "le taux d'erreur est : 0.01731237339988534\n"
          ],
          "name": "stdout"
        }
      ]
    },
    {
      "cell_type": "code",
      "metadata": {
        "colab": {
          "base_uri": "https://localhost:8080/"
        },
        "id": "-O96R2nmIUF_",
        "outputId": "0897b27a-f672-4c23-fe47-512aefa705dc"
      },
      "source": [
        "print('Rapport de prédiction sur la base de test :')\n",
        "print(classification_report(Y_test, rfc_predict_test))"
      ],
      "execution_count": null,
      "outputs": [
        {
          "output_type": "stream",
          "text": [
            "Rapport de prédiction sur la base de test :\n",
            "              precision    recall  f1-score   support\n",
            "\n",
            "           0       0.99      1.00      0.99    399738\n",
            "           1       0.42      0.19      0.26      6561\n",
            "\n",
            "    accuracy                           0.98    406299\n",
            "   macro avg       0.70      0.59      0.63    406299\n",
            "weighted avg       0.98      0.98      0.98    406299\n",
            "\n"
          ],
          "name": "stdout"
        }
      ]
    },
    {
      "cell_type": "code",
      "metadata": {
        "colab": {
          "base_uri": "https://localhost:8080/"
        },
        "id": "ULsbJPKQz6Kx",
        "outputId": "eb128c53-19d8-472e-da84-e709df780f67"
      },
      "source": [
        "roc_auc_score(Y_test, rfc_predict_test)"
      ],
      "execution_count": null,
      "outputs": [
        {
          "output_type": "execute_result",
          "data": {
            "text/plain": [
              "0.5914556516228235"
            ]
          },
          "metadata": {
            "tags": []
          },
          "execution_count": 40
        }
      ]
    },
    {
      "cell_type": "markdown",
      "metadata": {
        "id": "NDLA5ydmIYqC"
      },
      "source": [
        "Le même problème qu'au modèle 1 apparaît : la plupart des observations correspondant à un feu de forêt ne sont pas reconnues par le modèle (le recall est même légèrement pire pour la random forest). Du fait de l'écrasante majorité d'observations ne correspond pas à un feu de forêt, le modèle semble très précis, mais il est dans les faits très peu performant. "
      ]
    },
    {
      "cell_type": "markdown",
      "metadata": {
        "id": "db1c_GDRdzR_"
      },
      "source": [
        "### **Des soupçons d'overfitting...**\n",
        "\n",
        "Le surapprentissage (ou overfitting) est souvent une des premières causes des mauvaises performances de modèles prédictifs. Cela se caractèrise par le fait que le modèle prédictif s'adapte trop bien à la base d'apprentissage, et se géneralise mal à des données inconnues. \n",
        "\n",
        "Afin de confirmer ou d'infirmer nos soupçons, nous allons observer les performances du modèles sur la base d'apprentissage. \n",
        "\n",
        "**Decision tree**"
      ]
    },
    {
      "cell_type": "code",
      "metadata": {
        "colab": {
          "base_uri": "https://localhost:8080/"
        },
        "id": "v5AO9G6Uf8s2",
        "outputId": "a857db1d-5c08-411f-ae5f-c8b5a7fe60bf"
      },
      "source": [
        "tree_predict_train = tree.predict(X_train)\n",
        "print('Rapport de prédiction sur la base de train :')\n",
        "print(classification_report(Y_train, tree_predict_train))"
      ],
      "execution_count": null,
      "outputs": [
        {
          "output_type": "stream",
          "text": [
            "Rapport de prédiction sur la base de train :\n",
            "              precision    recall  f1-score   support\n",
            "\n",
            "           0       1.00      0.98      0.99   1598946\n",
            "           1       0.40      1.00      0.58     26246\n",
            "\n",
            "    accuracy                           0.98   1625192\n",
            "   macro avg       0.70      0.99      0.78   1625192\n",
            "weighted avg       0.99      0.98      0.98   1625192\n",
            "\n"
          ],
          "name": "stdout"
        }
      ]
    },
    {
      "cell_type": "markdown",
      "metadata": {
        "id": "AmiqzRDUgroc"
      },
      "source": [
        "**Random forest**"
      ]
    },
    {
      "cell_type": "code",
      "metadata": {
        "colab": {
          "base_uri": "https://localhost:8080/"
        },
        "id": "kLmpvyUuio6W",
        "outputId": "7a440a8a-4b54-4960-8f36-2c8aaeaa52b5"
      },
      "source": [
        "rfc_predict_train = rfc.predict(X_train)\n",
        "print('Rapport de prédiction sur la base de train:')\n",
        "print(classification_report(Y_train, rfc_predict_train))"
      ],
      "execution_count": null,
      "outputs": [
        {
          "output_type": "stream",
          "text": [
            "Rapport de prédiction sur la base de train:\n",
            "              precision    recall  f1-score   support\n",
            "\n",
            "           0       1.00      0.98      0.99   1598946\n",
            "           1       0.41      0.99      0.58     26246\n",
            "\n",
            "    accuracy                           0.98   1625192\n",
            "   macro avg       0.71      0.98      0.79   1625192\n",
            "weighted avg       0.99      0.98      0.98   1625192\n",
            "\n"
          ],
          "name": "stdout"
        }
      ]
    },
    {
      "cell_type": "markdown",
      "metadata": {
        "id": "kTbMMMGFjBQN"
      },
      "source": [
        "Les prédictions des deux modèles sur la base d'entraînement ne sont pas parfaites, néanmoins ils ont de bien meilleures performances que sur la base de test. Le modèle semble donc avoir overfitté. "
      ]
    },
    {
      "cell_type": "markdown",
      "metadata": {
        "id": "hJ7mwthpIZtp"
      },
      "source": [
        "**En conclusion**, les modèles de Machine Learning que nous avons testés sont inefficaces pour prédire le déclenchement d'un feu de forêt. \n",
        "\n",
        "\n",
        "De plus, on remarque que : \n",
        "\n",
        "*   Il y a une bien trop faible proportion d'observations correspondant à un feu de forêt. \n",
        "*   Les variables étudiées ne sont pas assez nombreuses et ne suffissent pas à expliquer le déclenchement d'un feu de forêt : il ne suffit pas qu'il fasse la bonne température, couplée avec la bonne humidité (ou avec la bonne vitesse du vent, le bon niveau de précipitation, etc) pour qu'un feu parte. \n",
        "\n",
        "Ces deux points peuvent être à l'origine de la faible performance de nos modèles.\n"
      ]
    },
    {
      "cell_type": "markdown",
      "metadata": {
        "id": "Q68Otl4TGgJa"
      },
      "source": [
        "## **A.2. Prédiction de la surface brûlée par un feu**"
      ]
    },
    {
      "cell_type": "markdown",
      "metadata": {
        "id": "xbZXPuq2aXCz"
      },
      "source": [
        "Dans cette partie, nous allons tâcher de prédire la surface brûlée par un feu. Nous allons donc nous intéresser uniquement aux observations correspondant à un départ de feu. \n",
        "\n",
        "Nous avons utilisé 3 modèles pour prédire cette surface brûlée : réseau de neurones (feed forward neural network), arbre de décision et random forest. Il n'y a le code que pour le FFNN, l'explication est ci-dessous.\n",
        "\n"
      ]
    },
    {
      "cell_type": "markdown",
      "metadata": {
        "id": "SMYKaaK6UpMb"
      },
      "source": [
        "### **Méthode du réseau de neurones**"
      ]
    },
    {
      "cell_type": "code",
      "metadata": {
        "id": "Jar7YceUE-Xw"
      },
      "source": [
        "import matplotlib.pyplot as plt\n",
        "import keras\n",
        "from keras.datasets import mnist\n",
        "from keras.models import Sequential\n",
        "from keras.layers import Dense, Dropout, Flatten\n",
        "from keras.layers import Conv2D, MaxPooling2D\n",
        "from keras import activations\n",
        "import sklearn as sk\n",
        "from sklearn.model_selection import train_test_split\n",
        "from sklearn.metrics import confusion_matrix\n",
        "from sklearn.metrics import mean_squared_error"
      ],
      "execution_count": 61,
      "outputs": []
    },
    {
      "cell_type": "markdown",
      "metadata": {
        "id": "SuXibro3UpMc"
      },
      "source": [
        "**Préparation des données**"
      ]
    },
    {
      "cell_type": "markdown",
      "metadata": {
        "id": "QZnikJYdvdj8"
      },
      "source": [
        "Les variables gardées pour prédire la surface brûlée sont les 4 variables météo (température, humidité, vitesse du vent et précipitations)."
      ]
    },
    {
      "cell_type": "code",
      "metadata": {
        "id": "qzvLexqXE-X1",
        "scrolled": false,
        "outputId": "34543e1b-a940-4738-9bfb-f1a445589419"
      },
      "source": [
        "df = pd.read_csv('data.csv').dropna(subset = ['Température (°C)', 'Précipitations (3 heures)', 'Humidité (%)', 'Vitesse du vent (m/s)'])\n",
        "df_feu = df[df['Départ de feu'] == 1]\n",
        "df_feu = df_feu.drop(columns = ['Départ de feu'])\n",
        "df_feu = df_feu.sort_values(['Date de première alerte'])\n",
        "df_feu = df_feu.reset_index(drop = True)\n",
        "df_feu.head()"
      ],
      "execution_count": null,
      "outputs": [
        {
          "output_type": "stream",
          "text": [
            "C:\\Users\\theoc\\anaconda3\\envs\\ML\\lib\\site-packages\\IPython\\core\\interactiveshell.py:3145: DtypeWarning: Columns (2,3,4,5,6) have mixed types.Specify dtype option on import or set low_memory=False.\n",
            "  has_raised = await self.run_ast_nodes(code_ast.body, cell_name,\n"
          ],
          "name": "stderr"
        },
        {
          "output_type": "execute_result",
          "data": {
            "text/html": [
              "<div>\n",
              "<style scoped>\n",
              "    .dataframe tbody tr th:only-of-type {\n",
              "        vertical-align: middle;\n",
              "    }\n",
              "\n",
              "    .dataframe tbody tr th {\n",
              "        vertical-align: top;\n",
              "    }\n",
              "\n",
              "    .dataframe thead th {\n",
              "        text-align: right;\n",
              "    }\n",
              "</style>\n",
              "<table border=\"1\" class=\"dataframe\">\n",
              "  <thead>\n",
              "    <tr style=\"text-align: right;\">\n",
              "      <th></th>\n",
              "      <th>Année</th>\n",
              "      <th>Date de première alerte</th>\n",
              "      <th>Département</th>\n",
              "      <th>Commune</th>\n",
              "      <th>Code postal</th>\n",
              "      <th>Code INSEE</th>\n",
              "      <th>Latitude commune</th>\n",
              "      <th>Longitude commune</th>\n",
              "      <th>Surface brûlée (m2)</th>\n",
              "      <th>Surface forêt (m2)</th>\n",
              "      <th>...</th>\n",
              "      <th>Nom station</th>\n",
              "      <th>id_station</th>\n",
              "      <th>Latitude station</th>\n",
              "      <th>Longitude station</th>\n",
              "      <th>Altitude station</th>\n",
              "      <th>Date</th>\n",
              "      <th>Température (°C)</th>\n",
              "      <th>Précipitations (3 heures)</th>\n",
              "      <th>Humidité (%)</th>\n",
              "      <th>Vitesse du vent (m/s)</th>\n",
              "    </tr>\n",
              "  </thead>\n",
              "  <tbody>\n",
              "    <tr>\n",
              "      <th>0</th>\n",
              "      <td>2006.0</td>\n",
              "      <td>2006-01-01 12:50:00</td>\n",
              "      <td>66</td>\n",
              "      <td>SAINT LAURENT DE CERDANS</td>\n",
              "      <td>66260</td>\n",
              "      <td>66179</td>\n",
              "      <td>42.3833</td>\n",
              "      <td>2.61667</td>\n",
              "      <td>10000.0</td>\n",
              "      <td>10000.0</td>\n",
              "      <td>...</td>\n",
              "      <td>PERPIGNAN</td>\n",
              "      <td>7747</td>\n",
              "      <td>42.737167</td>\n",
              "      <td>2.872833</td>\n",
              "      <td>42</td>\n",
              "      <td>2006-01-01 12:00:00</td>\n",
              "      <td>11.7</td>\n",
              "      <td>0.0</td>\n",
              "      <td>50.0</td>\n",
              "      <td>8.7</td>\n",
              "    </tr>\n",
              "    <tr>\n",
              "      <th>1</th>\n",
              "      <td>2006.0</td>\n",
              "      <td>2006-01-01 12:56:00</td>\n",
              "      <td>66</td>\n",
              "      <td>SALSES LE CHATEAU</td>\n",
              "      <td>66600</td>\n",
              "      <td>66190</td>\n",
              "      <td>42.8328</td>\n",
              "      <td>2.91889</td>\n",
              "      <td>20000.0</td>\n",
              "      <td>0.0</td>\n",
              "      <td>...</td>\n",
              "      <td>PERPIGNAN</td>\n",
              "      <td>7747</td>\n",
              "      <td>42.737167</td>\n",
              "      <td>2.872833</td>\n",
              "      <td>42</td>\n",
              "      <td>2006-01-01 12:00:00</td>\n",
              "      <td>11.7</td>\n",
              "      <td>0.0</td>\n",
              "      <td>50.0</td>\n",
              "      <td>8.7</td>\n",
              "    </tr>\n",
              "    <tr>\n",
              "      <th>2</th>\n",
              "      <td>2006.0</td>\n",
              "      <td>2006-01-01 15:40:00</td>\n",
              "      <td>83</td>\n",
              "      <td>CALLAS</td>\n",
              "      <td>83830</td>\n",
              "      <td>83028</td>\n",
              "      <td>43.5833</td>\n",
              "      <td>6.53333</td>\n",
              "      <td>30.0</td>\n",
              "      <td>30.0</td>\n",
              "      <td>...</td>\n",
              "      <td>NICE</td>\n",
              "      <td>7690</td>\n",
              "      <td>43.648833</td>\n",
              "      <td>7.209000</td>\n",
              "      <td>2</td>\n",
              "      <td>2006-01-01 15:00:00</td>\n",
              "      <td>10.4</td>\n",
              "      <td>0.0</td>\n",
              "      <td>76.0</td>\n",
              "      <td>6.2</td>\n",
              "    </tr>\n",
              "    <tr>\n",
              "      <th>3</th>\n",
              "      <td>2006.0</td>\n",
              "      <td>2006-01-02 18:19:00</td>\n",
              "      <td>34</td>\n",
              "      <td>ROUJAN</td>\n",
              "      <td>34320</td>\n",
              "      <td>34237</td>\n",
              "      <td>43.5167</td>\n",
              "      <td>3.30000</td>\n",
              "      <td>37500.0</td>\n",
              "      <td>10000.0</td>\n",
              "      <td>...</td>\n",
              "      <td>MONTPELLIER</td>\n",
              "      <td>7643</td>\n",
              "      <td>43.577000</td>\n",
              "      <td>3.963167</td>\n",
              "      <td>2</td>\n",
              "      <td>2006-01-02 18:00:00</td>\n",
              "      <td>7.5</td>\n",
              "      <td>0.0</td>\n",
              "      <td>54.0</td>\n",
              "      <td>4.1</td>\n",
              "    </tr>\n",
              "    <tr>\n",
              "      <th>4</th>\n",
              "      <td>2006.0</td>\n",
              "      <td>2006-01-02 20:57:00</td>\n",
              "      <td>83</td>\n",
              "      <td>DRAGUIGNAN</td>\n",
              "      <td>83300</td>\n",
              "      <td>83050</td>\n",
              "      <td>43.5333</td>\n",
              "      <td>6.46667</td>\n",
              "      <td>200.0</td>\n",
              "      <td>200.0</td>\n",
              "      <td>...</td>\n",
              "      <td>NICE</td>\n",
              "      <td>7690</td>\n",
              "      <td>43.648833</td>\n",
              "      <td>7.209000</td>\n",
              "      <td>2</td>\n",
              "      <td>2006-01-02 21:00:00</td>\n",
              "      <td>6.8</td>\n",
              "      <td>0.0</td>\n",
              "      <td>64.0</td>\n",
              "      <td>4.1</td>\n",
              "    </tr>\n",
              "  </tbody>\n",
              "</table>\n",
              "<p>5 rows × 24 columns</p>\n",
              "</div>"
            ],
            "text/plain": [
              "    Année Date de première alerte Département                   Commune  \\\n",
              "0  2006.0     2006-01-01 12:50:00          66  SAINT LAURENT DE CERDANS   \n",
              "1  2006.0     2006-01-01 12:56:00          66         SALSES LE CHATEAU   \n",
              "2  2006.0     2006-01-01 15:40:00          83                    CALLAS   \n",
              "3  2006.0     2006-01-02 18:19:00          34                    ROUJAN   \n",
              "4  2006.0     2006-01-02 20:57:00          83                DRAGUIGNAN   \n",
              "\n",
              "  Code postal Code INSEE  Latitude commune  Longitude commune  \\\n",
              "0       66260      66179           42.3833            2.61667   \n",
              "1       66600      66190           42.8328            2.91889   \n",
              "2       83830      83028           43.5833            6.53333   \n",
              "3       34320      34237           43.5167            3.30000   \n",
              "4       83300      83050           43.5333            6.46667   \n",
              "\n",
              "   Surface brûlée (m2)  Surface forêt (m2)  ...  Nom station  id_station  \\\n",
              "0              10000.0             10000.0  ...    PERPIGNAN        7747   \n",
              "1              20000.0                 0.0  ...    PERPIGNAN        7747   \n",
              "2                 30.0                30.0  ...         NICE        7690   \n",
              "3              37500.0             10000.0  ...  MONTPELLIER        7643   \n",
              "4                200.0               200.0  ...         NICE        7690   \n",
              "\n",
              "   Latitude station  Longitude station Altitude station                 Date  \\\n",
              "0         42.737167           2.872833               42  2006-01-01 12:00:00   \n",
              "1         42.737167           2.872833               42  2006-01-01 12:00:00   \n",
              "2         43.648833           7.209000                2  2006-01-01 15:00:00   \n",
              "3         43.577000           3.963167                2  2006-01-02 18:00:00   \n",
              "4         43.648833           7.209000                2  2006-01-02 21:00:00   \n",
              "\n",
              "   Température (°C)  Précipitations (3 heures)  Humidité (%)  \\\n",
              "0              11.7                        0.0          50.0   \n",
              "1              11.7                        0.0          50.0   \n",
              "2              10.4                        0.0          76.0   \n",
              "3               7.5                        0.0          54.0   \n",
              "4               6.8                        0.0          64.0   \n",
              "\n",
              "  Vitesse du vent (m/s)  \n",
              "0                   8.7  \n",
              "1                   8.7  \n",
              "2                   6.2  \n",
              "3                   4.1  \n",
              "4                   4.1  \n",
              "\n",
              "[5 rows x 24 columns]"
            ]
          },
          "metadata": {
            "tags": []
          },
          "execution_count": 26
        }
      ]
    },
    {
      "cell_type": "code",
      "metadata": {
        "id": "yezwe6B6E-X6",
        "outputId": "188a0b87-1fc7-4bf0-a660-f855bb7bdeef"
      },
      "source": [
        "df_feu.dtypes"
      ],
      "execution_count": null,
      "outputs": [
        {
          "output_type": "execute_result",
          "data": {
            "text/plain": [
              "Année                                        float64\n",
              "Date de première alerte                       object\n",
              "Département                                   object\n",
              "Commune                                       object\n",
              "Code postal                                   object\n",
              "Code INSEE                                    object\n",
              "Latitude commune                             float64\n",
              "Longitude commune                            float64\n",
              "Surface brûlée (m2)                          float64\n",
              "Surface forêt (m2)                           float64\n",
              "Surface autres terres boisées (m2)           float64\n",
              "Surfaces non boisées naturelles (m2)         float64\n",
              "Surfaces non boisées artificialisées (m2)    float64\n",
              "Surfaces non boisées (m2)                    float64\n",
              "Nom station                                   object\n",
              "id_station                                     int64\n",
              "Latitude station                             float64\n",
              "Longitude station                            float64\n",
              "Altitude station                               int64\n",
              "Date                                          object\n",
              "Température (°C)                             float64\n",
              "Précipitations (3 heures)                    float64\n",
              "Humidité (%)                                 float64\n",
              "Vitesse du vent (m/s)                        float64\n",
              "dtype: object"
            ]
          },
          "metadata": {
            "tags": []
          },
          "execution_count": 27
        }
      ]
    },
    {
      "cell_type": "code",
      "metadata": {
        "id": "yHIvESJ1E-X7",
        "outputId": "c816aeaf-c2f1-4463-98d4-6221aaa8a11d"
      },
      "source": [
        "values = df_feu.values\n",
        "values"
      ],
      "execution_count": null,
      "outputs": [
        {
          "output_type": "execute_result",
          "data": {
            "text/plain": [
              "array([[2006.0, '2006-01-01 12:50:00', 66.0, ..., 0.0, 50.0, 8.7],\n",
              "       [2006.0, '2006-01-01 12:56:00', 66.0, ..., 0.0, 50.0, 8.7],\n",
              "       [2006.0, '2006-01-01 15:40:00', 83.0, ..., 0.0, 76.0, 6.2],\n",
              "       ...,\n",
              "       [2019.0, '2019-12-28 17:36:00', 40.0, ..., 0.0, 88.0, 1.5],\n",
              "       [2019.0, '2019-12-30 17:05:00', 83.0, ..., 0.0, 80.0, 3.6],\n",
              "       [2019.0, '2019-12-30 18:16:00', '2B', ..., 0.0, 67.0, 2.5]],\n",
              "      dtype=object)"
            ]
          },
          "metadata": {
            "tags": []
          },
          "execution_count": 28
        }
      ]
    },
    {
      "cell_type": "code",
      "metadata": {
        "id": "37VCLVEGE-X9"
      },
      "source": [
        "x = values[:,[20,21,22,23]].astype(float)\n",
        "y = values[:,8].astype(float)"
      ],
      "execution_count": null,
      "outputs": []
    },
    {
      "cell_type": "code",
      "metadata": {
        "id": "o0cdrT8AE-X-"
      },
      "source": [
        "x_train,x_test,y_train,y_test = train_test_split(x, y, test_size = 0.3, random_state = 10)"
      ],
      "execution_count": null,
      "outputs": []
    },
    {
      "cell_type": "code",
      "metadata": {
        "id": "hpjwJ-ppE-X_",
        "outputId": "bb34e31c-ef73-4821-ed2c-f85501637697"
      },
      "source": [
        "x_train.shape"
      ],
      "execution_count": null,
      "outputs": [
        {
          "output_type": "execute_result",
          "data": {
            "text/plain": [
              "(22964, 4)"
            ]
          },
          "metadata": {
            "tags": []
          },
          "execution_count": 31
        }
      ]
    },
    {
      "cell_type": "markdown",
      "metadata": {
        "id": "I4qgvT4yUpMf"
      },
      "source": [
        "**Création du FFNN (Feed Forward Neural Network)**"
      ]
    },
    {
      "cell_type": "markdown",
      "metadata": {
        "id": "30eHFis_UpMf"
      },
      "source": [
        "Il a 3 couches cachées de respectivement 500, 100 et 50 neurones avec des fonctions d'activation 'relu'. Nous choisissons la métrique Mean Squared Error."
      ]
    },
    {
      "cell_type": "code",
      "metadata": {
        "id": "nuqbPtmTE-YA",
        "outputId": "414b0822-078f-40df-d087-7f98853c3099"
      },
      "source": [
        "model = Sequential()\n",
        "\n",
        "model.add(Dense(500, input_dim = x_train.shape[1], activation = 'relu'))\n",
        "model.add(Dense(100, activation = 'relu'))\n",
        "model.add(Dense(50, activation = 'relu'))\n",
        "model.add(Dense(1))\n",
        "\n",
        "model.compile(loss = \"mean_squared_error\" , optimizer = \"adam\", metrics = [\"mean_squared_error\"])\n",
        "\n",
        "model.summary()"
      ],
      "execution_count": null,
      "outputs": [
        {
          "output_type": "stream",
          "text": [
            "Model: \"sequential\"\n",
            "_________________________________________________________________\n",
            "Layer (type)                 Output Shape              Param #   \n",
            "=================================================================\n",
            "dense (Dense)                (None, 500)               2500      \n",
            "_________________________________________________________________\n",
            "dense_1 (Dense)              (None, 100)               50100     \n",
            "_________________________________________________________________\n",
            "dense_2 (Dense)              (None, 50)                5050      \n",
            "_________________________________________________________________\n",
            "dense_3 (Dense)              (None, 1)                 51        \n",
            "=================================================================\n",
            "Total params: 57,701\n",
            "Trainable params: 57,701\n",
            "Non-trainable params: 0\n",
            "_________________________________________________________________\n"
          ],
          "name": "stdout"
        }
      ]
    },
    {
      "cell_type": "markdown",
      "metadata": {
        "id": "1M-WnKNgUpMg"
      },
      "source": [
        "**Entraînement**"
      ]
    },
    {
      "cell_type": "markdown",
      "metadata": {
        "id": "CnFwZ2VIUpMg"
      },
      "source": [
        "Nous avons choisi 50 epochs (c'est-à-dire 50 cycles, 1 cycle est un aller et un retour dans le réseau de toutes les données)"
      ]
    },
    {
      "cell_type": "code",
      "metadata": {
        "id": "w3cafD3xE-YC",
        "outputId": "bf1f50fc-2ac1-41dd-e13c-c60b2d9d56a8"
      },
      "source": [
        "history = model.fit(x_train, y_train, epochs = 50, verbose = 1, validation_data=(x_test, y_test))"
      ],
      "execution_count": null,
      "outputs": [
        {
          "output_type": "stream",
          "text": [
            "Epoch 1/50\n",
            "718/718 [==============================] - 1s 2ms/step - loss: 219490172928.0000 - mean_squared_error: 219490172928.0000 - val_loss: 140004737024.0000 - val_mean_squared_error: 140004737024.0000\n",
            "Epoch 2/50\n",
            "718/718 [==============================] - 1s 2ms/step - loss: 219035779072.0000 - mean_squared_error: 219035779072.0000 - val_loss: 139695276032.0000 - val_mean_squared_error: 139695276032.0000\n",
            "Epoch 3/50\n",
            "718/718 [==============================] - 1s 2ms/step - loss: 218741620736.0000 - mean_squared_error: 218741620736.0000 - val_loss: 139525144576.0000 - val_mean_squared_error: 139525144576.0000\n",
            "Epoch 4/50\n",
            "718/718 [==============================] - 1s 2ms/step - loss: 218401112064.0000 - mean_squared_error: 218401112064.0000 - val_loss: 139504091136.0000 - val_mean_squared_error: 139504091136.0000\n",
            "Epoch 5/50\n",
            "718/718 [==============================] - 1s 2ms/step - loss: 218120273920.0000 - mean_squared_error: 218120273920.0000 - val_loss: 139637129216.0000 - val_mean_squared_error: 139637129216.0000\n",
            "Epoch 6/50\n",
            "718/718 [==============================] - 1s 2ms/step - loss: 217916948480.0000 - mean_squared_error: 217916948480.0000 - val_loss: 139305992192.0000 - val_mean_squared_error: 139305992192.0000\n",
            "Epoch 7/50\n",
            "718/718 [==============================] - 1s 2ms/step - loss: 217735151616.0000 - mean_squared_error: 217735151616.0000 - val_loss: 139258609664.0000 - val_mean_squared_error: 139258609664.0000\n",
            "Epoch 8/50\n",
            "718/718 [==============================] - 1s 2ms/step - loss: 217641697280.0000 - mean_squared_error: 217641697280.0000 - val_loss: 139265556480.0000 - val_mean_squared_error: 139265556480.0000\n",
            "Epoch 9/50\n",
            "718/718 [==============================] - 1s 2ms/step - loss: 217538740224.0000 - mean_squared_error: 217538740224.0000 - val_loss: 139030757376.0000 - val_mean_squared_error: 139030757376.0000\n",
            "Epoch 10/50\n",
            "718/718 [==============================] - 1s 2ms/step - loss: 217403211776.0000 - mean_squared_error: 217403211776.0000 - val_loss: 138983915520.0000 - val_mean_squared_error: 138983915520.0000\n",
            "Epoch 11/50\n",
            "718/718 [==============================] - 1s 2ms/step - loss: 217462620160.0000 - mean_squared_error: 217462620160.0000 - val_loss: 138977574912.0000 - val_mean_squared_error: 138977574912.0000\n",
            "Epoch 12/50\n",
            "718/718 [==============================] - 1s 2ms/step - loss: 217315213312.0000 - mean_squared_error: 217315213312.0000 - val_loss: 138958635008.0000 - val_mean_squared_error: 138958635008.0000\n",
            "Epoch 13/50\n",
            "718/718 [==============================] - 1s 2ms/step - loss: 217233620992.0000 - mean_squared_error: 217233620992.0000 - val_loss: 138950344704.0000 - val_mean_squared_error: 138950344704.0000\n",
            "Epoch 14/50\n",
            "718/718 [==============================] - 1s 2ms/step - loss: 217210716160.0000 - mean_squared_error: 217210716160.0000 - val_loss: 139140087808.0000 - val_mean_squared_error: 139140087808.0000\n",
            "Epoch 15/50\n",
            "718/718 [==============================] - 2s 2ms/step - loss: 217117720576.0000 - mean_squared_error: 217117720576.0000 - val_loss: 138940874752.0000 - val_mean_squared_error: 138940874752.0000\n",
            "Epoch 16/50\n",
            "718/718 [==============================] - 2s 2ms/step - loss: 217100451840.0000 - mean_squared_error: 217100451840.0000 - val_loss: 139000725504.0000 - val_mean_squared_error: 139000725504.0000\n",
            "Epoch 17/50\n",
            "718/718 [==============================] - 2s 2ms/step - loss: 217020039168.0000 - mean_squared_error: 217020039168.0000 - val_loss: 139001675776.0000 - val_mean_squared_error: 139001675776.0000\n",
            "Epoch 18/50\n",
            "718/718 [==============================] - 1s 2ms/step - loss: 216937807872.0000 - mean_squared_error: 216937807872.0000 - val_loss: 138990452736.0000 - val_mean_squared_error: 138990452736.0000\n",
            "Epoch 19/50\n",
            "718/718 [==============================] - 1s 2ms/step - loss: 216954667008.0000 - mean_squared_error: 216954667008.0000 - val_loss: 139096915968.0000 - val_mean_squared_error: 139096915968.0000\n",
            "Epoch 20/50\n",
            "718/718 [==============================] - 1s 2ms/step - loss: 216819236864.0000 - mean_squared_error: 216819236864.0000 - val_loss: 138992697344.0000 - val_mean_squared_error: 138992697344.0000\n",
            "Epoch 21/50\n",
            "718/718 [==============================] - 1s 2ms/step - loss: 216703205376.0000 - mean_squared_error: 216703205376.0000 - val_loss: 138992582656.0000 - val_mean_squared_error: 138992582656.0000\n",
            "Epoch 22/50\n",
            "718/718 [==============================] - 1s 2ms/step - loss: 216850186240.0000 - mean_squared_error: 216850186240.0000 - val_loss: 139206672384.0000 - val_mean_squared_error: 139206672384.0000\n",
            "Epoch 23/50\n",
            "718/718 [==============================] - 2s 2ms/step - loss: 216756387840.0000 - mean_squared_error: 216756387840.0000 - val_loss: 139011883008.0000 - val_mean_squared_error: 139011883008.0000\n",
            "Epoch 24/50\n",
            "718/718 [==============================] - 2s 2ms/step - loss: 216792285184.0000 - mean_squared_error: 216792285184.0000 - val_loss: 139107729408.0000 - val_mean_squared_error: 139107729408.0000\n",
            "Epoch 25/50\n",
            "718/718 [==============================] - 2s 2ms/step - loss: 216697765888.0000 - mean_squared_error: 216697765888.0000 - val_loss: 139143610368.0000 - val_mean_squared_error: 139143610368.0000\n",
            "Epoch 26/50\n",
            "718/718 [==============================] - 2s 2ms/step - loss: 216723800064.0000 - mean_squared_error: 216723800064.0000 - val_loss: 139266244608.0000 - val_mean_squared_error: 139266244608.0000\n",
            "Epoch 27/50\n",
            "718/718 [==============================] - 1s 2ms/step - loss: 216726208512.0000 - mean_squared_error: 216726208512.0000 - val_loss: 139502370816.0000 - val_mean_squared_error: 139502370816.0000\n",
            "Epoch 28/50\n",
            "718/718 [==============================] - 2s 2ms/step - loss: 216594169856.0000 - mean_squared_error: 216594169856.0000 - val_loss: 139195039744.0000 - val_mean_squared_error: 139195039744.0000\n",
            "Epoch 29/50\n",
            "718/718 [==============================] - 1s 2ms/step - loss: 216690393088.0000 - mean_squared_error: 216690393088.0000 - val_loss: 139371053056.0000 - val_mean_squared_error: 139371053056.0000\n",
            "Epoch 30/50\n",
            "718/718 [==============================] - 1s 2ms/step - loss: 216619433984.0000 - mean_squared_error: 216619433984.0000 - val_loss: 139425284096.0000 - val_mean_squared_error: 139425284096.0000\n",
            "Epoch 31/50\n",
            "718/718 [==============================] - 1s 2ms/step - loss: 216601116672.0000 - mean_squared_error: 216601116672.0000 - val_loss: 139328241664.0000 - val_mean_squared_error: 139328241664.0000\n",
            "Epoch 32/50\n",
            "718/718 [==============================] - 2s 2ms/step - loss: 216530829312.0000 - mean_squared_error: 216530829312.0000 - val_loss: 139289837568.0000 - val_mean_squared_error: 139289837568.0000\n",
            "Epoch 33/50\n",
            "718/718 [==============================] - 2s 2ms/step - loss: 216660230144.0000 - mean_squared_error: 216660230144.0000 - val_loss: 139320115200.0000 - val_mean_squared_error: 139320115200.0000\n",
            "Epoch 34/50\n",
            "718/718 [==============================] - 1s 2ms/step - loss: 216493965312.0000 - mean_squared_error: 216493965312.0000 - val_loss: 139263328256.0000 - val_mean_squared_error: 139263328256.0000\n",
            "Epoch 35/50\n",
            "718/718 [==============================] - 1s 2ms/step - loss: 216623349760.0000 - mean_squared_error: 216623349760.0000 - val_loss: 139529109504.0000 - val_mean_squared_error: 139529109504.0000\n",
            "Epoch 36/50\n",
            "718/718 [==============================] - 1s 2ms/step - loss: 216521277440.0000 - mean_squared_error: 216521277440.0000 - val_loss: 139823480832.0000 - val_mean_squared_error: 139823480832.0000\n",
            "Epoch 37/50\n",
            "718/718 [==============================] - 1s 2ms/step - loss: 216549507072.0000 - mean_squared_error: 216549507072.0000 - val_loss: 139703566336.0000 - val_mean_squared_error: 139703566336.0000\n",
            "Epoch 38/50\n",
            "718/718 [==============================] - 1s 2ms/step - loss: 216385323008.0000 - mean_squared_error: 216385323008.0000 - val_loss: 139363237888.0000 - val_mean_squared_error: 139363237888.0000\n",
            "Epoch 39/50\n",
            "718/718 [==============================] - 1s 2ms/step - loss: 216514592768.0000 - mean_squared_error: 216514592768.0000 - val_loss: 139388518400.0000 - val_mean_squared_error: 139388518400.0000\n",
            "Epoch 40/50\n",
            "718/718 [==============================] - 1s 2ms/step - loss: 216522997760.0000 - mean_squared_error: 216522997760.0000 - val_loss: 139660083200.0000 - val_mean_squared_error: 139660083200.0000\n"
          ],
          "name": "stdout"
        },
        {
          "output_type": "stream",
          "text": [
            "Epoch 41/50\n",
            "718/718 [==============================] - 1s 2ms/step - loss: 216537186304.0000 - mean_squared_error: 216537186304.0000 - val_loss: 139614519296.0000 - val_mean_squared_error: 139614519296.0000\n",
            "Epoch 42/50\n",
            "718/718 [==============================] - 1s 2ms/step - loss: 216398577664.0000 - mean_squared_error: 216398577664.0000 - val_loss: 139480465408.0000 - val_mean_squared_error: 139480465408.0000\n",
            "Epoch 43/50\n",
            "718/718 [==============================] - 1s 2ms/step - loss: 216475172864.0000 - mean_squared_error: 216475172864.0000 - val_loss: 139492638720.0000 - val_mean_squared_error: 139492638720.0000\n",
            "Epoch 44/50\n",
            "718/718 [==============================] - 1s 2ms/step - loss: 216476221440.0000 - mean_squared_error: 216476221440.0000 - val_loss: 139780734976.0000 - val_mean_squared_error: 139780734976.0000\n",
            "Epoch 45/50\n",
            "718/718 [==============================] - 1s 2ms/step - loss: 216311267328.0000 - mean_squared_error: 216311267328.0000 - val_loss: 139478138880.0000 - val_mean_squared_error: 139478138880.0000\n",
            "Epoch 46/50\n",
            "718/718 [==============================] - 1s 2ms/step - loss: 216388485120.0000 - mean_squared_error: 216388485120.0000 - val_loss: 139483185152.0000 - val_mean_squared_error: 139483185152.0000\n",
            "Epoch 47/50\n",
            "718/718 [==============================] - 1s 2ms/step - loss: 216398561280.0000 - mean_squared_error: 216398561280.0000 - val_loss: 139578261504.0000 - val_mean_squared_error: 139578261504.0000\n",
            "Epoch 48/50\n",
            "718/718 [==============================] - 1s 2ms/step - loss: 216304320512.0000 - mean_squared_error: 216304320512.0000 - val_loss: 139505057792.0000 - val_mean_squared_error: 139505057792.0000\n",
            "Epoch 49/50\n",
            "718/718 [==============================] - 1s 2ms/step - loss: 216390860800.0000 - mean_squared_error: 216390860800.0000 - val_loss: 140188909568.0000 - val_mean_squared_error: 140188909568.0000\n",
            "Epoch 50/50\n",
            "718/718 [==============================] - 1s 2ms/step - loss: 216388485120.0000 - mean_squared_error: 216388485120.0000 - val_loss: 139760467968.0000 - val_mean_squared_error: 139760467968.0000\n"
          ],
          "name": "stdout"
        }
      ]
    },
    {
      "cell_type": "code",
      "metadata": {
        "id": "0TRPivMJE-YD",
        "scrolled": false,
        "outputId": "debc89a7-8ad7-4339-c147-dcfc9d7efd1b"
      },
      "source": [
        "plt.figure(figsize=(7, 5))\n",
        "plt.plot(history.epoch, history.history['loss'], lw=3, label='Training set')\n",
        "plt.plot(history.epoch, history.history['val_loss'], lw=3, label='Test set')\n",
        "plt.legend(fontsize=14)\n",
        "plt.title('Loss of the FFNN', fontsize=16)\n",
        "plt.xlabel('Epoch', fontsize=14)\n",
        "plt.ylabel('MSE', fontsize=14)\n",
        "plt.tight_layout()"
      ],
      "execution_count": null,
      "outputs": [
        {
          "output_type": "display_data",
          "data": {
            "image/png": "[encoded data removed]",
            "text/plain": [
              "<Figure size 504x360 with 1 Axes>"
            ]
          },
          "metadata": {
            "tags": [],
            "needs_background": "light"
          }
        }
      ]
    },
    {
      "cell_type": "markdown",
      "metadata": {
        "id": "ft1su9b3UpMh"
      },
      "source": [
        "La Mean Squared Error est de l'ordre de $10^{11}$, peu importe le nombre d'epochs. Le réseau n'est absolument pas efficace. L'erreur est même plus faible sur le Test set, ce qui est étrange, mais tellement l'erreur est grande cela ne veut plus rien dire."
      ]
    },
    {
      "cell_type": "code",
      "metadata": {
        "id": "-zF9rooUE-YF",
        "outputId": "c9149afc-d008-4c80-a5f5-cb2f2284d21c"
      },
      "source": [
        "pred_train = model.predict(x_train)\n",
        "print(np.sqrt(mean_squared_error(y_train,pred_train)))\n",
        "\n",
        "pred = model.predict(x_test)\n",
        "print(np.sqrt(mean_squared_error(y_test,pred))) "
      ],
      "execution_count": null,
      "outputs": [
        {
          "output_type": "stream",
          "text": [
            "464875.95431074646\n",
            "373845.48286052333\n"
          ],
          "name": "stdout"
        }
      ]
    },
    {
      "cell_type": "markdown",
      "metadata": {
        "id": "4lQHEC9BUpMi"
      },
      "source": [
        "On obtient une Root Mean Squared Error de l'ordre de centaines de milliers de m2 sur l'échantillon de train et sur celui de test. "
      ]
    },
    {
      "cell_type": "markdown",
      "metadata": {
        "id": "KL_f2qQicU-j"
      },
      "source": [
        "### **Considérations sur les autres modèles**\n",
        "\n",
        "D'autres modèles de prédiction sont possibles pour prédire la surface brûlée, tels que les arbres de décision ou random forest. Nous les avons testés, et avons obtenu des erreurs du même ordre de grandeur que pour ce premier modèle. C'est même l'observation de mauvaises prédictions avec random forest et decision tree qui nous a amenés à tenter un réseau de neurones. \n",
        "\n",
        "Les codes utilisés pour ces deux modèles étaient semblables à ceux dans la partie de classification ci-dessus (A.1), nous avons choisi de ne pas les insérer afin de ne pas surcharger le notebook. \n",
        "\n"
      ]
    },
    {
      "cell_type": "markdown",
      "metadata": {
        "id": "yZ4KaL8fIi08"
      },
      "source": [
        "# **B. Deuxième essai : création de nouvelles variables**"
      ]
    },
    {
      "cell_type": "markdown",
      "metadata": {
        "id": "2ETta9NqJPLB"
      },
      "source": [
        "Dans la première partie, nous n'avions utilisé que les variables météorologiques données directement par la base de données. Les modèles que nous avions utilisés avaient alors de très mauvaises performances. Le nombre de variables considérées et leur pertinence sont deux raisons pour lesquelles les modèles n'étaient pas satisfaisant. \n",
        "\n",
        "Nous allons, dans cette, créer de nouvelles variables/features qui témoigneront de la propension d'une observation à être un feu de forêt grâce à sa localisation et au mois considéré. Notre étude prend désormais en compte des variables géographiques (et non juste météorologiques).\n"
      ]
    },
    {
      "cell_type": "markdown",
      "metadata": {
        "id": "l4TgdIcClCd3"
      },
      "source": [
        "## **B.1. Prédiction du déclenchement d'un feu de forêt** "
      ]
    },
    {
      "cell_type": "markdown",
      "metadata": {
        "id": "OII_xvspKbF7"
      },
      "source": [
        "### **Création de nouvelles variables**"
      ]
    },
    {
      "cell_type": "code",
      "metadata": {
        "id": "JH50rkyyKK0z"
      },
      "source": [
        "from datetime import datetime\n",
        "df = pd.read_csv('data.zip',low_memory=False)"
      ],
      "execution_count": 14,
      "outputs": []
    },
    {
      "cell_type": "code",
      "metadata": {
        "id": "duv6APpsKkq3"
      },
      "source": [
        "df_feu = df[df[\"Départ de feu\"] == 1]"
      ],
      "execution_count": 15,
      "outputs": []
    },
    {
      "cell_type": "markdown",
      "metadata": {
        "id": "PwfKj1fjKrnm"
      },
      "source": [
        "**Création d'une variable sur le mois** \n",
        "\n",
        "L'on va ici chercher à créer une variable quantitative qui rende compte de la \"prédisposition\" d'un mois à connaître des feux de forêts. Comme on a pu le voir précédemment, il y a empiriquement plus de feux en août qu'en octobre. On cherche donc une variable qui permette d'en témoigner. \n",
        "\n",
        "On crée ainsi une variable *Mois propice* qui à chaque observation donne le pourcentage des feux des années précédentes (dans la limite de nos données, c'est-à-dire l'année 2006) s'étant produits durant ce mois de l'année. Plus ce chiffre est élevé, plus ce mois est à risque.\n",
        "\n",
        "Cette variable s'appuie exclusivement sur les données des années précédentes. La valeur attribuée à chaque mois varie également d'une année à l'autre, car elle prend en compte les feux de l'année qui vient de s'écouler. Ce comptage est intéressant car il gagne en fiabilité d'années en années. \n"
      ]
    },
    {
      "cell_type": "code",
      "metadata": {
        "colab": {
          "base_uri": "https://localhost:8080/"
        },
        "id": "Hu93YgefKzvg",
        "outputId": "9dd087ad-84b5-42f7-e6ac-7f6559d9d61a"
      },
      "source": [
        "répartition = []\n",
        "\n",
        "for année in range(2007,2020) :\n",
        "\n",
        "    mois, nb_mois_previous_years = np.unique(df_feu['Date de première alerte'][df_feu.Année < année].str[5:7], return_counts=True)\n",
        "    répartition_previous_years = nb_mois_previous_years / sum(nb_mois_previous_years)\n",
        "\n",
        "    répartition.append([année,répartition_previous_years])\n",
        "\n",
        "répartition[0:3]"
      ],
      "execution_count": 16,
      "outputs": [
        {
          "output_type": "execute_result",
          "data": {
            "text/plain": [
              "[[2007, array([0.01557839, 0.03579715, 0.05502154, 0.09214451, 0.09048724,\n",
              "         0.1528008 , 0.25223732, 0.18362612, 0.06463374, 0.02320186,\n",
              "         0.02552204, 0.00894929])],\n",
              " [2008, array([0.02895404, 0.03184944, 0.07871878, 0.09156714, 0.06858487,\n",
              "         0.11653999, 0.2062975 , 0.15635179, 0.09989142, 0.06424177,\n",
              "         0.03999276, 0.0170105 ])],\n",
              " [2009, array([0.03337488, 0.06051793, 0.08613765, 0.08932281, 0.06093339,\n",
              "         0.09735494, 0.19055532, 0.15939621, 0.09901676, 0.07519734,\n",
              "         0.0340673 , 0.01412547])]]"
            ]
          },
          "metadata": {
            "tags": []
          },
          "execution_count": 16
        }
      ]
    },
    {
      "cell_type": "markdown",
      "metadata": {
        "id": "CN0xShB9K371"
      },
      "source": [
        "Le tableau *répartition* indique pour chaque année la proportion par mois des feux déclarés les années précédentes (depuis 2006). "
      ]
    },
    {
      "cell_type": "code",
      "metadata": {
        "colab": {
          "base_uri": "https://localhost:8080/"
        },
        "id": "k8drdI6xK6Ub",
        "outputId": "46661d3c-866e-40d9-ce29-f715ea827008"
      },
      "source": [
        "répartition[4]"
      ],
      "execution_count": 17,
      "outputs": [
        {
          "output_type": "execute_result",
          "data": {
            "text/plain": [
              "[2011, array([0.02136822, 0.0519987 , 0.11594085, 0.08409165, 0.05492363,\n",
              "        0.09140396, 0.190039  , 0.17907052, 0.10814105, 0.06857329,\n",
              "        0.02445564, 0.0099935 ])]"
            ]
          },
          "metadata": {
            "tags": []
          },
          "execution_count": 17
        }
      ]
    },
    {
      "cell_type": "markdown",
      "metadata": {
        "id": "4KMJUX83K9Fp"
      },
      "source": [
        "Par exemple, entre 2006 et 2010, 2% des feux se sont produits durant les mois de janviers, alors que 19% des feux entre 2006 et 2010 ont été en juillet. "
      ]
    },
    {
      "cell_type": "code",
      "metadata": {
        "id": "csFkPI_ALB4Y"
      },
      "source": [
        "def mois_propice(date) : \n",
        "    \"renvoie la proportion des feux déclenchés ce mois-ci les années précédentes\"\n",
        "    date = datetime.strptime(date, '%Y-%m-%d %H:%M:%S')\n",
        "    month, year = date.month, date.year\n",
        "\n",
        "    if year > 2006 : \n",
        "        return répartition[year-2007][1][month-1]"
      ],
      "execution_count": 18,
      "outputs": []
    },
    {
      "cell_type": "code",
      "metadata": {
        "id": "_di80bzBLEEu"
      },
      "source": [
        "df['Mois propice'] = df['Date'].apply(lambda row: mois_propice(row))"
      ],
      "execution_count": 19,
      "outputs": []
    },
    {
      "cell_type": "markdown",
      "metadata": {
        "id": "GbJLI4bCLJ6p"
      },
      "source": [
        "**Création d'une variable sur la station** \n",
        "\n",
        "On crée maintenant une variable qui témoigne de la \"prédisposition\" d'une zone géographique (représentée par une station) à connaître des feux de forêts. \n",
        "\n",
        "On raisonne pareillement que pour la variable *Mois propice* en termes de pourcentage de feux des années précédentes observée par station. \n",
        "\n",
        "\n",
        "On ne peut en effet pas : \n",
        "\n",
        "\n",
        "*   Compter le nombre de feux par station dans la base, car lorsqu'on utilisera les méthodes de prédiction sur une certaine observation (à une certaine date), cela voudrait dire que l'on utilise les données de dates ultérieures, et donc qu'on connaît l'avenir. \n",
        "\n",
        "\n",
        "*   Compter le nombre de feux par station qui se sont produits avant l'observation. Les valeurs prises par une station seraient différentes d'une année à l'autre, et la variable n'aurait alors plus de sens. (Par exemple, on peut imaginer qu'il y ait autant de feu en Haute-Corse en 2006 qu'en Bretagne entre 2006 et 2018 : la valeur prise par la variable *Zone propice* pour une observation en Corse en 2007 serait égale à celle prise par une observation en Bretagne en 2019, ce qui ne rendrait pas bien compte de la réalité lorsqu'on utilisera les techniques de prédiction. \n",
        "\n",
        "Considérer les données sur toutes les années précédentes permet de créer une variable plus fiable que si l'on utilisait que celle d'une année précédente."
      ]
    },
    {
      "cell_type": "code",
      "metadata": {
        "id": "FLZHoGVTLQag"
      },
      "source": [
        "répartition_zone = []\n",
        "\n",
        "for année in range(2007,2020) :\n",
        "\n",
        "    zone, nb_zone = np.unique(df_feu['id_station'][df_feu.Année < année], return_counts=True)\n",
        "    prop_zone = nb_zone / sum(nb_zone)\n",
        "    prop_zone_previous = [ [zone[i], prop_zone[i]] for i in range(0,len(zone)) ]\n",
        "    répartition_zone.append([année,prop_zone_previous])"
      ],
      "execution_count": 20,
      "outputs": []
    },
    {
      "cell_type": "markdown",
      "metadata": {
        "id": "mAA3aUQDLTem"
      },
      "source": [
        "*répartition_zone* est un tableau donnant, pour chaque année, la proportion de feux s'étant déclarée dans chaque station les années précédentes"
      ]
    },
    {
      "cell_type": "code",
      "metadata": {
        "colab": {
          "base_uri": "https://localhost:8080/"
        },
        "id": "ov61AAHgLWMf",
        "outputId": "42ef4ae2-d432-4640-8ed5-a22c37a58401"
      },
      "source": [
        "#Exemple : la répartition pour l'année 2007\n",
        "répartition_zone[0][1]"
      ],
      "execution_count": 21,
      "outputs": [
        {
          "output_type": "execute_result",
          "data": {
            "text/plain": [
              "[[7110, 0.0006629101756711965],\n",
              " [7130, 0.0019887305270135896],\n",
              " [7139, 0.004971826317533974],\n",
              " [7149, 0.003646005966191581],\n",
              " [7207, 0.0016572754391779914],\n",
              " [7222, 0.00033145508783559825],\n",
              " [7240, 0.0029830957905203847],\n",
              " [7255, 0.0016572754391779914],\n",
              " [7280, 0.0009943652635067948],\n",
              " [7299, 0.0016572754391779914],\n",
              " [7314, 0.003977461054027179],\n",
              " [7335, 0.0029830957905203847],\n",
              " [7434, 0.011269472986410341],\n",
              " [7460, 0.0019887305270135896],\n",
              " [7471, 0.008286377195889956],\n",
              " [7481, 0.010275107722903546],\n",
              " [7510, 0.12595293337752733],\n",
              " [7535, 0.03513423931057342],\n",
              " [7558, 0.01358965860125953],\n",
              " [7577, 0.0573417301955585],\n",
              " [7591, 0.005634736493205171],\n",
              " [7607, 0.07093138879681803],\n",
              " [7621, 0.00033145508783559825],\n",
              " [7627, 0.013258203513423931],\n",
              " [7630, 0.006297646668876367],\n",
              " [7643, 0.04441498176997017],\n",
              " [7650, 0.07590321511435201],\n",
              " [7661, 0.060656281073914485],\n",
              " [7690, 0.07225720914816043],\n",
              " [7747, 0.06529665230361285],\n",
              " [7761, 0.1537951607557176],\n",
              " [7790, 0.13921113689095127],\n",
              " [61968, 0.0006629101756711965]]"
            ]
          },
          "metadata": {
            "tags": []
          },
          "execution_count": 21
        }
      ]
    },
    {
      "cell_type": "code",
      "metadata": {
        "id": "MsIvgFaVLY8Q"
      },
      "source": [
        "def zone_propice(date,station) : \n",
        "    \"renvoie la proportion des feux déclenchés dans cette zone les années précédentes\"\n",
        "\n",
        "    date = datetime.strptime(date, '%Y-%m-%d %H:%M:%S')\n",
        "    year = date.year\n",
        " \n",
        "    if year > 2006 : \n",
        "        ligne = [i for i in range(0,len(répartition_zone[year-2007][1])) if répartition_zone[year-2007][1][i][0] == station]\n",
        "        #liste des lignes correspondant à l'année et à la station \n",
        "        if len(ligne) != 0 :\n",
        "            #len(ligne) == 1 si la station n'est pas dégénérée (existe dans les données)\n",
        "            return répartition_zone[year-2007][1][ligne[0]][1]"
      ],
      "execution_count": 22,
      "outputs": []
    },
    {
      "cell_type": "code",
      "metadata": {
        "id": "_Z8xAm3hLbXZ"
      },
      "source": [
        "df['Zone propice'] = df.apply(lambda row: zone_propice(row['Date'], row['id_station']), axis=1)"
      ],
      "execution_count": 23,
      "outputs": []
    },
    {
      "cell_type": "code",
      "metadata": {
        "colab": {
          "base_uri": "https://localhost:8080/",
          "height": 195
        },
        "id": "J2GzziPiLd-5",
        "outputId": "77cdfe58-ebc9-486e-c745-0acad4f88d88"
      },
      "source": [
        "#Exemple d'une station Corse\n",
        "df[df[\"id_station\"] == 7761][[\"Date\",\"Zone propice\"]].sample(5) "
      ],
      "execution_count": 24,
      "outputs": [
        {
          "output_type": "execute_result",
          "data": {
            "text/html": [
              "<div>\n",
              "<style scoped>\n",
              "    .dataframe tbody tr th:only-of-type {\n",
              "        vertical-align: middle;\n",
              "    }\n",
              "\n",
              "    .dataframe tbody tr th {\n",
              "        vertical-align: top;\n",
              "    }\n",
              "\n",
              "    .dataframe thead th {\n",
              "        text-align: right;\n",
              "    }\n",
              "</style>\n",
              "<table border=\"1\" class=\"dataframe\">\n",
              "  <thead>\n",
              "    <tr style=\"text-align: right;\">\n",
              "      <th></th>\n",
              "      <th>Date</th>\n",
              "      <th>Zone propice</th>\n",
              "    </tr>\n",
              "  </thead>\n",
              "  <tbody>\n",
              "    <tr>\n",
              "      <th>1632754</th>\n",
              "      <td>2013-08-15 21:00:00</td>\n",
              "      <td>0.142702</td>\n",
              "    </tr>\n",
              "    <tr>\n",
              "      <th>1625241</th>\n",
              "      <td>2011-02-06 21:00:00</td>\n",
              "      <td>0.148603</td>\n",
              "    </tr>\n",
              "    <tr>\n",
              "      <th>1619714</th>\n",
              "      <td>2009-04-05 09:00:00</td>\n",
              "      <td>0.158981</td>\n",
              "    </tr>\n",
              "    <tr>\n",
              "      <th>1644192</th>\n",
              "      <td>2017-07-04 03:00:00</td>\n",
              "      <td>0.127048</td>\n",
              "    </tr>\n",
              "    <tr>\n",
              "      <th>1613466</th>\n",
              "      <td>2007-03-07 18:00:00</td>\n",
              "      <td>0.153795</td>\n",
              "    </tr>\n",
              "  </tbody>\n",
              "</table>\n",
              "</div>"
            ],
            "text/plain": [
              "                        Date  Zone propice\n",
              "1632754  2013-08-15 21:00:00      0.142702\n",
              "1625241  2011-02-06 21:00:00      0.148603\n",
              "1619714  2009-04-05 09:00:00      0.158981\n",
              "1644192  2017-07-04 03:00:00      0.127048\n",
              "1613466  2007-03-07 18:00:00      0.153795"
            ]
          },
          "metadata": {
            "tags": []
          },
          "execution_count": 24
        }
      ]
    },
    {
      "cell_type": "markdown",
      "metadata": {
        "id": "EQCxbsMKLx13"
      },
      "source": [
        "Le raisonnement que l'on va maintenant mener est identique à celui que nous avons eu dans le premier essai. Nous allons comparer les résultats des deux essais, et on s'attend à ce que ce deuxième essai, qui prend en compte davantage de variables, ait de meilleurs résultats. "
      ]
    },
    {
      "cell_type": "markdown",
      "metadata": {
        "id": "Wqu_cZMILqyK"
      },
      "source": [
        "### **Préparation des bases d'apprentissage et de test**"
      ]
    },
    {
      "cell_type": "code",
      "metadata": {
        "id": "ruPzzrcrMCM-"
      },
      "source": [
        "df2 = df.iloc[:, [0,17,18,19,21,22,23,24,25,26]]  \n",
        "df2 = df2.dropna()"
      ],
      "execution_count": 25,
      "outputs": []
    },
    {
      "cell_type": "code",
      "metadata": {
        "colab": {
          "base_uri": "https://localhost:8080/",
          "height": 212
        },
        "id": "fFVEwsV4MC80",
        "outputId": "ec2f4d9d-1975-43b6-a165-81cea9221508"
      },
      "source": [
        "df2.head()"
      ],
      "execution_count": 26,
      "outputs": [
        {
          "output_type": "execute_result",
          "data": {
            "text/html": [
              "<div>\n",
              "<style scoped>\n",
              "    .dataframe tbody tr th:only-of-type {\n",
              "        vertical-align: middle;\n",
              "    }\n",
              "\n",
              "    .dataframe tbody tr th {\n",
              "        vertical-align: top;\n",
              "    }\n",
              "\n",
              "    .dataframe thead th {\n",
              "        text-align: right;\n",
              "    }\n",
              "</style>\n",
              "<table border=\"1\" class=\"dataframe\">\n",
              "  <thead>\n",
              "    <tr style=\"text-align: right;\">\n",
              "      <th></th>\n",
              "      <th>Départ de feu</th>\n",
              "      <th>Latitude station</th>\n",
              "      <th>Longitude station</th>\n",
              "      <th>Altitude station</th>\n",
              "      <th>Température (°C)</th>\n",
              "      <th>Précipitations (3 heures)</th>\n",
              "      <th>Humidité (%)</th>\n",
              "      <th>Vitesse du vent (m/s)</th>\n",
              "      <th>Mois propice</th>\n",
              "      <th>Zone propice</th>\n",
              "    </tr>\n",
              "  </thead>\n",
              "  <tbody>\n",
              "    <tr>\n",
              "      <th>69920</th>\n",
              "      <td>0</td>\n",
              "      <td>50.57</td>\n",
              "      <td>3.0975</td>\n",
              "      <td>47</td>\n",
              "      <td>7.7</td>\n",
              "      <td>-0.1</td>\n",
              "      <td>86.0</td>\n",
              "      <td>4.1</td>\n",
              "      <td>0.024042</td>\n",
              "      <td>0.000042</td>\n",
              "    </tr>\n",
              "    <tr>\n",
              "      <th>69921</th>\n",
              "      <td>0</td>\n",
              "      <td>50.57</td>\n",
              "      <td>3.0975</td>\n",
              "      <td>47</td>\n",
              "      <td>5.4</td>\n",
              "      <td>0.0</td>\n",
              "      <td>87.0</td>\n",
              "      <td>3.3</td>\n",
              "      <td>0.024042</td>\n",
              "      <td>0.000042</td>\n",
              "    </tr>\n",
              "    <tr>\n",
              "      <th>69922</th>\n",
              "      <td>0</td>\n",
              "      <td>50.57</td>\n",
              "      <td>3.0975</td>\n",
              "      <td>47</td>\n",
              "      <td>2.7</td>\n",
              "      <td>0.0</td>\n",
              "      <td>96.0</td>\n",
              "      <td>1.4</td>\n",
              "      <td>0.024042</td>\n",
              "      <td>0.000042</td>\n",
              "    </tr>\n",
              "    <tr>\n",
              "      <th>69923</th>\n",
              "      <td>0</td>\n",
              "      <td>50.57</td>\n",
              "      <td>3.0975</td>\n",
              "      <td>47</td>\n",
              "      <td>2.7</td>\n",
              "      <td>-0.1</td>\n",
              "      <td>97.0</td>\n",
              "      <td>0.9</td>\n",
              "      <td>0.024042</td>\n",
              "      <td>0.000042</td>\n",
              "    </tr>\n",
              "    <tr>\n",
              "      <th>69924</th>\n",
              "      <td>0</td>\n",
              "      <td>50.57</td>\n",
              "      <td>3.0975</td>\n",
              "      <td>47</td>\n",
              "      <td>6.3</td>\n",
              "      <td>0.0</td>\n",
              "      <td>97.0</td>\n",
              "      <td>2.9</td>\n",
              "      <td>0.024042</td>\n",
              "      <td>0.000042</td>\n",
              "    </tr>\n",
              "  </tbody>\n",
              "</table>\n",
              "</div>"
            ],
            "text/plain": [
              "       Départ de feu  Latitude station  ...  Mois propice  Zone propice\n",
              "69920              0             50.57  ...      0.024042      0.000042\n",
              "69921              0             50.57  ...      0.024042      0.000042\n",
              "69922              0             50.57  ...      0.024042      0.000042\n",
              "69923              0             50.57  ...      0.024042      0.000042\n",
              "69924              0             50.57  ...      0.024042      0.000042\n",
              "\n",
              "[5 rows x 10 columns]"
            ]
          },
          "metadata": {
            "tags": []
          },
          "execution_count": 26
        }
      ]
    },
    {
      "cell_type": "markdown",
      "metadata": {
        "id": "Tu0bJDSBMVfC"
      },
      "source": [
        "Le dataframe que nous considérons maintenant comporte davantage de variables que celui utilisé précédemment : on a des informations sur la localisation de la station (latitude, longitude et altitude) et sur la prédisposition du mois et de la zone à être victime de feux de forêt. "
      ]
    },
    {
      "cell_type": "code",
      "metadata": {
        "id": "fNfgXWAlNRqs"
      },
      "source": [
        "train, test = train_test_split(df2, test_size=0.2, random_state=1)"
      ],
      "execution_count": 29,
      "outputs": []
    },
    {
      "cell_type": "code",
      "metadata": {
        "id": "07JrAYNkNW0S"
      },
      "source": [
        "X_train = train.drop(['Départ de feu'], axis = 1).to_numpy()\n",
        "Y_train = train[['Départ de feu']].to_numpy()\n",
        "\n",
        "X_test = test.drop(['Départ de feu'], axis = 1).to_numpy()\n",
        "Y_test = test[['Départ de feu']].to_numpy()\n",
        "\n",
        "Y_train = Y_train.reshape(Y_train.shape[0])\n",
        "Y_test = Y_test.reshape(Y_test.shape[0])"
      ],
      "execution_count": 30,
      "outputs": []
    },
    {
      "cell_type": "markdown",
      "metadata": {
        "id": "xxBGzP9VNc2-"
      },
      "source": [
        "### **Modèle 1 : l'arbre de décision**"
      ]
    },
    {
      "cell_type": "markdown",
      "metadata": {
        "id": "Ic8QqfyBNpmH"
      },
      "source": [
        "**Entraînement**"
      ]
    },
    {
      "cell_type": "code",
      "metadata": {
        "id": "FNfjm1Y_Ncn8"
      },
      "source": [
        "#instanciation de l'arbre\n",
        "from sklearn.tree import DecisionTreeClassifier\n",
        "tree = DecisionTreeClassifier()\n",
        "\n",
        "#construction de l'arbre\n",
        "tree = tree.fit(X_train, Y_train)"
      ],
      "execution_count": 36,
      "outputs": []
    },
    {
      "cell_type": "markdown",
      "metadata": {
        "id": "orScCSuiN0a5"
      },
      "source": [
        "**Evaluation**"
      ]
    },
    {
      "cell_type": "code",
      "metadata": {
        "id": "zZhi5q5wN28t"
      },
      "source": [
        "tree_predict_test = tree.predict(X_test)"
      ],
      "execution_count": 32,
      "outputs": []
    },
    {
      "cell_type": "markdown",
      "metadata": {
        "id": "oXSQKdGqOLwg"
      },
      "source": [
        "Comme l'on a pu le voir précédemment, les taux de reconnaissance et d'erreur du modèle peuvent être trompeurs du fait de la faible proportion d'observations correspondant à un feu de forêt. On s'intéressera donc principalement au rapport de prédiction. "
      ]
    },
    {
      "cell_type": "code",
      "metadata": {
        "colab": {
          "base_uri": "https://localhost:8080/"
        },
        "id": "MUvJO6EdOGUK",
        "outputId": "bc26489f-97da-4b51-fb5b-5f54015b1ab5"
      },
      "source": [
        "print('Rapport de prédiction sur la base de test :')\n",
        "print(classification_report(Y_test, tree_predict_test))"
      ],
      "execution_count": 33,
      "outputs": [
        {
          "output_type": "stream",
          "text": [
            "Rapport de prédiction sur la base de test :\n",
            "              precision    recall  f1-score   support\n",
            "\n",
            "           0       0.99      0.98      0.98    282442\n",
            "           1       0.30      0.39      0.34      6004\n",
            "\n",
            "    accuracy                           0.97    288446\n",
            "   macro avg       0.65      0.69      0.66    288446\n",
            "weighted avg       0.97      0.97      0.97    288446\n",
            "\n"
          ],
          "name": "stdout"
        }
      ]
    },
    {
      "cell_type": "code",
      "metadata": {
        "colab": {
          "base_uri": "https://localhost:8080/"
        },
        "id": "CgZZu7_9UpMs",
        "outputId": "4084a832-439a-4b64-c473-5b1d5c743488"
      },
      "source": [
        "#calcul de la matrice de confusion \n",
        "print('Matrice de confusion')\n",
        "confu_tree = confusion_matrix(Y_test,tree_predict_test)\n",
        "print(confu_tree)  "
      ],
      "execution_count": 34,
      "outputs": [
        {
          "output_type": "stream",
          "text": [
            "Matrice de confusion\n",
            "[[277082   5360]\n",
            " [  3663   2341]]\n"
          ],
          "name": "stdout"
        }
      ]
    },
    {
      "cell_type": "markdown",
      "metadata": {
        "id": "90kqqrvsOeh-"
      },
      "source": [
        "On observe encore une fois une très bonne performance du modèle sur les observations ne correspondant pas à un feu de forêt. \n",
        "\n",
        "En ce qui concerne les observations correspondant à un feu de forêt (*Départ de feu* == 1), le modèle affiche de meilleures performances en précision et en recall (il est passé de 0.2 à 0.39 !). Le nombre de vrais positifs a fortement augmenté (près du double).\n",
        "Cela est encourageant, néanmoins nous sommes encore loin d'une prédiction satisfaisante."
      ]
    },
    {
      "cell_type": "markdown",
      "metadata": {
        "id": "2FL5Q934PKVW"
      },
      "source": [
        "### **Modèle 2 : Random forest**"
      ]
    },
    {
      "cell_type": "markdown",
      "metadata": {
        "id": "Y2MGIzjfPf_a"
      },
      "source": [
        "Le modèle *Random Forest* est censé nous livrer de meilleurs résultats qu'un arbre de décision seul.\n",
        "\n",
        "**Entraînement**"
      ]
    },
    {
      "cell_type": "code",
      "metadata": {
        "id": "hxFz05rUybOh"
      },
      "source": [
        "from sklearn.ensemble import RandomForestClassifier"
      ],
      "execution_count": 42,
      "outputs": []
    },
    {
      "cell_type": "code",
      "metadata": {
        "id": "tdNrVfaoPKDK"
      },
      "source": [
        "#Attention : cellule longue à exécuter\n",
        "rfc = RandomForestClassifier()\n",
        "rfc = rfc.fit(X_train, Y_train)"
      ],
      "execution_count": 43,
      "outputs": []
    },
    {
      "cell_type": "markdown",
      "metadata": {
        "id": "uArpQGOsPo0Y"
      },
      "source": [
        "**Evaluation**"
      ]
    },
    {
      "cell_type": "code",
      "metadata": {
        "id": "sRC4ecOXPrwd"
      },
      "source": [
        "rfc_predict_test = rfc.predict(X_test)"
      ],
      "execution_count": 44,
      "outputs": []
    },
    {
      "cell_type": "code",
      "metadata": {
        "colab": {
          "base_uri": "https://localhost:8080/"
        },
        "id": "JHrXWX2qRuWK",
        "outputId": "30471e34-d8ec-4cbe-8ddb-dad7aafb54cd"
      },
      "source": [
        "#calcul de la matrice de confusion \n",
        "print('Matrice de confusion')\n",
        "confu_rfc = confusion_matrix(Y_test,rfc_predict_test)\n",
        "print(confu_rfc)  "
      ],
      "execution_count": 45,
      "outputs": [
        {
          "output_type": "stream",
          "text": [
            "Matrice de confusion\n",
            "[[281994    448]\n",
            " [  4197   1807]]\n"
          ],
          "name": "stdout"
        }
      ]
    },
    {
      "cell_type": "code",
      "metadata": {
        "colab": {
          "base_uri": "https://localhost:8080/"
        },
        "id": "5OIt_UNYRAwf",
        "outputId": "65f5602a-1543-4f46-c75d-649106456d86"
      },
      "source": [
        "print('Rapport de prédiction sur la base de test :')\n",
        "print(classification_report(Y_test, rfc_predict_test))"
      ],
      "execution_count": 46,
      "outputs": [
        {
          "output_type": "stream",
          "text": [
            "Rapport de prédiction sur la base de test :\n",
            "              precision    recall  f1-score   support\n",
            "\n",
            "           0       0.99      1.00      0.99    282442\n",
            "           1       0.80      0.30      0.44      6004\n",
            "\n",
            "    accuracy                           0.98    288446\n",
            "   macro avg       0.89      0.65      0.71    288446\n",
            "weighted avg       0.98      0.98      0.98    288446\n",
            "\n"
          ],
          "name": "stdout"
        }
      ]
    },
    {
      "cell_type": "markdown",
      "metadata": {
        "id": "oIxpP2OGR0tf"
      },
      "source": [
        "Notre travail commence à porter ses fruits : \n",
        "\n",
        "Le modèle *Random Forest* a une excellente performance sur les observations ne correspondant pas à un feu de forêt. \n",
        "\n",
        "Concernant les observations correspondant à un feu de forêt, la précision s'est grandement améliorée et commence à devenir intéressante. La part de faux positifs a diminué ( $ = 1 - precision_1 $), comme on peut l'obverser sur la matrice de confusion (cellule 1,1). Le modèle arrive à mieux reconnaître les observations ne correspondant pas à un feu de forêt. \n",
        "\n",
        "Néanmoins, $recall_1$ demeure faible : le modèle a des difficultés à reconnaître lorsqu'une observation correspond à un feu de forêt. Ce recall est même mieux avec l'arbre de décision (0.39) qu'avec la random forest (0.29).\n",
        "\n",
        "\n"
      ]
    },
    {
      "cell_type": "markdown",
      "metadata": {
        "id": "PumRkg9Rm2g8"
      },
      "source": [
        "### **Et l'overfit ?**\n",
        "\n",
        "De la même manière que dans la sous-partie précédente, nous allons vérifier si nos modèles ont overfitté ou non. "
      ]
    },
    {
      "cell_type": "code",
      "metadata": {
        "colab": {
          "base_uri": "https://localhost:8080/"
        },
        "id": "Skm0ojb7mqpl",
        "outputId": "69b1c931-e18e-400b-cd28-ffdfad68f5b9"
      },
      "source": [
        "tree_predict_train = tree.predict(X_train)\n",
        "print('Rapport de prédiction sur la base de train :')\n",
        "print(classification_report(Y_train, tree_predict_train))"
      ],
      "execution_count": 47,
      "outputs": [
        {
          "output_type": "stream",
          "text": [
            "Rapport de prédiction sur la base de train :\n",
            "              precision    recall  f1-score   support\n",
            "\n",
            "           0       1.00      1.00      1.00   1130033\n",
            "           1       1.00      1.00      1.00     23751\n",
            "\n",
            "    accuracy                           1.00   1153784\n",
            "   macro avg       1.00      1.00      1.00   1153784\n",
            "weighted avg       1.00      1.00      1.00   1153784\n",
            "\n"
          ],
          "name": "stdout"
        }
      ]
    },
    {
      "cell_type": "code",
      "metadata": {
        "colab": {
          "base_uri": "https://localhost:8080/"
        },
        "id": "UBz3N3_Vm0hW",
        "outputId": "8094eed6-cda4-444f-b418-ef40643a13df"
      },
      "source": [
        "rfc_predict_train = rfc.predict(X_train)\n",
        "print('Rapport de prédiction sur la base de train:')\n",
        "print(classification_report(Y_train, rfc_predict_train))"
      ],
      "execution_count": 48,
      "outputs": [
        {
          "output_type": "stream",
          "text": [
            "Rapport de prédiction sur la base de train:\n",
            "              precision    recall  f1-score   support\n",
            "\n",
            "           0       1.00      1.00      1.00   1130033\n",
            "           1       1.00      1.00      1.00     23751\n",
            "\n",
            "    accuracy                           1.00   1153784\n",
            "   macro avg       1.00      1.00      1.00   1153784\n",
            "weighted avg       1.00      1.00      1.00   1153784\n",
            "\n"
          ],
          "name": "stdout"
        }
      ]
    },
    {
      "cell_type": "markdown",
      "metadata": {
        "id": "ZpQ4SBr0so0t"
      },
      "source": [
        "Les deux modèles ont overfitté. Cela explique qu'il se généralise si mal aux données de la base Test (données qu'il n'a pas rencontrées auparavant). \n",
        "Un moyen de lutter contre ce surapprentissage est la méthode de la Validation Croisée (*cross validation*).\n"
      ]
    },
    {
      "cell_type": "markdown",
      "metadata": {
        "id": "h6th1uR8Vo6b"
      },
      "source": [
        "## **B.2. Prédiction de la surface brûlée par un feu**"
      ]
    },
    {
      "cell_type": "markdown",
      "metadata": {
        "id": "GsLQZY5yUpMv"
      },
      "source": [
        "Dans cette toute dernière partie on retest le réseau de neurones avec les nouvelles features. De même que précédemment, l'arbre de décision et la random forest donnent de très mauvais résultats. On laisse seulement le code du réseau de neurones.\n",
        "\n",
        "On va même ajouter 2 nouvelles features qui étaient beaucoup trop longues à faire tourner sur la base de données avec tous les relevés météo. Ici, on s'intéresse seulement aux relevés avec départ de feu.\n",
        "\n",
        "Ces 2 nouvelles features sont \"la quantité moyenne de précipitation de la semaine précédent le relevé\" et \"la moyenne de température des deux semaines précédent le relevé\"."
      ]
    },
    {
      "cell_type": "markdown",
      "metadata": {
        "id": "E6ogSYXZUpMv"
      },
      "source": [
        "On garde les mêmes features que précédemment et seulement les lignes sans valeurs manquantes et où il y a eu départ de feu (grâce au dropna)."
      ]
    },
    {
      "cell_type": "markdown",
      "metadata": {
        "id": "BJAyr3UFUpMw"
      },
      "source": [
        "**Création de variables**\n",
        "\n",
        "On crée une variable nous donnant la **quantité moyenne de précipitation de la semaine précédent le relevé**.\n",
        "\n",
        "Comme il y a des relevés toutes les 3 heures, une semaine correspond à 56 relevés. Pour chaque ligne, on somme donc sa quantité de précipitation avec les 55 précédentes (la base est déjà ordonnée par date). Cela signifie qu'il faudra ignorer la première semaine des données, ce qui n'est pas dramatique étant donnée la taille de base. On fait cela pour chaque station.\n",
        "\n"
      ]
    },
    {
      "cell_type": "markdown",
      "metadata": {
        "id": "JfjNYlalUpMw"
      },
      "source": [
        "*Attention :* la création de ces 2 nouvelles features sont longues à exécuter."
      ]
    },
    {
      "cell_type": "code",
      "metadata": {
        "colab": {
          "base_uri": "https://localhost:8080/",
          "height": 825
        },
        "id": "pCTmaBURrKIT",
        "outputId": "4e922587-30c3-4ddc-f624-e78c6073fccb"
      },
      "source": [
        "df"
      ],
      "execution_count": 49,
      "outputs": [
        {
          "output_type": "execute_result",
          "data": {
            "text/html": [
              "<div>\n",
              "<style scoped>\n",
              "    .dataframe tbody tr th:only-of-type {\n",
              "        vertical-align: middle;\n",
              "    }\n",
              "\n",
              "    .dataframe tbody tr th {\n",
              "        vertical-align: top;\n",
              "    }\n",
              "\n",
              "    .dataframe thead th {\n",
              "        text-align: right;\n",
              "    }\n",
              "</style>\n",
              "<table border=\"1\" class=\"dataframe\">\n",
              "  <thead>\n",
              "    <tr style=\"text-align: right;\">\n",
              "      <th></th>\n",
              "      <th>Départ de feu</th>\n",
              "      <th>Année</th>\n",
              "      <th>Date de première alerte</th>\n",
              "      <th>Département</th>\n",
              "      <th>Commune</th>\n",
              "      <th>Code postal</th>\n",
              "      <th>Code INSEE</th>\n",
              "      <th>Latitude commune</th>\n",
              "      <th>Longitude commune</th>\n",
              "      <th>Surface brûlée (m2)</th>\n",
              "      <th>Surface forêt (m2)</th>\n",
              "      <th>Surface autres terres boisées (m2)</th>\n",
              "      <th>Surfaces non boisées naturelles (m2)</th>\n",
              "      <th>Surfaces non boisées artificialisées (m2)</th>\n",
              "      <th>Surfaces non boisées (m2)</th>\n",
              "      <th>Nom station</th>\n",
              "      <th>id_station</th>\n",
              "      <th>Latitude station</th>\n",
              "      <th>Longitude station</th>\n",
              "      <th>Altitude station</th>\n",
              "      <th>Date</th>\n",
              "      <th>Température (°C)</th>\n",
              "      <th>Précipitations (3 heures)</th>\n",
              "      <th>Humidité (%)</th>\n",
              "      <th>Vitesse du vent (m/s)</th>\n",
              "      <th>Mois propice</th>\n",
              "      <th>Zone propice</th>\n",
              "    </tr>\n",
              "  </thead>\n",
              "  <tbody>\n",
              "    <tr>\n",
              "      <th>0</th>\n",
              "      <td>0</td>\n",
              "      <td>NaN</td>\n",
              "      <td>NaN</td>\n",
              "      <td>NaN</td>\n",
              "      <td>NaN</td>\n",
              "      <td>NaN</td>\n",
              "      <td>NaN</td>\n",
              "      <td>NaN</td>\n",
              "      <td>NaN</td>\n",
              "      <td>NaN</td>\n",
              "      <td>NaN</td>\n",
              "      <td>NaN</td>\n",
              "      <td>NaN</td>\n",
              "      <td>NaN</td>\n",
              "      <td>NaN</td>\n",
              "      <td>ABBEVILLE</td>\n",
              "      <td>7005</td>\n",
              "      <td>50.136000</td>\n",
              "      <td>1.834</td>\n",
              "      <td>69</td>\n",
              "      <td>2006-01-01 00:00:00</td>\n",
              "      <td>4.0</td>\n",
              "      <td>2.0</td>\n",
              "      <td>92.0</td>\n",
              "      <td>5.1</td>\n",
              "      <td>NaN</td>\n",
              "      <td>NaN</td>\n",
              "    </tr>\n",
              "    <tr>\n",
              "      <th>1</th>\n",
              "      <td>0</td>\n",
              "      <td>NaN</td>\n",
              "      <td>NaN</td>\n",
              "      <td>NaN</td>\n",
              "      <td>NaN</td>\n",
              "      <td>NaN</td>\n",
              "      <td>NaN</td>\n",
              "      <td>NaN</td>\n",
              "      <td>NaN</td>\n",
              "      <td>NaN</td>\n",
              "      <td>NaN</td>\n",
              "      <td>NaN</td>\n",
              "      <td>NaN</td>\n",
              "      <td>NaN</td>\n",
              "      <td>NaN</td>\n",
              "      <td>ABBEVILLE</td>\n",
              "      <td>7005</td>\n",
              "      <td>50.136000</td>\n",
              "      <td>1.834</td>\n",
              "      <td>69</td>\n",
              "      <td>2006-01-01 03:00:00</td>\n",
              "      <td>3.7</td>\n",
              "      <td>0.0</td>\n",
              "      <td>91.0</td>\n",
              "      <td>4.1</td>\n",
              "      <td>NaN</td>\n",
              "      <td>NaN</td>\n",
              "    </tr>\n",
              "    <tr>\n",
              "      <th>2</th>\n",
              "      <td>0</td>\n",
              "      <td>NaN</td>\n",
              "      <td>NaN</td>\n",
              "      <td>NaN</td>\n",
              "      <td>NaN</td>\n",
              "      <td>NaN</td>\n",
              "      <td>NaN</td>\n",
              "      <td>NaN</td>\n",
              "      <td>NaN</td>\n",
              "      <td>NaN</td>\n",
              "      <td>NaN</td>\n",
              "      <td>NaN</td>\n",
              "      <td>NaN</td>\n",
              "      <td>NaN</td>\n",
              "      <td>NaN</td>\n",
              "      <td>ABBEVILLE</td>\n",
              "      <td>7005</td>\n",
              "      <td>50.136000</td>\n",
              "      <td>1.834</td>\n",
              "      <td>69</td>\n",
              "      <td>2006-01-01 06:00:00</td>\n",
              "      <td>3.1</td>\n",
              "      <td>3.0</td>\n",
              "      <td>92.0</td>\n",
              "      <td>5.1</td>\n",
              "      <td>NaN</td>\n",
              "      <td>NaN</td>\n",
              "    </tr>\n",
              "    <tr>\n",
              "      <th>3</th>\n",
              "      <td>0</td>\n",
              "      <td>NaN</td>\n",
              "      <td>NaN</td>\n",
              "      <td>NaN</td>\n",
              "      <td>NaN</td>\n",
              "      <td>NaN</td>\n",
              "      <td>NaN</td>\n",
              "      <td>NaN</td>\n",
              "      <td>NaN</td>\n",
              "      <td>NaN</td>\n",
              "      <td>NaN</td>\n",
              "      <td>NaN</td>\n",
              "      <td>NaN</td>\n",
              "      <td>NaN</td>\n",
              "      <td>NaN</td>\n",
              "      <td>ABBEVILLE</td>\n",
              "      <td>7005</td>\n",
              "      <td>50.136000</td>\n",
              "      <td>1.834</td>\n",
              "      <td>69</td>\n",
              "      <td>2006-01-01 09:00:00</td>\n",
              "      <td>4.7</td>\n",
              "      <td>0.6</td>\n",
              "      <td>96.0</td>\n",
              "      <td>3.1</td>\n",
              "      <td>NaN</td>\n",
              "      <td>NaN</td>\n",
              "    </tr>\n",
              "    <tr>\n",
              "      <th>4</th>\n",
              "      <td>0</td>\n",
              "      <td>NaN</td>\n",
              "      <td>NaN</td>\n",
              "      <td>NaN</td>\n",
              "      <td>NaN</td>\n",
              "      <td>NaN</td>\n",
              "      <td>NaN</td>\n",
              "      <td>NaN</td>\n",
              "      <td>NaN</td>\n",
              "      <td>NaN</td>\n",
              "      <td>NaN</td>\n",
              "      <td>NaN</td>\n",
              "      <td>NaN</td>\n",
              "      <td>NaN</td>\n",
              "      <td>NaN</td>\n",
              "      <td>ABBEVILLE</td>\n",
              "      <td>7005</td>\n",
              "      <td>50.136000</td>\n",
              "      <td>1.834</td>\n",
              "      <td>69</td>\n",
              "      <td>2006-01-01 12:00:00</td>\n",
              "      <td>6.1</td>\n",
              "      <td>2.0</td>\n",
              "      <td>94.0</td>\n",
              "      <td>5.1</td>\n",
              "      <td>NaN</td>\n",
              "      <td>NaN</td>\n",
              "    </tr>\n",
              "    <tr>\n",
              "      <th>...</th>\n",
              "      <td>...</td>\n",
              "      <td>...</td>\n",
              "      <td>...</td>\n",
              "      <td>...</td>\n",
              "      <td>...</td>\n",
              "      <td>...</td>\n",
              "      <td>...</td>\n",
              "      <td>...</td>\n",
              "      <td>...</td>\n",
              "      <td>...</td>\n",
              "      <td>...</td>\n",
              "      <td>...</td>\n",
              "      <td>...</td>\n",
              "      <td>...</td>\n",
              "      <td>...</td>\n",
              "      <td>...</td>\n",
              "      <td>...</td>\n",
              "      <td>...</td>\n",
              "      <td>...</td>\n",
              "      <td>...</td>\n",
              "      <td>...</td>\n",
              "      <td>...</td>\n",
              "      <td>...</td>\n",
              "      <td>...</td>\n",
              "      <td>...</td>\n",
              "      <td>...</td>\n",
              "      <td>...</td>\n",
              "    </tr>\n",
              "    <tr>\n",
              "      <th>2363072</th>\n",
              "      <td>0</td>\n",
              "      <td>NaN</td>\n",
              "      <td>NaN</td>\n",
              "      <td>NaN</td>\n",
              "      <td>NaN</td>\n",
              "      <td>NaN</td>\n",
              "      <td>NaN</td>\n",
              "      <td>NaN</td>\n",
              "      <td>NaN</td>\n",
              "      <td>NaN</td>\n",
              "      <td>NaN</td>\n",
              "      <td>NaN</td>\n",
              "      <td>NaN</td>\n",
              "      <td>NaN</td>\n",
              "      <td>NaN</td>\n",
              "      <td>DUMONT D'URVILLE</td>\n",
              "      <td>89642</td>\n",
              "      <td>-66.663167</td>\n",
              "      <td>140.001</td>\n",
              "      <td>43</td>\n",
              "      <td>2019-12-31 00:00:00</td>\n",
              "      <td>0.7</td>\n",
              "      <td>NaN</td>\n",
              "      <td>62.0</td>\n",
              "      <td>28.3</td>\n",
              "      <td>0.016747</td>\n",
              "      <td>NaN</td>\n",
              "    </tr>\n",
              "    <tr>\n",
              "      <th>2363073</th>\n",
              "      <td>0</td>\n",
              "      <td>NaN</td>\n",
              "      <td>NaN</td>\n",
              "      <td>NaN</td>\n",
              "      <td>NaN</td>\n",
              "      <td>NaN</td>\n",
              "      <td>NaN</td>\n",
              "      <td>NaN</td>\n",
              "      <td>NaN</td>\n",
              "      <td>NaN</td>\n",
              "      <td>NaN</td>\n",
              "      <td>NaN</td>\n",
              "      <td>NaN</td>\n",
              "      <td>NaN</td>\n",
              "      <td>NaN</td>\n",
              "      <td>DUMONT D'URVILLE</td>\n",
              "      <td>89642</td>\n",
              "      <td>-66.663167</td>\n",
              "      <td>140.001</td>\n",
              "      <td>43</td>\n",
              "      <td>2019-12-31 12:00:00</td>\n",
              "      <td>1.7</td>\n",
              "      <td>NaN</td>\n",
              "      <td>74.0</td>\n",
              "      <td>23.1</td>\n",
              "      <td>0.016747</td>\n",
              "      <td>NaN</td>\n",
              "    </tr>\n",
              "    <tr>\n",
              "      <th>2363074</th>\n",
              "      <td>0</td>\n",
              "      <td>NaN</td>\n",
              "      <td>NaN</td>\n",
              "      <td>NaN</td>\n",
              "      <td>NaN</td>\n",
              "      <td>NaN</td>\n",
              "      <td>NaN</td>\n",
              "      <td>NaN</td>\n",
              "      <td>NaN</td>\n",
              "      <td>NaN</td>\n",
              "      <td>NaN</td>\n",
              "      <td>NaN</td>\n",
              "      <td>NaN</td>\n",
              "      <td>NaN</td>\n",
              "      <td>NaN</td>\n",
              "      <td>DUMONT D'URVILLE</td>\n",
              "      <td>89642</td>\n",
              "      <td>-66.663167</td>\n",
              "      <td>140.001</td>\n",
              "      <td>43</td>\n",
              "      <td>2019-12-31 15:00:00</td>\n",
              "      <td>1.0</td>\n",
              "      <td>NaN</td>\n",
              "      <td>78.0</td>\n",
              "      <td>18.0</td>\n",
              "      <td>0.016747</td>\n",
              "      <td>NaN</td>\n",
              "    </tr>\n",
              "    <tr>\n",
              "      <th>2363075</th>\n",
              "      <td>0</td>\n",
              "      <td>NaN</td>\n",
              "      <td>NaN</td>\n",
              "      <td>NaN</td>\n",
              "      <td>NaN</td>\n",
              "      <td>NaN</td>\n",
              "      <td>NaN</td>\n",
              "      <td>NaN</td>\n",
              "      <td>NaN</td>\n",
              "      <td>NaN</td>\n",
              "      <td>NaN</td>\n",
              "      <td>NaN</td>\n",
              "      <td>NaN</td>\n",
              "      <td>NaN</td>\n",
              "      <td>NaN</td>\n",
              "      <td>DUMONT D'URVILLE</td>\n",
              "      <td>89642</td>\n",
              "      <td>-66.663167</td>\n",
              "      <td>140.001</td>\n",
              "      <td>43</td>\n",
              "      <td>2019-12-31 18:00:00</td>\n",
              "      <td>1.0</td>\n",
              "      <td>NaN</td>\n",
              "      <td>72.0</td>\n",
              "      <td>20.6</td>\n",
              "      <td>0.016747</td>\n",
              "      <td>NaN</td>\n",
              "    </tr>\n",
              "    <tr>\n",
              "      <th>2363076</th>\n",
              "      <td>0</td>\n",
              "      <td>NaN</td>\n",
              "      <td>NaN</td>\n",
              "      <td>NaN</td>\n",
              "      <td>NaN</td>\n",
              "      <td>NaN</td>\n",
              "      <td>NaN</td>\n",
              "      <td>NaN</td>\n",
              "      <td>NaN</td>\n",
              "      <td>NaN</td>\n",
              "      <td>NaN</td>\n",
              "      <td>NaN</td>\n",
              "      <td>NaN</td>\n",
              "      <td>NaN</td>\n",
              "      <td>NaN</td>\n",
              "      <td>DUMONT D'URVILLE</td>\n",
              "      <td>89642</td>\n",
              "      <td>-66.663167</td>\n",
              "      <td>140.001</td>\n",
              "      <td>43</td>\n",
              "      <td>2019-12-31 21:00:00</td>\n",
              "      <td>0.6</td>\n",
              "      <td>NaN</td>\n",
              "      <td>73.0</td>\n",
              "      <td>21.6</td>\n",
              "      <td>0.016747</td>\n",
              "      <td>NaN</td>\n",
              "    </tr>\n",
              "  </tbody>\n",
              "</table>\n",
              "<p>2363077 rows × 27 columns</p>\n",
              "</div>"
            ],
            "text/plain": [
              "         Départ de feu  Année  ... Mois propice Zone propice\n",
              "0                    0    NaN  ...          NaN          NaN\n",
              "1                    0    NaN  ...          NaN          NaN\n",
              "2                    0    NaN  ...          NaN          NaN\n",
              "3                    0    NaN  ...          NaN          NaN\n",
              "4                    0    NaN  ...          NaN          NaN\n",
              "...                ...    ...  ...          ...          ...\n",
              "2363072              0    NaN  ...     0.016747          NaN\n",
              "2363073              0    NaN  ...     0.016747          NaN\n",
              "2363074              0    NaN  ...     0.016747          NaN\n",
              "2363075              0    NaN  ...     0.016747          NaN\n",
              "2363076              0    NaN  ...     0.016747          NaN\n",
              "\n",
              "[2363077 rows x 27 columns]"
            ]
          },
          "metadata": {
            "tags": []
          },
          "execution_count": 49
        }
      ]
    },
    {
      "cell_type": "code",
      "metadata": {
        "colab": {
          "base_uri": "https://localhost:8080/"
        },
        "id": "GG09VlXdYXQI",
        "outputId": "afbe7076-836c-47c9-fd5f-439321a6bfc1"
      },
      "source": [
        "import math\n",
        "from tqdm import tqdm\n",
        "tqdm.pandas()\n",
        "df['Index']=df.index\n",
        "df_feu=df[df['Départ de feu']==1]\n",
        "df_feu['Index']=df_feu.index"
      ],
      "execution_count": 50,
      "outputs": [
        {
          "output_type": "stream",
          "text": [
            "/usr/local/lib/python3.6/dist-packages/ipykernel_launcher.py:6: SettingWithCopyWarning: \n",
            "A value is trying to be set on a copy of a slice from a DataFrame.\n",
            "Try using .loc[row_indexer,col_indexer] = value instead\n",
            "\n",
            "See the caveats in the documentation: https://pandas.pydata.org/pandas-docs/stable/user_guide/indexing.html#returning-a-view-versus-a-copy\n",
            "  \n"
          ],
          "name": "stderr"
        }
      ]
    },
    {
      "cell_type": "code",
      "metadata": {
        "id": "JS3_3jYAUpMx"
      },
      "source": [
        "def moyenne_precipitations(index):\n",
        "    if math.isnan(df.iloc[index,16]):\n",
        "        return np.nan\n",
        "    sub = df[df['id_station'] == df.iloc[index,16]]  #on se restreint aux relevés d'une même station. La base est ordonnée par station donc les index restent dans le bon ordre et se suivent\n",
        "    if index >= 55 and index+1 <= df.shape[0]:\n",
        "        sub = sub[sub['Index'].between(index-54,index+1)]        #on garde prend les 55 relevés précédents\n",
        "        return sub['Précipitations (3 heures)'].sum(axis=0)/56   #on fait la moyenne pour les relevés pertinents\n",
        "    else:\n",
        "        return np.nan   #pour les premier relevés, on ne peut pas avoir la moyenne de la semaine précédente, la valeur est NaN"
      ],
      "execution_count": 51,
      "outputs": []
    },
    {
      "cell_type": "code",
      "metadata": {
        "colab": {
          "base_uri": "https://localhost:8080/"
        },
        "id": "CDYkifU3UpMx",
        "outputId": "7ebca792-a540-4d44-ce6f-eadc29c86932"
      },
      "source": [
        "df_feu['Précipitation semaine'] = df_feu['Index'].progress_apply(lambda row: moyenne_precipitations(row))"
      ],
      "execution_count": 52,
      "outputs": [
        {
          "output_type": "stream",
          "text": [
            "100%|██████████| 33080/33080 [06:44<00:00, 81.76it/s]\n",
            "/usr/local/lib/python3.6/dist-packages/ipykernel_launcher.py:1: SettingWithCopyWarning: \n",
            "A value is trying to be set on a copy of a slice from a DataFrame.\n",
            "Try using .loc[row_indexer,col_indexer] = value instead\n",
            "\n",
            "See the caveats in the documentation: https://pandas.pydata.org/pandas-docs/stable/user_guide/indexing.html#returning-a-view-versus-a-copy\n",
            "  \"\"\"Entry point for launching an IPython kernel.\n"
          ],
          "name": "stderr"
        }
      ]
    },
    {
      "cell_type": "markdown",
      "metadata": {
        "id": "5ZpjeobwUpMx"
      },
      "source": [
        "On crée également une variable nous donnant la moyenne de température des deux semaines précédent le relevé (moyenne avec les 111 relevés précedents donc)."
      ]
    },
    {
      "cell_type": "code",
      "metadata": {
        "id": "cPvOObjik6fi"
      },
      "source": [
        "def moyenne_temperature(index):\n",
        "    if math.isnan(df.iloc[index,16]):\n",
        "        return np.nan\n",
        "    sub = df[df['id_station'] == df.iloc[index,16]]  #on se restreint aux relevés d'une même station. La base est ordonnée par station donc les index restent dans le bon ordre et se suivent\n",
        "    if index >= 111 and index+1 <= df.shape[0]:\n",
        "        sub = sub[sub['Index'].between(index-110,index+1)]        #on garde prend les 111 relevés précédents\n",
        "        return sub['Température (°C)'].sum(axis=0)/112   #on fait la moyenne pour les relevés pertinents\n",
        "    else:\n",
        "        return np.nan   #pour les premier relevés, on ne peut pas avoir la moyenne de la semaine précédente, la valeur est NaN"
      ],
      "execution_count": 53,
      "outputs": []
    },
    {
      "cell_type": "code",
      "metadata": {
        "colab": {
          "base_uri": "https://localhost:8080/"
        },
        "id": "8At6DvNZUpMy",
        "outputId": "e04abfda-57ea-4f8b-d8da-f15e509cdee6"
      },
      "source": [
        "df_feu['Température semaine'] = df_feu['Index'].progress_apply(lambda row: moyenne_temperature(row))"
      ],
      "execution_count": 54,
      "outputs": [
        {
          "output_type": "stream",
          "text": [
            "100%|██████████| 33080/33080 [06:42<00:00, 82.19it/s]\n",
            "/usr/local/lib/python3.6/dist-packages/ipykernel_launcher.py:1: SettingWithCopyWarning: \n",
            "A value is trying to be set on a copy of a slice from a DataFrame.\n",
            "Try using .loc[row_indexer,col_indexer] = value instead\n",
            "\n",
            "See the caveats in the documentation: https://pandas.pydata.org/pandas-docs/stable/user_guide/indexing.html#returning-a-view-versus-a-copy\n",
            "  \"\"\"Entry point for launching an IPython kernel.\n"
          ],
          "name": "stderr"
        }
      ]
    },
    {
      "cell_type": "code",
      "metadata": {
        "id": "SDphMZRJpNas",
        "colab": {
          "base_uri": "https://localhost:8080/",
          "height": 842
        },
        "outputId": "8011ccbb-4e6a-4be8-95fa-1d127c86bbe9"
      },
      "source": [
        "df_feu"
      ],
      "execution_count": 55,
      "outputs": [
        {
          "output_type": "execute_result",
          "data": {
            "text/html": [
              "<div>\n",
              "<style scoped>\n",
              "    .dataframe tbody tr th:only-of-type {\n",
              "        vertical-align: middle;\n",
              "    }\n",
              "\n",
              "    .dataframe tbody tr th {\n",
              "        vertical-align: top;\n",
              "    }\n",
              "\n",
              "    .dataframe thead th {\n",
              "        text-align: right;\n",
              "    }\n",
              "</style>\n",
              "<table border=\"1\" class=\"dataframe\">\n",
              "  <thead>\n",
              "    <tr style=\"text-align: right;\">\n",
              "      <th></th>\n",
              "      <th>Départ de feu</th>\n",
              "      <th>Année</th>\n",
              "      <th>Date de première alerte</th>\n",
              "      <th>Département</th>\n",
              "      <th>Commune</th>\n",
              "      <th>Code postal</th>\n",
              "      <th>Code INSEE</th>\n",
              "      <th>Latitude commune</th>\n",
              "      <th>Longitude commune</th>\n",
              "      <th>Surface brûlée (m2)</th>\n",
              "      <th>Surface forêt (m2)</th>\n",
              "      <th>Surface autres terres boisées (m2)</th>\n",
              "      <th>Surfaces non boisées naturelles (m2)</th>\n",
              "      <th>Surfaces non boisées artificialisées (m2)</th>\n",
              "      <th>Surfaces non boisées (m2)</th>\n",
              "      <th>Nom station</th>\n",
              "      <th>id_station</th>\n",
              "      <th>Latitude station</th>\n",
              "      <th>Longitude station</th>\n",
              "      <th>Altitude station</th>\n",
              "      <th>Date</th>\n",
              "      <th>Température (°C)</th>\n",
              "      <th>Précipitations (3 heures)</th>\n",
              "      <th>Humidité (%)</th>\n",
              "      <th>Vitesse du vent (m/s)</th>\n",
              "      <th>Mois propice</th>\n",
              "      <th>Zone propice</th>\n",
              "      <th>Index</th>\n",
              "      <th>Précipitation semaine</th>\n",
              "      <th>Température semaine</th>\n",
              "    </tr>\n",
              "  </thead>\n",
              "  <tbody>\n",
              "    <tr>\n",
              "      <th>68054</th>\n",
              "      <td>1</td>\n",
              "      <td>2015.0</td>\n",
              "      <td>2015-05-12 16:17:00</td>\n",
              "      <td>02</td>\n",
              "      <td>LE NOUVION EN THIERACHE</td>\n",
              "      <td>02170</td>\n",
              "      <td>02558</td>\n",
              "      <td>50.01670</td>\n",
              "      <td>3.78333</td>\n",
              "      <td>1000.0</td>\n",
              "      <td>1000.0</td>\n",
              "      <td>0.0</td>\n",
              "      <td>0.0</td>\n",
              "      <td>0.0</td>\n",
              "      <td>0.0</td>\n",
              "      <td>LILLE-LESQUIN</td>\n",
              "      <td>7015</td>\n",
              "      <td>50.570000</td>\n",
              "      <td>3.097500</td>\n",
              "      <td>47</td>\n",
              "      <td>2015-05-12 15:00:00</td>\n",
              "      <td>18.3</td>\n",
              "      <td>0.0</td>\n",
              "      <td>44.0</td>\n",
              "      <td>8.8</td>\n",
              "      <td>0.061103</td>\n",
              "      <td>NaN</td>\n",
              "      <td>68054</td>\n",
              "      <td>0.007143</td>\n",
              "      <td>13.246429</td>\n",
              "    </tr>\n",
              "    <tr>\n",
              "      <th>88139</th>\n",
              "      <td>1</td>\n",
              "      <td>2008.0</td>\n",
              "      <td>2008-04-16 19:16:00</td>\n",
              "      <td>50</td>\n",
              "      <td>BESNEVILLE</td>\n",
              "      <td>50390</td>\n",
              "      <td>50049</td>\n",
              "      <td>49.36670</td>\n",
              "      <td>-1.63333</td>\n",
              "      <td>40000.0</td>\n",
              "      <td>0.0</td>\n",
              "      <td>20000.0</td>\n",
              "      <td>20000.0</td>\n",
              "      <td>0.0</td>\n",
              "      <td>20000.0</td>\n",
              "      <td>PTE DE LA HAGUE</td>\n",
              "      <td>7020</td>\n",
              "      <td>49.725167</td>\n",
              "      <td>-1.939833</td>\n",
              "      <td>6</td>\n",
              "      <td>2008-04-16 18:00:00</td>\n",
              "      <td>10.0</td>\n",
              "      <td>0.0</td>\n",
              "      <td>63.0</td>\n",
              "      <td>7.2</td>\n",
              "      <td>0.091567</td>\n",
              "      <td>NaN</td>\n",
              "      <td>88139</td>\n",
              "      <td>0.057143</td>\n",
              "      <td>8.213393</td>\n",
              "    </tr>\n",
              "    <tr>\n",
              "      <th>99242</th>\n",
              "      <td>1</td>\n",
              "      <td>2012.0</td>\n",
              "      <td>2012-04-03 15:21:00</td>\n",
              "      <td>50</td>\n",
              "      <td>LESSAY</td>\n",
              "      <td>50430</td>\n",
              "      <td>50267</td>\n",
              "      <td>49.21670</td>\n",
              "      <td>-1.53333</td>\n",
              "      <td>100000.0</td>\n",
              "      <td>0.0</td>\n",
              "      <td>100000.0</td>\n",
              "      <td>0.0</td>\n",
              "      <td>0.0</td>\n",
              "      <td>0.0</td>\n",
              "      <td>PTE DE LA HAGUE</td>\n",
              "      <td>7020</td>\n",
              "      <td>49.725167</td>\n",
              "      <td>-1.939833</td>\n",
              "      <td>6</td>\n",
              "      <td>2012-04-03 15:00:00</td>\n",
              "      <td>11.4</td>\n",
              "      <td>0.0</td>\n",
              "      <td>78.0</td>\n",
              "      <td>4.1</td>\n",
              "      <td>0.089479</td>\n",
              "      <td>0.000067</td>\n",
              "      <td>99242</td>\n",
              "      <td>0.007143</td>\n",
              "      <td>9.307143</td>\n",
              "    </tr>\n",
              "    <tr>\n",
              "      <th>103316</th>\n",
              "      <td>1</td>\n",
              "      <td>2013.0</td>\n",
              "      <td>2013-08-28 21:39:00</td>\n",
              "      <td>50</td>\n",
              "      <td>LESSAY</td>\n",
              "      <td>50430</td>\n",
              "      <td>50267</td>\n",
              "      <td>49.21670</td>\n",
              "      <td>-1.53333</td>\n",
              "      <td>1000.0</td>\n",
              "      <td>0.0</td>\n",
              "      <td>1000.0</td>\n",
              "      <td>0.0</td>\n",
              "      <td>0.0</td>\n",
              "      <td>0.0</td>\n",
              "      <td>PTE DE LA HAGUE</td>\n",
              "      <td>7020</td>\n",
              "      <td>49.725167</td>\n",
              "      <td>-1.939833</td>\n",
              "      <td>6</td>\n",
              "      <td>2013-08-28 21:00:00</td>\n",
              "      <td>11.4</td>\n",
              "      <td>0.0</td>\n",
              "      <td>90.0</td>\n",
              "      <td>0.0</td>\n",
              "      <td>0.165589</td>\n",
              "      <td>0.000114</td>\n",
              "      <td>103316</td>\n",
              "      <td>0.064286</td>\n",
              "      <td>16.840179</td>\n",
              "    </tr>\n",
              "    <tr>\n",
              "      <th>113680</th>\n",
              "      <td>1</td>\n",
              "      <td>2017.0</td>\n",
              "      <td>2017-04-09 17:18:00</td>\n",
              "      <td>50</td>\n",
              "      <td>PIROU</td>\n",
              "      <td>50770</td>\n",
              "      <td>50403</td>\n",
              "      <td>49.18330</td>\n",
              "      <td>-1.58333</td>\n",
              "      <td>6800.0</td>\n",
              "      <td>6800.0</td>\n",
              "      <td>0.0</td>\n",
              "      <td>0.0</td>\n",
              "      <td>0.0</td>\n",
              "      <td>0.0</td>\n",
              "      <td>PTE DE LA HAGUE</td>\n",
              "      <td>7020</td>\n",
              "      <td>49.725167</td>\n",
              "      <td>-1.939833</td>\n",
              "      <td>6</td>\n",
              "      <td>2017-04-09 18:00:00</td>\n",
              "      <td>11.1</td>\n",
              "      <td>0.0</td>\n",
              "      <td>86.0</td>\n",
              "      <td>6.4</td>\n",
              "      <td>0.083454</td>\n",
              "      <td>0.000114</td>\n",
              "      <td>113680</td>\n",
              "      <td>0.058929</td>\n",
              "      <td>11.050893</td>\n",
              "    </tr>\n",
              "    <tr>\n",
              "      <th>...</th>\n",
              "      <td>...</td>\n",
              "      <td>...</td>\n",
              "      <td>...</td>\n",
              "      <td>...</td>\n",
              "      <td>...</td>\n",
              "      <td>...</td>\n",
              "      <td>...</td>\n",
              "      <td>...</td>\n",
              "      <td>...</td>\n",
              "      <td>...</td>\n",
              "      <td>...</td>\n",
              "      <td>...</td>\n",
              "      <td>...</td>\n",
              "      <td>...</td>\n",
              "      <td>...</td>\n",
              "      <td>...</td>\n",
              "      <td>...</td>\n",
              "      <td>...</td>\n",
              "      <td>...</td>\n",
              "      <td>...</td>\n",
              "      <td>...</td>\n",
              "      <td>...</td>\n",
              "      <td>...</td>\n",
              "      <td>...</td>\n",
              "      <td>...</td>\n",
              "      <td>...</td>\n",
              "      <td>...</td>\n",
              "      <td>...</td>\n",
              "      <td>...</td>\n",
              "      <td>...</td>\n",
              "    </tr>\n",
              "    <tr>\n",
              "      <th>1722201</th>\n",
              "      <td>1</td>\n",
              "      <td>2018.0</td>\n",
              "      <td>2018-10-26 00:30:00</td>\n",
              "      <td>974</td>\n",
              "      <td>SAINT DENIS</td>\n",
              "      <td>97490</td>\n",
              "      <td>97411</td>\n",
              "      <td>1.71819</td>\n",
              "      <td>46.71070</td>\n",
              "      <td>300.0</td>\n",
              "      <td>0.0</td>\n",
              "      <td>300.0</td>\n",
              "      <td>0.0</td>\n",
              "      <td>0.0</td>\n",
              "      <td>0.0</td>\n",
              "      <td>GLORIEUSES</td>\n",
              "      <td>61968</td>\n",
              "      <td>-11.582667</td>\n",
              "      <td>47.289667</td>\n",
              "      <td>3</td>\n",
              "      <td>2018-10-26 00:00:00</td>\n",
              "      <td>25.1</td>\n",
              "      <td>0.0</td>\n",
              "      <td>75.0</td>\n",
              "      <td>4.5</td>\n",
              "      <td>0.068166</td>\n",
              "      <td>0.002772</td>\n",
              "      <td>1722201</td>\n",
              "      <td>0.000000</td>\n",
              "      <td>26.829464</td>\n",
              "    </tr>\n",
              "    <tr>\n",
              "      <th>1722276</th>\n",
              "      <td>1</td>\n",
              "      <td>2018.0</td>\n",
              "      <td>2018-11-04 17:16:00</td>\n",
              "      <td>974</td>\n",
              "      <td>SAINT DENIS</td>\n",
              "      <td>97490</td>\n",
              "      <td>97411</td>\n",
              "      <td>1.71819</td>\n",
              "      <td>46.71070</td>\n",
              "      <td>100.0</td>\n",
              "      <td>0.0</td>\n",
              "      <td>100.0</td>\n",
              "      <td>0.0</td>\n",
              "      <td>0.0</td>\n",
              "      <td>0.0</td>\n",
              "      <td>GLORIEUSES</td>\n",
              "      <td>61968</td>\n",
              "      <td>-11.582667</td>\n",
              "      <td>47.289667</td>\n",
              "      <td>3</td>\n",
              "      <td>2018-11-04 18:00:00</td>\n",
              "      <td>25.2</td>\n",
              "      <td>0.0</td>\n",
              "      <td>83.0</td>\n",
              "      <td>0.0</td>\n",
              "      <td>0.025471</td>\n",
              "      <td>0.002772</td>\n",
              "      <td>1722276</td>\n",
              "      <td>0.517857</td>\n",
              "      <td>26.858036</td>\n",
              "    </tr>\n",
              "    <tr>\n",
              "      <th>1724477</th>\n",
              "      <td>1</td>\n",
              "      <td>2019.0</td>\n",
              "      <td>2019-08-21 08:05:00</td>\n",
              "      <td>974</td>\n",
              "      <td>SAINT DENIS</td>\n",
              "      <td>97490</td>\n",
              "      <td>97411</td>\n",
              "      <td>1.71819</td>\n",
              "      <td>46.71070</td>\n",
              "      <td>1541.0</td>\n",
              "      <td>1541.0</td>\n",
              "      <td>0.0</td>\n",
              "      <td>0.0</td>\n",
              "      <td>0.0</td>\n",
              "      <td>0.0</td>\n",
              "      <td>GLORIEUSES</td>\n",
              "      <td>61968</td>\n",
              "      <td>-11.582667</td>\n",
              "      <td>47.289667</td>\n",
              "      <td>3</td>\n",
              "      <td>2019-08-21 09:00:00</td>\n",
              "      <td>26.7</td>\n",
              "      <td>0.0</td>\n",
              "      <td>75.0</td>\n",
              "      <td>1.6</td>\n",
              "      <td>0.176923</td>\n",
              "      <td>0.003448</td>\n",
              "      <td>1724477</td>\n",
              "      <td>0.085714</td>\n",
              "      <td>25.544643</td>\n",
              "    </tr>\n",
              "    <tr>\n",
              "      <th>1725083</th>\n",
              "      <td>1</td>\n",
              "      <td>2019.0</td>\n",
              "      <td>2019-11-11 14:24:00</td>\n",
              "      <td>974</td>\n",
              "      <td>SAINT DENIS</td>\n",
              "      <td>97490</td>\n",
              "      <td>97411</td>\n",
              "      <td>1.71819</td>\n",
              "      <td>46.71070</td>\n",
              "      <td>3835.0</td>\n",
              "      <td>0.0</td>\n",
              "      <td>3835.0</td>\n",
              "      <td>0.0</td>\n",
              "      <td>0.0</td>\n",
              "      <td>0.0</td>\n",
              "      <td>GLORIEUSES</td>\n",
              "      <td>61968</td>\n",
              "      <td>-11.582667</td>\n",
              "      <td>47.289667</td>\n",
              "      <td>3</td>\n",
              "      <td>2019-11-11 15:00:00</td>\n",
              "      <td>27.1</td>\n",
              "      <td>0.0</td>\n",
              "      <td>74.0</td>\n",
              "      <td>2.4</td>\n",
              "      <td>0.024693</td>\n",
              "      <td>0.003448</td>\n",
              "      <td>1725083</td>\n",
              "      <td>0.000000</td>\n",
              "      <td>28.022321</td>\n",
              "    </tr>\n",
              "    <tr>\n",
              "      <th>1725123</th>\n",
              "      <td>1</td>\n",
              "      <td>2019.0</td>\n",
              "      <td>2019-11-16 15:19:00</td>\n",
              "      <td>974</td>\n",
              "      <td>SAINT DENIS</td>\n",
              "      <td>97490</td>\n",
              "      <td>97411</td>\n",
              "      <td>1.71819</td>\n",
              "      <td>46.71070</td>\n",
              "      <td>1100.0</td>\n",
              "      <td>0.0</td>\n",
              "      <td>1100.0</td>\n",
              "      <td>0.0</td>\n",
              "      <td>0.0</td>\n",
              "      <td>0.0</td>\n",
              "      <td>GLORIEUSES</td>\n",
              "      <td>61968</td>\n",
              "      <td>-11.582667</td>\n",
              "      <td>47.289667</td>\n",
              "      <td>3</td>\n",
              "      <td>2019-11-16 15:00:00</td>\n",
              "      <td>28.3</td>\n",
              "      <td>0.0</td>\n",
              "      <td>79.0</td>\n",
              "      <td>1.5</td>\n",
              "      <td>0.024693</td>\n",
              "      <td>0.003448</td>\n",
              "      <td>1725123</td>\n",
              "      <td>0.007143</td>\n",
              "      <td>28.333036</td>\n",
              "    </tr>\n",
              "  </tbody>\n",
              "</table>\n",
              "<p>33080 rows × 30 columns</p>\n",
              "</div>"
            ],
            "text/plain": [
              "         Départ de feu   Année  ... Précipitation semaine Température semaine\n",
              "68054                1  2015.0  ...              0.007143           13.246429\n",
              "88139                1  2008.0  ...              0.057143            8.213393\n",
              "99242                1  2012.0  ...              0.007143            9.307143\n",
              "103316               1  2013.0  ...              0.064286           16.840179\n",
              "113680               1  2017.0  ...              0.058929           11.050893\n",
              "...                ...     ...  ...                   ...                 ...\n",
              "1722201              1  2018.0  ...              0.000000           26.829464\n",
              "1722276              1  2018.0  ...              0.517857           26.858036\n",
              "1724477              1  2019.0  ...              0.085714           25.544643\n",
              "1725083              1  2019.0  ...              0.000000           28.022321\n",
              "1725123              1  2019.0  ...              0.007143           28.333036\n",
              "\n",
              "[33080 rows x 30 columns]"
            ]
          },
          "metadata": {
            "tags": []
          },
          "execution_count": 55
        }
      ]
    },
    {
      "cell_type": "code",
      "metadata": {
        "id": "zVrwK96BpLvj",
        "colab": {
          "base_uri": "https://localhost:8080/",
          "height": 212
        },
        "outputId": "68526116-ec70-4b25-b6b1-144fe89650cc"
      },
      "source": [
        "df3 = df_feu.iloc[:, [9,17,18,19,21,22,23,24,25,26,28,29]]  \n",
        "df3 = df3.dropna()\n",
        "df3.head()\n"
      ],
      "execution_count": 56,
      "outputs": [
        {
          "output_type": "execute_result",
          "data": {
            "text/html": [
              "<div>\n",
              "<style scoped>\n",
              "    .dataframe tbody tr th:only-of-type {\n",
              "        vertical-align: middle;\n",
              "    }\n",
              "\n",
              "    .dataframe tbody tr th {\n",
              "        vertical-align: top;\n",
              "    }\n",
              "\n",
              "    .dataframe thead th {\n",
              "        text-align: right;\n",
              "    }\n",
              "</style>\n",
              "<table border=\"1\" class=\"dataframe\">\n",
              "  <thead>\n",
              "    <tr style=\"text-align: right;\">\n",
              "      <th></th>\n",
              "      <th>Surface brûlée (m2)</th>\n",
              "      <th>Latitude station</th>\n",
              "      <th>Longitude station</th>\n",
              "      <th>Altitude station</th>\n",
              "      <th>Température (°C)</th>\n",
              "      <th>Précipitations (3 heures)</th>\n",
              "      <th>Humidité (%)</th>\n",
              "      <th>Vitesse du vent (m/s)</th>\n",
              "      <th>Mois propice</th>\n",
              "      <th>Zone propice</th>\n",
              "      <th>Précipitation semaine</th>\n",
              "      <th>Température semaine</th>\n",
              "    </tr>\n",
              "  </thead>\n",
              "  <tbody>\n",
              "    <tr>\n",
              "      <th>99242</th>\n",
              "      <td>100000.0</td>\n",
              "      <td>49.725167</td>\n",
              "      <td>-1.939833</td>\n",
              "      <td>6</td>\n",
              "      <td>11.4</td>\n",
              "      <td>0.0</td>\n",
              "      <td>78.0</td>\n",
              "      <td>4.1</td>\n",
              "      <td>0.089479</td>\n",
              "      <td>0.000067</td>\n",
              "      <td>0.007143</td>\n",
              "      <td>9.307143</td>\n",
              "    </tr>\n",
              "    <tr>\n",
              "      <th>103316</th>\n",
              "      <td>1000.0</td>\n",
              "      <td>49.725167</td>\n",
              "      <td>-1.939833</td>\n",
              "      <td>6</td>\n",
              "      <td>11.4</td>\n",
              "      <td>0.0</td>\n",
              "      <td>90.0</td>\n",
              "      <td>0.0</td>\n",
              "      <td>0.165589</td>\n",
              "      <td>0.000114</td>\n",
              "      <td>0.064286</td>\n",
              "      <td>16.840179</td>\n",
              "    </tr>\n",
              "    <tr>\n",
              "      <th>113680</th>\n",
              "      <td>6800.0</td>\n",
              "      <td>49.725167</td>\n",
              "      <td>-1.939833</td>\n",
              "      <td>6</td>\n",
              "      <td>11.1</td>\n",
              "      <td>0.0</td>\n",
              "      <td>86.0</td>\n",
              "      <td>6.4</td>\n",
              "      <td>0.083454</td>\n",
              "      <td>0.000114</td>\n",
              "      <td>0.058929</td>\n",
              "      <td>11.050893</td>\n",
              "    </tr>\n",
              "    <tr>\n",
              "      <th>113740</th>\n",
              "      <td>2000.0</td>\n",
              "      <td>49.725167</td>\n",
              "      <td>-1.939833</td>\n",
              "      <td>6</td>\n",
              "      <td>10.8</td>\n",
              "      <td>0.0</td>\n",
              "      <td>89.0</td>\n",
              "      <td>5.0</td>\n",
              "      <td>0.083454</td>\n",
              "      <td>0.000114</td>\n",
              "      <td>0.007143</td>\n",
              "      <td>10.828571</td>\n",
              "    </tr>\n",
              "    <tr>\n",
              "      <th>117143</th>\n",
              "      <td>800.0</td>\n",
              "      <td>49.725167</td>\n",
              "      <td>-1.939833</td>\n",
              "      <td>6</td>\n",
              "      <td>16.0</td>\n",
              "      <td>0.0</td>\n",
              "      <td>66.0</td>\n",
              "      <td>4.0</td>\n",
              "      <td>0.091385</td>\n",
              "      <td>0.000173</td>\n",
              "      <td>0.000000</td>\n",
              "      <td>14.475893</td>\n",
              "    </tr>\n",
              "  </tbody>\n",
              "</table>\n",
              "</div>"
            ],
            "text/plain": [
              "        Surface brûlée (m2)  ...  Température semaine\n",
              "99242              100000.0  ...             9.307143\n",
              "103316               1000.0  ...            16.840179\n",
              "113680               6800.0  ...            11.050893\n",
              "113740               2000.0  ...            10.828571\n",
              "117143                800.0  ...            14.475893\n",
              "\n",
              "[5 rows x 12 columns]"
            ]
          },
          "metadata": {
            "tags": []
          },
          "execution_count": 56
        }
      ]
    },
    {
      "cell_type": "code",
      "metadata": {
        "id": "Yau6eU0JUpM0"
      },
      "source": [
        "values=df3.values\n",
        "x = values[:,[1,2,3,4,5,6,7,8,9,10,11]].astype(float)\n",
        "y = values[:,0].astype(float)"
      ],
      "execution_count": 57,
      "outputs": []
    },
    {
      "cell_type": "code",
      "metadata": {
        "id": "dzX-JWruUpM0"
      },
      "source": [
        "x_train,x_test,y_train,y_test = train_test_split(x, y, test_size = 0.3, random_state = 10)"
      ],
      "execution_count": 58,
      "outputs": []
    },
    {
      "cell_type": "code",
      "metadata": {
        "id": "_Qu1zwAfUpM1",
        "colab": {
          "base_uri": "https://localhost:8080/"
        },
        "outputId": "0f79297e-0a21-465b-ae65-858ed4861824"
      },
      "source": [
        "x_train.shape"
      ],
      "execution_count": 59,
      "outputs": [
        {
          "output_type": "execute_result",
          "data": {
            "text/plain": [
              "(20828, 11)"
            ]
          },
          "metadata": {
            "tags": []
          },
          "execution_count": 59
        }
      ]
    },
    {
      "cell_type": "code",
      "metadata": {
        "id": "V4tSJjk0UpM1",
        "colab": {
          "base_uri": "https://localhost:8080/"
        },
        "outputId": "38910b6a-97b1-43ef-9b1e-65c897d56c8c"
      },
      "source": [
        "model = Sequential()\n",
        "\n",
        "model.add(Dense(500, input_dim = x_train.shape[1], activation = 'relu'))\n",
        "model.add(Dense(100, activation = 'relu'))\n",
        "model.add(Dense(50, activation = 'relu'))\n",
        "model.add(Dense(1))\n",
        "\n",
        "model.compile(loss = \"mean_squared_error\" , optimizer = \"adam\", metrics = [\"mean_squared_error\"])\n",
        "\n",
        "model.summary()"
      ],
      "execution_count": 62,
      "outputs": [
        {
          "output_type": "stream",
          "text": [
            "Model: \"sequential\"\n",
            "_________________________________________________________________\n",
            "Layer (type)                 Output Shape              Param #   \n",
            "=================================================================\n",
            "dense (Dense)                (None, 500)               6000      \n",
            "_________________________________________________________________\n",
            "dense_1 (Dense)              (None, 100)               50100     \n",
            "_________________________________________________________________\n",
            "dense_2 (Dense)              (None, 50)                5050      \n",
            "_________________________________________________________________\n",
            "dense_3 (Dense)              (None, 1)                 51        \n",
            "=================================================================\n",
            "Total params: 61,201\n",
            "Trainable params: 61,201\n",
            "Non-trainable params: 0\n",
            "_________________________________________________________________\n"
          ],
          "name": "stdout"
        }
      ]
    },
    {
      "cell_type": "code",
      "metadata": {
        "id": "YqmB6FbDUpM1",
        "colab": {
          "base_uri": "https://localhost:8080/"
        },
        "outputId": "d043adc8-fb5a-4b31-f3b4-d2e0395e6afd"
      },
      "source": [
        "history = model.fit(x_train, y_train, epochs = 50, verbose = 1, validation_data=(x_test, y_test))"
      ],
      "execution_count": 63,
      "outputs": [
        {
          "output_type": "stream",
          "text": [
            "Epoch 1/50\n",
            "651/651 [==============================] - 2s 3ms/step - loss: 264372273152.0000 - mean_squared_error: 264372273152.0000 - val_loss: 93484646400.0000 - val_mean_squared_error: 93484646400.0000\n",
            "Epoch 2/50\n",
            "651/651 [==============================] - 2s 2ms/step - loss: 263876378624.0000 - mean_squared_error: 263876378624.0000 - val_loss: 93366034432.0000 - val_mean_squared_error: 93366034432.0000\n",
            "Epoch 3/50\n",
            "651/651 [==============================] - 1s 2ms/step - loss: 263693172736.0000 - mean_squared_error: 263693172736.0000 - val_loss: 93242212352.0000 - val_mean_squared_error: 93242212352.0000\n",
            "Epoch 4/50\n",
            "651/651 [==============================] - 1s 2ms/step - loss: 263496073216.0000 - mean_squared_error: 263496073216.0000 - val_loss: 93113303040.0000 - val_mean_squared_error: 93113303040.0000\n",
            "Epoch 5/50\n",
            "651/651 [==============================] - 1s 2ms/step - loss: 263261716480.0000 - mean_squared_error: 263261716480.0000 - val_loss: 93038624768.0000 - val_mean_squared_error: 93038624768.0000\n",
            "Epoch 6/50\n",
            "651/651 [==============================] - 1s 2ms/step - loss: 262962151424.0000 - mean_squared_error: 262962151424.0000 - val_loss: 92835356672.0000 - val_mean_squared_error: 92835356672.0000\n",
            "Epoch 7/50\n",
            "651/651 [==============================] - 1s 2ms/step - loss: 262689685504.0000 - mean_squared_error: 262689685504.0000 - val_loss: 92773687296.0000 - val_mean_squared_error: 92773687296.0000\n",
            "Epoch 8/50\n",
            "651/651 [==============================] - 1s 2ms/step - loss: 262498811904.0000 - mean_squared_error: 262498811904.0000 - val_loss: 92737052672.0000 - val_mean_squared_error: 92737052672.0000\n",
            "Epoch 9/50\n",
            "651/651 [==============================] - 1s 2ms/step - loss: 262232391680.0000 - mean_squared_error: 262232391680.0000 - val_loss: 92706086912.0000 - val_mean_squared_error: 92706086912.0000\n",
            "Epoch 10/50\n",
            "651/651 [==============================] - 1s 2ms/step - loss: 262030016512.0000 - mean_squared_error: 262030016512.0000 - val_loss: 92701949952.0000 - val_mean_squared_error: 92701949952.0000\n",
            "Epoch 11/50\n",
            "651/651 [==============================] - 1s 2ms/step - loss: 261744181248.0000 - mean_squared_error: 261744181248.0000 - val_loss: 93152378880.0000 - val_mean_squared_error: 93152378880.0000\n",
            "Epoch 12/50\n",
            "651/651 [==============================] - 1s 2ms/step - loss: 261734268928.0000 - mean_squared_error: 261734268928.0000 - val_loss: 92834078720.0000 - val_mean_squared_error: 92834078720.0000\n",
            "Epoch 13/50\n",
            "651/651 [==============================] - 1s 2ms/step - loss: 261475860480.0000 - mean_squared_error: 261475860480.0000 - val_loss: 92868362240.0000 - val_mean_squared_error: 92868362240.0000\n",
            "Epoch 14/50\n",
            "651/651 [==============================] - 1s 2ms/step - loss: 261274894336.0000 - mean_squared_error: 261274894336.0000 - val_loss: 93283532800.0000 - val_mean_squared_error: 93283532800.0000\n",
            "Epoch 15/50\n",
            "651/651 [==============================] - 1s 2ms/step - loss: 261331222528.0000 - mean_squared_error: 261331222528.0000 - val_loss: 92823568384.0000 - val_mean_squared_error: 92823568384.0000\n",
            "Epoch 16/50\n",
            "651/651 [==============================] - 1s 2ms/step - loss: 261036113920.0000 - mean_squared_error: 261036113920.0000 - val_loss: 92911362048.0000 - val_mean_squared_error: 92911362048.0000\n",
            "Epoch 17/50\n",
            "651/651 [==============================] - 1s 2ms/step - loss: 260975116288.0000 - mean_squared_error: 260975116288.0000 - val_loss: 92935979008.0000 - val_mean_squared_error: 92935979008.0000\n",
            "Epoch 18/50\n",
            "651/651 [==============================] - 1s 2ms/step - loss: 260839669760.0000 - mean_squared_error: 260839669760.0000 - val_loss: 92982861824.0000 - val_mean_squared_error: 92982861824.0000\n",
            "Epoch 19/50\n",
            "651/651 [==============================] - 1s 2ms/step - loss: 260636606464.0000 - mean_squared_error: 260636606464.0000 - val_loss: 94026014720.0000 - val_mean_squared_error: 94026014720.0000\n",
            "Epoch 20/50\n",
            "651/651 [==============================] - 1s 2ms/step - loss: 260555505664.0000 - mean_squared_error: 260555505664.0000 - val_loss: 93067542528.0000 - val_mean_squared_error: 93067542528.0000\n",
            "Epoch 21/50\n",
            "651/651 [==============================] - 1s 2ms/step - loss: 260504076288.0000 - mean_squared_error: 260504076288.0000 - val_loss: 93012344832.0000 - val_mean_squared_error: 93012344832.0000\n",
            "Epoch 22/50\n",
            "651/651 [==============================] - 1s 2ms/step - loss: 260577460224.0000 - mean_squared_error: 260577460224.0000 - val_loss: 93530431488.0000 - val_mean_squared_error: 93530431488.0000\n",
            "Epoch 23/50\n",
            "651/651 [==============================] - 1s 2ms/step - loss: 260212654080.0000 - mean_squared_error: 260212654080.0000 - val_loss: 93355008000.0000 - val_mean_squared_error: 93355008000.0000\n",
            "Epoch 24/50\n",
            "651/651 [==============================] - 1s 2ms/step - loss: 260172267520.0000 - mean_squared_error: 260172267520.0000 - val_loss: 93417283584.0000 - val_mean_squared_error: 93417283584.0000\n",
            "Epoch 25/50\n",
            "651/651 [==============================] - 1s 2ms/step - loss: 259979608064.0000 - mean_squared_error: 259979608064.0000 - val_loss: 93155753984.0000 - val_mean_squared_error: 93155753984.0000\n",
            "Epoch 26/50\n",
            "651/651 [==============================] - 1s 2ms/step - loss: 260162338816.0000 - mean_squared_error: 260162338816.0000 - val_loss: 93222928384.0000 - val_mean_squared_error: 93222928384.0000\n",
            "Epoch 27/50\n",
            "651/651 [==============================] - 1s 2ms/step - loss: 259936829440.0000 - mean_squared_error: 259936829440.0000 - val_loss: 93863993344.0000 - val_mean_squared_error: 93863993344.0000\n",
            "Epoch 28/50\n",
            "651/651 [==============================] - 1s 2ms/step - loss: 259800514560.0000 - mean_squared_error: 259800514560.0000 - val_loss: 93352468480.0000 - val_mean_squared_error: 93352468480.0000\n",
            "Epoch 29/50\n",
            "651/651 [==============================] - 1s 2ms/step - loss: 259693133824.0000 - mean_squared_error: 259693133824.0000 - val_loss: 93279698944.0000 - val_mean_squared_error: 93279698944.0000\n",
            "Epoch 30/50\n",
            "651/651 [==============================] - 2s 2ms/step - loss: 259655188480.0000 - mean_squared_error: 259655188480.0000 - val_loss: 93945135104.0000 - val_mean_squared_error: 93945135104.0000\n",
            "Epoch 31/50\n",
            "651/651 [==============================] - 1s 2ms/step - loss: 259515940864.0000 - mean_squared_error: 259515940864.0000 - val_loss: 93571293184.0000 - val_mean_squared_error: 93571293184.0000\n",
            "Epoch 32/50\n",
            "651/651 [==============================] - 1s 2ms/step - loss: 259453173760.0000 - mean_squared_error: 259453173760.0000 - val_loss: 93595803648.0000 - val_mean_squared_error: 93595803648.0000\n",
            "Epoch 33/50\n",
            "651/651 [==============================] - 1s 2ms/step - loss: 259297001472.0000 - mean_squared_error: 259297001472.0000 - val_loss: 93973200896.0000 - val_mean_squared_error: 93973200896.0000\n",
            "Epoch 34/50\n",
            "651/651 [==============================] - 1s 2ms/step - loss: 259499065344.0000 - mean_squared_error: 259499065344.0000 - val_loss: 94276837376.0000 - val_mean_squared_error: 94276837376.0000\n",
            "Epoch 35/50\n",
            "651/651 [==============================] - 1s 2ms/step - loss: 258936700928.0000 - mean_squared_error: 258936700928.0000 - val_loss: 95582617600.0000 - val_mean_squared_error: 95582617600.0000\n",
            "Epoch 36/50\n",
            "651/651 [==============================] - 1s 2ms/step - loss: 259305291776.0000 - mean_squared_error: 259305291776.0000 - val_loss: 94339645440.0000 - val_mean_squared_error: 94339645440.0000\n",
            "Epoch 37/50\n",
            "651/651 [==============================] - 1s 2ms/step - loss: 258805465088.0000 - mean_squared_error: 258805465088.0000 - val_loss: 93445349376.0000 - val_mean_squared_error: 93445349376.0000\n",
            "Epoch 38/50\n",
            "651/651 [==============================] - 1s 2ms/step - loss: 259043622912.0000 - mean_squared_error: 259043622912.0000 - val_loss: 94304657408.0000 - val_mean_squared_error: 94304657408.0000\n",
            "Epoch 39/50\n",
            "651/651 [==============================] - 1s 2ms/step - loss: 258658254848.0000 - mean_squared_error: 258658254848.0000 - val_loss: 95651217408.0000 - val_mean_squared_error: 95651217408.0000\n",
            "Epoch 40/50\n",
            "651/651 [==============================] - 1s 2ms/step - loss: 258861875200.0000 - mean_squared_error: 258861875200.0000 - val_loss: 94052155392.0000 - val_mean_squared_error: 94052155392.0000\n",
            "Epoch 41/50\n",
            "651/651 [==============================] - 1s 2ms/step - loss: 258645213184.0000 - mean_squared_error: 258645213184.0000 - val_loss: 93539565568.0000 - val_mean_squared_error: 93539565568.0000\n",
            "Epoch 42/50\n",
            "651/651 [==============================] - 2s 2ms/step - loss: 258989309952.0000 - mean_squared_error: 258989309952.0000 - val_loss: 93700882432.0000 - val_mean_squared_error: 93700882432.0000\n",
            "Epoch 43/50\n",
            "651/651 [==============================] - 2s 2ms/step - loss: 258705997824.0000 - mean_squared_error: 258705997824.0000 - val_loss: 93799202816.0000 - val_mean_squared_error: 93799202816.0000\n",
            "Epoch 44/50\n",
            "651/651 [==============================] - 2s 2ms/step - loss: 258727542784.0000 - mean_squared_error: 258727542784.0000 - val_loss: 94350721024.0000 - val_mean_squared_error: 94350721024.0000\n",
            "Epoch 45/50\n",
            "651/651 [==============================] - 2s 2ms/step - loss: 258711355392.0000 - mean_squared_error: 258711355392.0000 - val_loss: 93767942144.0000 - val_mean_squared_error: 93767942144.0000\n",
            "Epoch 46/50\n",
            "651/651 [==============================] - 1s 2ms/step - loss: 258736226304.0000 - mean_squared_error: 258736226304.0000 - val_loss: 94665580544.0000 - val_mean_squared_error: 94665580544.0000\n",
            "Epoch 47/50\n",
            "651/651 [==============================] - 1s 2ms/step - loss: 258555199488.0000 - mean_squared_error: 258555199488.0000 - val_loss: 93770964992.0000 - val_mean_squared_error: 93770964992.0000\n",
            "Epoch 48/50\n",
            "651/651 [==============================] - 1s 2ms/step - loss: 258417868800.0000 - mean_squared_error: 258417868800.0000 - val_loss: 93566681088.0000 - val_mean_squared_error: 93566681088.0000\n",
            "Epoch 49/50\n",
            "651/651 [==============================] - 1s 2ms/step - loss: 258593914880.0000 - mean_squared_error: 258593914880.0000 - val_loss: 94048845824.0000 - val_mean_squared_error: 94048845824.0000\n",
            "Epoch 50/50\n",
            "651/651 [==============================] - 1s 2ms/step - loss: 258461040640.0000 - mean_squared_error: 258461040640.0000 - val_loss: 94011301888.0000 - val_mean_squared_error: 94011301888.0000\n"
          ],
          "name": "stdout"
        }
      ]
    },
    {
      "cell_type": "code",
      "metadata": {
        "id": "efpmFepqUpM2",
        "colab": {
          "base_uri": "https://localhost:8080/",
          "height": 369
        },
        "outputId": "0ee2f0fe-df13-49d0-adae-e17158a1888a"
      },
      "source": [
        "plt.figure(figsize=(7, 5))\n",
        "plt.plot(history.epoch, history.history['loss'], lw=3, label='Training set')\n",
        "plt.plot(history.epoch, history.history['val_loss'], lw=3, label='Test set')\n",
        "plt.legend(fontsize=14)\n",
        "plt.title('Loss of the FFNN', fontsize=16)\n",
        "plt.xlabel('Epoch', fontsize=14)\n",
        "plt.ylabel('MAE', fontsize=14)\n",
        "plt.tight_layout()"
      ],
      "execution_count": 64,
      "outputs": [
        {
          "output_type": "display_data",
          "data": {
            "image/png": "[encoded data removed]",
            "text/plain": [
              "<Figure size 504x360 with 1 Axes>"
            ]
          },
          "metadata": {
            "tags": [],
            "needs_background": "light"
          }
        }
      ]
    },
    {
      "cell_type": "code",
      "metadata": {
        "id": "AR4_GNpRUpM2",
        "colab": {
          "base_uri": "https://localhost:8080/"
        },
        "outputId": "6c2c43be-10ea-407c-a281-c547e963ab70"
      },
      "source": [
        "pred_train = model.predict(x_train)\n",
        "print(np.sqrt(mean_squared_error(y_train,pred_train)))\n",
        "\n",
        "pred = model.predict(x_test)\n",
        "print(np.sqrt(mean_squared_error(y_test,pred))) "
      ],
      "execution_count": 65,
      "outputs": [
        {
          "output_type": "stream",
          "text": [
            "507521.7605010456\n",
            "306612.61606892425\n"
          ],
          "name": "stdout"
        }
      ]
    },
    {
      "cell_type": "markdown",
      "metadata": {
        "id": "UEXSncOe3WVA"
      },
      "source": [
        "On a toujours des erreurs considérables du même ordre de grandeur malgré les nouvelles features.\n",
        "\n",
        "On n'aura donc pas du tout réussi à prédire la surface brûlée que ce soit avec des arbres de décision, des random forest ou des réseaux de neurones...\n"
      ]
    }
  ]
}