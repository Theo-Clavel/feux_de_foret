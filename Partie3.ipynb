{
  "nbformat": 4,
  "nbformat_minor": 0,
  "metadata": {
    "kernelspec": {
      "display_name": "Python 3",
      "language": "python",
      "name": "python3"
    },
    "language_info": {
      "codemirror_mode": {
        "name": "ipython",
        "version": 3
      },
      "file_extension": ".py",
      "mimetype": "text/x-python",
      "name": "python",
      "nbconvert_exporter": "python",
      "pygments_lexer": "ipython3",
      "version": "3.8.5"
    },
    "colab": {
      "name": "Partie3.ipynb",
      "provenance": [],
      "collapsed_sections": [
        "y_GqyToXGW3N",
        "Q68Otl4TGgJa",
        "OII_xvspKbF7"
      ]
    }
  },
  "cells": [
    {
      "cell_type": "markdown",
      "metadata": {
        "id": "3QfapiE3E-XR"
      },
      "source": [
        "# **Partie 3 : Modélisation**\r\n",
        "\r\n",
        "Prédiction de l'occurence d'un feu de forêt et de la surface brûlée grâce à l'apprentissage supervisé. \r\n"
      ]
    },
    {
      "cell_type": "markdown",
      "metadata": {
        "id": "MMEZbJLKFuD2"
      },
      "source": [
        "## **A. Prédiction du déclenchement d'un feu de forêt**\r\n",
        "\r\n",
        "L'objectif de cette partie est de prédire les zones dans lesquelles un feu de forêt est propice de se déclencher dans les minutes à venir. On s'aide pour cela des relevés météorologiques pris en temps réel. \r\n",
        "\r\n",
        "\r\n",
        "\r\n",
        "Le problème auquel nous sommes confrontés est celui d'une classification en deux catégories (va-t-il y avoir un départ de feu ou non ?). Nous disposons des données des relevés météorologiques et feux passés pour entraîner notre algorithme. \r\n",
        "\r\n",
        "\r\n",
        "Nous avons alors sélectionné deux modèles adaptés : \r\n",
        "\r\n",
        "\r\n",
        "1.   Decision Tree Classifier\r\n",
        "2.   Random Forest Regression\r\n",
        "3.   Réseaux de neurones"
      ]
    },
    {
      "cell_type": "markdown",
      "metadata": {
        "id": "ff-VzU5gGJqM"
      },
      "source": [
        "## Premier essai des modèles avec les valeurs météorologiques brutes"
      ]
    },
    {
      "cell_type": "code",
      "metadata": {
        "id": "wE5s2IQmF_uy"
      },
      "source": [
        "import pandas as pd\r\n",
        "import numpy as np\r\n",
        "from sklearn.model_selection import train_test_split\r\n",
        "from sklearn.metrics import confusion_matrix, accuracy_score, classification_report"
      ],
      "execution_count": 2,
      "outputs": []
    },
    {
      "cell_type": "markdown",
      "metadata": {
        "id": "s6v97fGgGDMR"
      },
      "source": [
        "On utilise la base de données obtenue dans la partie 1, dont on ne va garder plus que les variables météorologiques et la variable binaire *Départ de feu*."
      ]
    },
    {
      "cell_type": "code",
      "metadata": {
        "id": "kgfGj9wBGHuo"
      },
      "source": [
        "df = pd.read_csv('data.zip', low_memory = False)\r\n",
        "df = df.iloc[:, [0,21,22,23,24]]  \r\n",
        "df = df.dropna()"
      ],
      "execution_count": 3,
      "outputs": []
    },
    {
      "cell_type": "markdown",
      "metadata": {
        "id": "y_GqyToXGW3N"
      },
      "source": [
        "### **Préparation des bases d'apprentissage et de test**\r\n",
        "\r\n",
        "On sépare de façon aléatoire la base de données obtenue dans la partie 1 en deux bases : 80% servira à l'entraînement de l'algorithme (base train) et 20% à observer sa précision (base test). "
      ]
    },
    {
      "cell_type": "code",
      "metadata": {
        "id": "QKPqgfsUGdZH"
      },
      "source": [
        "train, test = train_test_split(df, test_size=0.2, random_state=1, stratify = df['Départ de feu'])"
      ],
      "execution_count": 4,
      "outputs": []
    },
    {
      "cell_type": "markdown",
      "metadata": {
        "id": "UyxKQ6MDGjmt"
      },
      "source": [
        " On vérifie que les proportions des classes sont bien respectées."
      ]
    },
    {
      "cell_type": "code",
      "metadata": {
        "colab": {
          "base_uri": "https://localhost:8080/"
        },
        "id": "HM0oePbfGpeV",
        "outputId": "a0838b9b-0cfa-41ca-9c38-123bb543ccc3"
      },
      "source": [
        "print(\"La proportion de départ de feux dans la base d'entraînement est de \" + str(round(train[\"Départ de feu\"].mean() * 10**(4))/10**2) + '%')\r\n",
        "print(\"Elle est également de \" + str(round(test[\"Départ de feu\"].mean() * 10**(4))/10**2) + '% dans la base de test')"
      ],
      "execution_count": 5,
      "outputs": [
        {
          "output_type": "stream",
          "text": [
            "La proportion de départ de feux dans la base d'entraînement est de 1.61%\n",
            "Elle est également de 1.61% dans la base de test\n"
          ],
          "name": "stdout"
        }
      ]
    },
    {
      "cell_type": "markdown",
      "metadata": {
        "id": "J6qW9ZOcG3Wr"
      },
      "source": [
        "Ensuite, on spécifie pour chaque base la matrice X des variables prédictives (les données météorologiques) et le vecteur Y de la variable cible (*Départ de feu*).\r\n",
        "\r\n",
        "Le vecteur Y défini 2 classes : \r\n",
        "\r\n",
        "\r\n",
        "*   Une observation est de classe 0 s'il n'y a pas de départ de feux, i.e. \"Départ de feu\" == 0.\r\n",
        "*   Une observation est de classe 1 s'il y a départ de feu, i.e. \"Départ de feu\" == 1.\r\n",
        "\r\n",
        "On appelle Vrai Négatif $-$ VN $-$ (resp. Vrai Positif $-$ VP $-$) une observation de classe 0 (resp. de classe 1) qui est reconnue par le modèle comme étant de classe 0 (resp. de classe 1). \r\n",
        "\r\n",
        "Un Faux Négatif $-$ FN $-$ (resp. Faux Positif $-$ FP $-$) est une observation prédite de classe 0 alors qu'elle est de classe 1 (resp. prédite de classe 1 alors qu'elle est de classe 0).\r\n"
      ]
    },
    {
      "cell_type": "code",
      "metadata": {
        "id": "x1nlTCiRG-9d"
      },
      "source": [
        "X_train = train.drop(['Départ de feu'], axis = 1).to_numpy()\r\n",
        "Y_train = train[['Départ de feu']].to_numpy()\r\n",
        "\r\n",
        "X_test = test.drop(['Départ de feu'], axis = 1).to_numpy()\r\n",
        "Y_test = test[['Départ de feu']].to_numpy()\r\n",
        "\r\n",
        "Y_train = Y_train.reshape(Y_train.shape[0])\r\n",
        "Y_test = Y_test.reshape(Y_test.shape[0])"
      ],
      "execution_count": 6,
      "outputs": []
    },
    {
      "cell_type": "markdown",
      "metadata": {
        "id": "ZNarmvBlHBH5"
      },
      "source": [
        "### **Modèle 1 : l'arbre de décision**"
      ]
    },
    {
      "cell_type": "markdown",
      "metadata": {
        "id": "5y3YkuBxHDyE"
      },
      "source": [
        "**Entraînement**\r\n",
        "\r\n",
        "On entraîne le modèle sur la base d'entraînement."
      ]
    },
    {
      "cell_type": "code",
      "metadata": {
        "id": "zS_dQYBqHJo4"
      },
      "source": [
        "#instanciation de l'arbre\r\n",
        "from sklearn.tree import DecisionTreeClassifier\r\n",
        "tree = DecisionTreeClassifier()\r\n",
        "\r\n",
        "#construction de l'arbre\r\n",
        "tree = tree.fit(X_train, Y_train)"
      ],
      "execution_count": 7,
      "outputs": []
    },
    {
      "cell_type": "markdown",
      "metadata": {
        "id": "wdvzsdYLHMtB"
      },
      "source": [
        "**Evaluation**\r\n",
        "\r\n",
        "On évalue les performances prédictives de l'arbre en le testant sur la base de test, puis en comparant les prédictions avec la réalité. \r\n",
        "\r\n",
        "*   Distribution de la prédiction"
      ]
    },
    {
      "cell_type": "code",
      "metadata": {
        "colab": {
          "base_uri": "https://localhost:8080/"
        },
        "id": "YVwSMWtEHQJ0",
        "outputId": "4e671ac4-5e9a-4302-baf0-1eb7e124aef1"
      },
      "source": [
        "tree_predict_test = tree.predict(X_test)\r\n",
        "\r\n",
        "#distribution \r\n",
        "tree_predict = np.unique(tree_predict_test,return_counts=True)\r\n",
        "print(tree_predict)\r\n",
        "print('La classe ' + str(tree_predict[0][0]) + ' a été assignée ' + str(tree_predict[1][0]) + ' fois.')"
      ],
      "execution_count": 8,
      "outputs": [
        {
          "output_type": "stream",
          "text": [
            "(array([0, 1]), array([401140,   5159]))\n",
            "La classe 0 a été assignée 401140 fois.\n"
          ],
          "name": "stdout"
        }
      ]
    },
    {
      "cell_type": "code",
      "metadata": {
        "colab": {
          "base_uri": "https://localhost:8080/"
        },
        "id": "DuMD4ZmtHVPi",
        "outputId": "97f15df2-2c28-402d-cb9d-638b4c854cf8"
      },
      "source": [
        "print(\"Notre modèle prédit ainsi qu'il y a parmi la base de test \" + str(tree_predict[1][0]) + \" observations \\\r\n",
        "ne correspondant pas à un feu de forêt (classe \" + str(tree_predict[0][0]) + \").\")\r\n",
        "print(\"Il prédit que \" + str(tree_predict[1][1]) + \" observations \\\r\n",
        "correspondent à un feu de forêt (classe \" + str(tree_predict[0][1]) + \").\")"
      ],
      "execution_count": 9,
      "outputs": [
        {
          "output_type": "stream",
          "text": [
            "Notre modèle prédit ainsi qu'il y a parmi la base de test 401140 observations ne correspondant pas à un feu de forêt (classe 0).\n",
            "Il prédit que 5159 observations correspondent à un feu de forêt (classe 1).\n"
          ],
          "name": "stdout"
        }
      ]
    },
    {
      "cell_type": "markdown",
      "metadata": {
        "id": "VoK63seHHZML"
      },
      "source": [
        "*   Calcul de la matrice de confusion\r\n",
        "\r\n",
        "IMAGE MANQUANTE\r\n",
        "\r\n",
        "Dans notre cas, la i-ème ligne est la ligne des \"Départ de feu\" = i et la i-ème colonne est la \"Prédiction de Départ de feu\" = i"
      ]
    },
    {
      "cell_type": "code",
      "metadata": {
        "colab": {
          "base_uri": "https://localhost:8080/"
        },
        "id": "YITZH-azHfVs",
        "outputId": "11eda394-0091-4da7-8753-026631d5bdfc"
      },
      "source": [
        "#calcul de la matrice de confusion \r\n",
        "print('Matrice de confusion')\r\n",
        "confu_tree = confusion_matrix(Y_test,tree_predict_test)\r\n",
        "print(confu_tree)  "
      ],
      "execution_count": 10,
      "outputs": [
        {
          "output_type": "stream",
          "text": [
            "Matrice de confusion\n",
            "[[395927   3811]\n",
            " [  5213   1348]]\n"
          ],
          "name": "stdout"
        }
      ]
    },
    {
      "cell_type": "markdown",
      "metadata": {
        "id": "dUqNby_nHjE_"
      },
      "source": [
        "Les lignes et les colonnes sont données par ordre croissant. La ligne donne la classe observée (c'est-à-dire la réalité), la colonne la classe prédite (par le modèle). Par exemple : \r\n"
      ]
    },
    {
      "cell_type": "code",
      "metadata": {
        "colab": {
          "base_uri": "https://localhost:8080/"
        },
        "id": "QVPz3sTkHliL",
        "outputId": "63dde97e-8b25-42d3-8e75-5de2d1586cf4"
      },
      "source": [
        "print(str(confu_tree[0][0]) + \" observations sans feu ont été prédites à raison comme ne correspondant pas à un feu de forêt.\")\r\n",
        "print(str(confu_tree[1][0]) + \" observations avec feu ont été prédites à tort comme ne correspondant pas à un feu de forêt.\")"
      ],
      "execution_count": 11,
      "outputs": [
        {
          "output_type": "stream",
          "text": [
            "395927 observations sans feu ont été prédites à raison comme ne correspondant pas à un feu de forêt.\n",
            "5213 observations avec feu ont été prédites à tort comme ne correspondant pas à un feu de forêt.\n"
          ],
          "name": "stdout"
        }
      ]
    },
    {
      "cell_type": "markdown",
      "metadata": {
        "id": "UWtrS0kPHoak"
      },
      "source": [
        "La matrice de confusion nous permet déjà d'observer qu'une très grande proportion des observations correspondant à un feu de forêt ne sont pas reconnues comme telle par le modèle. "
      ]
    },
    {
      "cell_type": "markdown",
      "metadata": {
        "id": "GPLgWZmRHrZJ"
      },
      "source": [
        "*   Indicateurs de précision"
      ]
    },
    {
      "cell_type": "code",
      "metadata": {
        "colab": {
          "base_uri": "https://localhost:8080/"
        },
        "id": "Ad2uj0uuHtde",
        "outputId": "44af8b6d-f524-4827-8e3a-ec535bc3d50e"
      },
      "source": [
        "#taux de reconnaissance\r\n",
        "print('le taux de reconnaissance est :', accuracy_score(Y_test,tree_predict_test))\r\n",
        "\r\n",
        "#taux d'erreur \r\n",
        "print(\"le taux d'erreur est :\", 1.0 - accuracy_score(Y_test,tree_predict_test))"
      ],
      "execution_count": 12,
      "outputs": [
        {
          "output_type": "stream",
          "text": [
            "le taux de reconnaissance est : 0.9777897558202211\n",
            "le taux d'erreur est : 0.022210244179778904\n"
          ],
          "name": "stdout"
        }
      ]
    },
    {
      "cell_type": "markdown",
      "metadata": {
        "id": "eVtW3nY0Hz8K"
      },
      "source": [
        "Où le taux de reconnaissance est défini par : \r\n",
        "\r\n",
        "$ ( VP + VN ) / Nombre total d'observations $ \r\n",
        "\r\n",
        "Le taux de reconnaissance de notre modèle est très bon. Néanmoins, il nous faut encore regarder la répartition de faux-négatifs (déclarés de classe 0 à tort) et de faux-positifs (déclarés de classe 1 à tort). On utilise pour cela le rapport de classification."
      ]
    },
    {
      "cell_type": "code",
      "metadata": {
        "colab": {
          "base_uri": "https://localhost:8080/"
        },
        "id": "uKK1pw1WH2RQ",
        "outputId": "a5609690-2e18-4c79-e4c3-30d58583e92c"
      },
      "source": [
        "print('Rapport de prédiction sur la base de test :')\r\n",
        "print(classification_report(Y_test, tree_predict_test))"
      ],
      "execution_count": 13,
      "outputs": [
        {
          "output_type": "stream",
          "text": [
            "Rapport de prédiction sur la base de test :\n",
            "              precision    recall  f1-score   support\n",
            "\n",
            "           0       0.99      0.99      0.99    399738\n",
            "           1       0.26      0.21      0.23      6561\n",
            "\n",
            "    accuracy                           0.98    406299\n",
            "   macro avg       0.62      0.60      0.61    406299\n",
            "weighted avg       0.98      0.98      0.98    406299\n",
            "\n"
          ],
          "name": "stdout"
        }
      ]
    },
    {
      "cell_type": "markdown",
      "metadata": {
        "id": "zrEnr5G9H9SH"
      },
      "source": [
        "**Comment lire le rapport de prédiction ?**\r\n",
        "\r\n",
        "*   *Precision : quelle proportion des prédictions est correcte ?*\r\n",
        "\r\n",
        "Pour chaque classe, la colonne *precision* indique la proportion d'observations prédites à raison dans cette classe. \r\n",
        "\r\n",
        "\r\n",
        "Alors, \r\n",
        "\r\n",
        "$precision_0 = VN / ( VN + FN) $\r\n",
        "\r\n",
        "$precision_1 = VP / ( VP + FP ) $ \r\n",
        "\r\n",
        "\r\n",
        "\r\n",
        "*   *Recall : quelle proportion des cas est detectée ?*\r\n",
        "\r\n",
        "Pour chaque classe, la colonne *Recall* indique la proportion d'observations de cette classe qui ont été correctement prédites. \r\n",
        "\r\n",
        "$recall_0 = VN / ( VN + FP ) $\r\n",
        "\r\n",
        "$recall_1 = VP / ( VP + FN ) $ \r\n",
        "\r\n",
        "\r\n",
        "\r\n",
        "\r\n",
        "\r\n",
        "*   *F1-score* \r\n",
        "\r\n",
        "Le *f1 score* est la moyenne harmonique de *precision* et *recall*. \r\n",
        "\r\n",
        "$f1score_i = 2 * (recall_i * precision_i) / (recall_i + precision_i)$ \r\n",
        "\r\n"
      ]
    },
    {
      "cell_type": "markdown",
      "metadata": {
        "id": "LOV64r7LICjl"
      },
      "source": [
        "**Interprétation**\r\n",
        "\r\n",
        "Le modèle semblait être satisfaisait car il avait un faible taux d'erreur. \r\n",
        "Néanmoins, il prédit très mal les observations de classe 1 : à peine un cinquième d'entre elles sont reconnues par l'arbre de décision. La faible proportion d'observations de classe 1 dans la base de données (1,6%) explique que le modèle conserve une très grande précision malgré ce défaut majeur.\r\n",
        "\r\n",
        "Le modèle de l'arbre de décision n'est donc pas satisfaisant. "
      ]
    },
    {
      "cell_type": "markdown",
      "metadata": {
        "id": "nkOtWrLeIF-g"
      },
      "source": [
        "### **Modèle 2 : Random Forest**\r\n",
        "\r\n",
        "Ce modèle combine de nombreux arbres de décision, ce qui devrait le rendre plus performant que le premier modèle. \r\n",
        "\r\n",
        "\r\n",
        "\r\n",
        "**Entraînement**"
      ]
    },
    {
      "cell_type": "code",
      "metadata": {
        "id": "S0aTJpGDIJiJ"
      },
      "source": [
        "from sklearn.ensemble import RandomForestClassifier\r\n",
        "\r\n",
        "rfc = RandomForestClassifier()\r\n",
        "rfc = rfc.fit(X_train, Y_train)\r\n",
        "\r\n",
        "#Attention : cette cellule met cinq bonnes minutes à tourner "
      ],
      "execution_count": 14,
      "outputs": []
    },
    {
      "cell_type": "markdown",
      "metadata": {
        "id": "QpAEaDyMIMHE"
      },
      "source": [
        "**Evaluation**"
      ]
    },
    {
      "cell_type": "code",
      "metadata": {
        "id": "kyXbH15YIPsy"
      },
      "source": [
        "rfc_predict_test = rfc.predict(X_test)"
      ],
      "execution_count": 15,
      "outputs": []
    },
    {
      "cell_type": "code",
      "metadata": {
        "colab": {
          "base_uri": "https://localhost:8080/"
        },
        "id": "PTa0p4FrIRtM",
        "outputId": "5a92cfc6-322e-443b-aecd-1a42a2be215d"
      },
      "source": [
        "#calcul de la matrice de confusion \r\n",
        "print('Matrice de confusion')\r\n",
        "confu_rfc = confusion_matrix(Y_test,rfc_predict_test)\r\n",
        "print(confu_rfc)   \r\n",
        "\r\n",
        "#taux de reconnaissance\r\n",
        "print('le taux de reconnaissance est :', accuracy_score(Y_test,rfc_predict_test))\r\n",
        "\r\n",
        "#taux d'erreur \r\n",
        "print(\"le taux d'erreur est :\", 1.0 - accuracy_score(Y_test,rfc_predict_test))"
      ],
      "execution_count": 16,
      "outputs": [
        {
          "output_type": "stream",
          "text": [
            "Matrice de confusion\n",
            "[[398023   1715]\n",
            " [  5319   1242]]\n",
            "le taux de reconnaissance est : 0.9826876266001147\n",
            "le taux d'erreur est : 0.01731237339988534\n"
          ],
          "name": "stdout"
        }
      ]
    },
    {
      "cell_type": "code",
      "metadata": {
        "colab": {
          "base_uri": "https://localhost:8080/"
        },
        "id": "-O96R2nmIUF_",
        "outputId": "d83ba3f8-2b84-4d9f-a320-0d37982254a3"
      },
      "source": [
        "print('Rapport de prédiction sur la base de test :')\r\n",
        "print(classification_report(Y_test, rfc_predict_test))"
      ],
      "execution_count": 17,
      "outputs": [
        {
          "output_type": "stream",
          "text": [
            "Rapport de prédiction sur la base de test :\n",
            "              precision    recall  f1-score   support\n",
            "\n",
            "           0       0.99      1.00      0.99    399738\n",
            "           1       0.42      0.19      0.26      6561\n",
            "\n",
            "    accuracy                           0.98    406299\n",
            "   macro avg       0.70      0.59      0.63    406299\n",
            "weighted avg       0.98      0.98      0.98    406299\n",
            "\n"
          ],
          "name": "stdout"
        }
      ]
    },
    {
      "cell_type": "markdown",
      "metadata": {
        "id": "NDLA5ydmIYqC"
      },
      "source": [
        "Le même problème qu'au modèle 1 apparaît : la plupart des observations correspondant à un feu de forêt ne sont pas reconnues par le modèle. Du fait de l'écrasante majorité d'observations ne correspond pas à un feu de forêt, le modèle semble très précis, mais il est dans les faits très peu performant. "
      ]
    },
    {
      "cell_type": "markdown",
      "metadata": {
        "id": "hJ7mwthpIZtp"
      },
      "source": [
        "En conclusion, les modèles de Machine Learning que nous avons testés sont inefficaces pour prédire le déclenchement d'un feu de forêt. \r\n",
        "\r\n",
        "On peut évoquer plusieurs raisons à cela : \r\n",
        "\r\n",
        "*   Il y a une bien trop faible proportion d'observations correspondant à un feu de forêt. \r\n",
        "*   Les variables étudiées ne suffissent pas à expliquer le déclenchement d'un feu de forêt : il ne suffit pas qu'il fasse la bonne température, couplée avec la bonne humidité (ou avec la bonne vitesse du vent, le bon niveau de précipitation, etc) pour qu'un feu parte. \r\n"
      ]
    },
    {
      "cell_type": "markdown",
      "metadata": {
        "id": "Q68Otl4TGgJa"
      },
      "source": [
        "### **Modèle 3 : Réseaux de neurones**"
      ]
    },
    {
      "cell_type": "code",
      "metadata": {
        "id": "Jar7YceUE-Xw"
      },
      "source": [
        "import numpy as np\n",
        "import pandas as pd\n",
        "import matplotlib.pyplot as plt\n",
        "import keras\n",
        "from keras.datasets import mnist\n",
        "from keras.models import Sequential\n",
        "from keras.layers import Dense, Dropout, Flatten\n",
        "from keras.layers import Conv2D, MaxPooling2D\n",
        "from keras import activations\n",
        "import sklearn as sk\n",
        "from sklearn.model_selection import train_test_split\n",
        "from sklearn.metrics import confusion_matrix\n",
        "from sklearn.metrics import mean_squared_error\n"
      ],
      "execution_count": 18,
      "outputs": []
    },
    {
      "cell_type": "code",
      "metadata": {
        "scrolled": false,
        "colab": {
          "base_uri": "https://localhost:8080/",
          "height": 442
        },
        "id": "qzvLexqXE-X1",
        "outputId": "1d641a63-4c5f-4336-ebc4-166beb418f37"
      },
      "source": [
        "df = pd.read_csv('data.csv').dropna(subset = ['Température (°C)', 'Précipitations (3 heures)', 'Humidité (%)', 'Vitesse du vent (m/s)'])\n",
        "df_feu = df[df['Départ de feu'] == 1]\n",
        "df_feu = df_feu.drop(columns = ['Départ de feu'])\n",
        "df_feu = df_feu.sort_values(['Date de première alerte'])\n",
        "df_feu = df_feu.reset_index(drop = True)\n",
        "df_feu.head()"
      ],
      "execution_count": 19,
      "outputs": [
        {
          "output_type": "error",
          "ename": "FileNotFoundError",
          "evalue": "ignored",
          "traceback": [
            "\u001b[0;31m---------------------------------------------------------------------------\u001b[0m",
            "\u001b[0;31mFileNotFoundError\u001b[0m                         Traceback (most recent call last)",
            "\u001b[0;32m<ipython-input-19-8b028dff1841>\u001b[0m in \u001b[0;36m<module>\u001b[0;34m()\u001b[0m\n\u001b[0;32m----> 1\u001b[0;31m \u001b[0mdf\u001b[0m \u001b[0;34m=\u001b[0m \u001b[0mpd\u001b[0m\u001b[0;34m.\u001b[0m\u001b[0mread_csv\u001b[0m\u001b[0;34m(\u001b[0m\u001b[0;34m'data.csv'\u001b[0m\u001b[0;34m)\u001b[0m\u001b[0;34m.\u001b[0m\u001b[0mdropna\u001b[0m\u001b[0;34m(\u001b[0m\u001b[0msubset\u001b[0m \u001b[0;34m=\u001b[0m \u001b[0;34m[\u001b[0m\u001b[0;34m'Température (°C)'\u001b[0m\u001b[0;34m,\u001b[0m \u001b[0;34m'Précipitations (3 heures)'\u001b[0m\u001b[0;34m,\u001b[0m \u001b[0;34m'Humidité (%)'\u001b[0m\u001b[0;34m,\u001b[0m \u001b[0;34m'Vitesse du vent (m/s)'\u001b[0m\u001b[0;34m]\u001b[0m\u001b[0;34m)\u001b[0m\u001b[0;34m\u001b[0m\u001b[0;34m\u001b[0m\u001b[0m\n\u001b[0m\u001b[1;32m      2\u001b[0m \u001b[0mdf_feu\u001b[0m \u001b[0;34m=\u001b[0m \u001b[0mdf\u001b[0m\u001b[0;34m[\u001b[0m\u001b[0mdf\u001b[0m\u001b[0;34m[\u001b[0m\u001b[0;34m'Départ de feu'\u001b[0m\u001b[0;34m]\u001b[0m \u001b[0;34m==\u001b[0m \u001b[0;36m1\u001b[0m\u001b[0;34m]\u001b[0m\u001b[0;34m\u001b[0m\u001b[0;34m\u001b[0m\u001b[0m\n\u001b[1;32m      3\u001b[0m \u001b[0mdf_feu\u001b[0m \u001b[0;34m=\u001b[0m \u001b[0mdf_feu\u001b[0m\u001b[0;34m.\u001b[0m\u001b[0mdrop\u001b[0m\u001b[0;34m(\u001b[0m\u001b[0mcolumns\u001b[0m \u001b[0;34m=\u001b[0m \u001b[0;34m[\u001b[0m\u001b[0;34m'Départ de feu'\u001b[0m\u001b[0;34m]\u001b[0m\u001b[0;34m)\u001b[0m\u001b[0;34m\u001b[0m\u001b[0;34m\u001b[0m\u001b[0m\n\u001b[1;32m      4\u001b[0m \u001b[0mdf_feu\u001b[0m \u001b[0;34m=\u001b[0m \u001b[0mdf_feu\u001b[0m\u001b[0;34m.\u001b[0m\u001b[0msort_values\u001b[0m\u001b[0;34m(\u001b[0m\u001b[0;34m[\u001b[0m\u001b[0;34m'Date de première alerte'\u001b[0m\u001b[0;34m]\u001b[0m\u001b[0;34m)\u001b[0m\u001b[0;34m\u001b[0m\u001b[0;34m\u001b[0m\u001b[0m\n\u001b[1;32m      5\u001b[0m \u001b[0mdf_feu\u001b[0m \u001b[0;34m=\u001b[0m \u001b[0mdf_feu\u001b[0m\u001b[0;34m.\u001b[0m\u001b[0mreset_index\u001b[0m\u001b[0;34m(\u001b[0m\u001b[0mdrop\u001b[0m \u001b[0;34m=\u001b[0m \u001b[0;32mTrue\u001b[0m\u001b[0;34m)\u001b[0m\u001b[0;34m\u001b[0m\u001b[0;34m\u001b[0m\u001b[0m\n",
            "\u001b[0;32m/usr/local/lib/python3.6/dist-packages/pandas/io/parsers.py\u001b[0m in \u001b[0;36mread_csv\u001b[0;34m(filepath_or_buffer, sep, delimiter, header, names, index_col, usecols, squeeze, prefix, mangle_dupe_cols, dtype, engine, converters, true_values, false_values, skipinitialspace, skiprows, skipfooter, nrows, na_values, keep_default_na, na_filter, verbose, skip_blank_lines, parse_dates, infer_datetime_format, keep_date_col, date_parser, dayfirst, cache_dates, iterator, chunksize, compression, thousands, decimal, lineterminator, quotechar, quoting, doublequote, escapechar, comment, encoding, dialect, error_bad_lines, warn_bad_lines, delim_whitespace, low_memory, memory_map, float_precision)\u001b[0m\n\u001b[1;32m    686\u001b[0m     )\n\u001b[1;32m    687\u001b[0m \u001b[0;34m\u001b[0m\u001b[0m\n\u001b[0;32m--> 688\u001b[0;31m     \u001b[0;32mreturn\u001b[0m \u001b[0m_read\u001b[0m\u001b[0;34m(\u001b[0m\u001b[0mfilepath_or_buffer\u001b[0m\u001b[0;34m,\u001b[0m \u001b[0mkwds\u001b[0m\u001b[0;34m)\u001b[0m\u001b[0;34m\u001b[0m\u001b[0;34m\u001b[0m\u001b[0m\n\u001b[0m\u001b[1;32m    689\u001b[0m \u001b[0;34m\u001b[0m\u001b[0m\n\u001b[1;32m    690\u001b[0m \u001b[0;34m\u001b[0m\u001b[0m\n",
            "\u001b[0;32m/usr/local/lib/python3.6/dist-packages/pandas/io/parsers.py\u001b[0m in \u001b[0;36m_read\u001b[0;34m(filepath_or_buffer, kwds)\u001b[0m\n\u001b[1;32m    452\u001b[0m \u001b[0;34m\u001b[0m\u001b[0m\n\u001b[1;32m    453\u001b[0m     \u001b[0;31m# Create the parser.\u001b[0m\u001b[0;34m\u001b[0m\u001b[0;34m\u001b[0m\u001b[0;34m\u001b[0m\u001b[0m\n\u001b[0;32m--> 454\u001b[0;31m     \u001b[0mparser\u001b[0m \u001b[0;34m=\u001b[0m \u001b[0mTextFileReader\u001b[0m\u001b[0;34m(\u001b[0m\u001b[0mfp_or_buf\u001b[0m\u001b[0;34m,\u001b[0m \u001b[0;34m**\u001b[0m\u001b[0mkwds\u001b[0m\u001b[0;34m)\u001b[0m\u001b[0;34m\u001b[0m\u001b[0;34m\u001b[0m\u001b[0m\n\u001b[0m\u001b[1;32m    455\u001b[0m \u001b[0;34m\u001b[0m\u001b[0m\n\u001b[1;32m    456\u001b[0m     \u001b[0;32mif\u001b[0m \u001b[0mchunksize\u001b[0m \u001b[0;32mor\u001b[0m \u001b[0miterator\u001b[0m\u001b[0;34m:\u001b[0m\u001b[0;34m\u001b[0m\u001b[0;34m\u001b[0m\u001b[0m\n",
            "\u001b[0;32m/usr/local/lib/python3.6/dist-packages/pandas/io/parsers.py\u001b[0m in \u001b[0;36m__init__\u001b[0;34m(self, f, engine, **kwds)\u001b[0m\n\u001b[1;32m    946\u001b[0m             \u001b[0mself\u001b[0m\u001b[0;34m.\u001b[0m\u001b[0moptions\u001b[0m\u001b[0;34m[\u001b[0m\u001b[0;34m\"has_index_names\"\u001b[0m\u001b[0;34m]\u001b[0m \u001b[0;34m=\u001b[0m \u001b[0mkwds\u001b[0m\u001b[0;34m[\u001b[0m\u001b[0;34m\"has_index_names\"\u001b[0m\u001b[0;34m]\u001b[0m\u001b[0;34m\u001b[0m\u001b[0;34m\u001b[0m\u001b[0m\n\u001b[1;32m    947\u001b[0m \u001b[0;34m\u001b[0m\u001b[0m\n\u001b[0;32m--> 948\u001b[0;31m         \u001b[0mself\u001b[0m\u001b[0;34m.\u001b[0m\u001b[0m_make_engine\u001b[0m\u001b[0;34m(\u001b[0m\u001b[0mself\u001b[0m\u001b[0;34m.\u001b[0m\u001b[0mengine\u001b[0m\u001b[0;34m)\u001b[0m\u001b[0;34m\u001b[0m\u001b[0;34m\u001b[0m\u001b[0m\n\u001b[0m\u001b[1;32m    949\u001b[0m \u001b[0;34m\u001b[0m\u001b[0m\n\u001b[1;32m    950\u001b[0m     \u001b[0;32mdef\u001b[0m \u001b[0mclose\u001b[0m\u001b[0;34m(\u001b[0m\u001b[0mself\u001b[0m\u001b[0;34m)\u001b[0m\u001b[0;34m:\u001b[0m\u001b[0;34m\u001b[0m\u001b[0;34m\u001b[0m\u001b[0m\n",
            "\u001b[0;32m/usr/local/lib/python3.6/dist-packages/pandas/io/parsers.py\u001b[0m in \u001b[0;36m_make_engine\u001b[0;34m(self, engine)\u001b[0m\n\u001b[1;32m   1178\u001b[0m     \u001b[0;32mdef\u001b[0m \u001b[0m_make_engine\u001b[0m\u001b[0;34m(\u001b[0m\u001b[0mself\u001b[0m\u001b[0;34m,\u001b[0m \u001b[0mengine\u001b[0m\u001b[0;34m=\u001b[0m\u001b[0;34m\"c\"\u001b[0m\u001b[0;34m)\u001b[0m\u001b[0;34m:\u001b[0m\u001b[0;34m\u001b[0m\u001b[0;34m\u001b[0m\u001b[0m\n\u001b[1;32m   1179\u001b[0m         \u001b[0;32mif\u001b[0m \u001b[0mengine\u001b[0m \u001b[0;34m==\u001b[0m \u001b[0;34m\"c\"\u001b[0m\u001b[0;34m:\u001b[0m\u001b[0;34m\u001b[0m\u001b[0;34m\u001b[0m\u001b[0m\n\u001b[0;32m-> 1180\u001b[0;31m             \u001b[0mself\u001b[0m\u001b[0;34m.\u001b[0m\u001b[0m_engine\u001b[0m \u001b[0;34m=\u001b[0m \u001b[0mCParserWrapper\u001b[0m\u001b[0;34m(\u001b[0m\u001b[0mself\u001b[0m\u001b[0;34m.\u001b[0m\u001b[0mf\u001b[0m\u001b[0;34m,\u001b[0m \u001b[0;34m**\u001b[0m\u001b[0mself\u001b[0m\u001b[0;34m.\u001b[0m\u001b[0moptions\u001b[0m\u001b[0;34m)\u001b[0m\u001b[0;34m\u001b[0m\u001b[0;34m\u001b[0m\u001b[0m\n\u001b[0m\u001b[1;32m   1181\u001b[0m         \u001b[0;32melse\u001b[0m\u001b[0;34m:\u001b[0m\u001b[0;34m\u001b[0m\u001b[0;34m\u001b[0m\u001b[0m\n\u001b[1;32m   1182\u001b[0m             \u001b[0;32mif\u001b[0m \u001b[0mengine\u001b[0m \u001b[0;34m==\u001b[0m \u001b[0;34m\"python\"\u001b[0m\u001b[0;34m:\u001b[0m\u001b[0;34m\u001b[0m\u001b[0;34m\u001b[0m\u001b[0m\n",
            "\u001b[0;32m/usr/local/lib/python3.6/dist-packages/pandas/io/parsers.py\u001b[0m in \u001b[0;36m__init__\u001b[0;34m(self, src, **kwds)\u001b[0m\n\u001b[1;32m   2008\u001b[0m         \u001b[0mkwds\u001b[0m\u001b[0;34m[\u001b[0m\u001b[0;34m\"usecols\"\u001b[0m\u001b[0;34m]\u001b[0m \u001b[0;34m=\u001b[0m \u001b[0mself\u001b[0m\u001b[0;34m.\u001b[0m\u001b[0musecols\u001b[0m\u001b[0;34m\u001b[0m\u001b[0;34m\u001b[0m\u001b[0m\n\u001b[1;32m   2009\u001b[0m \u001b[0;34m\u001b[0m\u001b[0m\n\u001b[0;32m-> 2010\u001b[0;31m         \u001b[0mself\u001b[0m\u001b[0;34m.\u001b[0m\u001b[0m_reader\u001b[0m \u001b[0;34m=\u001b[0m \u001b[0mparsers\u001b[0m\u001b[0;34m.\u001b[0m\u001b[0mTextReader\u001b[0m\u001b[0;34m(\u001b[0m\u001b[0msrc\u001b[0m\u001b[0;34m,\u001b[0m \u001b[0;34m**\u001b[0m\u001b[0mkwds\u001b[0m\u001b[0;34m)\u001b[0m\u001b[0;34m\u001b[0m\u001b[0;34m\u001b[0m\u001b[0m\n\u001b[0m\u001b[1;32m   2011\u001b[0m         \u001b[0mself\u001b[0m\u001b[0;34m.\u001b[0m\u001b[0munnamed_cols\u001b[0m \u001b[0;34m=\u001b[0m \u001b[0mself\u001b[0m\u001b[0;34m.\u001b[0m\u001b[0m_reader\u001b[0m\u001b[0;34m.\u001b[0m\u001b[0munnamed_cols\u001b[0m\u001b[0;34m\u001b[0m\u001b[0;34m\u001b[0m\u001b[0m\n\u001b[1;32m   2012\u001b[0m \u001b[0;34m\u001b[0m\u001b[0m\n",
            "\u001b[0;32mpandas/_libs/parsers.pyx\u001b[0m in \u001b[0;36mpandas._libs.parsers.TextReader.__cinit__\u001b[0;34m()\u001b[0m\n",
            "\u001b[0;32mpandas/_libs/parsers.pyx\u001b[0m in \u001b[0;36mpandas._libs.parsers.TextReader._setup_parser_source\u001b[0;34m()\u001b[0m\n",
            "\u001b[0;31mFileNotFoundError\u001b[0m: [Errno 2] No such file or directory: 'data.csv'"
          ]
        }
      ]
    },
    {
      "cell_type": "code",
      "metadata": {
        "id": "yezwe6B6E-X6"
      },
      "source": [
        "df_feu.dtypes"
      ],
      "execution_count": null,
      "outputs": []
    },
    {
      "cell_type": "code",
      "metadata": {
        "id": "yHIvESJ1E-X7"
      },
      "source": [
        "values = df_feu.values\n",
        "values"
      ],
      "execution_count": null,
      "outputs": []
    },
    {
      "cell_type": "code",
      "metadata": {
        "id": "37VCLVEGE-X9"
      },
      "source": [
        "x = values[:,[22,23]].astype(float)\n",
        "y = values[:,8].astype(float)"
      ],
      "execution_count": null,
      "outputs": []
    },
    {
      "cell_type": "code",
      "metadata": {
        "id": "o0cdrT8AE-X-"
      },
      "source": [
        "x_train,x_test,y_train,y_test = train_test_split(x, y, test_size = 0.3, random_state = 10)"
      ],
      "execution_count": null,
      "outputs": []
    },
    {
      "cell_type": "code",
      "metadata": {
        "id": "hpjwJ-ppE-X_"
      },
      "source": [
        "x_train.shape"
      ],
      "execution_count": null,
      "outputs": []
    },
    {
      "cell_type": "code",
      "metadata": {
        "id": "nuqbPtmTE-YA"
      },
      "source": [
        "model = Sequential()\n",
        "\n",
        "model.add(Dense(500, input_dim = 2, activation = 'relu'))\n",
        "model.add(Dense(100, activation = 'relu'))\n",
        "model.add(Dense(50, activation = 'relu'))\n",
        "model.add(Dense(1))\n",
        "\n",
        "model.compile(loss = \"mean_squared_error\" , optimizer = \"adam\", metrics = [\"mean_squared_error\"])\n",
        "\n",
        "model.summary()"
      ],
      "execution_count": null,
      "outputs": []
    },
    {
      "cell_type": "code",
      "metadata": {
        "id": "w3cafD3xE-YC"
      },
      "source": [
        "history = model.fit(x_train, y_train, epochs = 20, verbose = 1, validation_data=(x_test, y_test))"
      ],
      "execution_count": null,
      "outputs": []
    },
    {
      "cell_type": "code",
      "metadata": {
        "id": "0TRPivMJE-YD"
      },
      "source": [
        "plt.figure(figsize=(7, 5))\n",
        "plt.plot(history.epoch, history.history['loss'], lw=3, label='Training set')\n",
        "plt.plot(history.epoch, history.history['val_loss'], lw=3, label='Test set')\n",
        "plt.legend(fontsize=14)\n",
        "plt.title('Loss of the FFNN', fontsize=16)\n",
        "plt.xlabel('Epoch', fontsize=14)\n",
        "plt.ylabel('MAE', fontsize=14)\n",
        "plt.tight_layout()"
      ],
      "execution_count": null,
      "outputs": []
    },
    {
      "cell_type": "code",
      "metadata": {
        "id": "-zF9rooUE-YF"
      },
      "source": [
        "pred_train = model.predict(x_train)\n",
        "print(np.sqrt(mean_squared_error(y_train,pred_train)))\n",
        "\n",
        "pred = model.predict(x_test)\n",
        "print(np.sqrt(mean_squared_error(y_test,pred))) "
      ],
      "execution_count": null,
      "outputs": []
    },
    {
      "cell_type": "code",
      "metadata": {
        "id": "woYNw-vnE-YI"
      },
      "source": [
        "confusion_matrix(y_true, y_pred)"
      ],
      "execution_count": null,
      "outputs": []
    },
    {
      "cell_type": "markdown",
      "metadata": {
        "id": "yZ4KaL8fIi08"
      },
      "source": [
        "## Deuxième essai : création de nouvelles variables"
      ]
    },
    {
      "cell_type": "markdown",
      "metadata": {
        "id": "2ETta9NqJPLB"
      },
      "source": [
        "Comme vu précédemment, le faible nombre de variables considérées est une des raisons pour lesquelles nos modèles ne sont pas satisfaits. \r\n",
        "\r\n",
        "Dans cette partie, nous tâcherons de créer de nouvelles variables qui témoigneront de la propension d'une observation à être un feu de forêt grâce à sa localisation et au mois considéré. Notre étude prend désormais en compte des variables géographiques (et non juste météorologiques)."
      ]
    },
    {
      "cell_type": "markdown",
      "metadata": {
        "id": "OII_xvspKbF7"
      },
      "source": [
        "### **Création des variables**"
      ]
    },
    {
      "cell_type": "code",
      "metadata": {
        "id": "JH50rkyyKK0z"
      },
      "source": [
        "from datetime import datetime\r\n",
        "df = pd.read_csv('data.zip', low_memory = False)"
      ],
      "execution_count": 20,
      "outputs": []
    },
    {
      "cell_type": "code",
      "metadata": {
        "id": "duv6APpsKkq3"
      },
      "source": [
        "df_feu = df[df[\"Départ de feu\"] == 1]"
      ],
      "execution_count": 21,
      "outputs": []
    },
    {
      "cell_type": "markdown",
      "metadata": {
        "id": "PwfKj1fjKrnm"
      },
      "source": [
        "**Création d'une variable sur le mois** \r\n",
        "\r\n",
        "L'on va ici chercher à créer une variable quantitative qui rende compte de la \"prédisposition\" d'un mois à connaître des feux de forêts. Comme on a pu le voir précédemment, il y a empiriquement plus de feux en août qu'en octobre. On cherche donc une variable qui permette d'en témoigner. \r\n",
        "\r\n",
        "On crée ainsi une variable *Mois propice* qui à chaque observation donne le pourcentage des feux des années précédentes (dans la limite de nos données, c'est-à-dire l'année 2006) s'étant produits durant ce mois de l'année. Plus ce chiffre est élevé, plus ce mois est à risque.\r\n",
        "\r\n",
        "Cette variable s'appuie exclusivement sur les données des années précédentes. La valeur attribuée à chaque mois varie également d'une année à l'autre, car elle prend en compte les feux de l'année qui vient de s'écouler. Ce comptage est intéressant car il gagne en fiabilité d'années en années. \r\n"
      ]
    },
    {
      "cell_type": "code",
      "metadata": {
        "colab": {
          "base_uri": "https://localhost:8080/"
        },
        "id": "Hu93YgefKzvg",
        "outputId": "5d9237b6-8709-4214-d21a-3a27abea210e"
      },
      "source": [
        "répartition = []\r\n",
        "\r\n",
        "for année in range(2007,2020) :\r\n",
        "\r\n",
        "  mois, nb_mois_previous_years = np.unique(df_feu['Date de première alerte'][df_feu.Année < année].str[5:7], return_counts=True)\r\n",
        "  répartition_previous_years = nb_mois_previous_years / sum(nb_mois_previous_years)\r\n",
        "\r\n",
        "  répartition.append([année,répartition_previous_years])\r\n",
        "\r\n",
        "répartition[0:3]"
      ],
      "execution_count": 22,
      "outputs": [
        {
          "output_type": "execute_result",
          "data": {
            "text/plain": [
              "[[2007, array([0.01557839, 0.03579715, 0.05502154, 0.09214451, 0.09048724,\n",
              "         0.1528008 , 0.25223732, 0.18362612, 0.06463374, 0.02320186,\n",
              "         0.02552204, 0.00894929])],\n",
              " [2008, array([0.02895404, 0.03184944, 0.07871878, 0.09156714, 0.06858487,\n",
              "         0.11653999, 0.2062975 , 0.15635179, 0.09989142, 0.06424177,\n",
              "         0.03999276, 0.0170105 ])],\n",
              " [2009, array([0.03337488, 0.06051793, 0.08613765, 0.08932281, 0.06093339,\n",
              "         0.09735494, 0.19055532, 0.15939621, 0.09901676, 0.07519734,\n",
              "         0.0340673 , 0.01412547])]]"
            ]
          },
          "metadata": {
            "tags": []
          },
          "execution_count": 22
        }
      ]
    },
    {
      "cell_type": "markdown",
      "metadata": {
        "id": "CN0xShB9K371"
      },
      "source": [
        "Le tableau *répartition* indique pour chaque année la proportion par mois des feux déclarés les années précédentes (depuis 2006). "
      ]
    },
    {
      "cell_type": "code",
      "metadata": {
        "colab": {
          "base_uri": "https://localhost:8080/"
        },
        "id": "k8drdI6xK6Ub",
        "outputId": "2e3b21bc-eb57-4a56-f6c8-538ed2557b7a"
      },
      "source": [
        "répartition[4]"
      ],
      "execution_count": 23,
      "outputs": [
        {
          "output_type": "execute_result",
          "data": {
            "text/plain": [
              "[2011, array([0.02136822, 0.0519987 , 0.11594085, 0.08409165, 0.05492363,\n",
              "        0.09140396, 0.190039  , 0.17907052, 0.10814105, 0.06857329,\n",
              "        0.02445564, 0.0099935 ])]"
            ]
          },
          "metadata": {
            "tags": []
          },
          "execution_count": 23
        }
      ]
    },
    {
      "cell_type": "markdown",
      "metadata": {
        "id": "4KMJUX83K9Fp"
      },
      "source": [
        "Par exemple, entre 2006 et 2010, 2,1% des feux se sont produits durant les mois de janviers, alors que 19% des feux entre 2006 et 2010 ont été en juillet. "
      ]
    },
    {
      "cell_type": "code",
      "metadata": {
        "id": "csFkPI_ALB4Y"
      },
      "source": [
        "def mois_propice(date) : \r\n",
        "    \"renvoie la proportion des feux déclenchés ce mois-ci les années précédentes\"\r\n",
        "    date = datetime.strptime(date, '%Y-%m-%d %H:%M:%S')\r\n",
        "    month, year = date.month, date.year\r\n",
        "\r\n",
        "    if year > 2006 : \r\n",
        "      return répartition[year-2007][1][month-1]"
      ],
      "execution_count": 24,
      "outputs": []
    },
    {
      "cell_type": "code",
      "metadata": {
        "id": "_di80bzBLEEu"
      },
      "source": [
        "df['Mois propice'] = df['Date'].apply(lambda row: mois_propice(row))"
      ],
      "execution_count": 25,
      "outputs": []
    },
    {
      "cell_type": "markdown",
      "metadata": {
        "id": "GbJLI4bCLJ6p"
      },
      "source": [
        "**Création d'une variable sur la station** \r\n",
        "\r\n",
        "On crée maintenant une variable qui témoigne de la \"prédisposition\" d'une zone géographique (représentée par une station) à connaître des feux de forêts. \r\n",
        "\r\n",
        "On raisonne pareillement que pour la variable *Mois propice* en termes de pourcentage de feux des années précédentes observée par station. \r\n",
        "\r\n",
        "\r\n",
        "On ne peut en effet pas : \r\n",
        "\r\n",
        "\r\n",
        "*   Compter le nombre de feux par station dans la base, car lorsqu'on utilisera les méthodes de prédiction sur une certaine observation (à une certaine date), cela voudrait dire que l'on utilise les données de dates ultérieures, et donc qu'on connaît l'avenir. \r\n",
        "\r\n",
        "\r\n",
        "*   Compter le nombre de feux par station qui se sont produits avant l'observation. Les valeurs prises par une station seraient différentes d'une année à l'autre, et la variable n'aurait alors plus de sens. (Par exemple, on peut imaginer qu'il y ait autant de feu en Haute-Corse en 2006 qu'en Bretagne entre 2006 et 2018 : la valeur prise par la variable *Zone propice* pour une observation en Corse en 2007 serait égale à celle prise par une observation en Bretagne en 2019, ce qui ne rendrait pas bien compte de la réalité lorsqu'on utilisera les techniques de prédiction. \r\n",
        "\r\n",
        "Considérer les données sur toutes les années précédentes permet de créer une variable plus fiable que si l'on utilisait que celle d'une année précédente."
      ]
    },
    {
      "cell_type": "code",
      "metadata": {
        "id": "FLZHoGVTLQag"
      },
      "source": [
        "répartition_zone = []\r\n",
        "\r\n",
        "for année in range(2007,2020) :\r\n",
        "\r\n",
        "    zone, nb_zone = np.unique(df_feu['id_station'][df_feu.Année < année], return_counts=True)\r\n",
        "    prop_zone = nb_zone / sum(nb_zone)\r\n",
        "    prop_zone_previous = [ [zone[i], prop_zone[i]] for i in range(0,len(zone)) ]\r\n",
        "    répartition_zone.append([année,prop_zone_previous])"
      ],
      "execution_count": 26,
      "outputs": []
    },
    {
      "cell_type": "markdown",
      "metadata": {
        "id": "mAA3aUQDLTem"
      },
      "source": [
        "*répartition_zone* est un tableau donnant, pour chaque année, la proportion de feux s'étant déclarée dans chaque station les années précédentes"
      ]
    },
    {
      "cell_type": "code",
      "metadata": {
        "colab": {
          "base_uri": "https://localhost:8080/"
        },
        "id": "ov61AAHgLWMf",
        "outputId": "2c45f50f-0ded-4736-c62d-042ff1799f18"
      },
      "source": [
        "#Exemple : la répartition pour l'année 2007\r\n",
        "répartition_zone[0][1]"
      ],
      "execution_count": 27,
      "outputs": [
        {
          "output_type": "execute_result",
          "data": {
            "text/plain": [
              "[[7110, 0.0006629101756711965],\n",
              " [7130, 0.0019887305270135896],\n",
              " [7139, 0.004971826317533974],\n",
              " [7149, 0.003646005966191581],\n",
              " [7207, 0.0016572754391779914],\n",
              " [7222, 0.00033145508783559825],\n",
              " [7240, 0.0029830957905203847],\n",
              " [7255, 0.0016572754391779914],\n",
              " [7280, 0.0009943652635067948],\n",
              " [7299, 0.0016572754391779914],\n",
              " [7314, 0.003977461054027179],\n",
              " [7335, 0.0029830957905203847],\n",
              " [7434, 0.011269472986410341],\n",
              " [7460, 0.0019887305270135896],\n",
              " [7471, 0.008286377195889956],\n",
              " [7481, 0.010275107722903546],\n",
              " [7510, 0.12595293337752733],\n",
              " [7535, 0.03513423931057342],\n",
              " [7558, 0.01358965860125953],\n",
              " [7577, 0.0573417301955585],\n",
              " [7591, 0.005634736493205171],\n",
              " [7607, 0.07093138879681803],\n",
              " [7621, 0.00033145508783559825],\n",
              " [7627, 0.013258203513423931],\n",
              " [7630, 0.006297646668876367],\n",
              " [7643, 0.04441498176997017],\n",
              " [7650, 0.07590321511435201],\n",
              " [7661, 0.060656281073914485],\n",
              " [7690, 0.07225720914816043],\n",
              " [7747, 0.06529665230361285],\n",
              " [7761, 0.1537951607557176],\n",
              " [7790, 0.13921113689095127],\n",
              " [61968, 0.0006629101756711965]]"
            ]
          },
          "metadata": {
            "tags": []
          },
          "execution_count": 27
        }
      ]
    },
    {
      "cell_type": "code",
      "metadata": {
        "id": "MsIvgFaVLY8Q"
      },
      "source": [
        "def zone_propice(date,station) : \r\n",
        "    \"renvoie la proportion des feux déclenchés dans cette zone les années précédentes\"\r\n",
        "\r\n",
        "    date = datetime.strptime(date, '%Y-%m-%d %H:%M:%S')\r\n",
        "    year = date.year\r\n",
        " \r\n",
        "    if year > 2006 : \r\n",
        "      ligne = [i for i in range(0,len(répartition_zone[year-2007][1])) if répartition_zone[year-2007][1][i][0] == station]\r\n",
        "      #liste des lignes correspondant à l'année et à la station \r\n",
        "      if len(ligne) != 0 :\r\n",
        "      #len(ligne) == 1 si la station n'est pas dégénérée (existe dans les données)\r\n",
        "        return répartition_zone[year-2007][1][ligne[0]][1]"
      ],
      "execution_count": 28,
      "outputs": []
    },
    {
      "cell_type": "code",
      "metadata": {
        "id": "_Z8xAm3hLbXZ"
      },
      "source": [
        "df['Zone propice'] = df.apply(lambda row: zone_propice(row['Date'], row['id_station']), axis=1)"
      ],
      "execution_count": 29,
      "outputs": []
    },
    {
      "cell_type": "code",
      "metadata": {
        "colab": {
          "base_uri": "https://localhost:8080/",
          "height": 204
        },
        "id": "J2GzziPiLd-5",
        "outputId": "a6a074bf-67aa-4db8-80fe-1e7bab88e36a"
      },
      "source": [
        "#Exemple d'une station Corse\r\n",
        "df[df[\"id_station\"] == 7761\t][[\"Date\",\"Zone propice\"]].sample(5) "
      ],
      "execution_count": 30,
      "outputs": [
        {
          "output_type": "execute_result",
          "data": {
            "text/html": [
              "<div>\n",
              "<style scoped>\n",
              "    .dataframe tbody tr th:only-of-type {\n",
              "        vertical-align: middle;\n",
              "    }\n",
              "\n",
              "    .dataframe tbody tr th {\n",
              "        vertical-align: top;\n",
              "    }\n",
              "\n",
              "    .dataframe thead th {\n",
              "        text-align: right;\n",
              "    }\n",
              "</style>\n",
              "<table border=\"1\" class=\"dataframe\">\n",
              "  <thead>\n",
              "    <tr style=\"text-align: right;\">\n",
              "      <th></th>\n",
              "      <th>Date</th>\n",
              "      <th>Zone propice</th>\n",
              "    </tr>\n",
              "  </thead>\n",
              "  <tbody>\n",
              "    <tr>\n",
              "      <th>1634710</th>\n",
              "      <td>2014-04-15 21:00:00</td>\n",
              "      <td>0.142842</td>\n",
              "    </tr>\n",
              "    <tr>\n",
              "      <th>1632909</th>\n",
              "      <td>2013-09-03 18:00:00</td>\n",
              "      <td>0.142702</td>\n",
              "    </tr>\n",
              "    <tr>\n",
              "      <th>1637371</th>\n",
              "      <td>2015-03-09 00:00:00</td>\n",
              "      <td>0.142891</td>\n",
              "    </tr>\n",
              "    <tr>\n",
              "      <th>1634337</th>\n",
              "      <td>2014-02-28 15:00:00</td>\n",
              "      <td>0.142842</td>\n",
              "    </tr>\n",
              "    <tr>\n",
              "      <th>1612181</th>\n",
              "      <td>2006-09-30 03:00:00</td>\n",
              "      <td>NaN</td>\n",
              "    </tr>\n",
              "  </tbody>\n",
              "</table>\n",
              "</div>"
            ],
            "text/plain": [
              "                        Date  Zone propice\n",
              "1634710  2014-04-15 21:00:00      0.142842\n",
              "1632909  2013-09-03 18:00:00      0.142702\n",
              "1637371  2015-03-09 00:00:00      0.142891\n",
              "1634337  2014-02-28 15:00:00      0.142842\n",
              "1612181  2006-09-30 03:00:00           NaN"
            ]
          },
          "metadata": {
            "tags": []
          },
          "execution_count": 30
        }
      ]
    },
    {
      "cell_type": "markdown",
      "metadata": {
        "id": "EQCxbsMKLx13"
      },
      "source": [
        "Le raisonnement que l'on va maintenant mener est identique à celui que nous avons eu dans le premier essai. Nous allons comparer les résultats des deux essais, et on s'attend à ce que ce deuxième essai, qui prend en compte davantage de variables, ait de meilleurs résultats. "
      ]
    },
    {
      "cell_type": "markdown",
      "metadata": {
        "id": "Wqu_cZMILqyK"
      },
      "source": [
        "### **Préparation des bases d'apprentissage et de test**"
      ]
    },
    {
      "cell_type": "code",
      "metadata": {
        "id": "ruPzzrcrMCM-"
      },
      "source": [
        "df = df.iloc[:, [0,17,18,19,21,22,23,24,25,26]]  \r\n",
        "df = df.dropna()"
      ],
      "execution_count": 32,
      "outputs": []
    },
    {
      "cell_type": "code",
      "metadata": {
        "colab": {
          "base_uri": "https://localhost:8080/",
          "height": 221
        },
        "id": "fFVEwsV4MC80",
        "outputId": "3f629fd1-a989-41a2-e12f-36a05a4c1281"
      },
      "source": [
        "df.head()"
      ],
      "execution_count": 34,
      "outputs": [
        {
          "output_type": "execute_result",
          "data": {
            "text/html": [
              "<div>\n",
              "<style scoped>\n",
              "    .dataframe tbody tr th:only-of-type {\n",
              "        vertical-align: middle;\n",
              "    }\n",
              "\n",
              "    .dataframe tbody tr th {\n",
              "        vertical-align: top;\n",
              "    }\n",
              "\n",
              "    .dataframe thead th {\n",
              "        text-align: right;\n",
              "    }\n",
              "</style>\n",
              "<table border=\"1\" class=\"dataframe\">\n",
              "  <thead>\n",
              "    <tr style=\"text-align: right;\">\n",
              "      <th></th>\n",
              "      <th>Départ de feu</th>\n",
              "      <th>Latitude station</th>\n",
              "      <th>Longitude station</th>\n",
              "      <th>Altitude station</th>\n",
              "      <th>Température (°C)</th>\n",
              "      <th>Précipitations (3 heures)</th>\n",
              "      <th>Humidité (%)</th>\n",
              "      <th>Vitesse du vent (m/s)</th>\n",
              "      <th>Mois propice</th>\n",
              "      <th>Zone propice</th>\n",
              "    </tr>\n",
              "  </thead>\n",
              "  <tbody>\n",
              "    <tr>\n",
              "      <th>69920</th>\n",
              "      <td>0</td>\n",
              "      <td>50.57</td>\n",
              "      <td>3.0975</td>\n",
              "      <td>47</td>\n",
              "      <td>7.7</td>\n",
              "      <td>-0.1</td>\n",
              "      <td>86.0</td>\n",
              "      <td>4.1</td>\n",
              "      <td>0.024042</td>\n",
              "      <td>0.000042</td>\n",
              "    </tr>\n",
              "    <tr>\n",
              "      <th>69921</th>\n",
              "      <td>0</td>\n",
              "      <td>50.57</td>\n",
              "      <td>3.0975</td>\n",
              "      <td>47</td>\n",
              "      <td>5.4</td>\n",
              "      <td>0.0</td>\n",
              "      <td>87.0</td>\n",
              "      <td>3.3</td>\n",
              "      <td>0.024042</td>\n",
              "      <td>0.000042</td>\n",
              "    </tr>\n",
              "    <tr>\n",
              "      <th>69922</th>\n",
              "      <td>0</td>\n",
              "      <td>50.57</td>\n",
              "      <td>3.0975</td>\n",
              "      <td>47</td>\n",
              "      <td>2.7</td>\n",
              "      <td>0.0</td>\n",
              "      <td>96.0</td>\n",
              "      <td>1.4</td>\n",
              "      <td>0.024042</td>\n",
              "      <td>0.000042</td>\n",
              "    </tr>\n",
              "    <tr>\n",
              "      <th>69923</th>\n",
              "      <td>0</td>\n",
              "      <td>50.57</td>\n",
              "      <td>3.0975</td>\n",
              "      <td>47</td>\n",
              "      <td>2.7</td>\n",
              "      <td>-0.1</td>\n",
              "      <td>97.0</td>\n",
              "      <td>0.9</td>\n",
              "      <td>0.024042</td>\n",
              "      <td>0.000042</td>\n",
              "    </tr>\n",
              "    <tr>\n",
              "      <th>69924</th>\n",
              "      <td>0</td>\n",
              "      <td>50.57</td>\n",
              "      <td>3.0975</td>\n",
              "      <td>47</td>\n",
              "      <td>6.3</td>\n",
              "      <td>0.0</td>\n",
              "      <td>97.0</td>\n",
              "      <td>2.9</td>\n",
              "      <td>0.024042</td>\n",
              "      <td>0.000042</td>\n",
              "    </tr>\n",
              "  </tbody>\n",
              "</table>\n",
              "</div>"
            ],
            "text/plain": [
              "       Départ de feu  Latitude station  ...  Mois propice  Zone propice\n",
              "69920              0             50.57  ...      0.024042      0.000042\n",
              "69921              0             50.57  ...      0.024042      0.000042\n",
              "69922              0             50.57  ...      0.024042      0.000042\n",
              "69923              0             50.57  ...      0.024042      0.000042\n",
              "69924              0             50.57  ...      0.024042      0.000042\n",
              "\n",
              "[5 rows x 10 columns]"
            ]
          },
          "metadata": {
            "tags": []
          },
          "execution_count": 34
        }
      ]
    },
    {
      "cell_type": "markdown",
      "metadata": {
        "id": "Tu0bJDSBMVfC"
      },
      "source": [
        "Le dataframe que nous considérons maintenant comporte davantage de variables que celui utilisé précédemment : on a des informations sur la localisation de la station (latitude, longitude et altitude) et sur la prédisposition du mois et de la zone à être victime de feux de forêt. "
      ]
    },
    {
      "cell_type": "code",
      "metadata": {
        "id": "fNfgXWAlNRqs"
      },
      "source": [
        "train, test = train_test_split(df, test_size=0.2, random_state=1, stratify = df['Départ de feu'])"
      ],
      "execution_count": 35,
      "outputs": []
    },
    {
      "cell_type": "code",
      "metadata": {
        "id": "07JrAYNkNW0S"
      },
      "source": [
        "X_train = train.drop(['Départ de feu'], axis = 1).to_numpy()\r\n",
        "Y_train = train[['Départ de feu']].to_numpy()\r\n",
        "\r\n",
        "X_test = test.drop(['Départ de feu'], axis = 1).to_numpy()\r\n",
        "Y_test = test[['Départ de feu']].to_numpy()\r\n",
        "\r\n",
        "Y_train = Y_train.reshape(Y_train.shape[0])\r\n",
        "Y_test = Y_test.reshape(Y_test.shape[0])"
      ],
      "execution_count": 36,
      "outputs": []
    },
    {
      "cell_type": "markdown",
      "metadata": {
        "id": "xxBGzP9VNc2-"
      },
      "source": [
        "### **Modèle 1 : l'arbre de décision**"
      ]
    },
    {
      "cell_type": "markdown",
      "metadata": {
        "id": "Ic8QqfyBNpmH"
      },
      "source": [
        "**Entraînement**"
      ]
    },
    {
      "cell_type": "code",
      "metadata": {
        "id": "FNfjm1Y_Ncn8"
      },
      "source": [
        "#instanciation de l'arbre\r\n",
        "from sklearn.tree import DecisionTreeClassifier\r\n",
        "tree = DecisionTreeClassifier()\r\n",
        "\r\n",
        "#construction de l'arbre\r\n",
        "tree = tree.fit(X_train, Y_train)"
      ],
      "execution_count": 37,
      "outputs": []
    },
    {
      "cell_type": "markdown",
      "metadata": {
        "id": "orScCSuiN0a5"
      },
      "source": [
        "**Evaluation**"
      ]
    },
    {
      "cell_type": "code",
      "metadata": {
        "id": "zZhi5q5wN28t"
      },
      "source": [
        "tree_predict_test = tree.predict(X_test)"
      ],
      "execution_count": 41,
      "outputs": []
    },
    {
      "cell_type": "markdown",
      "metadata": {
        "id": "oXSQKdGqOLwg"
      },
      "source": [
        "Comme l'on a pu le voir précédemment, les taux de reconnaissance et d'erreur du modèle peuvent être trompeurs du fait de la faible proportion d'observations correspondant à un feu de forêt. On s'intéressera donc principalement au rapport de prédiction. "
      ]
    },
    {
      "cell_type": "code",
      "metadata": {
        "colab": {
          "base_uri": "https://localhost:8080/"
        },
        "id": "MUvJO6EdOGUK",
        "outputId": "7971c3d0-b2fa-4456-ae83-1c813409e40e"
      },
      "source": [
        "print('Rapport de prédiction sur la base de test :')\r\n",
        "print(classification_report(Y_test, tree_predict_test))"
      ],
      "execution_count": 40,
      "outputs": [
        {
          "output_type": "stream",
          "text": [
            "Rapport de prédiction sur la base de test :\n",
            "              precision    recall  f1-score   support\n",
            "\n",
            "           0       0.99      0.98      0.98    282495\n",
            "           1       0.29      0.37      0.32      5951\n",
            "\n",
            "    accuracy                           0.97    288446\n",
            "   macro avg       0.64      0.67      0.65    288446\n",
            "weighted avg       0.97      0.97      0.97    288446\n",
            "\n"
          ],
          "name": "stdout"
        }
      ]
    },
    {
      "cell_type": "markdown",
      "metadata": {
        "id": "90kqqrvsOeh-"
      },
      "source": [
        "On observe encore une fois une très bonne performance du modèle sur les observations ne correspondant pas à un feu de forêt. \r\n",
        "\r\n",
        "En ce qui concerne les observations correspondant à un feu de forêt (*Départ de feu* == 1), le modèle affiche de meilleures performances en précision et en recall. Cela est encourageant, néanmoins nous sommes encore loin d'une prédiction satisfaisante. "
      ]
    },
    {
      "cell_type": "markdown",
      "metadata": {
        "id": "2FL5Q934PKVW"
      },
      "source": [
        "### **Modèle 2 : Random forest**"
      ]
    },
    {
      "cell_type": "markdown",
      "metadata": {
        "id": "Y2MGIzjfPf_a"
      },
      "source": [
        "Le modèle *Random Forest* est censé nous livrer de meilleurs résultats qu'un arbre de décision seul.\r\n",
        "\r\n",
        "**Entraînement**"
      ]
    },
    {
      "cell_type": "code",
      "metadata": {
        "id": "tdNrVfaoPKDK"
      },
      "source": [
        "rfc = RandomForestClassifier()\r\n",
        "rfc = rfc.fit(X_train, Y_train)"
      ],
      "execution_count": 42,
      "outputs": []
    },
    {
      "cell_type": "markdown",
      "metadata": {
        "id": "uArpQGOsPo0Y"
      },
      "source": [
        "**Evaluation**"
      ]
    },
    {
      "cell_type": "code",
      "metadata": {
        "id": "sRC4ecOXPrwd"
      },
      "source": [
        "rfc_predict_test = rfc.predict(X_test)"
      ],
      "execution_count": 43,
      "outputs": []
    },
    {
      "cell_type": "code",
      "metadata": {
        "colab": {
          "base_uri": "https://localhost:8080/"
        },
        "id": "JHrXWX2qRuWK",
        "outputId": "6c690038-18bd-43e0-bb48-d87bf97bedb5"
      },
      "source": [
        "#calcul de la matrice de confusion \r\n",
        "print('Matrice de confusion')\r\n",
        "confu_rfc = confusion_matrix(Y_test,rfc_predict_test)\r\n",
        "print(confu_rfc)  "
      ],
      "execution_count": 45,
      "outputs": [
        {
          "output_type": "stream",
          "text": [
            "Matrice de confusion\n",
            "[[282030    465]\n",
            " [  4240   1711]]\n"
          ],
          "name": "stdout"
        }
      ]
    },
    {
      "cell_type": "code",
      "metadata": {
        "colab": {
          "base_uri": "https://localhost:8080/"
        },
        "id": "5OIt_UNYRAwf",
        "outputId": "904965ce-eac7-4354-844d-7e150c96921b"
      },
      "source": [
        "print('Rapport de prédiction sur la base de test :')\r\n",
        "print(classification_report(Y_test, rfc_predict_test))"
      ],
      "execution_count": 44,
      "outputs": [
        {
          "output_type": "stream",
          "text": [
            "Rapport de prédiction sur la base de test :\n",
            "              precision    recall  f1-score   support\n",
            "\n",
            "           0       0.99      1.00      0.99    282495\n",
            "           1       0.79      0.29      0.42      5951\n",
            "\n",
            "    accuracy                           0.98    288446\n",
            "   macro avg       0.89      0.64      0.71    288446\n",
            "weighted avg       0.98      0.98      0.98    288446\n",
            "\n"
          ],
          "name": "stdout"
        }
      ]
    },
    {
      "cell_type": "markdown",
      "metadata": {
        "id": "oIxpP2OGR0tf"
      },
      "source": [
        "Notre travail commence à porter ses fruits : \r\n",
        "\r\n",
        "Le modèle *Random Forest* a une excellente performance sur les observations ne correspondant pas à un feu de forêt. \r\n",
        "\r\n",
        "Concernant les observations correspondant à un feu de forêt, la précision s'est grandement améliorée et commence à devenir intéressante. La part de faux positifs a diminué ( $ = 1 - precision_1 $), comme on peut l'obverser sur la matrice de confusion (cellule 1,1). Le modèle arrive à mieux reconnaître les observations ne correspondant pas à un feu de forêt. \r\n",
        "\r\n",
        "Néanmoins, $recall_1$ demeure faible : le modèle a des difficultés à reconnaître lorsqu'une observation correspond à un feu de forêt. \r\n",
        "\r\n",
        "\r\n"
      ]
    },
    {
      "cell_type": "markdown",
      "metadata": {
        "id": "h6th1uR8Vo6b"
      },
      "source": [
        "### **Modèle 3 :**"
      ]
    }
  ]
}