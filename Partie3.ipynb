{
  "nbformat": 4,
  "nbformat_minor": 0,
  "metadata": {
    "colab": {
      "name": "Partie3.ipynb",
      "provenance": [],
      "collapsed_sections": []
    },
    "kernelspec": {
      "display_name": "Python 3",
      "language": "python",
      "name": "python3"
    },
    "language_info": {
      "codemirror_mode": {
        "name": "ipython",
        "version": 3
      },
      "file_extension": ".py",
      "mimetype": "text/x-python",
      "name": "python",
      "nbconvert_exporter": "python",
      "pygments_lexer": "ipython3",
      "version": "3.8.5"
    }
  },
  "cells": [
    {
      "cell_type": "markdown",
      "metadata": {
        "id": "3QfapiE3E-XR"
      },
      "source": [
        "# **Partie 3 : Modélisation**\n",
        "\n",
        "Prédiction de l'occurence d'un feu de forêt et de la surface brûlée grâce à l'apprentissage supervisé. \n"
      ]
    },
    {
      "cell_type": "markdown",
      "metadata": {
        "id": "MMEZbJLKFuD2"
      },
      "source": [
        "## **A. Prédiction du déclenchement d'un feu de forêt**\n",
        "\n",
        "L'objectif de cette partie est de prédire les zones dans lesquelles un feu de forêt est propice de se déclencher dans les minutes à venir. On s'aide pour cela des relevés météorologiques pris en temps réel. \n",
        "\n",
        "\n",
        "\n",
        "Le problème auquel nous sommes confrontés est celui d'une classification en deux catégories (va-t-il y avoir un départ de feu ou non ?). Nous disposons des données des relevés météorologiques et feux passés pour entraîner notre algorithme. \n",
        "\n",
        "\n",
        "Nous avons alors sélectionné deux modèles adaptés : \n",
        "\n",
        "\n",
        "1.   Decision Tree Classifier\n",
        "2.   Random Forest Regression\n",
        "3.   Réseaux de neurones"
      ]
    },
    {
      "cell_type": "markdown",
      "metadata": {
        "id": "ff-VzU5gGJqM"
      },
      "source": [
        "## Premier essai des modèles avec les valeurs météorologiques brutes"
      ]
    },
    {
      "cell_type": "code",
      "metadata": {
        "id": "wE5s2IQmF_uy"
      },
      "source": [
        "import pandas as pd\n",
        "import numpy as np\n",
        "from sklearn.model_selection import train_test_split\n",
        "from sklearn.metrics import confusion_matrix, accuracy_score, classification_report"
      ],
      "execution_count": 35,
      "outputs": []
    },
    {
      "cell_type": "markdown",
      "metadata": {
        "id": "s6v97fGgGDMR"
      },
      "source": [
        "On utilise la base de données obtenue dans la partie 1, dont on ne va garder plus que les variables météorologiques et la variable binaire *Départ de feu*."
      ]
    },
    {
      "cell_type": "code",
      "metadata": {
        "id": "kgfGj9wBGHuo",
        "outputId": "49754309-186a-4258-86df-3e06645f39c0"
      },
      "source": [
        "df = pd.read_csv('data.zip', low_memory = False)\n",
        "df = df.iloc[:, [0,21,22,23,24]]\n",
        "df = df.dropna()\n",
        "df.head()"
      ],
      "execution_count": null,
      "outputs": [
        {
          "output_type": "execute_result",
          "data": {
            "text/html": [
              "<div>\n",
              "<style scoped>\n",
              "    .dataframe tbody tr th:only-of-type {\n",
              "        vertical-align: middle;\n",
              "    }\n",
              "\n",
              "    .dataframe tbody tr th {\n",
              "        vertical-align: top;\n",
              "    }\n",
              "\n",
              "    .dataframe thead th {\n",
              "        text-align: right;\n",
              "    }\n",
              "</style>\n",
              "<table border=\"1\" class=\"dataframe\">\n",
              "  <thead>\n",
              "    <tr style=\"text-align: right;\">\n",
              "      <th></th>\n",
              "      <th>Départ de feu</th>\n",
              "      <th>Température (°C)</th>\n",
              "      <th>Précipitations (3 heures)</th>\n",
              "      <th>Humidité (%)</th>\n",
              "      <th>Vitesse du vent (m/s)</th>\n",
              "    </tr>\n",
              "  </thead>\n",
              "  <tbody>\n",
              "    <tr>\n",
              "      <th>0</th>\n",
              "      <td>0</td>\n",
              "      <td>4.0</td>\n",
              "      <td>2.0</td>\n",
              "      <td>92.0</td>\n",
              "      <td>5.1</td>\n",
              "    </tr>\n",
              "    <tr>\n",
              "      <th>1</th>\n",
              "      <td>0</td>\n",
              "      <td>3.7</td>\n",
              "      <td>0.0</td>\n",
              "      <td>91.0</td>\n",
              "      <td>4.1</td>\n",
              "    </tr>\n",
              "    <tr>\n",
              "      <th>2</th>\n",
              "      <td>0</td>\n",
              "      <td>3.1</td>\n",
              "      <td>3.0</td>\n",
              "      <td>92.0</td>\n",
              "      <td>5.1</td>\n",
              "    </tr>\n",
              "    <tr>\n",
              "      <th>3</th>\n",
              "      <td>0</td>\n",
              "      <td>4.7</td>\n",
              "      <td>0.6</td>\n",
              "      <td>96.0</td>\n",
              "      <td>3.1</td>\n",
              "    </tr>\n",
              "    <tr>\n",
              "      <th>4</th>\n",
              "      <td>0</td>\n",
              "      <td>6.1</td>\n",
              "      <td>2.0</td>\n",
              "      <td>94.0</td>\n",
              "      <td>5.1</td>\n",
              "    </tr>\n",
              "  </tbody>\n",
              "</table>\n",
              "</div>"
            ],
            "text/plain": [
              "   Départ de feu  Température (°C)  Précipitations (3 heures)  Humidité (%)  \\\n",
              "0              0               4.0                        2.0          92.0   \n",
              "1              0               3.7                        0.0          91.0   \n",
              "2              0               3.1                        3.0          92.0   \n",
              "3              0               4.7                        0.6          96.0   \n",
              "4              0               6.1                        2.0          94.0   \n",
              "\n",
              "   Vitesse du vent (m/s)  \n",
              "0                    5.1  \n",
              "1                    4.1  \n",
              "2                    5.1  \n",
              "3                    3.1  \n",
              "4                    5.1  "
            ]
          },
          "metadata": {
            "tags": []
          },
          "execution_count": 27
        }
      ]
    },
    {
      "cell_type": "markdown",
      "metadata": {
        "id": "y_GqyToXGW3N"
      },
      "source": [
        "### **Préparation des bases d'apprentissage et de test**\n",
        "\n",
        "On sépare de façon aléatoire la base de données obtenue dans la partie 1 en deux bases : 80% servira à l'entraînement de l'algorithme (base train) et 20% à observer sa précision (base test). "
      ]
    },
    {
      "cell_type": "code",
      "metadata": {
        "id": "QKPqgfsUGdZH"
      },
      "source": [
        "train, test = train_test_split(df, test_size=0.2, random_state=1, stratify = df['Départ de feu'])"
      ],
      "execution_count": null,
      "outputs": []
    },
    {
      "cell_type": "markdown",
      "metadata": {
        "id": "UyxKQ6MDGjmt"
      },
      "source": [
        " On vérifie que les proportions des classes sont bien respectées."
      ]
    },
    {
      "cell_type": "code",
      "metadata": {
        "colab": {
          "base_uri": "https://localhost:8080/"
        },
        "id": "HM0oePbfGpeV",
        "outputId": "a0838b9b-0cfa-41ca-9c38-123bb543ccc3"
      },
      "source": [
        "print(\"La proportion de départ de feux dans la base d'entraînement est de \" + str(round(train[\"Départ de feu\"].mean() * 10**(4))/10**2) + '%')\n",
        "print(\"Elle est également de \" + str(round(test[\"Départ de feu\"].mean() * 10**(4))/10**2) + '% dans la base de test')"
      ],
      "execution_count": null,
      "outputs": [
        {
          "output_type": "stream",
          "text": [
            "La proportion de départ de feux dans la base d'entraînement est de 1.61%\n",
            "Elle est également de 1.61% dans la base de test\n"
          ],
          "name": "stdout"
        }
      ]
    },
    {
      "cell_type": "markdown",
      "metadata": {
        "id": "J6qW9ZOcG3Wr"
      },
      "source": [
        "Ensuite, on spécifie pour chaque base la matrice X des variables prédictives (les données météorologiques) et le vecteur Y de la variable cible (*Départ de feu*).\n",
        "\n",
        "Le vecteur Y défini 2 classes : \n",
        "\n",
        "\n",
        "*   Une observation est de classe 0 s'il n'y a pas de départ de feux, i.e. \"Départ de feu\" == 0.\n",
        "*   Une observation est de classe 1 s'il y a départ de feu, i.e. \"Départ de feu\" == 1.\n",
        "\n",
        "On appelle Vrai Négatif $-$ VN $-$ (resp. Vrai Positif $-$ VP $-$) une observation de classe 0 (resp. de classe 1) qui est reconnue par le modèle comme étant de classe 0 (resp. de classe 1). \n",
        "\n",
        "Un Faux Négatif $-$ FN $-$ (resp. Faux Positif $-$ FP $-$) est une observation prédite de classe 0 alors qu'elle est de classe 1 (resp. prédite de classe 1 alors qu'elle est de classe 0).\n"
      ]
    },
    {
      "cell_type": "code",
      "metadata": {
        "id": "x1nlTCiRG-9d"
      },
      "source": [
        "X_train = train.drop(['Départ de feu'], axis = 1).to_numpy()\n",
        "Y_train = train[['Départ de feu']].to_numpy()\n",
        "\n",
        "X_test = test.drop(['Départ de feu'], axis = 1).to_numpy()\n",
        "Y_test = test[['Départ de feu']].to_numpy()\n",
        "\n",
        "Y_train = Y_train.reshape(Y_train.shape[0])\n",
        "Y_test = Y_test.reshape(Y_test.shape[0])"
      ],
      "execution_count": null,
      "outputs": []
    },
    {
      "cell_type": "markdown",
      "metadata": {
        "id": "ZNarmvBlHBH5"
      },
      "source": [
        "### **Modèle 1 : l'arbre de décision**"
      ]
    },
    {
      "cell_type": "markdown",
      "metadata": {
        "id": "5y3YkuBxHDyE"
      },
      "source": [
        "**Entraînement**\n",
        "\n",
        "On entraîne le modèle sur la base d'entraînement."
      ]
    },
    {
      "cell_type": "code",
      "metadata": {
        "id": "zS_dQYBqHJo4"
      },
      "source": [
        "#instanciation de l'arbre\n",
        "from sklearn.tree import DecisionTreeClassifier\n",
        "tree = DecisionTreeClassifier()\n",
        "\n",
        "#construction de l'arbre\n",
        "tree = tree.fit(X_train, Y_train)"
      ],
      "execution_count": null,
      "outputs": []
    },
    {
      "cell_type": "markdown",
      "metadata": {
        "id": "wdvzsdYLHMtB"
      },
      "source": [
        "**Evaluation**\n",
        "\n",
        "On évalue les performances prédictives de l'arbre en le testant sur la base de test, puis en comparant les prédictions avec la réalité. \n",
        "\n",
        "*   Distribution de la prédiction"
      ]
    },
    {
      "cell_type": "code",
      "metadata": {
        "colab": {
          "base_uri": "https://localhost:8080/"
        },
        "id": "YVwSMWtEHQJ0",
        "outputId": "4e671ac4-5e9a-4302-baf0-1eb7e124aef1"
      },
      "source": [
        "tree_predict_test = tree.predict(X_test)\n",
        "\n",
        "#distribution \n",
        "tree_predict = np.unique(tree_predict_test,return_counts=True)\n",
        "print(tree_predict)\n",
        "print('La classe ' + str(tree_predict[0][0]) + ' a été assignée ' + str(tree_predict[1][0]) + ' fois.')"
      ],
      "execution_count": null,
      "outputs": [
        {
          "output_type": "stream",
          "text": [
            "(array([0, 1], dtype=int64), array([401163,   5136], dtype=int64))\n",
            "La classe 0 a été assignée 401163 fois.\n"
          ],
          "name": "stdout"
        }
      ]
    },
    {
      "cell_type": "code",
      "metadata": {
        "colab": {
          "base_uri": "https://localhost:8080/"
        },
        "id": "DuMD4ZmtHVPi",
        "outputId": "97f15df2-2c28-402d-cb9d-638b4c854cf8"
      },
      "source": [
        "print(\"Notre modèle prédit ainsi qu'il y a parmi la base de test \" + str(tree_predict[1][0]) + \" observations \\\n",
        "ne correspondant pas à un feu de forêt (classe \" + str(tree_predict[0][0]) + \").\")\n",
        "print(\"Il prédit que \" + str(tree_predict[1][1]) + \" observations \\\n",
        "correspondent à un feu de forêt (classe \" + str(tree_predict[0][1]) + \").\")"
      ],
      "execution_count": null,
      "outputs": [
        {
          "output_type": "stream",
          "text": [
            "Notre modèle prédit ainsi qu'il y a parmi la base de test 401163 observations ne correspondant pas à un feu de forêt (classe 0).\n",
            "Il prédit que 5136 observations correspondent à un feu de forêt (classe 1).\n"
          ],
          "name": "stdout"
        }
      ]
    },
    {
      "cell_type": "markdown",
      "metadata": {
        "id": "VoK63seHHZML"
      },
      "source": [
        "*   Calcul de la matrice de confusion\n",
        "\n",
        "![image.png](attachment:image.png)\n",
        "\n",
        "Dans notre cas, la i-ème ligne est la ligne des \"Départ de feu\" = i et la i-ème colonne est la \"Prédiction de Départ de feu\" = i"
      ]
    },
    {
      "cell_type": "code",
      "metadata": {
        "colab": {
          "base_uri": "https://localhost:8080/"
        },
        "id": "YITZH-azHfVs",
        "outputId": "11eda394-0091-4da7-8753-026631d5bdfc"
      },
      "source": [
        "#calcul de la matrice de confusion \n",
        "print('Matrice de confusion')\n",
        "confu_tree = confusion_matrix(Y_test,tree_predict_test)\n",
        "print(confu_tree)  "
      ],
      "execution_count": null,
      "outputs": [
        {
          "output_type": "stream",
          "text": [
            "Matrice de confusion\n",
            "[[395939   3799]\n",
            " [  5224   1337]]\n"
          ],
          "name": "stdout"
        }
      ]
    },
    {
      "cell_type": "markdown",
      "metadata": {
        "id": "dUqNby_nHjE_"
      },
      "source": [
        "Les lignes et les colonnes sont données par ordre croissant. La ligne donne la classe observée (c'est-à-dire la réalité), la colonne la classe prédite (par le modèle). Par exemple : \n"
      ]
    },
    {
      "cell_type": "code",
      "metadata": {
        "colab": {
          "base_uri": "https://localhost:8080/"
        },
        "id": "QVPz3sTkHliL",
        "outputId": "63dde97e-8b25-42d3-8e75-5de2d1586cf4"
      },
      "source": [
        "print(str(confu_tree[0][0]) + \" observations sans feu ont été prédites à raison comme ne correspondant pas à un feu de forêt.\")\n",
        "print(str(confu_tree[1][0]) + \" observations avec feu ont été prédites à tort comme ne correspondant pas à un feu de forêt.\")"
      ],
      "execution_count": null,
      "outputs": [
        {
          "output_type": "stream",
          "text": [
            "395939 observations sans feu ont été prédites à raison comme ne correspondant pas à un feu de forêt.\n",
            "5224 observations avec feu ont été prédites à tort comme ne correspondant pas à un feu de forêt.\n"
          ],
          "name": "stdout"
        }
      ]
    },
    {
      "cell_type": "markdown",
      "metadata": {
        "id": "UWtrS0kPHoak"
      },
      "source": [
        "La matrice de confusion nous permet déjà d'observer qu'une très grande proportion des observations correspondant à un feu de forêt ne sont pas reconnues comme telle par le modèle. "
      ]
    },
    {
      "cell_type": "markdown",
      "metadata": {
        "id": "GPLgWZmRHrZJ"
      },
      "source": [
        "*   Indicateurs de précision"
      ]
    },
    {
      "cell_type": "code",
      "metadata": {
        "colab": {
          "base_uri": "https://localhost:8080/"
        },
        "id": "Ad2uj0uuHtde",
        "outputId": "44af8b6d-f524-4827-8e3a-ec535bc3d50e"
      },
      "source": [
        "#taux de reconnaissance\n",
        "print('le taux de reconnaissance est :', accuracy_score(Y_test,tree_predict_test))\n",
        "\n",
        "#taux d'erreur \n",
        "print(\"le taux d'erreur est :\", 1.0 - accuracy_score(Y_test,tree_predict_test))"
      ],
      "execution_count": null,
      "outputs": [
        {
          "output_type": "stream",
          "text": [
            "le taux de reconnaissance est : 0.977792217061819\n",
            "le taux d'erreur est : 0.022207782938181042\n"
          ],
          "name": "stdout"
        }
      ]
    },
    {
      "cell_type": "markdown",
      "metadata": {
        "id": "eVtW3nY0Hz8K"
      },
      "source": [
        "Où le taux de reconnaissance est défini par : \n",
        "\n",
        "$ ( VP + VN ) / Nombre total d'observations $ \n",
        "\n",
        "Le taux de reconnaissance de notre modèle est très bon. Néanmoins, il nous faut encore regarder la répartition de faux-négatifs (déclarés de classe 0 à tort) et de faux-positifs (déclarés de classe 1 à tort). On utilise pour cela le rapport de classification."
      ]
    },
    {
      "cell_type": "code",
      "metadata": {
        "colab": {
          "base_uri": "https://localhost:8080/"
        },
        "id": "uKK1pw1WH2RQ",
        "outputId": "a5609690-2e18-4c79-e4c3-30d58583e92c"
      },
      "source": [
        "print('Rapport de prédiction sur la base de test :')\n",
        "print(classification_report(Y_test, tree_predict_test))"
      ],
      "execution_count": null,
      "outputs": [
        {
          "output_type": "stream",
          "text": [
            "Rapport de prédiction sur la base de test :\n",
            "              precision    recall  f1-score   support\n",
            "\n",
            "           0       0.99      0.99      0.99    399738\n",
            "           1       0.26      0.20      0.23      6561\n",
            "\n",
            "    accuracy                           0.98    406299\n",
            "   macro avg       0.62      0.60      0.61    406299\n",
            "weighted avg       0.98      0.98      0.98    406299\n",
            "\n"
          ],
          "name": "stdout"
        }
      ]
    },
    {
      "cell_type": "markdown",
      "metadata": {
        "id": "zrEnr5G9H9SH"
      },
      "source": [
        "**Comment lire le rapport de prédiction ?**\n",
        "\n",
        "*   *Precision : quelle proportion des prédictions est correcte ?*\n",
        "\n",
        "Pour chaque classe, la colonne *precision* indique la proportion d'observations prédites à raison dans cette classe. \n",
        "\n",
        "\n",
        "Alors, \n",
        "\n",
        "$precision_0 = VN / ( VN + FN) $\n",
        "\n",
        "$precision_1 = VP / ( VP + FP ) $ \n",
        "\n",
        "\n",
        "\n",
        "*   *Recall : quelle proportion des cas est detectée ?*\n",
        "\n",
        "Pour chaque classe, la colonne *Recall* indique la proportion d'observations de cette classe qui ont été correctement prédites. \n",
        "\n",
        "$recall_0 = VN / ( VN + FP ) $\n",
        "\n",
        "$recall_1 = VP / ( VP + FN ) $ \n",
        "\n",
        "\n",
        "\n",
        "\n",
        "\n",
        "*   *F1-score* \n",
        "\n",
        "Le *f1 score* est la moyenne harmonique de *precision* et *recall*. \n",
        "\n",
        "$f1score_i = 2 * (recall_i * precision_i) / (recall_i + precision_i)$ \n",
        "\n"
      ]
    },
    {
      "cell_type": "markdown",
      "metadata": {
        "id": "1MiHQXrQ_bSz"
      },
      "source": [
        "*   Aire sous la courbe ROC"
      ]
    },
    {
      "cell_type": "code",
      "metadata": {
        "colab": {
          "base_uri": "https://localhost:8080/"
        },
        "id": "4IJOMrUC_g48",
        "outputId": "28d980ed-b77c-4b07-a26e-3821bad97918"
      },
      "source": [
        "metrics.roc_auc_score(Y_test,tree_predict_test)"
      ],
      "execution_count": null,
      "outputs": [
        {
          "output_type": "execute_result",
          "data": {
            "text/plain": [
              "0.5930716489442333"
            ]
          },
          "metadata": {
            "tags": []
          },
          "execution_count": 52
        }
      ]
    },
    {
      "cell_type": "markdown",
      "metadata": {
        "id": "LOV64r7LICjl"
      },
      "source": [
        "**Interprétation**\n",
        "\n",
        "Le modèle semblait être satisfaisant car il avait un faible taux d'erreur. \n",
        "Néanmoins, il prédit très mal les observations de classe 1 : à peine un cinquième d'entre elles sont reconnues par l'arbre de décision. La faible proportion d'observations de classe 1 dans la base de données (1,6%) explique que le modèle conserve une très grande précision malgré ce défaut majeur."
      ]
    },
    {
      "cell_type": "markdown",
      "metadata": {
        "id": "-ilQktMLKF7A"
      },
      "source": [
        "On peut tenter de corriger ce défaut en surpondérant la classe sous-représentée grâce à l'argument \"class_weight\"."
      ]
    },
    {
      "cell_type": "code",
      "metadata": {
        "id": "O7mQDqF5gU0o",
        "colab": {
          "base_uri": "https://localhost:8080/"
        },
        "outputId": "828b3394-d300-4a46-cff4-2f1fc53f0081"
      },
      "source": [
        "#instanciation de l'arbre\r\n",
        "from sklearn.tree import DecisionTreeClassifier\r\n",
        "tree = DecisionTreeClassifier(class_weight='balanced')\r\n",
        "\r\n",
        "#construction de l'arbre\r\n",
        "tree = tree.fit(X_train, Y_train)\r\n",
        "tree_predict_test = tree.predict(X_test)\r\n",
        "print('Rapport de prédiction sur la base de test :')\r\n",
        "print(classification_report(Y_test, tree_predict_test))"
      ],
      "execution_count": null,
      "outputs": [
        {
          "output_type": "stream",
          "text": [
            "Rapport de prédiction sur la base de test :\n",
            "              precision    recall  f1-score   support\n",
            "\n",
            "           0       0.99      0.97      0.98    399738\n",
            "           1       0.14      0.33      0.20      6561\n",
            "\n",
            "    accuracy                           0.96    406299\n",
            "   macro avg       0.57      0.65      0.59    406299\n",
            "weighted avg       0.98      0.96      0.97    406299\n",
            "\n"
          ],
          "name": "stdout"
        }
      ]
    },
    {
      "cell_type": "code",
      "metadata": {
        "colab": {
          "base_uri": "https://localhost:8080/"
        },
        "id": "EIImNLk4Lp1H",
        "outputId": "290705bb-a106-4a8e-9c03-d0ba9988e9d6"
      },
      "source": [
        "metrics.roc_auc_score(Y_test,tree_predict_test)"
      ],
      "execution_count": null,
      "outputs": [
        {
          "output_type": "execute_result",
          "data": {
            "text/plain": [
              "0.647843900512037"
            ]
          },
          "metadata": {
            "tags": []
          },
          "execution_count": 60
        }
      ]
    },
    {
      "cell_type": "markdown",
      "metadata": {
        "id": "idVf5XetKFAy"
      },
      "source": [
        "Les résultats ne sont que légèrement meilleurs (l'AUC est notamment un peu plus élevé), et ce même en choisissant des pondérations \"extrêmes\" (autant d'observations avec feu que sans feu).\r\n",
        "Le modèle de l'arbre de décision n'est donc pas satisfaisant. "
      ]
    },
    {
      "cell_type": "markdown",
      "metadata": {
        "id": "nkOtWrLeIF-g"
      },
      "source": [
        "### **Modèle 2 : Random Forest**\n",
        "\n",
        "Ce modèle combine de nombreux arbres de décision, ce qui devrait le rendre plus performant que le premier modèle. \n",
        "\n",
        "\n",
        "\n",
        "**Entraînement**"
      ]
    },
    {
      "cell_type": "code",
      "metadata": {
        "id": "S0aTJpGDIJiJ"
      },
      "source": [
        "from sklearn.ensemble import RandomForestClassifier\n",
        "\n",
        "rfc = RandomForestClassifier()\n",
        "rfc = rfc.fit(X_train, Y_train)\n",
        "\n",
        "#Attention : cette cellule met cinq bonnes minutes à tourner "
      ],
      "execution_count": null,
      "outputs": []
    },
    {
      "cell_type": "markdown",
      "metadata": {
        "id": "QpAEaDyMIMHE"
      },
      "source": [
        "**Evaluation**"
      ]
    },
    {
      "cell_type": "code",
      "metadata": {
        "id": "kyXbH15YIPsy"
      },
      "source": [
        "rfc_predict_test = rfc.predict(X_test)"
      ],
      "execution_count": null,
      "outputs": []
    },
    {
      "cell_type": "code",
      "metadata": {
        "colab": {
          "base_uri": "https://localhost:8080/"
        },
        "id": "PTa0p4FrIRtM",
        "outputId": "5a92cfc6-322e-443b-aecd-1a42a2be215d"
      },
      "source": [
        "#calcul de la matrice de confusion \n",
        "print('Matrice de confusion')\n",
        "confu_rfc = confusion_matrix(Y_test,rfc_predict_test)\n",
        "print(confu_rfc)   \n",
        "\n",
        "#taux de reconnaissance\n",
        "print('le taux de reconnaissance est :', accuracy_score(Y_test,rfc_predict_test))\n",
        "\n",
        "#taux d'erreur \n",
        "print(\"le taux d'erreur est :\", 1.0 - accuracy_score(Y_test,rfc_predict_test))"
      ],
      "execution_count": null,
      "outputs": [
        {
          "output_type": "stream",
          "text": [
            "Matrice de confusion\n",
            "[[398025   1713]\n",
            " [  5331   1230]]\n",
            "le taux de reconnaissance est : 0.9826630141841354\n",
            "le taux d'erreur est : 0.017336985815864625\n"
          ],
          "name": "stdout"
        }
      ]
    },
    {
      "cell_type": "code",
      "metadata": {
        "colab": {
          "base_uri": "https://localhost:8080/"
        },
        "id": "-O96R2nmIUF_",
        "outputId": "d83ba3f8-2b84-4d9f-a320-0d37982254a3"
      },
      "source": [
        "print('Rapport de prédiction sur la base de test :')\n",
        "print(classification_report(Y_test, rfc_predict_test))"
      ],
      "execution_count": null,
      "outputs": [
        {
          "output_type": "stream",
          "text": [
            "Rapport de prédiction sur la base de test :\n",
            "              precision    recall  f1-score   support\n",
            "\n",
            "           0       0.99      1.00      0.99    399738\n",
            "           1       0.42      0.19      0.26      6561\n",
            "\n",
            "    accuracy                           0.98    406299\n",
            "   macro avg       0.70      0.59      0.63    406299\n",
            "weighted avg       0.98      0.98      0.98    406299\n",
            "\n"
          ],
          "name": "stdout"
        }
      ]
    },
    {
      "cell_type": "code",
      "metadata": {
        "colab": {
          "base_uri": "https://localhost:8080/"
        },
        "id": "XgERg56JJlFQ",
        "outputId": "eb128c53-19d8-472e-da84-e709df780f67"
      },
      "source": [
        "metrics.roc_auc_score(Y_test,rfc_predict_test)"
      ],
      "execution_count": null,
      "outputs": [
        {
          "output_type": "execute_result",
          "data": {
            "text/plain": [
              "0.5907910444944549"
            ]
          },
          "metadata": {
            "tags": []
          },
          "execution_count": 58
        }
      ]
    },
    {
      "cell_type": "markdown",
      "metadata": {
        "id": "NDLA5ydmIYqC"
      },
      "source": [
        "Le même problème qu'au modèle 1 apparaît : la plupart des observations correspondant à un feu de forêt ne sont pas reconnues par le modèle (le recall est même légèrement pire pour la random forest). Du fait de l'écrasante majorité d'observations ne correspond pas à un feu de forêt, le modèle semble très précis, mais il est dans les faits très peu performant. "
      ]
    },
    {
      "cell_type": "markdown",
      "metadata": {
        "id": "hJ7mwthpIZtp"
      },
      "source": [
        "En conclusion, les modèles de Machine Learning que nous avons testés sont inefficaces pour prédire le déclenchement d'un feu de forêt. \n",
        "\n",
        "On peut évoquer plusieurs raisons à cela : \n",
        "\n",
        "*   Il y a une bien trop faible proportion d'observations correspondant à un feu de forêt. \n",
        "*   Les variables étudiées ne suffissent pas à expliquer le déclenchement d'un feu de forêt : il ne suffit pas qu'il fasse la bonne température, couplée avec la bonne humidité (ou avec la bonne vitesse du vent, le bon niveau de précipitation, etc) pour qu'un feu parte. \n"
      ]
    },
    {
      "cell_type": "markdown",
      "metadata": {
        "id": "Q68Otl4TGgJa"
      },
      "source": [
        "### **Modèle 3 : Réseaux de neurones**"
      ]
    },
    {
      "cell_type": "markdown",
      "metadata": {
        "id": "SMYKaaK6UpMb"
      },
      "source": [
        "Cette partie implémente un Feed Forward Neural Network (FFNN) toujours dans le but de classifier : départ de feu ou non."
      ]
    },
    {
      "cell_type": "code",
      "metadata": {
        "id": "Jar7YceUE-Xw"
      },
      "source": [
        "import matplotlib.pyplot as plt\n",
        "import keras\n",
        "from keras.datasets import mnist\n",
        "from keras.models import Sequential\n",
        "from keras.layers import Dense, Dropout, Flatten\n",
        "from keras.layers import Conv2D, MaxPooling2D\n",
        "from keras import activations\n",
        "import sklearn as sk\n",
        "from sklearn.model_selection import train_test_split\n",
        "from sklearn.metrics import confusion_matrix\n",
        "from sklearn.metrics import mean_squared_error"
      ],
      "execution_count": 37,
      "outputs": []
    },
    {
      "cell_type": "markdown",
      "metadata": {
        "id": "SuXibro3UpMc"
      },
      "source": [
        "**Préparation des données*"
      ]
    },
    {
      "cell_type": "code",
      "metadata": {
        "colab": {
          "base_uri": "https://localhost:8080/",
          "height": 442
        },
        "id": "qzvLexqXE-X1",
        "scrolled": false,
        "outputId": "1d641a63-4c5f-4336-ebc4-166beb418f37"
      },
      "source": [
        "df = pd.read_csv('data.csv').dropna(subset = ['Température (°C)', 'Précipitations (3 heures)', 'Humidité (%)', 'Vitesse du vent (m/s)'])\n",
        "df_feu = df[df['Départ de feu'] == 1]\n",
        "df_feu = df_feu.drop(columns = ['Départ de feu'])\n",
        "df_feu = df_feu.sort_values(['Date de première alerte'])\n",
        "df_feu = df_feu.reset_index(drop = True)\n",
        "df_feu.head()"
      ],
      "execution_count": null,
      "outputs": [
        {
          "output_type": "stream",
          "text": [
            "C:\\Users\\theoc\\anaconda3\\envs\\ML\\lib\\site-packages\\IPython\\core\\interactiveshell.py:3145: DtypeWarning: Columns (2,3,4,5,6) have mixed types.Specify dtype option on import or set low_memory=False.\n",
            "  has_raised = await self.run_ast_nodes(code_ast.body, cell_name,\n"
          ],
          "name": "stderr"
        },
        {
          "output_type": "execute_result",
          "data": {
            "text/html": [
              "<div>\n",
              "<style scoped>\n",
              "    .dataframe tbody tr th:only-of-type {\n",
              "        vertical-align: middle;\n",
              "    }\n",
              "\n",
              "    .dataframe tbody tr th {\n",
              "        vertical-align: top;\n",
              "    }\n",
              "\n",
              "    .dataframe thead th {\n",
              "        text-align: right;\n",
              "    }\n",
              "</style>\n",
              "<table border=\"1\" class=\"dataframe\">\n",
              "  <thead>\n",
              "    <tr style=\"text-align: right;\">\n",
              "      <th></th>\n",
              "      <th>Année</th>\n",
              "      <th>Date de première alerte</th>\n",
              "      <th>Département</th>\n",
              "      <th>Commune</th>\n",
              "      <th>Code postal</th>\n",
              "      <th>Code INSEE</th>\n",
              "      <th>Latitude commune</th>\n",
              "      <th>Longitude commune</th>\n",
              "      <th>Surface brûlée (m2)</th>\n",
              "      <th>Surface forêt (m2)</th>\n",
              "      <th>...</th>\n",
              "      <th>Nom station</th>\n",
              "      <th>id_station</th>\n",
              "      <th>Latitude station</th>\n",
              "      <th>Longitude station</th>\n",
              "      <th>Altitude station</th>\n",
              "      <th>Date</th>\n",
              "      <th>Température (°C)</th>\n",
              "      <th>Précipitations (3 heures)</th>\n",
              "      <th>Humidité (%)</th>\n",
              "      <th>Vitesse du vent (m/s)</th>\n",
              "    </tr>\n",
              "  </thead>\n",
              "  <tbody>\n",
              "    <tr>\n",
              "      <th>0</th>\n",
              "      <td>2006.0</td>\n",
              "      <td>2006-01-01 12:50:00</td>\n",
              "      <td>66</td>\n",
              "      <td>SAINT LAURENT DE CERDANS</td>\n",
              "      <td>66260</td>\n",
              "      <td>66179</td>\n",
              "      <td>42.3833</td>\n",
              "      <td>2.61667</td>\n",
              "      <td>10000.0</td>\n",
              "      <td>10000.0</td>\n",
              "      <td>...</td>\n",
              "      <td>PERPIGNAN</td>\n",
              "      <td>7747</td>\n",
              "      <td>42.737167</td>\n",
              "      <td>2.872833</td>\n",
              "      <td>42</td>\n",
              "      <td>2006-01-01 12:00:00</td>\n",
              "      <td>11.7</td>\n",
              "      <td>0.0</td>\n",
              "      <td>50.0</td>\n",
              "      <td>8.7</td>\n",
              "    </tr>\n",
              "    <tr>\n",
              "      <th>1</th>\n",
              "      <td>2006.0</td>\n",
              "      <td>2006-01-01 12:56:00</td>\n",
              "      <td>66</td>\n",
              "      <td>SALSES LE CHATEAU</td>\n",
              "      <td>66600</td>\n",
              "      <td>66190</td>\n",
              "      <td>42.8328</td>\n",
              "      <td>2.91889</td>\n",
              "      <td>20000.0</td>\n",
              "      <td>0.0</td>\n",
              "      <td>...</td>\n",
              "      <td>PERPIGNAN</td>\n",
              "      <td>7747</td>\n",
              "      <td>42.737167</td>\n",
              "      <td>2.872833</td>\n",
              "      <td>42</td>\n",
              "      <td>2006-01-01 12:00:00</td>\n",
              "      <td>11.7</td>\n",
              "      <td>0.0</td>\n",
              "      <td>50.0</td>\n",
              "      <td>8.7</td>\n",
              "    </tr>\n",
              "    <tr>\n",
              "      <th>2</th>\n",
              "      <td>2006.0</td>\n",
              "      <td>2006-01-01 15:40:00</td>\n",
              "      <td>83</td>\n",
              "      <td>CALLAS</td>\n",
              "      <td>83830</td>\n",
              "      <td>83028</td>\n",
              "      <td>43.5833</td>\n",
              "      <td>6.53333</td>\n",
              "      <td>30.0</td>\n",
              "      <td>30.0</td>\n",
              "      <td>...</td>\n",
              "      <td>NICE</td>\n",
              "      <td>7690</td>\n",
              "      <td>43.648833</td>\n",
              "      <td>7.209000</td>\n",
              "      <td>2</td>\n",
              "      <td>2006-01-01 15:00:00</td>\n",
              "      <td>10.4</td>\n",
              "      <td>0.0</td>\n",
              "      <td>76.0</td>\n",
              "      <td>6.2</td>\n",
              "    </tr>\n",
              "    <tr>\n",
              "      <th>3</th>\n",
              "      <td>2006.0</td>\n",
              "      <td>2006-01-02 18:19:00</td>\n",
              "      <td>34</td>\n",
              "      <td>ROUJAN</td>\n",
              "      <td>34320</td>\n",
              "      <td>34237</td>\n",
              "      <td>43.5167</td>\n",
              "      <td>3.30000</td>\n",
              "      <td>37500.0</td>\n",
              "      <td>10000.0</td>\n",
              "      <td>...</td>\n",
              "      <td>MONTPELLIER</td>\n",
              "      <td>7643</td>\n",
              "      <td>43.577000</td>\n",
              "      <td>3.963167</td>\n",
              "      <td>2</td>\n",
              "      <td>2006-01-02 18:00:00</td>\n",
              "      <td>7.5</td>\n",
              "      <td>0.0</td>\n",
              "      <td>54.0</td>\n",
              "      <td>4.1</td>\n",
              "    </tr>\n",
              "    <tr>\n",
              "      <th>4</th>\n",
              "      <td>2006.0</td>\n",
              "      <td>2006-01-02 20:57:00</td>\n",
              "      <td>83</td>\n",
              "      <td>DRAGUIGNAN</td>\n",
              "      <td>83300</td>\n",
              "      <td>83050</td>\n",
              "      <td>43.5333</td>\n",
              "      <td>6.46667</td>\n",
              "      <td>200.0</td>\n",
              "      <td>200.0</td>\n",
              "      <td>...</td>\n",
              "      <td>NICE</td>\n",
              "      <td>7690</td>\n",
              "      <td>43.648833</td>\n",
              "      <td>7.209000</td>\n",
              "      <td>2</td>\n",
              "      <td>2006-01-02 21:00:00</td>\n",
              "      <td>6.8</td>\n",
              "      <td>0.0</td>\n",
              "      <td>64.0</td>\n",
              "      <td>4.1</td>\n",
              "    </tr>\n",
              "  </tbody>\n",
              "</table>\n",
              "<p>5 rows × 24 columns</p>\n",
              "</div>"
            ],
            "text/plain": [
              "    Année Date de première alerte Département                   Commune  \\\n",
              "0  2006.0     2006-01-01 12:50:00          66  SAINT LAURENT DE CERDANS   \n",
              "1  2006.0     2006-01-01 12:56:00          66         SALSES LE CHATEAU   \n",
              "2  2006.0     2006-01-01 15:40:00          83                    CALLAS   \n",
              "3  2006.0     2006-01-02 18:19:00          34                    ROUJAN   \n",
              "4  2006.0     2006-01-02 20:57:00          83                DRAGUIGNAN   \n",
              "\n",
              "  Code postal Code INSEE  Latitude commune  Longitude commune  \\\n",
              "0       66260      66179           42.3833            2.61667   \n",
              "1       66600      66190           42.8328            2.91889   \n",
              "2       83830      83028           43.5833            6.53333   \n",
              "3       34320      34237           43.5167            3.30000   \n",
              "4       83300      83050           43.5333            6.46667   \n",
              "\n",
              "   Surface brûlée (m2)  Surface forêt (m2)  ...  Nom station  id_station  \\\n",
              "0              10000.0             10000.0  ...    PERPIGNAN        7747   \n",
              "1              20000.0                 0.0  ...    PERPIGNAN        7747   \n",
              "2                 30.0                30.0  ...         NICE        7690   \n",
              "3              37500.0             10000.0  ...  MONTPELLIER        7643   \n",
              "4                200.0               200.0  ...         NICE        7690   \n",
              "\n",
              "   Latitude station  Longitude station Altitude station                 Date  \\\n",
              "0         42.737167           2.872833               42  2006-01-01 12:00:00   \n",
              "1         42.737167           2.872833               42  2006-01-01 12:00:00   \n",
              "2         43.648833           7.209000                2  2006-01-01 15:00:00   \n",
              "3         43.577000           3.963167                2  2006-01-02 18:00:00   \n",
              "4         43.648833           7.209000                2  2006-01-02 21:00:00   \n",
              "\n",
              "   Température (°C)  Précipitations (3 heures)  Humidité (%)  \\\n",
              "0              11.7                        0.0          50.0   \n",
              "1              11.7                        0.0          50.0   \n",
              "2              10.4                        0.0          76.0   \n",
              "3               7.5                        0.0          54.0   \n",
              "4               6.8                        0.0          64.0   \n",
              "\n",
              "  Vitesse du vent (m/s)  \n",
              "0                   8.7  \n",
              "1                   8.7  \n",
              "2                   6.2  \n",
              "3                   4.1  \n",
              "4                   4.1  \n",
              "\n",
              "[5 rows x 24 columns]"
            ]
          },
          "metadata": {
            "tags": []
          },
          "execution_count": 29
        }
      ]
    },
    {
      "cell_type": "code",
      "metadata": {
        "id": "yezwe6B6E-X6",
        "outputId": "38260e6a-6a87-454f-bba5-830d82254590"
      },
      "source": [
        "df_feu.dtypes"
      ],
      "execution_count": null,
      "outputs": [
        {
          "output_type": "execute_result",
          "data": {
            "text/plain": [
              "Année                                        float64\n",
              "Date de première alerte                       object\n",
              "Département                                   object\n",
              "Commune                                       object\n",
              "Code postal                                   object\n",
              "Code INSEE                                    object\n",
              "Latitude commune                             float64\n",
              "Longitude commune                            float64\n",
              "Surface brûlée (m2)                          float64\n",
              "Surface forêt (m2)                           float64\n",
              "Surface autres terres boisées (m2)           float64\n",
              "Surfaces non boisées naturelles (m2)         float64\n",
              "Surfaces non boisées artificialisées (m2)    float64\n",
              "Surfaces non boisées (m2)                    float64\n",
              "Nom station                                   object\n",
              "id_station                                     int64\n",
              "Latitude station                             float64\n",
              "Longitude station                            float64\n",
              "Altitude station                               int64\n",
              "Date                                          object\n",
              "Température (°C)                             float64\n",
              "Précipitations (3 heures)                    float64\n",
              "Humidité (%)                                 float64\n",
              "Vitesse du vent (m/s)                        float64\n",
              "dtype: object"
            ]
          },
          "metadata": {
            "tags": []
          },
          "execution_count": 30
        }
      ]
    },
    {
      "cell_type": "code",
      "metadata": {
        "id": "yHIvESJ1E-X7",
        "outputId": "f53c5407-522f-4d3d-ad4c-5879986e2694"
      },
      "source": [
        "values = df_feu.values\n",
        "values"
      ],
      "execution_count": null,
      "outputs": [
        {
          "output_type": "execute_result",
          "data": {
            "text/plain": [
              "array([[2006.0, '2006-01-01 12:50:00', 66.0, ..., 0.0, 50.0, 8.7],\n",
              "       [2006.0, '2006-01-01 12:56:00', 66.0, ..., 0.0, 50.0, 8.7],\n",
              "       [2006.0, '2006-01-01 15:40:00', 83.0, ..., 0.0, 76.0, 6.2],\n",
              "       ...,\n",
              "       [2019.0, '2019-12-28 17:36:00', 40.0, ..., 0.0, 88.0, 1.5],\n",
              "       [2019.0, '2019-12-30 17:05:00', 83.0, ..., 0.0, 80.0, 3.6],\n",
              "       [2019.0, '2019-12-30 18:16:00', '2B', ..., 0.0, 67.0, 2.5]],\n",
              "      dtype=object)"
            ]
          },
          "metadata": {
            "tags": []
          },
          "execution_count": 31
        }
      ]
    },
    {
      "cell_type": "code",
      "metadata": {
        "id": "37VCLVEGE-X9"
      },
      "source": [
        "x = values[:,[20,21,22,23]].astype(float)\n",
        "y = values[:,8].astype(float)"
      ],
      "execution_count": null,
      "outputs": []
    },
    {
      "cell_type": "code",
      "metadata": {
        "id": "o0cdrT8AE-X-"
      },
      "source": [
        "x_train,x_test,y_train,y_test = train_test_split(x, y, test_size = 0.3, random_state = 10)"
      ],
      "execution_count": null,
      "outputs": []
    },
    {
      "cell_type": "code",
      "metadata": {
        "id": "hpjwJ-ppE-X_",
        "outputId": "43595fa7-5d6d-47c5-b5c1-baf4e7243024"
      },
      "source": [
        "x_train.shape"
      ],
      "execution_count": null,
      "outputs": [
        {
          "output_type": "execute_result",
          "data": {
            "text/plain": [
              "(22964, 4)"
            ]
          },
          "metadata": {
            "tags": []
          },
          "execution_count": 41
        }
      ]
    },
    {
      "cell_type": "markdown",
      "metadata": {
        "id": "I4qgvT4yUpMf"
      },
      "source": [
        "**Création du FFNN**"
      ]
    },
    {
      "cell_type": "markdown",
      "metadata": {
        "id": "30eHFis_UpMf"
      },
      "source": [
        "Il a 3 couches cachées de respectivement 500, 100 et 50 neurones avec des fonctions d'activation 'relu'. Nous choisissons la métrique Mean Squared Error."
      ]
    },
    {
      "cell_type": "code",
      "metadata": {
        "id": "nuqbPtmTE-YA",
        "outputId": "6dc77d77-6615-42d3-82df-52119e1d59d9"
      },
      "source": [
        "model = Sequential()\n",
        "\n",
        "model.add(Dense(500, input_dim = x_train.shape[1], activation = 'relu'))\n",
        "model.add(Dense(100, activation = 'relu'))\n",
        "model.add(Dense(50, activation = 'relu'))\n",
        "model.add(Dense(1))\n",
        "\n",
        "model.compile(loss = \"mean_squared_error\" , optimizer = \"adam\", metrics = [\"mean_squared_error\"])\n",
        "\n",
        "model.summary()"
      ],
      "execution_count": null,
      "outputs": [
        {
          "output_type": "stream",
          "text": [
            "Model: \"sequential\"\n",
            "_________________________________________________________________\n",
            "Layer (type)                 Output Shape              Param #   \n",
            "=================================================================\n",
            "dense (Dense)                (None, 500)               2500      \n",
            "_________________________________________________________________\n",
            "dense_1 (Dense)              (None, 100)               50100     \n",
            "_________________________________________________________________\n",
            "dense_2 (Dense)              (None, 50)                5050      \n",
            "_________________________________________________________________\n",
            "dense_3 (Dense)              (None, 1)                 51        \n",
            "=================================================================\n",
            "Total params: 57,701\n",
            "Trainable params: 57,701\n",
            "Non-trainable params: 0\n",
            "_________________________________________________________________\n"
          ],
          "name": "stdout"
        }
      ]
    },
    {
      "cell_type": "markdown",
      "metadata": {
        "id": "1M-WnKNgUpMg"
      },
      "source": [
        "**Entraînement**"
      ]
    },
    {
      "cell_type": "markdown",
      "metadata": {
        "id": "CnFwZ2VIUpMg"
      },
      "source": [
        "Nous avons choisi 50 epochs (c'est-à-dire 50 cycles, 1 cycle est un aller et un retour dans le réseau de toutes les données)"
      ]
    },
    {
      "cell_type": "code",
      "metadata": {
        "id": "w3cafD3xE-YC",
        "outputId": "357136f4-89f7-4a10-b52d-f615a0160f49"
      },
      "source": [
        "history = model.fit(x_train, y_train, epochs = 50, verbose = 1, validation_data=(x_test, y_test))"
      ],
      "execution_count": null,
      "outputs": [
        {
          "output_type": "stream",
          "text": [
            "Epoch 1/50\n",
            "718/718 [==============================] - 3s 4ms/step - loss: 219253735424.0000 - mean_squared_error: 219253735424.0000 - val_loss: 140007129088.0000 - val_mean_squared_error: 140007129088.0000\n",
            "Epoch 2/50\n",
            "718/718 [==============================] - 3s 4ms/step - loss: 218923909120.0000 - mean_squared_error: 218923909120.0000 - val_loss: 139653758976.0000 - val_mean_squared_error: 139653758976.0000\n",
            "Epoch 3/50\n",
            "718/718 [==============================] - 3s 4ms/step - loss: 218588119040.0000 - mean_squared_error: 218588119040.0000 - val_loss: 139613798400.0000 - val_mean_squared_error: 139613798400.0000\n",
            "Epoch 4/50\n",
            "718/718 [==============================] - 3s 5ms/step - loss: 218230947840.0000 - mean_squared_error: 218230947840.0000 - val_loss: 139323572224.0000 - val_mean_squared_error: 139323572224.0000\n",
            "Epoch 5/50\n",
            "718/718 [==============================] - 3s 4ms/step - loss: 218026655744.0000 - mean_squared_error: 218026655744.0000 - val_loss: 139240636416.0000 - val_mean_squared_error: 139240636416.0000\n",
            "Epoch 6/50\n",
            "718/718 [==============================] - 3s 4ms/step - loss: 217866633216.0000 - mean_squared_error: 217866633216.0000 - val_loss: 139223171072.0000 - val_mean_squared_error: 139223171072.0000\n",
            "Epoch 7/50\n",
            "718/718 [==============================] - 3s 4ms/step - loss: 217726795776.0000 - mean_squared_error: 217726795776.0000 - val_loss: 139142758400.0000 - val_mean_squared_error: 139142758400.0000\n",
            "Epoch 8/50\n",
            "718/718 [==============================] - 3s 4ms/step - loss: 217477201920.0000 - mean_squared_error: 217477201920.0000 - val_loss: 140145115136.0000 - val_mean_squared_error: 140145115136.0000\n",
            "Epoch 9/50\n",
            "718/718 [==============================] - 3s 4ms/step - loss: 217564643328.0000 - mean_squared_error: 217564643328.0000 - val_loss: 139142316032.0000 - val_mean_squared_error: 139142316032.0000\n",
            "Epoch 10/50\n",
            "718/718 [==============================] - 3s 4ms/step - loss: 217402261504.0000 - mean_squared_error: 217402261504.0000 - val_loss: 139054727168.0000 - val_mean_squared_error: 139054727168.0000\n",
            "Epoch 11/50\n",
            "718/718 [==============================] - 3s 4ms/step - loss: 217312362496.0000 - mean_squared_error: 217312362496.0000 - val_loss: 139726651392.0000 - val_mean_squared_error: 139726651392.0000\n",
            "Epoch 12/50\n",
            "718/718 [==============================] - 3s 4ms/step - loss: 217258590208.0000 - mean_squared_error: 217258590208.0000 - val_loss: 139349098496.0000 - val_mean_squared_error: 139349098496.0000\n",
            "Epoch 13/50\n",
            "718/718 [==============================] - 3s 5ms/step - loss: 217246482432.0000 - mean_squared_error: 217246482432.0000 - val_loss: 139045060608.0000 - val_mean_squared_error: 139045060608.0000\n",
            "Epoch 14/50\n",
            "718/718 [==============================] - 3s 5ms/step - loss: 217196593152.0000 - mean_squared_error: 217196593152.0000 - val_loss: 139089199104.0000 - val_mean_squared_error: 139089199104.0000\n",
            "Epoch 15/50\n",
            "718/718 [==============================] - 3s 5ms/step - loss: 217104760832.0000 - mean_squared_error: 217104760832.0000 - val_loss: 139150802944.0000 - val_mean_squared_error: 139150802944.0000\n",
            "Epoch 16/50\n",
            "718/718 [==============================] - 3s 4ms/step - loss: 217005654016.0000 - mean_squared_error: 217005654016.0000 - val_loss: 139012161536.0000 - val_mean_squared_error: 139012161536.0000\n",
            "Epoch 17/50\n",
            "718/718 [==============================] - 3s 5ms/step - loss: 216941281280.0000 - mean_squared_error: 216941281280.0000 - val_loss: 138944593920.0000 - val_mean_squared_error: 138944593920.0000\n",
            "Epoch 18/50\n",
            "718/718 [==============================] - 3s 4ms/step - loss: 216872566784.0000 - mean_squared_error: 216872566784.0000 - val_loss: 139273371648.0000 - val_mean_squared_error: 139273371648.0000\n",
            "Epoch 19/50\n",
            "718/718 [==============================] - 3s 4ms/step - loss: 216982700032.0000 - mean_squared_error: 216982700032.0000 - val_loss: 139241783296.0000 - val_mean_squared_error: 139241783296.0000\n",
            "Epoch 20/50\n",
            "718/718 [==============================] - 3s 4ms/step - loss: 216915787776.0000 - mean_squared_error: 216915787776.0000 - val_loss: 139296407552.0000 - val_mean_squared_error: 139296407552.0000\n",
            "Epoch 21/50\n",
            "718/718 [==============================] - 3s 4ms/step - loss: 216853348352.0000 - mean_squared_error: 216853348352.0000 - val_loss: 139124228096.0000 - val_mean_squared_error: 139124228096.0000\n",
            "Epoch 22/50\n",
            "718/718 [==============================] - 3s 4ms/step - loss: 216812945408.0000 - mean_squared_error: 216812945408.0000 - val_loss: 139132977152.0000 - val_mean_squared_error: 139132977152.0000\n",
            "Epoch 23/50\n",
            "718/718 [==============================] - 3s 4ms/step - loss: 216800329728.0000 - mean_squared_error: 216800329728.0000 - val_loss: 139168956416.0000 - val_mean_squared_error: 139168956416.0000\n",
            "Epoch 24/50\n",
            "718/718 [==============================] - 3s 4ms/step - loss: 216729698304.0000 - mean_squared_error: 216729698304.0000 - val_loss: 139214880768.0000 - val_mean_squared_error: 139214880768.0000\n",
            "Epoch 25/50\n",
            "718/718 [==============================] - 3s 4ms/step - loss: 216605573120.0000 - mean_squared_error: 216605573120.0000 - val_loss: 139083038720.0000 - val_mean_squared_error: 139083038720.0000\n",
            "Epoch 26/50\n",
            "718/718 [==============================] - 3s 4ms/step - loss: 216749621248.0000 - mean_squared_error: 216749621248.0000 - val_loss: 139261706240.0000 - val_mean_squared_error: 139261706240.0000\n",
            "Epoch 27/50\n",
            "718/718 [==============================] - 3s 4ms/step - loss: 216705941504.0000 - mean_squared_error: 216705941504.0000 - val_loss: 139229511680.0000 - val_mean_squared_error: 139229511680.0000\n",
            "Epoch 28/50\n",
            "718/718 [==============================] - 3s 4ms/step - loss: 216657084416.0000 - mean_squared_error: 216657084416.0000 - val_loss: 139268341760.0000 - val_mean_squared_error: 139268341760.0000\n",
            "Epoch 29/50\n",
            "718/718 [==============================] - 3s 4ms/step - loss: 216663572480.0000 - mean_squared_error: 216663572480.0000 - val_loss: 139239374848.0000 - val_mean_squared_error: 139239374848.0000\n",
            "Epoch 30/50\n",
            "718/718 [==============================] - 3s 4ms/step - loss: 216582733824.0000 - mean_squared_error: 216582733824.0000 - val_loss: 139745984512.0000 - val_mean_squared_error: 139745984512.0000\n",
            "Epoch 31/50\n",
            "718/718 [==============================] - 3s 4ms/step - loss: 216674500608.0000 - mean_squared_error: 216674500608.0000 - val_loss: 139292196864.0000 - val_mean_squared_error: 139292196864.0000\n",
            "Epoch 32/50\n",
            "718/718 [==============================] - 3s 4ms/step - loss: 216482463744.0000 - mean_squared_error: 216482463744.0000 - val_loss: 139813421056.0000 - val_mean_squared_error: 139813421056.0000\n",
            "Epoch 33/50\n",
            "718/718 [==============================] - 3s 4ms/step - loss: 216620695552.0000 - mean_squared_error: 216620695552.0000 - val_loss: 139417436160.0000 - val_mean_squared_error: 139417436160.0000\n",
            "Epoch 34/50\n",
            "718/718 [==============================] - 3s 4ms/step - loss: 216502943744.0000 - mean_squared_error: 216502943744.0000 - val_loss: 139355275264.0000 - val_mean_squared_error: 139355275264.0000\n",
            "Epoch 35/50\n",
            "718/718 [==============================] - 3s 4ms/step - loss: 216562352128.0000 - mean_squared_error: 216562352128.0000 - val_loss: 139471880192.0000 - val_mean_squared_error: 139471880192.0000\n",
            "Epoch 36/50\n",
            "718/718 [==============================] - 3s 4ms/step - loss: 216535859200.0000 - mean_squared_error: 216535859200.0000 - val_loss: 139517788160.0000 - val_mean_squared_error: 139517788160.0000\n",
            "Epoch 37/50\n",
            "718/718 [==============================] - 2s 3ms/step - loss: 216522063872.0000 - mean_squared_error: 216522063872.0000 - val_loss: 139580866560.0000 - val_mean_squared_error: 139580866560.0000\n",
            "Epoch 38/50\n",
            "718/718 [==============================] - 3s 4ms/step - loss: 216536514560.0000 - mean_squared_error: 216536514560.0000 - val_loss: 139473780736.0000 - val_mean_squared_error: 139473780736.0000\n",
            "Epoch 39/50\n",
            "718/718 [==============================] - 3s 5ms/step - loss: 216491917312.0000 - mean_squared_error: 216491917312.0000 - val_loss: 139476320256.0000 - val_mean_squared_error: 139476320256.0000\n",
            "Epoch 40/50\n",
            "718/718 [==============================] - 3s 5ms/step - loss: 216492589056.0000 - mean_squared_error: 216492589056.0000 - val_loss: 139770445824.0000 - val_mean_squared_error: 139770445824.0000\n"
          ],
          "name": "stdout"
        },
        {
          "output_type": "stream",
          "text": [
            "Epoch 41/50\n",
            "718/718 [==============================] - 3s 5ms/step - loss: 216459788288.0000 - mean_squared_error: 216459788288.0000 - val_loss: 139564662784.0000 - val_mean_squared_error: 139564662784.0000\n",
            "Epoch 42/50\n",
            "718/718 [==============================] - 3s 5ms/step - loss: 216428740608.0000 - mean_squared_error: 216428740608.0000 - val_loss: 139616239616.0000 - val_mean_squared_error: 139616239616.0000\n",
            "Epoch 43/50\n",
            "718/718 [==============================] - 3s 4ms/step - loss: 216330715136.0000 - mean_squared_error: 216330715136.0000 - val_loss: 139438686208.0000 - val_mean_squared_error: 139438686208.0000\n",
            "Epoch 44/50\n",
            "718/718 [==============================] - 3s 4ms/step - loss: 216412192768.0000 - mean_squared_error: 216412192768.0000 - val_loss: 139962548224.0000 - val_mean_squared_error: 139962548224.0000\n",
            "Epoch 45/50\n",
            "718/718 [==============================] - 3s 4ms/step - loss: 216390582272.0000 - mean_squared_error: 216390582272.0000 - val_loss: 139647614976.0000 - val_mean_squared_error: 139647614976.0000\n",
            "Epoch 46/50\n",
            "718/718 [==============================] - 3s 4ms/step - loss: 216468127744.0000 - mean_squared_error: 216468127744.0000 - val_loss: 139855724544.0000 - val_mean_squared_error: 139855724544.0000\n",
            "Epoch 47/50\n",
            "718/718 [==============================] - 3s 4ms/step - loss: 216319655936.0000 - mean_squared_error: 216319655936.0000 - val_loss: 139570888704.0000 - val_mean_squared_error: 139570888704.0000\n",
            "Epoch 48/50\n",
            "718/718 [==============================] - 3s 4ms/step - loss: 216334172160.0000 - mean_squared_error: 216334172160.0000 - val_loss: 140225478656.0000 - val_mean_squared_error: 140225478656.0000\n",
            "Epoch 49/50\n",
            "718/718 [==============================] - 3s 4ms/step - loss: 216556322816.0000 - mean_squared_error: 216556322816.0000 - val_loss: 139785322496.0000 - val_mean_squared_error: 139785322496.0000\n",
            "Epoch 50/50\n",
            "718/718 [==============================] - 3s 4ms/step - loss: 216445321216.0000 - mean_squared_error: 216445321216.0000 - val_loss: 139823185920.0000 - val_mean_squared_error: 139823185920.0000\n"
          ],
          "name": "stdout"
        }
      ]
    },
    {
      "cell_type": "code",
      "metadata": {
        "id": "0TRPivMJE-YD",
        "scrolled": false,
        "outputId": "10fe01a2-fc2e-44c2-9634-7ba0b32d1818"
      },
      "source": [
        "plt.figure(figsize=(7, 5))\n",
        "plt.plot(history.epoch, history.history['loss'], lw=3, label='Training set')\n",
        "plt.plot(history.epoch, history.history['val_loss'], lw=3, label='Test set')\n",
        "plt.legend(fontsize=14)\n",
        "plt.title('Loss of the FFNN', fontsize=16)\n",
        "plt.xlabel('Epoch', fontsize=14)\n",
        "plt.ylabel('MSE', fontsize=14)\n",
        "plt.tight_layout()"
      ],
      "execution_count": null,
      "outputs": [
        {
          "output_type": "display_data",
          "data": {
            "image/png": "[encoded data removed]",
            "text/plain": [
              "<Figure size 504x360 with 1 Axes>"
            ]
          },
          "metadata": {
            "tags": [],
            "needs_background": "light"
          }
        }
      ]
    },
    {
      "cell_type": "markdown",
      "metadata": {
        "id": "ft1su9b3UpMh"
      },
      "source": [
        "La Mean Squared Error est de l'ordre de 10^11, peu importe le nombre d'epochs. Le réseau n'est absolument pas efficace. L'erreur est même plus faible sur le Test set, ce qui est étrange, mais tellement l'erreur est grande cela ne veut plus rien dire."
      ]
    },
    {
      "cell_type": "code",
      "metadata": {
        "id": "-zF9rooUE-YF",
        "outputId": "b85650aa-02e0-4bb7-84f7-e1dccdf17c13"
      },
      "source": [
        "pred_train = model.predict(x_train)\n",
        "print(np.sqrt(mean_squared_error(y_train,pred_train)))\n",
        "\n",
        "pred = model.predict(x_test)\n",
        "print(np.sqrt(mean_squared_error(y_test,pred))) "
      ],
      "execution_count": null,
      "outputs": [
        {
          "output_type": "stream",
          "text": [
            "464837.35950346745\n",
            "373929.3592720606\n"
          ],
          "name": "stdout"
        }
      ]
    },
    {
      "cell_type": "markdown",
      "metadata": {
        "id": "4lQHEC9BUpMi"
      },
      "source": [
        "On obtient une Root Mean Squared Error de 464 837 m2 sur l'échantillon de train et de 373 929 sur celui de test. "
      ]
    },
    {
      "cell_type": "markdown",
      "metadata": {
        "id": "ripKZbOeUpMi"
      },
      "source": [
        "On obtient des erreurs du même ordre de grandeur avec des arbres de décision/random forest pour prédire la surface brûlée. C'est pour cela qu'on a tenté un réseau de neurones. On ne surcharge pas le notebook avec ces arbres/random forest car c'est quasiment les mêmes codes que pour la classification ci-dessus."
      ]
    },
    {
      "cell_type": "markdown",
      "metadata": {
        "id": "yZ4KaL8fIi08"
      },
      "source": [
        "## Deuxième essai : création de nouvelles variables"
      ]
    },
    {
      "cell_type": "markdown",
      "metadata": {
        "id": "2ETta9NqJPLB"
      },
      "source": [
        "Comme vu précédemment, le faible nombre de variables considérées est une des raisons pour lesquelles nos modèles ne sont pas satisfaits. \n",
        "\n",
        "Dans cette partie, nous tâcherons de créer de nouvelles variables/features qui témoigneront de la propension d'une observation à être un feu de forêt grâce à sa localisation et au mois considéré. Notre étude prend désormais en compte des variables géographiques (et non juste météorologiques)."
      ]
    },
    {
      "cell_type": "markdown",
      "metadata": {
        "id": "OII_xvspKbF7"
      },
      "source": [
        "### **Création des variables**"
      ]
    },
    {
      "cell_type": "code",
      "metadata": {
        "id": "JH50rkyyKK0z"
      },
      "source": [
        "from datetime import datetime\n",
        "df = pd.read_csv('data.zip', low_memory = False)"
      ],
      "execution_count": 67,
      "outputs": []
    },
    {
      "cell_type": "code",
      "metadata": {
        "id": "duv6APpsKkq3"
      },
      "source": [
        "df_feu = df[df[\"Départ de feu\"] == 1]"
      ],
      "execution_count": 68,
      "outputs": []
    },
    {
      "cell_type": "markdown",
      "metadata": {
        "id": "PwfKj1fjKrnm"
      },
      "source": [
        "**Création d'une variable sur le mois** \n",
        "\n",
        "L'on va ici chercher à créer une variable quantitative qui rende compte de la \"prédisposition\" d'un mois à connaître des feux de forêts. Comme on a pu le voir précédemment, il y a empiriquement plus de feux en août qu'en octobre. On cherche donc une variable qui permette d'en témoigner. \n",
        "\n",
        "On crée ainsi une variable *Mois propice* qui à chaque observation donne le pourcentage des feux des années précédentes (dans la limite de nos données, c'est-à-dire l'année 2006) s'étant produits durant ce mois de l'année. Plus ce chiffre est élevé, plus ce mois est à risque.\n",
        "\n",
        "Cette variable s'appuie exclusivement sur les données des années précédentes. La valeur attribuée à chaque mois varie également d'une année à l'autre, car elle prend en compte les feux de l'année qui vient de s'écouler. Ce comptage est intéressant car il gagne en fiabilité d'années en années. \n"
      ]
    },
    {
      "cell_type": "code",
      "metadata": {
        "colab": {
          "base_uri": "https://localhost:8080/"
        },
        "id": "Hu93YgefKzvg",
        "outputId": "e05a4ce1-54a7-461e-ba7e-f1b5b544cbf2"
      },
      "source": [
        "répartition = []\n",
        "\n",
        "for année in range(2007,2020) :\n",
        "\n",
        "    mois, nb_mois_previous_years = np.unique(df_feu['Date de première alerte'][df_feu.Année < année].str[5:7], return_counts=True)\n",
        "    répartition_previous_years = nb_mois_previous_years / sum(nb_mois_previous_years)\n",
        "\n",
        "    répartition.append([année,répartition_previous_years])\n",
        "\n",
        "répartition[0:3]"
      ],
      "execution_count": 69,
      "outputs": [
        {
          "output_type": "execute_result",
          "data": {
            "text/plain": [
              "[[2007, array([0.01557839, 0.03579715, 0.05502154, 0.09214451, 0.09048724,\n",
              "         0.1528008 , 0.25223732, 0.18362612, 0.06463374, 0.02320186,\n",
              "         0.02552204, 0.00894929])],\n",
              " [2008, array([0.02895404, 0.03184944, 0.07871878, 0.09156714, 0.06858487,\n",
              "         0.11653999, 0.2062975 , 0.15635179, 0.09989142, 0.06424177,\n",
              "         0.03999276, 0.0170105 ])],\n",
              " [2009, array([0.03337488, 0.06051793, 0.08613765, 0.08932281, 0.06093339,\n",
              "         0.09735494, 0.19055532, 0.15939621, 0.09901676, 0.07519734,\n",
              "         0.0340673 , 0.01412547])]]"
            ]
          },
          "metadata": {
            "tags": []
          },
          "execution_count": 69
        }
      ]
    },
    {
      "cell_type": "markdown",
      "metadata": {
        "id": "CN0xShB9K371"
      },
      "source": [
        "Le tableau *répartition* indique pour chaque année la proportion par mois des feux déclarés les années précédentes (depuis 2006). "
      ]
    },
    {
      "cell_type": "code",
      "metadata": {
        "colab": {
          "base_uri": "https://localhost:8080/"
        },
        "id": "k8drdI6xK6Ub",
        "outputId": "4e437d1b-b658-4e7a-f5f2-020d59393722"
      },
      "source": [
        "répartition[4]"
      ],
      "execution_count": 70,
      "outputs": [
        {
          "output_type": "execute_result",
          "data": {
            "text/plain": [
              "[2011, array([0.02136822, 0.0519987 , 0.11594085, 0.08409165, 0.05492363,\n",
              "        0.09140396, 0.190039  , 0.17907052, 0.10814105, 0.06857329,\n",
              "        0.02445564, 0.0099935 ])]"
            ]
          },
          "metadata": {
            "tags": []
          },
          "execution_count": 70
        }
      ]
    },
    {
      "cell_type": "markdown",
      "metadata": {
        "id": "4KMJUX83K9Fp"
      },
      "source": [
        "Par exemple, entre 2006 et 2010, 2% des feux se sont produits durant les mois de janviers, alors que 19% des feux entre 2006 et 2010 ont été en juillet. "
      ]
    },
    {
      "cell_type": "code",
      "metadata": {
        "id": "csFkPI_ALB4Y"
      },
      "source": [
        "def mois_propice(date) : \n",
        "    \"renvoie la proportion des feux déclenchés ce mois-ci les années précédentes\"\n",
        "    date = datetime.strptime(date, '%Y-%m-%d %H:%M:%S')\n",
        "    month, year = date.month, date.year\n",
        "\n",
        "    if year > 2006 : \n",
        "        return répartition[year-2007][1][month-1]"
      ],
      "execution_count": 71,
      "outputs": []
    },
    {
      "cell_type": "code",
      "metadata": {
        "id": "_di80bzBLEEu"
      },
      "source": [
        "df['Mois propice'] = df['Date'].apply(lambda row: mois_propice(row))"
      ],
      "execution_count": 72,
      "outputs": []
    },
    {
      "cell_type": "markdown",
      "metadata": {
        "id": "GbJLI4bCLJ6p"
      },
      "source": [
        "**Création d'une variable sur la station** \n",
        "\n",
        "On crée maintenant une variable qui témoigne de la \"prédisposition\" d'une zone géographique (représentée par une station) à connaître des feux de forêts. \n",
        "\n",
        "On raisonne pareillement que pour la variable *Mois propice* en termes de pourcentage de feux des années précédentes observée par station. \n",
        "\n",
        "\n",
        "On ne peut en effet pas : \n",
        "\n",
        "\n",
        "*   Compter le nombre de feux par station dans la base, car lorsqu'on utilisera les méthodes de prédiction sur une certaine observation (à une certaine date), cela voudrait dire que l'on utilise les données de dates ultérieures, et donc qu'on connaît l'avenir. \n",
        "\n",
        "\n",
        "*   Compter le nombre de feux par station qui se sont produits avant l'observation. Les valeurs prises par une station seraient différentes d'une année à l'autre, et la variable n'aurait alors plus de sens. (Par exemple, on peut imaginer qu'il y ait autant de feu en Haute-Corse en 2006 qu'en Bretagne entre 2006 et 2018 : la valeur prise par la variable *Zone propice* pour une observation en Corse en 2007 serait égale à celle prise par une observation en Bretagne en 2019, ce qui ne rendrait pas bien compte de la réalité lorsqu'on utilisera les techniques de prédiction. \n",
        "\n",
        "Considérer les données sur toutes les années précédentes permet de créer une variable plus fiable que si l'on utilisait que celle d'une année précédente."
      ]
    },
    {
      "cell_type": "code",
      "metadata": {
        "id": "FLZHoGVTLQag"
      },
      "source": [
        "répartition_zone = []\n",
        "\n",
        "for année in range(2007,2020) :\n",
        "\n",
        "    zone, nb_zone = np.unique(df_feu['id_station'][df_feu.Année < année], return_counts=True)\n",
        "    prop_zone = nb_zone / sum(nb_zone)\n",
        "    prop_zone_previous = [ [zone[i], prop_zone[i]] for i in range(0,len(zone)) ]\n",
        "    répartition_zone.append([année,prop_zone_previous])"
      ],
      "execution_count": 73,
      "outputs": []
    },
    {
      "cell_type": "markdown",
      "metadata": {
        "id": "mAA3aUQDLTem"
      },
      "source": [
        "*répartition_zone* est un tableau donnant, pour chaque année, la proportion de feux s'étant déclarée dans chaque station les années précédentes"
      ]
    },
    {
      "cell_type": "code",
      "metadata": {
        "colab": {
          "base_uri": "https://localhost:8080/"
        },
        "id": "ov61AAHgLWMf",
        "outputId": "81b07d1c-9e46-42da-dd1e-e69f5a837a0d"
      },
      "source": [
        "#Exemple : la répartition pour l'année 2007\n",
        "répartition_zone[0][1]"
      ],
      "execution_count": 74,
      "outputs": [
        {
          "output_type": "execute_result",
          "data": {
            "text/plain": [
              "[[7110, 0.0006629101756711965],\n",
              " [7130, 0.0019887305270135896],\n",
              " [7139, 0.004971826317533974],\n",
              " [7149, 0.003646005966191581],\n",
              " [7207, 0.0016572754391779914],\n",
              " [7222, 0.00033145508783559825],\n",
              " [7240, 0.0029830957905203847],\n",
              " [7255, 0.0016572754391779914],\n",
              " [7280, 0.0009943652635067948],\n",
              " [7299, 0.0016572754391779914],\n",
              " [7314, 0.003977461054027179],\n",
              " [7335, 0.0029830957905203847],\n",
              " [7434, 0.011269472986410341],\n",
              " [7460, 0.0019887305270135896],\n",
              " [7471, 0.008286377195889956],\n",
              " [7481, 0.010275107722903546],\n",
              " [7510, 0.12595293337752733],\n",
              " [7535, 0.03513423931057342],\n",
              " [7558, 0.01358965860125953],\n",
              " [7577, 0.0573417301955585],\n",
              " [7591, 0.005634736493205171],\n",
              " [7607, 0.07093138879681803],\n",
              " [7621, 0.00033145508783559825],\n",
              " [7627, 0.013258203513423931],\n",
              " [7630, 0.006297646668876367],\n",
              " [7643, 0.04441498176997017],\n",
              " [7650, 0.07590321511435201],\n",
              " [7661, 0.060656281073914485],\n",
              " [7690, 0.07225720914816043],\n",
              " [7747, 0.06529665230361285],\n",
              " [7761, 0.1537951607557176],\n",
              " [7790, 0.13921113689095127],\n",
              " [61968, 0.0006629101756711965]]"
            ]
          },
          "metadata": {
            "tags": []
          },
          "execution_count": 74
        }
      ]
    },
    {
      "cell_type": "code",
      "metadata": {
        "id": "MsIvgFaVLY8Q"
      },
      "source": [
        "def zone_propice(date,station) : \n",
        "    \"renvoie la proportion des feux déclenchés dans cette zone les années précédentes\"\n",
        "\n",
        "    date = datetime.strptime(date, '%Y-%m-%d %H:%M:%S')\n",
        "    year = date.year\n",
        " \n",
        "    if year > 2006 : \n",
        "        ligne = [i for i in range(0,len(répartition_zone[year-2007][1])) if répartition_zone[year-2007][1][i][0] == station]\n",
        "        #liste des lignes correspondant à l'année et à la station \n",
        "        if len(ligne) != 0 :\n",
        "            #len(ligne) == 1 si la station n'est pas dégénérée (existe dans les données)\n",
        "            return répartition_zone[year-2007][1][ligne[0]][1]"
      ],
      "execution_count": 75,
      "outputs": []
    },
    {
      "cell_type": "code",
      "metadata": {
        "id": "_Z8xAm3hLbXZ"
      },
      "source": [
        "df['Zone propice'] = df.apply(lambda row: zone_propice(row['Date'], row['id_station']), axis=1)"
      ],
      "execution_count": 76,
      "outputs": []
    },
    {
      "cell_type": "code",
      "metadata": {
        "colab": {
          "base_uri": "https://localhost:8080/"
        },
        "id": "zcS5mafJs4P-",
        "outputId": "644a494c-8911-4678-dc39-b287205a34d1"
      },
      "source": [
        "df['Zone propice']"
      ],
      "execution_count": 88,
      "outputs": [
        {
          "output_type": "execute_result",
          "data": {
            "text/plain": [
              "0         NaN\n",
              "1         NaN\n",
              "2         NaN\n",
              "3         NaN\n",
              "4         NaN\n",
              "           ..\n",
              "2363072   NaN\n",
              "2363073   NaN\n",
              "2363074   NaN\n",
              "2363075   NaN\n",
              "2363076   NaN\n",
              "Name: Zone propice, Length: 2363077, dtype: float64"
            ]
          },
          "metadata": {
            "tags": []
          },
          "execution_count": 88
        }
      ]
    },
    {
      "cell_type": "code",
      "metadata": {
        "colab": {
          "base_uri": "https://localhost:8080/",
          "height": 195
        },
        "id": "J2GzziPiLd-5",
        "outputId": "74ac1ff6-b464-45b6-f571-acb93eeb4bd8"
      },
      "source": [
        "#Exemple d'une station Corse\n",
        "df[df[\"id_station\"] == 7761][[\"Date\",\"Zone propice\"]].sample(5) "
      ],
      "execution_count": 86,
      "outputs": [
        {
          "output_type": "execute_result",
          "data": {
            "text/html": [
              "<div>\n",
              "<style scoped>\n",
              "    .dataframe tbody tr th:only-of-type {\n",
              "        vertical-align: middle;\n",
              "    }\n",
              "\n",
              "    .dataframe tbody tr th {\n",
              "        vertical-align: top;\n",
              "    }\n",
              "\n",
              "    .dataframe thead th {\n",
              "        text-align: right;\n",
              "    }\n",
              "</style>\n",
              "<table border=\"1\" class=\"dataframe\">\n",
              "  <thead>\n",
              "    <tr style=\"text-align: right;\">\n",
              "      <th></th>\n",
              "      <th>Date</th>\n",
              "      <th>Zone propice</th>\n",
              "    </tr>\n",
              "  </thead>\n",
              "  <tbody>\n",
              "    <tr>\n",
              "      <th>1611822</th>\n",
              "      <td>2006-08-19 00:00:00</td>\n",
              "      <td>NaN</td>\n",
              "    </tr>\n",
              "    <tr>\n",
              "      <th>1619376</th>\n",
              "      <td>2009-02-24 21:00:00</td>\n",
              "      <td>0.158981</td>\n",
              "    </tr>\n",
              "    <tr>\n",
              "      <th>1636268</th>\n",
              "      <td>2014-10-23 15:00:00</td>\n",
              "      <td>0.142842</td>\n",
              "    </tr>\n",
              "    <tr>\n",
              "      <th>1618096</th>\n",
              "      <td>2008-09-20 03:00:00</td>\n",
              "      <td>0.165038</td>\n",
              "    </tr>\n",
              "    <tr>\n",
              "      <th>1648464</th>\n",
              "      <td>2018-12-20 12:00:00</td>\n",
              "      <td>0.115816</td>\n",
              "    </tr>\n",
              "  </tbody>\n",
              "</table>\n",
              "</div>"
            ],
            "text/plain": [
              "                        Date  Zone propice\n",
              "1611822  2006-08-19 00:00:00           NaN\n",
              "1619376  2009-02-24 21:00:00      0.158981\n",
              "1636268  2014-10-23 15:00:00      0.142842\n",
              "1618096  2008-09-20 03:00:00      0.165038\n",
              "1648464  2018-12-20 12:00:00      0.115816"
            ]
          },
          "metadata": {
            "tags": []
          },
          "execution_count": 86
        }
      ]
    },
    {
      "cell_type": "markdown",
      "metadata": {
        "id": "EQCxbsMKLx13"
      },
      "source": [
        "Le raisonnement que l'on va maintenant mener est identique à celui que nous avons eu dans le premier essai. Nous allons comparer les résultats des deux essais, et on s'attend à ce que ce deuxième essai, qui prend en compte davantage de variables, ait de meilleurs résultats. "
      ]
    },
    {
      "cell_type": "markdown",
      "metadata": {
        "id": "Wqu_cZMILqyK"
      },
      "source": [
        "### **Préparation des bases d'apprentissage et de test**"
      ]
    },
    {
      "cell_type": "code",
      "metadata": {
        "id": "ruPzzrcrMCM-"
      },
      "source": [
        "df2 = df.iloc[:, [0,17,18,19,21,22,23,24,25,26]]  \n",
        "df2 = df2.dropna()"
      ],
      "execution_count": null,
      "outputs": []
    },
    {
      "cell_type": "code",
      "metadata": {
        "colab": {
          "base_uri": "https://localhost:8080/",
          "height": 221
        },
        "id": "fFVEwsV4MC80",
        "outputId": "3f629fd1-a989-41a2-e12f-36a05a4c1281"
      },
      "source": [
        "df2.head()"
      ],
      "execution_count": null,
      "outputs": [
        {
          "output_type": "execute_result",
          "data": {
            "text/html": [
              "<div>\n",
              "<style scoped>\n",
              "    .dataframe tbody tr th:only-of-type {\n",
              "        vertical-align: middle;\n",
              "    }\n",
              "\n",
              "    .dataframe tbody tr th {\n",
              "        vertical-align: top;\n",
              "    }\n",
              "\n",
              "    .dataframe thead th {\n",
              "        text-align: right;\n",
              "    }\n",
              "</style>\n",
              "<table border=\"1\" class=\"dataframe\">\n",
              "  <thead>\n",
              "    <tr style=\"text-align: right;\">\n",
              "      <th></th>\n",
              "      <th>Départ de feu</th>\n",
              "      <th>Latitude station</th>\n",
              "      <th>Longitude station</th>\n",
              "      <th>Altitude station</th>\n",
              "      <th>Température (°C)</th>\n",
              "      <th>Précipitations (3 heures)</th>\n",
              "      <th>Humidité (%)</th>\n",
              "      <th>Vitesse du vent (m/s)</th>\n",
              "      <th>Mois propice</th>\n",
              "      <th>Zone propice</th>\n",
              "    </tr>\n",
              "  </thead>\n",
              "  <tbody>\n",
              "    <tr>\n",
              "      <th>69920</th>\n",
              "      <td>0</td>\n",
              "      <td>50.57</td>\n",
              "      <td>3.0975</td>\n",
              "      <td>47</td>\n",
              "      <td>7.7</td>\n",
              "      <td>-0.1</td>\n",
              "      <td>86.0</td>\n",
              "      <td>4.1</td>\n",
              "      <td>0.024042</td>\n",
              "      <td>0.000042</td>\n",
              "    </tr>\n",
              "    <tr>\n",
              "      <th>69921</th>\n",
              "      <td>0</td>\n",
              "      <td>50.57</td>\n",
              "      <td>3.0975</td>\n",
              "      <td>47</td>\n",
              "      <td>5.4</td>\n",
              "      <td>0.0</td>\n",
              "      <td>87.0</td>\n",
              "      <td>3.3</td>\n",
              "      <td>0.024042</td>\n",
              "      <td>0.000042</td>\n",
              "    </tr>\n",
              "    <tr>\n",
              "      <th>69922</th>\n",
              "      <td>0</td>\n",
              "      <td>50.57</td>\n",
              "      <td>3.0975</td>\n",
              "      <td>47</td>\n",
              "      <td>2.7</td>\n",
              "      <td>0.0</td>\n",
              "      <td>96.0</td>\n",
              "      <td>1.4</td>\n",
              "      <td>0.024042</td>\n",
              "      <td>0.000042</td>\n",
              "    </tr>\n",
              "    <tr>\n",
              "      <th>69923</th>\n",
              "      <td>0</td>\n",
              "      <td>50.57</td>\n",
              "      <td>3.0975</td>\n",
              "      <td>47</td>\n",
              "      <td>2.7</td>\n",
              "      <td>-0.1</td>\n",
              "      <td>97.0</td>\n",
              "      <td>0.9</td>\n",
              "      <td>0.024042</td>\n",
              "      <td>0.000042</td>\n",
              "    </tr>\n",
              "    <tr>\n",
              "      <th>69924</th>\n",
              "      <td>0</td>\n",
              "      <td>50.57</td>\n",
              "      <td>3.0975</td>\n",
              "      <td>47</td>\n",
              "      <td>6.3</td>\n",
              "      <td>0.0</td>\n",
              "      <td>97.0</td>\n",
              "      <td>2.9</td>\n",
              "      <td>0.024042</td>\n",
              "      <td>0.000042</td>\n",
              "    </tr>\n",
              "  </tbody>\n",
              "</table>\n",
              "</div>"
            ],
            "text/plain": [
              "       Départ de feu  Latitude station  Longitude station  Altitude station  \\\n",
              "69920              0             50.57             3.0975                47   \n",
              "69921              0             50.57             3.0975                47   \n",
              "69922              0             50.57             3.0975                47   \n",
              "69923              0             50.57             3.0975                47   \n",
              "69924              0             50.57             3.0975                47   \n",
              "\n",
              "       Température (°C)  Précipitations (3 heures)  Humidité (%)  \\\n",
              "69920               7.7                       -0.1          86.0   \n",
              "69921               5.4                        0.0          87.0   \n",
              "69922               2.7                        0.0          96.0   \n",
              "69923               2.7                       -0.1          97.0   \n",
              "69924               6.3                        0.0          97.0   \n",
              "\n",
              "       Vitesse du vent (m/s)  Mois propice  Zone propice  \n",
              "69920                    4.1      0.024042      0.000042  \n",
              "69921                    3.3      0.024042      0.000042  \n",
              "69922                    1.4      0.024042      0.000042  \n",
              "69923                    0.9      0.024042      0.000042  \n",
              "69924                    2.9      0.024042      0.000042  "
            ]
          },
          "metadata": {
            "tags": []
          },
          "execution_count": 136
        }
      ]
    },
    {
      "cell_type": "markdown",
      "metadata": {
        "id": "Tu0bJDSBMVfC"
      },
      "source": [
        "Le dataframe que nous considérons maintenant comporte davantage de variables que celui utilisé précédemment : on a des informations sur la localisation de la station (latitude, longitude et altitude) et sur la prédisposition du mois et de la zone à être victime de feux de forêt. "
      ]
    },
    {
      "cell_type": "code",
      "metadata": {
        "id": "fNfgXWAlNRqs"
      },
      "source": [
        "train, test = train_test_split(df2, test_size=0.2, random_state=1)"
      ],
      "execution_count": null,
      "outputs": []
    },
    {
      "cell_type": "code",
      "metadata": {
        "id": "07JrAYNkNW0S"
      },
      "source": [
        "X_train = train.drop(['Départ de feu'], axis = 1).to_numpy()\n",
        "Y_train = train[['Départ de feu']].to_numpy()\n",
        "\n",
        "X_test = test.drop(['Départ de feu'], axis = 1).to_numpy()\n",
        "Y_test = test[['Départ de feu']].to_numpy()\n",
        "\n",
        "Y_train = Y_train.reshape(Y_train.shape[0])\n",
        "Y_test = Y_test.reshape(Y_test.shape[0])"
      ],
      "execution_count": null,
      "outputs": []
    },
    {
      "cell_type": "markdown",
      "metadata": {
        "id": "xxBGzP9VNc2-"
      },
      "source": [
        "### **Modèle 1 : l'arbre de décision**"
      ]
    },
    {
      "cell_type": "markdown",
      "metadata": {
        "id": "Ic8QqfyBNpmH"
      },
      "source": [
        "**Entraînement**"
      ]
    },
    {
      "cell_type": "code",
      "metadata": {
        "id": "FNfjm1Y_Ncn8"
      },
      "source": [
        "#instanciation de l'arbre\n",
        "from sklearn.tree import DecisionTreeClassifier\n",
        "tree = DecisionTreeClassifier()\n",
        "\n",
        "#construction de l'arbre\n",
        "tree = tree.fit(X_train, Y_train)"
      ],
      "execution_count": null,
      "outputs": []
    },
    {
      "cell_type": "markdown",
      "metadata": {
        "id": "orScCSuiN0a5"
      },
      "source": [
        "**Evaluation**"
      ]
    },
    {
      "cell_type": "code",
      "metadata": {
        "id": "zZhi5q5wN28t"
      },
      "source": [
        "tree_predict_test = tree.predict(X_test)"
      ],
      "execution_count": null,
      "outputs": []
    },
    {
      "cell_type": "markdown",
      "metadata": {
        "id": "oXSQKdGqOLwg"
      },
      "source": [
        "Comme l'on a pu le voir précédemment, les taux de reconnaissance et d'erreur du modèle peuvent être trompeurs du fait de la faible proportion d'observations correspondant à un feu de forêt. On s'intéressera donc principalement au rapport de prédiction. "
      ]
    },
    {
      "cell_type": "code",
      "metadata": {
        "colab": {
          "base_uri": "https://localhost:8080/"
        },
        "id": "MUvJO6EdOGUK",
        "outputId": "7971c3d0-b2fa-4456-ae83-1c813409e40e"
      },
      "source": [
        "print('Rapport de prédiction sur la base de test :')\n",
        "print(classification_report(Y_test, tree_predict_test))"
      ],
      "execution_count": null,
      "outputs": [
        {
          "output_type": "stream",
          "text": [
            "Rapport de prédiction sur la base de test :\n",
            "              precision    recall  f1-score   support\n",
            "\n",
            "           0       0.99      0.98      0.98    282442\n",
            "           1       0.30      0.39      0.34      6004\n",
            "\n",
            "    accuracy                           0.97    288446\n",
            "   macro avg       0.65      0.68      0.66    288446\n",
            "weighted avg       0.97      0.97      0.97    288446\n",
            "\n"
          ],
          "name": "stdout"
        }
      ]
    },
    {
      "cell_type": "code",
      "metadata": {
        "id": "CgZZu7_9UpMs",
        "outputId": "da85dbf8-ea3c-4d56-f05d-7793d9ec2436"
      },
      "source": [
        "#calcul de la matrice de confusion \n",
        "print('Matrice de confusion')\n",
        "confu_tree = confusion_matrix(Y_test,tree_predict_test)\n",
        "print(confu_tree)  "
      ],
      "execution_count": null,
      "outputs": [
        {
          "output_type": "stream",
          "text": [
            "Matrice de confusion\n",
            "[[277111   5331]\n",
            " [  3672   2332]]\n"
          ],
          "name": "stdout"
        }
      ]
    },
    {
      "cell_type": "markdown",
      "metadata": {
        "id": "90kqqrvsOeh-"
      },
      "source": [
        "On observe encore une fois une très bonne performance du modèle sur les observations ne correspondant pas à un feu de forêt. \n",
        "\n",
        "En ce qui concerne les observations correspondant à un feu de forêt (*Départ de feu* == 1), le modèle affiche de meilleures performances en précision et en recall. Cela est encourageant, néanmoins nous sommes encore loin d'une prédiction satisfaisante.\n",
        "\n",
        "Nous sommes passés de 1337 vrais positifs (1er arbre de décision) à 2345 ! C'est déjà mieux. Le recall est passé de 0.2 à 0.39 !"
      ]
    },
    {
      "cell_type": "markdown",
      "metadata": {
        "id": "2FL5Q934PKVW"
      },
      "source": [
        "### **Modèle 2 : Random forest**"
      ]
    },
    {
      "cell_type": "markdown",
      "metadata": {
        "id": "Y2MGIzjfPf_a"
      },
      "source": [
        "Le modèle *Random Forest* est censé nous livrer de meilleurs résultats qu'un arbre de décision seul.\n",
        "\n",
        "**Entraînement**"
      ]
    },
    {
      "cell_type": "code",
      "metadata": {
        "id": "tdNrVfaoPKDK"
      },
      "source": [
        "#Attention : cellule longue à exécuter\n",
        "rfc = RandomForestClassifier()\n",
        "rfc = rfc.fit(X_train, Y_train)"
      ],
      "execution_count": null,
      "outputs": []
    },
    {
      "cell_type": "markdown",
      "metadata": {
        "id": "uArpQGOsPo0Y"
      },
      "source": [
        "**Evaluation**"
      ]
    },
    {
      "cell_type": "code",
      "metadata": {
        "id": "sRC4ecOXPrwd"
      },
      "source": [
        "rfc_predict_test = rfc.predict(X_test)"
      ],
      "execution_count": null,
      "outputs": []
    },
    {
      "cell_type": "code",
      "metadata": {
        "colab": {
          "base_uri": "https://localhost:8080/"
        },
        "id": "JHrXWX2qRuWK",
        "outputId": "6c690038-18bd-43e0-bb48-d87bf97bedb5"
      },
      "source": [
        "#calcul de la matrice de confusion \n",
        "print('Matrice de confusion')\n",
        "confu_rfc = confusion_matrix(Y_test,rfc_predict_test)\n",
        "print(confu_rfc)  "
      ],
      "execution_count": null,
      "outputs": [
        {
          "output_type": "stream",
          "text": [
            "Matrice de confusion\n",
            "[[281983    459]\n",
            " [  4202   1802]]\n"
          ],
          "name": "stdout"
        }
      ]
    },
    {
      "cell_type": "code",
      "metadata": {
        "colab": {
          "base_uri": "https://localhost:8080/"
        },
        "id": "5OIt_UNYRAwf",
        "outputId": "904965ce-eac7-4354-844d-7e150c96921b"
      },
      "source": [
        "print('Rapport de prédiction sur la base de test :')\n",
        "print(classification_report(Y_test, rfc_predict_test))"
      ],
      "execution_count": null,
      "outputs": [
        {
          "output_type": "stream",
          "text": [
            "Rapport de prédiction sur la base de test :\n",
            "              precision    recall  f1-score   support\n",
            "\n",
            "           0       0.99      1.00      0.99    282442\n",
            "           1       0.80      0.30      0.44      6004\n",
            "\n",
            "    accuracy                           0.98    288446\n",
            "   macro avg       0.89      0.65      0.71    288446\n",
            "weighted avg       0.98      0.98      0.98    288446\n",
            "\n"
          ],
          "name": "stdout"
        }
      ]
    },
    {
      "cell_type": "markdown",
      "metadata": {
        "id": "oIxpP2OGR0tf"
      },
      "source": [
        "Notre travail commence à porter ses fruits : \n",
        "\n",
        "Le modèle *Random Forest* a une excellente performance sur les observations ne correspondant pas à un feu de forêt. \n",
        "\n",
        "Concernant les observations correspondant à un feu de forêt, la précision s'est grandement améliorée et commence à devenir intéressante. La part de faux positifs a diminué ( $ = 1 - precision_1 $), comme on peut l'obverser sur la matrice de confusion (cellule 1,1). Le modèle arrive à mieux reconnaître les observations ne correspondant pas à un feu de forêt. \n",
        "\n",
        "Néanmoins, $recall_1$ demeure faible : le modèle a des difficultés à reconnaître lorsqu'une observation correspond à un feu de forêt. Ce recall est même mieux avec l'arbre de décision (0.39) qu'avec la random forest (0.29).\n",
        "\n",
        "\n"
      ]
    },
    {
      "cell_type": "markdown",
      "metadata": {
        "id": "h6th1uR8Vo6b"
      },
      "source": [
        "### **Modèle 3 :**"
      ]
    },
    {
      "cell_type": "markdown",
      "metadata": {
        "id": "GsLQZY5yUpMv"
      },
      "source": [
        "Dans cette toute dernière partie on retest le réseau de neurones avec les nouvelles features.\n",
        "\n",
        "On va même ajouter 2 nouvelles features qui étaient beaucoup trop longues à faire tourner sur la base de données avec tous les relevés météo. Ici, on s'intéresse seulement aux relevés avec départ de feu.\n",
        "\n",
        "Ces 2 nouvelles features sont \"la quantité moyenne de précipitation de la semaine précédent le relevé\" et \"la moyenne de température des deux semaines précédent le relevé\"."
      ]
    },
    {
      "cell_type": "markdown",
      "metadata": {
        "id": "E6ogSYXZUpMv"
      },
      "source": [
        "On garde les mêmes features que précédemment et seulement les lignes sans valeurs manquantes et où il y a eu départ de feu (grâce au dropna)."
      ]
    },
    {
      "cell_type": "markdown",
      "metadata": {
        "id": "BJAyr3UFUpMw"
      },
      "source": [
        "On crée une variable nous donnant la quantité moyenne de précipitation de la semaine précédent le relevé.\n",
        "\n",
        "Comme il y a des relevés toutes les 3 heures, une semaine correspond à 56 relevés. Pour chaque ligne, on somme donc sa quantité de précipitation avec les 55 précédentes (la base est déjà ordonnée par date). Cela signifie qu'il faudra ignorer la première semaine des données, ce qui n'est pas dramatique étant donnée la taille de base. On fait cela pour chaque station.\n",
        "\n"
      ]
    },
    {
      "cell_type": "markdown",
      "metadata": {
        "id": "JfjNYlalUpMw"
      },
      "source": [
        "Attention : la création de ces 2 nouvelles features sont longues à exécuter."
      ]
    },
    {
      "cell_type": "code",
      "metadata": {
        "colab": {
          "base_uri": "https://localhost:8080/",
          "height": 825
        },
        "id": "pCTmaBURrKIT",
        "outputId": "7d54681f-aa87-410d-9c55-3b1b06ab0034"
      },
      "source": [
        "df"
      ],
      "execution_count": 49,
      "outputs": [
        {
          "output_type": "execute_result",
          "data": {
            "text/html": [
              "<div>\n",
              "<style scoped>\n",
              "    .dataframe tbody tr th:only-of-type {\n",
              "        vertical-align: middle;\n",
              "    }\n",
              "\n",
              "    .dataframe tbody tr th {\n",
              "        vertical-align: top;\n",
              "    }\n",
              "\n",
              "    .dataframe thead th {\n",
              "        text-align: right;\n",
              "    }\n",
              "</style>\n",
              "<table border=\"1\" class=\"dataframe\">\n",
              "  <thead>\n",
              "    <tr style=\"text-align: right;\">\n",
              "      <th></th>\n",
              "      <th>Départ de feu</th>\n",
              "      <th>Année</th>\n",
              "      <th>Date de première alerte</th>\n",
              "      <th>Département</th>\n",
              "      <th>Commune</th>\n",
              "      <th>Code postal</th>\n",
              "      <th>Code INSEE</th>\n",
              "      <th>Latitude commune</th>\n",
              "      <th>Longitude commune</th>\n",
              "      <th>Surface brûlée (m2)</th>\n",
              "      <th>Surface forêt (m2)</th>\n",
              "      <th>Surface autres terres boisées (m2)</th>\n",
              "      <th>Surfaces non boisées naturelles (m2)</th>\n",
              "      <th>Surfaces non boisées artificialisées (m2)</th>\n",
              "      <th>Surfaces non boisées (m2)</th>\n",
              "      <th>Nom station</th>\n",
              "      <th>id_station</th>\n",
              "      <th>Latitude station</th>\n",
              "      <th>Longitude station</th>\n",
              "      <th>Altitude station</th>\n",
              "      <th>Date</th>\n",
              "      <th>Température (°C)</th>\n",
              "      <th>Précipitations (3 heures)</th>\n",
              "      <th>Humidité (%)</th>\n",
              "      <th>Vitesse du vent (m/s)</th>\n",
              "      <th>Mois propice</th>\n",
              "      <th>Zone propice</th>\n",
              "    </tr>\n",
              "  </thead>\n",
              "  <tbody>\n",
              "    <tr>\n",
              "      <th>0</th>\n",
              "      <td>0</td>\n",
              "      <td>NaN</td>\n",
              "      <td>NaN</td>\n",
              "      <td>NaN</td>\n",
              "      <td>NaN</td>\n",
              "      <td>NaN</td>\n",
              "      <td>NaN</td>\n",
              "      <td>NaN</td>\n",
              "      <td>NaN</td>\n",
              "      <td>NaN</td>\n",
              "      <td>NaN</td>\n",
              "      <td>NaN</td>\n",
              "      <td>NaN</td>\n",
              "      <td>NaN</td>\n",
              "      <td>NaN</td>\n",
              "      <td>ABBEVILLE</td>\n",
              "      <td>7005</td>\n",
              "      <td>50.136000</td>\n",
              "      <td>1.834</td>\n",
              "      <td>69</td>\n",
              "      <td>2006-01-01 00:00:00</td>\n",
              "      <td>4.0</td>\n",
              "      <td>2.0</td>\n",
              "      <td>92.0</td>\n",
              "      <td>5.1</td>\n",
              "      <td>NaN</td>\n",
              "      <td>NaN</td>\n",
              "    </tr>\n",
              "    <tr>\n",
              "      <th>1</th>\n",
              "      <td>0</td>\n",
              "      <td>NaN</td>\n",
              "      <td>NaN</td>\n",
              "      <td>NaN</td>\n",
              "      <td>NaN</td>\n",
              "      <td>NaN</td>\n",
              "      <td>NaN</td>\n",
              "      <td>NaN</td>\n",
              "      <td>NaN</td>\n",
              "      <td>NaN</td>\n",
              "      <td>NaN</td>\n",
              "      <td>NaN</td>\n",
              "      <td>NaN</td>\n",
              "      <td>NaN</td>\n",
              "      <td>NaN</td>\n",
              "      <td>ABBEVILLE</td>\n",
              "      <td>7005</td>\n",
              "      <td>50.136000</td>\n",
              "      <td>1.834</td>\n",
              "      <td>69</td>\n",
              "      <td>2006-01-01 03:00:00</td>\n",
              "      <td>3.7</td>\n",
              "      <td>0.0</td>\n",
              "      <td>91.0</td>\n",
              "      <td>4.1</td>\n",
              "      <td>NaN</td>\n",
              "      <td>NaN</td>\n",
              "    </tr>\n",
              "    <tr>\n",
              "      <th>2</th>\n",
              "      <td>0</td>\n",
              "      <td>NaN</td>\n",
              "      <td>NaN</td>\n",
              "      <td>NaN</td>\n",
              "      <td>NaN</td>\n",
              "      <td>NaN</td>\n",
              "      <td>NaN</td>\n",
              "      <td>NaN</td>\n",
              "      <td>NaN</td>\n",
              "      <td>NaN</td>\n",
              "      <td>NaN</td>\n",
              "      <td>NaN</td>\n",
              "      <td>NaN</td>\n",
              "      <td>NaN</td>\n",
              "      <td>NaN</td>\n",
              "      <td>ABBEVILLE</td>\n",
              "      <td>7005</td>\n",
              "      <td>50.136000</td>\n",
              "      <td>1.834</td>\n",
              "      <td>69</td>\n",
              "      <td>2006-01-01 06:00:00</td>\n",
              "      <td>3.1</td>\n",
              "      <td>3.0</td>\n",
              "      <td>92.0</td>\n",
              "      <td>5.1</td>\n",
              "      <td>NaN</td>\n",
              "      <td>NaN</td>\n",
              "    </tr>\n",
              "    <tr>\n",
              "      <th>3</th>\n",
              "      <td>0</td>\n",
              "      <td>NaN</td>\n",
              "      <td>NaN</td>\n",
              "      <td>NaN</td>\n",
              "      <td>NaN</td>\n",
              "      <td>NaN</td>\n",
              "      <td>NaN</td>\n",
              "      <td>NaN</td>\n",
              "      <td>NaN</td>\n",
              "      <td>NaN</td>\n",
              "      <td>NaN</td>\n",
              "      <td>NaN</td>\n",
              "      <td>NaN</td>\n",
              "      <td>NaN</td>\n",
              "      <td>NaN</td>\n",
              "      <td>ABBEVILLE</td>\n",
              "      <td>7005</td>\n",
              "      <td>50.136000</td>\n",
              "      <td>1.834</td>\n",
              "      <td>69</td>\n",
              "      <td>2006-01-01 09:00:00</td>\n",
              "      <td>4.7</td>\n",
              "      <td>0.6</td>\n",
              "      <td>96.0</td>\n",
              "      <td>3.1</td>\n",
              "      <td>NaN</td>\n",
              "      <td>NaN</td>\n",
              "    </tr>\n",
              "    <tr>\n",
              "      <th>4</th>\n",
              "      <td>0</td>\n",
              "      <td>NaN</td>\n",
              "      <td>NaN</td>\n",
              "      <td>NaN</td>\n",
              "      <td>NaN</td>\n",
              "      <td>NaN</td>\n",
              "      <td>NaN</td>\n",
              "      <td>NaN</td>\n",
              "      <td>NaN</td>\n",
              "      <td>NaN</td>\n",
              "      <td>NaN</td>\n",
              "      <td>NaN</td>\n",
              "      <td>NaN</td>\n",
              "      <td>NaN</td>\n",
              "      <td>NaN</td>\n",
              "      <td>ABBEVILLE</td>\n",
              "      <td>7005</td>\n",
              "      <td>50.136000</td>\n",
              "      <td>1.834</td>\n",
              "      <td>69</td>\n",
              "      <td>2006-01-01 12:00:00</td>\n",
              "      <td>6.1</td>\n",
              "      <td>2.0</td>\n",
              "      <td>94.0</td>\n",
              "      <td>5.1</td>\n",
              "      <td>NaN</td>\n",
              "      <td>NaN</td>\n",
              "    </tr>\n",
              "    <tr>\n",
              "      <th>...</th>\n",
              "      <td>...</td>\n",
              "      <td>...</td>\n",
              "      <td>...</td>\n",
              "      <td>...</td>\n",
              "      <td>...</td>\n",
              "      <td>...</td>\n",
              "      <td>...</td>\n",
              "      <td>...</td>\n",
              "      <td>...</td>\n",
              "      <td>...</td>\n",
              "      <td>...</td>\n",
              "      <td>...</td>\n",
              "      <td>...</td>\n",
              "      <td>...</td>\n",
              "      <td>...</td>\n",
              "      <td>...</td>\n",
              "      <td>...</td>\n",
              "      <td>...</td>\n",
              "      <td>...</td>\n",
              "      <td>...</td>\n",
              "      <td>...</td>\n",
              "      <td>...</td>\n",
              "      <td>...</td>\n",
              "      <td>...</td>\n",
              "      <td>...</td>\n",
              "      <td>...</td>\n",
              "      <td>...</td>\n",
              "    </tr>\n",
              "    <tr>\n",
              "      <th>2363072</th>\n",
              "      <td>0</td>\n",
              "      <td>NaN</td>\n",
              "      <td>NaN</td>\n",
              "      <td>NaN</td>\n",
              "      <td>NaN</td>\n",
              "      <td>NaN</td>\n",
              "      <td>NaN</td>\n",
              "      <td>NaN</td>\n",
              "      <td>NaN</td>\n",
              "      <td>NaN</td>\n",
              "      <td>NaN</td>\n",
              "      <td>NaN</td>\n",
              "      <td>NaN</td>\n",
              "      <td>NaN</td>\n",
              "      <td>NaN</td>\n",
              "      <td>DUMONT D'URVILLE</td>\n",
              "      <td>89642</td>\n",
              "      <td>-66.663167</td>\n",
              "      <td>140.001</td>\n",
              "      <td>43</td>\n",
              "      <td>2019-12-31 00:00:00</td>\n",
              "      <td>0.7</td>\n",
              "      <td>NaN</td>\n",
              "      <td>62.0</td>\n",
              "      <td>28.3</td>\n",
              "      <td>0.016747</td>\n",
              "      <td>NaN</td>\n",
              "    </tr>\n",
              "    <tr>\n",
              "      <th>2363073</th>\n",
              "      <td>0</td>\n",
              "      <td>NaN</td>\n",
              "      <td>NaN</td>\n",
              "      <td>NaN</td>\n",
              "      <td>NaN</td>\n",
              "      <td>NaN</td>\n",
              "      <td>NaN</td>\n",
              "      <td>NaN</td>\n",
              "      <td>NaN</td>\n",
              "      <td>NaN</td>\n",
              "      <td>NaN</td>\n",
              "      <td>NaN</td>\n",
              "      <td>NaN</td>\n",
              "      <td>NaN</td>\n",
              "      <td>NaN</td>\n",
              "      <td>DUMONT D'URVILLE</td>\n",
              "      <td>89642</td>\n",
              "      <td>-66.663167</td>\n",
              "      <td>140.001</td>\n",
              "      <td>43</td>\n",
              "      <td>2019-12-31 12:00:00</td>\n",
              "      <td>1.7</td>\n",
              "      <td>NaN</td>\n",
              "      <td>74.0</td>\n",
              "      <td>23.1</td>\n",
              "      <td>0.016747</td>\n",
              "      <td>NaN</td>\n",
              "    </tr>\n",
              "    <tr>\n",
              "      <th>2363074</th>\n",
              "      <td>0</td>\n",
              "      <td>NaN</td>\n",
              "      <td>NaN</td>\n",
              "      <td>NaN</td>\n",
              "      <td>NaN</td>\n",
              "      <td>NaN</td>\n",
              "      <td>NaN</td>\n",
              "      <td>NaN</td>\n",
              "      <td>NaN</td>\n",
              "      <td>NaN</td>\n",
              "      <td>NaN</td>\n",
              "      <td>NaN</td>\n",
              "      <td>NaN</td>\n",
              "      <td>NaN</td>\n",
              "      <td>NaN</td>\n",
              "      <td>DUMONT D'URVILLE</td>\n",
              "      <td>89642</td>\n",
              "      <td>-66.663167</td>\n",
              "      <td>140.001</td>\n",
              "      <td>43</td>\n",
              "      <td>2019-12-31 15:00:00</td>\n",
              "      <td>1.0</td>\n",
              "      <td>NaN</td>\n",
              "      <td>78.0</td>\n",
              "      <td>18.0</td>\n",
              "      <td>0.016747</td>\n",
              "      <td>NaN</td>\n",
              "    </tr>\n",
              "    <tr>\n",
              "      <th>2363075</th>\n",
              "      <td>0</td>\n",
              "      <td>NaN</td>\n",
              "      <td>NaN</td>\n",
              "      <td>NaN</td>\n",
              "      <td>NaN</td>\n",
              "      <td>NaN</td>\n",
              "      <td>NaN</td>\n",
              "      <td>NaN</td>\n",
              "      <td>NaN</td>\n",
              "      <td>NaN</td>\n",
              "      <td>NaN</td>\n",
              "      <td>NaN</td>\n",
              "      <td>NaN</td>\n",
              "      <td>NaN</td>\n",
              "      <td>NaN</td>\n",
              "      <td>DUMONT D'URVILLE</td>\n",
              "      <td>89642</td>\n",
              "      <td>-66.663167</td>\n",
              "      <td>140.001</td>\n",
              "      <td>43</td>\n",
              "      <td>2019-12-31 18:00:00</td>\n",
              "      <td>1.0</td>\n",
              "      <td>NaN</td>\n",
              "      <td>72.0</td>\n",
              "      <td>20.6</td>\n",
              "      <td>0.016747</td>\n",
              "      <td>NaN</td>\n",
              "    </tr>\n",
              "    <tr>\n",
              "      <th>2363076</th>\n",
              "      <td>0</td>\n",
              "      <td>NaN</td>\n",
              "      <td>NaN</td>\n",
              "      <td>NaN</td>\n",
              "      <td>NaN</td>\n",
              "      <td>NaN</td>\n",
              "      <td>NaN</td>\n",
              "      <td>NaN</td>\n",
              "      <td>NaN</td>\n",
              "      <td>NaN</td>\n",
              "      <td>NaN</td>\n",
              "      <td>NaN</td>\n",
              "      <td>NaN</td>\n",
              "      <td>NaN</td>\n",
              "      <td>NaN</td>\n",
              "      <td>DUMONT D'URVILLE</td>\n",
              "      <td>89642</td>\n",
              "      <td>-66.663167</td>\n",
              "      <td>140.001</td>\n",
              "      <td>43</td>\n",
              "      <td>2019-12-31 21:00:00</td>\n",
              "      <td>0.6</td>\n",
              "      <td>NaN</td>\n",
              "      <td>73.0</td>\n",
              "      <td>21.6</td>\n",
              "      <td>0.016747</td>\n",
              "      <td>NaN</td>\n",
              "    </tr>\n",
              "  </tbody>\n",
              "</table>\n",
              "<p>2363077 rows × 27 columns</p>\n",
              "</div>"
            ],
            "text/plain": [
              "         Départ de feu  Année  ... Mois propice Zone propice\n",
              "0                    0    NaN  ...          NaN          NaN\n",
              "1                    0    NaN  ...          NaN          NaN\n",
              "2                    0    NaN  ...          NaN          NaN\n",
              "3                    0    NaN  ...          NaN          NaN\n",
              "4                    0    NaN  ...          NaN          NaN\n",
              "...                ...    ...  ...          ...          ...\n",
              "2363072              0    NaN  ...     0.016747          NaN\n",
              "2363073              0    NaN  ...     0.016747          NaN\n",
              "2363074              0    NaN  ...     0.016747          NaN\n",
              "2363075              0    NaN  ...     0.016747          NaN\n",
              "2363076              0    NaN  ...     0.016747          NaN\n",
              "\n",
              "[2363077 rows x 27 columns]"
            ]
          },
          "metadata": {
            "tags": []
          },
          "execution_count": 49
        }
      ]
    },
    {
      "cell_type": "code",
      "metadata": {
        "colab": {
          "base_uri": "https://localhost:8080/"
        },
        "id": "nbBc27pcre6O",
        "outputId": "ca7c31f1-05b0-41ed-9172-23228a18ae65"
      },
      "source": [
        "df['Zone propice'].iloc[456:470]"
      ],
      "execution_count": 53,
      "outputs": [
        {
          "output_type": "execute_result",
          "data": {
            "text/plain": [
              "456   NaN\n",
              "457   NaN\n",
              "458   NaN\n",
              "459   NaN\n",
              "460   NaN\n",
              "461   NaN\n",
              "462   NaN\n",
              "463   NaN\n",
              "464   NaN\n",
              "465   NaN\n",
              "466   NaN\n",
              "467   NaN\n",
              "468   NaN\n",
              "469   NaN\n",
              "Name: Zone propice, dtype: float64"
            ]
          },
          "metadata": {
            "tags": []
          },
          "execution_count": 53
        }
      ]
    },
    {
      "cell_type": "code",
      "metadata": {
        "id": "GG09VlXdYXQI",
        "colab": {
          "base_uri": "https://localhost:8080/"
        },
        "outputId": "af611252-2647-447a-9d6c-683f4ce70d4d"
      },
      "source": [
        "import math\r\n",
        "from tqdm import tqdm\r\n",
        "tqdm.pandas()\r\n",
        "df['Index']=df.index\r\n",
        "df_feu=df[df['Départ de feu']==1]\r\n",
        "df_feu['Index']=df_feu.index"
      ],
      "execution_count": 89,
      "outputs": [
        {
          "output_type": "stream",
          "text": [
            "/usr/local/lib/python3.6/dist-packages/ipykernel_launcher.py:6: SettingWithCopyWarning: \n",
            "A value is trying to be set on a copy of a slice from a DataFrame.\n",
            "Try using .loc[row_indexer,col_indexer] = value instead\n",
            "\n",
            "See the caveats in the documentation: https://pandas.pydata.org/pandas-docs/stable/user_guide/indexing.html#returning-a-view-versus-a-copy\n",
            "  \n"
          ],
          "name": "stderr"
        }
      ]
    },
    {
      "cell_type": "code",
      "metadata": {
        "id": "JS3_3jYAUpMx"
      },
      "source": [
        "def moyenne_precipitations(index):\n",
        "    if math.isnan(df.iloc[index,16]):\n",
        "        return np.nan\n",
        "    sub = df[df['id_station'] == df.iloc[index,16]]  #on se restreint aux relevés d'une même station. La base est ordonnée par station donc les index restent dans le bon ordre et se suivent\n",
        "    if index >= 55 and index+1 <= df.shape[0]:\n",
        "        sub = sub[sub['Index'].between(index-54,index+1)]        #on garde prend les 55 relevés précédents\n",
        "        return sub['Précipitations (3 heures)'].sum(axis=0)/56   #on fait la moyenne pour les relevés pertinents\n",
        "    else:\n",
        "        return np.nan   #pour les premier relevés, on ne peut pas avoir la moyenne de la semaine précédente, la valeur est NaN"
      ],
      "execution_count": 90,
      "outputs": []
    },
    {
      "cell_type": "code",
      "metadata": {
        "colab": {
          "base_uri": "https://localhost:8080/"
        },
        "id": "CDYkifU3UpMx",
        "outputId": "28a1ad7a-24c2-4298-a23b-48dff31bdc81"
      },
      "source": [
        "df_feu['Précipitation semaine'] = df_feu['Index'].progress_apply(lambda row: moyenne_precipitations(row))"
      ],
      "execution_count": 91,
      "outputs": [
        {
          "output_type": "stream",
          "text": [
            "100%|██████████| 33080/33080 [06:49<00:00, 80.81it/s]\n",
            "/usr/local/lib/python3.6/dist-packages/ipykernel_launcher.py:1: SettingWithCopyWarning: \n",
            "A value is trying to be set on a copy of a slice from a DataFrame.\n",
            "Try using .loc[row_indexer,col_indexer] = value instead\n",
            "\n",
            "See the caveats in the documentation: https://pandas.pydata.org/pandas-docs/stable/user_guide/indexing.html#returning-a-view-versus-a-copy\n",
            "  \"\"\"Entry point for launching an IPython kernel.\n"
          ],
          "name": "stderr"
        }
      ]
    },
    {
      "cell_type": "markdown",
      "metadata": {
        "id": "5ZpjeobwUpMx"
      },
      "source": [
        "On crée également une variable nous donnant la moyenne de température des deux semaines précédent le relevé (moyenne avec les 111 relevés précedents donc)."
      ]
    },
    {
      "cell_type": "code",
      "metadata": {
        "id": "cPvOObjik6fi"
      },
      "source": [
        "def moyenne_temperature(index):\r\n",
        "    if math.isnan(df.iloc[index,16]):\r\n",
        "        return np.nan\r\n",
        "    sub = df[df['id_station'] == df.iloc[index,16]]  #on se restreint aux relevés d'une même station. La base est ordonnée par station donc les index restent dans le bon ordre et se suivent\r\n",
        "    if index >= 111 and index+1 <= df.shape[0]:\r\n",
        "        sub = sub[sub['Index'].between(index-110,index+1)]        #on garde prend les 111 relevés précédents\r\n",
        "        return sub['Température (°C)'].sum(axis=0)/112   #on fait la moyenne pour les relevés pertinents\r\n",
        "    else:\r\n",
        "        return np.nan   #pour les premier relevés, on ne peut pas avoir la moyenne de la semaine précédente, la valeur est NaN"
      ],
      "execution_count": 92,
      "outputs": []
    },
    {
      "cell_type": "code",
      "metadata": {
        "id": "8At6DvNZUpMy",
        "colab": {
          "base_uri": "https://localhost:8080/"
        },
        "outputId": "c28a5630-768a-4f7f-95f2-0fe7b84c9434"
      },
      "source": [
        "df_feu['Température semaine'] = df_feu['Index'].progress_apply(lambda row: moyenne_temperature(row))"
      ],
      "execution_count": 93,
      "outputs": [
        {
          "output_type": "stream",
          "text": [
            "100%|██████████| 33080/33080 [06:57<00:00, 79.32it/s]\n",
            "/usr/local/lib/python3.6/dist-packages/ipykernel_launcher.py:1: SettingWithCopyWarning: \n",
            "A value is trying to be set on a copy of a slice from a DataFrame.\n",
            "Try using .loc[row_indexer,col_indexer] = value instead\n",
            "\n",
            "See the caveats in the documentation: https://pandas.pydata.org/pandas-docs/stable/user_guide/indexing.html#returning-a-view-versus-a-copy\n",
            "  \"\"\"Entry point for launching an IPython kernel.\n"
          ],
          "name": "stderr"
        }
      ]
    },
    {
      "cell_type": "code",
      "metadata": {
        "colab": {
          "base_uri": "https://localhost:8080/",
          "height": 842
        },
        "id": "SDphMZRJpNas",
        "outputId": "cf447050-1f10-458f-acb5-50af01cf3131"
      },
      "source": [
        "df_feu"
      ],
      "execution_count": 94,
      "outputs": [
        {
          "output_type": "execute_result",
          "data": {
            "text/html": [
              "<div>\n",
              "<style scoped>\n",
              "    .dataframe tbody tr th:only-of-type {\n",
              "        vertical-align: middle;\n",
              "    }\n",
              "\n",
              "    .dataframe tbody tr th {\n",
              "        vertical-align: top;\n",
              "    }\n",
              "\n",
              "    .dataframe thead th {\n",
              "        text-align: right;\n",
              "    }\n",
              "</style>\n",
              "<table border=\"1\" class=\"dataframe\">\n",
              "  <thead>\n",
              "    <tr style=\"text-align: right;\">\n",
              "      <th></th>\n",
              "      <th>Départ de feu</th>\n",
              "      <th>Année</th>\n",
              "      <th>Date de première alerte</th>\n",
              "      <th>Département</th>\n",
              "      <th>Commune</th>\n",
              "      <th>Code postal</th>\n",
              "      <th>Code INSEE</th>\n",
              "      <th>Latitude commune</th>\n",
              "      <th>Longitude commune</th>\n",
              "      <th>Surface brûlée (m2)</th>\n",
              "      <th>Surface forêt (m2)</th>\n",
              "      <th>Surface autres terres boisées (m2)</th>\n",
              "      <th>Surfaces non boisées naturelles (m2)</th>\n",
              "      <th>Surfaces non boisées artificialisées (m2)</th>\n",
              "      <th>Surfaces non boisées (m2)</th>\n",
              "      <th>Nom station</th>\n",
              "      <th>id_station</th>\n",
              "      <th>Latitude station</th>\n",
              "      <th>Longitude station</th>\n",
              "      <th>Altitude station</th>\n",
              "      <th>Date</th>\n",
              "      <th>Température (°C)</th>\n",
              "      <th>Précipitations (3 heures)</th>\n",
              "      <th>Humidité (%)</th>\n",
              "      <th>Vitesse du vent (m/s)</th>\n",
              "      <th>Mois propice</th>\n",
              "      <th>Zone propice</th>\n",
              "      <th>Index</th>\n",
              "      <th>Précipitation semaine</th>\n",
              "      <th>Température semaine</th>\n",
              "    </tr>\n",
              "  </thead>\n",
              "  <tbody>\n",
              "    <tr>\n",
              "      <th>68054</th>\n",
              "      <td>1</td>\n",
              "      <td>2015.0</td>\n",
              "      <td>2015-05-12 16:17:00</td>\n",
              "      <td>02</td>\n",
              "      <td>LE NOUVION EN THIERACHE</td>\n",
              "      <td>02170</td>\n",
              "      <td>02558</td>\n",
              "      <td>50.01670</td>\n",
              "      <td>3.78333</td>\n",
              "      <td>1000.0</td>\n",
              "      <td>1000.0</td>\n",
              "      <td>0.0</td>\n",
              "      <td>0.0</td>\n",
              "      <td>0.0</td>\n",
              "      <td>0.0</td>\n",
              "      <td>LILLE-LESQUIN</td>\n",
              "      <td>7015</td>\n",
              "      <td>50.570000</td>\n",
              "      <td>3.097500</td>\n",
              "      <td>47</td>\n",
              "      <td>2015-05-12 15:00:00</td>\n",
              "      <td>18.3</td>\n",
              "      <td>0.0</td>\n",
              "      <td>44.0</td>\n",
              "      <td>8.8</td>\n",
              "      <td>0.061103</td>\n",
              "      <td>NaN</td>\n",
              "      <td>68054</td>\n",
              "      <td>0.007143</td>\n",
              "      <td>13.246429</td>\n",
              "    </tr>\n",
              "    <tr>\n",
              "      <th>88139</th>\n",
              "      <td>1</td>\n",
              "      <td>2008.0</td>\n",
              "      <td>2008-04-16 19:16:00</td>\n",
              "      <td>50</td>\n",
              "      <td>BESNEVILLE</td>\n",
              "      <td>50390</td>\n",
              "      <td>50049</td>\n",
              "      <td>49.36670</td>\n",
              "      <td>-1.63333</td>\n",
              "      <td>40000.0</td>\n",
              "      <td>0.0</td>\n",
              "      <td>20000.0</td>\n",
              "      <td>20000.0</td>\n",
              "      <td>0.0</td>\n",
              "      <td>20000.0</td>\n",
              "      <td>PTE DE LA HAGUE</td>\n",
              "      <td>7020</td>\n",
              "      <td>49.725167</td>\n",
              "      <td>-1.939833</td>\n",
              "      <td>6</td>\n",
              "      <td>2008-04-16 18:00:00</td>\n",
              "      <td>10.0</td>\n",
              "      <td>0.0</td>\n",
              "      <td>63.0</td>\n",
              "      <td>7.2</td>\n",
              "      <td>0.091567</td>\n",
              "      <td>NaN</td>\n",
              "      <td>88139</td>\n",
              "      <td>0.057143</td>\n",
              "      <td>8.213393</td>\n",
              "    </tr>\n",
              "    <tr>\n",
              "      <th>99242</th>\n",
              "      <td>1</td>\n",
              "      <td>2012.0</td>\n",
              "      <td>2012-04-03 15:21:00</td>\n",
              "      <td>50</td>\n",
              "      <td>LESSAY</td>\n",
              "      <td>50430</td>\n",
              "      <td>50267</td>\n",
              "      <td>49.21670</td>\n",
              "      <td>-1.53333</td>\n",
              "      <td>100000.0</td>\n",
              "      <td>0.0</td>\n",
              "      <td>100000.0</td>\n",
              "      <td>0.0</td>\n",
              "      <td>0.0</td>\n",
              "      <td>0.0</td>\n",
              "      <td>PTE DE LA HAGUE</td>\n",
              "      <td>7020</td>\n",
              "      <td>49.725167</td>\n",
              "      <td>-1.939833</td>\n",
              "      <td>6</td>\n",
              "      <td>2012-04-03 15:00:00</td>\n",
              "      <td>11.4</td>\n",
              "      <td>0.0</td>\n",
              "      <td>78.0</td>\n",
              "      <td>4.1</td>\n",
              "      <td>0.089479</td>\n",
              "      <td>0.000067</td>\n",
              "      <td>99242</td>\n",
              "      <td>0.007143</td>\n",
              "      <td>9.307143</td>\n",
              "    </tr>\n",
              "    <tr>\n",
              "      <th>103316</th>\n",
              "      <td>1</td>\n",
              "      <td>2013.0</td>\n",
              "      <td>2013-08-28 21:39:00</td>\n",
              "      <td>50</td>\n",
              "      <td>LESSAY</td>\n",
              "      <td>50430</td>\n",
              "      <td>50267</td>\n",
              "      <td>49.21670</td>\n",
              "      <td>-1.53333</td>\n",
              "      <td>1000.0</td>\n",
              "      <td>0.0</td>\n",
              "      <td>1000.0</td>\n",
              "      <td>0.0</td>\n",
              "      <td>0.0</td>\n",
              "      <td>0.0</td>\n",
              "      <td>PTE DE LA HAGUE</td>\n",
              "      <td>7020</td>\n",
              "      <td>49.725167</td>\n",
              "      <td>-1.939833</td>\n",
              "      <td>6</td>\n",
              "      <td>2013-08-28 21:00:00</td>\n",
              "      <td>11.4</td>\n",
              "      <td>0.0</td>\n",
              "      <td>90.0</td>\n",
              "      <td>0.0</td>\n",
              "      <td>0.165589</td>\n",
              "      <td>0.000114</td>\n",
              "      <td>103316</td>\n",
              "      <td>0.064286</td>\n",
              "      <td>16.840179</td>\n",
              "    </tr>\n",
              "    <tr>\n",
              "      <th>113680</th>\n",
              "      <td>1</td>\n",
              "      <td>2017.0</td>\n",
              "      <td>2017-04-09 17:18:00</td>\n",
              "      <td>50</td>\n",
              "      <td>PIROU</td>\n",
              "      <td>50770</td>\n",
              "      <td>50403</td>\n",
              "      <td>49.18330</td>\n",
              "      <td>-1.58333</td>\n",
              "      <td>6800.0</td>\n",
              "      <td>6800.0</td>\n",
              "      <td>0.0</td>\n",
              "      <td>0.0</td>\n",
              "      <td>0.0</td>\n",
              "      <td>0.0</td>\n",
              "      <td>PTE DE LA HAGUE</td>\n",
              "      <td>7020</td>\n",
              "      <td>49.725167</td>\n",
              "      <td>-1.939833</td>\n",
              "      <td>6</td>\n",
              "      <td>2017-04-09 18:00:00</td>\n",
              "      <td>11.1</td>\n",
              "      <td>0.0</td>\n",
              "      <td>86.0</td>\n",
              "      <td>6.4</td>\n",
              "      <td>0.083454</td>\n",
              "      <td>0.000114</td>\n",
              "      <td>113680</td>\n",
              "      <td>0.058929</td>\n",
              "      <td>11.050893</td>\n",
              "    </tr>\n",
              "    <tr>\n",
              "      <th>...</th>\n",
              "      <td>...</td>\n",
              "      <td>...</td>\n",
              "      <td>...</td>\n",
              "      <td>...</td>\n",
              "      <td>...</td>\n",
              "      <td>...</td>\n",
              "      <td>...</td>\n",
              "      <td>...</td>\n",
              "      <td>...</td>\n",
              "      <td>...</td>\n",
              "      <td>...</td>\n",
              "      <td>...</td>\n",
              "      <td>...</td>\n",
              "      <td>...</td>\n",
              "      <td>...</td>\n",
              "      <td>...</td>\n",
              "      <td>...</td>\n",
              "      <td>...</td>\n",
              "      <td>...</td>\n",
              "      <td>...</td>\n",
              "      <td>...</td>\n",
              "      <td>...</td>\n",
              "      <td>...</td>\n",
              "      <td>...</td>\n",
              "      <td>...</td>\n",
              "      <td>...</td>\n",
              "      <td>...</td>\n",
              "      <td>...</td>\n",
              "      <td>...</td>\n",
              "      <td>...</td>\n",
              "    </tr>\n",
              "    <tr>\n",
              "      <th>1722201</th>\n",
              "      <td>1</td>\n",
              "      <td>2018.0</td>\n",
              "      <td>2018-10-26 00:30:00</td>\n",
              "      <td>974</td>\n",
              "      <td>SAINT DENIS</td>\n",
              "      <td>97490</td>\n",
              "      <td>97411</td>\n",
              "      <td>1.71819</td>\n",
              "      <td>46.71070</td>\n",
              "      <td>300.0</td>\n",
              "      <td>0.0</td>\n",
              "      <td>300.0</td>\n",
              "      <td>0.0</td>\n",
              "      <td>0.0</td>\n",
              "      <td>0.0</td>\n",
              "      <td>GLORIEUSES</td>\n",
              "      <td>61968</td>\n",
              "      <td>-11.582667</td>\n",
              "      <td>47.289667</td>\n",
              "      <td>3</td>\n",
              "      <td>2018-10-26 00:00:00</td>\n",
              "      <td>25.1</td>\n",
              "      <td>0.0</td>\n",
              "      <td>75.0</td>\n",
              "      <td>4.5</td>\n",
              "      <td>0.068166</td>\n",
              "      <td>0.002772</td>\n",
              "      <td>1722201</td>\n",
              "      <td>0.000000</td>\n",
              "      <td>26.829464</td>\n",
              "    </tr>\n",
              "    <tr>\n",
              "      <th>1722276</th>\n",
              "      <td>1</td>\n",
              "      <td>2018.0</td>\n",
              "      <td>2018-11-04 17:16:00</td>\n",
              "      <td>974</td>\n",
              "      <td>SAINT DENIS</td>\n",
              "      <td>97490</td>\n",
              "      <td>97411</td>\n",
              "      <td>1.71819</td>\n",
              "      <td>46.71070</td>\n",
              "      <td>100.0</td>\n",
              "      <td>0.0</td>\n",
              "      <td>100.0</td>\n",
              "      <td>0.0</td>\n",
              "      <td>0.0</td>\n",
              "      <td>0.0</td>\n",
              "      <td>GLORIEUSES</td>\n",
              "      <td>61968</td>\n",
              "      <td>-11.582667</td>\n",
              "      <td>47.289667</td>\n",
              "      <td>3</td>\n",
              "      <td>2018-11-04 18:00:00</td>\n",
              "      <td>25.2</td>\n",
              "      <td>0.0</td>\n",
              "      <td>83.0</td>\n",
              "      <td>0.0</td>\n",
              "      <td>0.025471</td>\n",
              "      <td>0.002772</td>\n",
              "      <td>1722276</td>\n",
              "      <td>0.517857</td>\n",
              "      <td>26.858036</td>\n",
              "    </tr>\n",
              "    <tr>\n",
              "      <th>1724477</th>\n",
              "      <td>1</td>\n",
              "      <td>2019.0</td>\n",
              "      <td>2019-08-21 08:05:00</td>\n",
              "      <td>974</td>\n",
              "      <td>SAINT DENIS</td>\n",
              "      <td>97490</td>\n",
              "      <td>97411</td>\n",
              "      <td>1.71819</td>\n",
              "      <td>46.71070</td>\n",
              "      <td>1541.0</td>\n",
              "      <td>1541.0</td>\n",
              "      <td>0.0</td>\n",
              "      <td>0.0</td>\n",
              "      <td>0.0</td>\n",
              "      <td>0.0</td>\n",
              "      <td>GLORIEUSES</td>\n",
              "      <td>61968</td>\n",
              "      <td>-11.582667</td>\n",
              "      <td>47.289667</td>\n",
              "      <td>3</td>\n",
              "      <td>2019-08-21 09:00:00</td>\n",
              "      <td>26.7</td>\n",
              "      <td>0.0</td>\n",
              "      <td>75.0</td>\n",
              "      <td>1.6</td>\n",
              "      <td>0.176923</td>\n",
              "      <td>0.003448</td>\n",
              "      <td>1724477</td>\n",
              "      <td>0.085714</td>\n",
              "      <td>25.544643</td>\n",
              "    </tr>\n",
              "    <tr>\n",
              "      <th>1725083</th>\n",
              "      <td>1</td>\n",
              "      <td>2019.0</td>\n",
              "      <td>2019-11-11 14:24:00</td>\n",
              "      <td>974</td>\n",
              "      <td>SAINT DENIS</td>\n",
              "      <td>97490</td>\n",
              "      <td>97411</td>\n",
              "      <td>1.71819</td>\n",
              "      <td>46.71070</td>\n",
              "      <td>3835.0</td>\n",
              "      <td>0.0</td>\n",
              "      <td>3835.0</td>\n",
              "      <td>0.0</td>\n",
              "      <td>0.0</td>\n",
              "      <td>0.0</td>\n",
              "      <td>GLORIEUSES</td>\n",
              "      <td>61968</td>\n",
              "      <td>-11.582667</td>\n",
              "      <td>47.289667</td>\n",
              "      <td>3</td>\n",
              "      <td>2019-11-11 15:00:00</td>\n",
              "      <td>27.1</td>\n",
              "      <td>0.0</td>\n",
              "      <td>74.0</td>\n",
              "      <td>2.4</td>\n",
              "      <td>0.024693</td>\n",
              "      <td>0.003448</td>\n",
              "      <td>1725083</td>\n",
              "      <td>0.000000</td>\n",
              "      <td>28.022321</td>\n",
              "    </tr>\n",
              "    <tr>\n",
              "      <th>1725123</th>\n",
              "      <td>1</td>\n",
              "      <td>2019.0</td>\n",
              "      <td>2019-11-16 15:19:00</td>\n",
              "      <td>974</td>\n",
              "      <td>SAINT DENIS</td>\n",
              "      <td>97490</td>\n",
              "      <td>97411</td>\n",
              "      <td>1.71819</td>\n",
              "      <td>46.71070</td>\n",
              "      <td>1100.0</td>\n",
              "      <td>0.0</td>\n",
              "      <td>1100.0</td>\n",
              "      <td>0.0</td>\n",
              "      <td>0.0</td>\n",
              "      <td>0.0</td>\n",
              "      <td>GLORIEUSES</td>\n",
              "      <td>61968</td>\n",
              "      <td>-11.582667</td>\n",
              "      <td>47.289667</td>\n",
              "      <td>3</td>\n",
              "      <td>2019-11-16 15:00:00</td>\n",
              "      <td>28.3</td>\n",
              "      <td>0.0</td>\n",
              "      <td>79.0</td>\n",
              "      <td>1.5</td>\n",
              "      <td>0.024693</td>\n",
              "      <td>0.003448</td>\n",
              "      <td>1725123</td>\n",
              "      <td>0.007143</td>\n",
              "      <td>28.333036</td>\n",
              "    </tr>\n",
              "  </tbody>\n",
              "</table>\n",
              "<p>33080 rows × 30 columns</p>\n",
              "</div>"
            ],
            "text/plain": [
              "         Départ de feu   Année  ... Précipitation semaine Température semaine\n",
              "68054                1  2015.0  ...              0.007143           13.246429\n",
              "88139                1  2008.0  ...              0.057143            8.213393\n",
              "99242                1  2012.0  ...              0.007143            9.307143\n",
              "103316               1  2013.0  ...              0.064286           16.840179\n",
              "113680               1  2017.0  ...              0.058929           11.050893\n",
              "...                ...     ...  ...                   ...                 ...\n",
              "1722201              1  2018.0  ...              0.000000           26.829464\n",
              "1722276              1  2018.0  ...              0.517857           26.858036\n",
              "1724477              1  2019.0  ...              0.085714           25.544643\n",
              "1725083              1  2019.0  ...              0.000000           28.022321\n",
              "1725123              1  2019.0  ...              0.007143           28.333036\n",
              "\n",
              "[33080 rows x 30 columns]"
            ]
          },
          "metadata": {
            "tags": []
          },
          "execution_count": 94
        }
      ]
    },
    {
      "cell_type": "code",
      "metadata": {
        "colab": {
          "base_uri": "https://localhost:8080/",
          "height": 212
        },
        "id": "zVrwK96BpLvj",
        "outputId": "6f3b485b-a680-41ee-f5ad-9fbcda873971"
      },
      "source": [
        "df3 = df_feu.iloc[:, [9,17,18,19,21,22,23,24,25,26,28,29]]  \r\n",
        "df3 = df3.dropna()\r\n",
        "df3.head()\r\n"
      ],
      "execution_count": 97,
      "outputs": [
        {
          "output_type": "execute_result",
          "data": {
            "text/html": [
              "<div>\n",
              "<style scoped>\n",
              "    .dataframe tbody tr th:only-of-type {\n",
              "        vertical-align: middle;\n",
              "    }\n",
              "\n",
              "    .dataframe tbody tr th {\n",
              "        vertical-align: top;\n",
              "    }\n",
              "\n",
              "    .dataframe thead th {\n",
              "        text-align: right;\n",
              "    }\n",
              "</style>\n",
              "<table border=\"1\" class=\"dataframe\">\n",
              "  <thead>\n",
              "    <tr style=\"text-align: right;\">\n",
              "      <th></th>\n",
              "      <th>Surface brûlée (m2)</th>\n",
              "      <th>Latitude station</th>\n",
              "      <th>Longitude station</th>\n",
              "      <th>Altitude station</th>\n",
              "      <th>Température (°C)</th>\n",
              "      <th>Précipitations (3 heures)</th>\n",
              "      <th>Humidité (%)</th>\n",
              "      <th>Vitesse du vent (m/s)</th>\n",
              "      <th>Mois propice</th>\n",
              "      <th>Zone propice</th>\n",
              "      <th>Précipitation semaine</th>\n",
              "      <th>Température semaine</th>\n",
              "    </tr>\n",
              "  </thead>\n",
              "  <tbody>\n",
              "    <tr>\n",
              "      <th>99242</th>\n",
              "      <td>100000.0</td>\n",
              "      <td>49.725167</td>\n",
              "      <td>-1.939833</td>\n",
              "      <td>6</td>\n",
              "      <td>11.4</td>\n",
              "      <td>0.0</td>\n",
              "      <td>78.0</td>\n",
              "      <td>4.1</td>\n",
              "      <td>0.089479</td>\n",
              "      <td>0.000067</td>\n",
              "      <td>0.007143</td>\n",
              "      <td>9.307143</td>\n",
              "    </tr>\n",
              "    <tr>\n",
              "      <th>103316</th>\n",
              "      <td>1000.0</td>\n",
              "      <td>49.725167</td>\n",
              "      <td>-1.939833</td>\n",
              "      <td>6</td>\n",
              "      <td>11.4</td>\n",
              "      <td>0.0</td>\n",
              "      <td>90.0</td>\n",
              "      <td>0.0</td>\n",
              "      <td>0.165589</td>\n",
              "      <td>0.000114</td>\n",
              "      <td>0.064286</td>\n",
              "      <td>16.840179</td>\n",
              "    </tr>\n",
              "    <tr>\n",
              "      <th>113680</th>\n",
              "      <td>6800.0</td>\n",
              "      <td>49.725167</td>\n",
              "      <td>-1.939833</td>\n",
              "      <td>6</td>\n",
              "      <td>11.1</td>\n",
              "      <td>0.0</td>\n",
              "      <td>86.0</td>\n",
              "      <td>6.4</td>\n",
              "      <td>0.083454</td>\n",
              "      <td>0.000114</td>\n",
              "      <td>0.058929</td>\n",
              "      <td>11.050893</td>\n",
              "    </tr>\n",
              "    <tr>\n",
              "      <th>113740</th>\n",
              "      <td>2000.0</td>\n",
              "      <td>49.725167</td>\n",
              "      <td>-1.939833</td>\n",
              "      <td>6</td>\n",
              "      <td>10.8</td>\n",
              "      <td>0.0</td>\n",
              "      <td>89.0</td>\n",
              "      <td>5.0</td>\n",
              "      <td>0.083454</td>\n",
              "      <td>0.000114</td>\n",
              "      <td>0.007143</td>\n",
              "      <td>10.828571</td>\n",
              "    </tr>\n",
              "    <tr>\n",
              "      <th>117143</th>\n",
              "      <td>800.0</td>\n",
              "      <td>49.725167</td>\n",
              "      <td>-1.939833</td>\n",
              "      <td>6</td>\n",
              "      <td>16.0</td>\n",
              "      <td>0.0</td>\n",
              "      <td>66.0</td>\n",
              "      <td>4.0</td>\n",
              "      <td>0.091385</td>\n",
              "      <td>0.000173</td>\n",
              "      <td>0.000000</td>\n",
              "      <td>14.475893</td>\n",
              "    </tr>\n",
              "  </tbody>\n",
              "</table>\n",
              "</div>"
            ],
            "text/plain": [
              "        Surface brûlée (m2)  ...  Température semaine\n",
              "99242              100000.0  ...             9.307143\n",
              "103316               1000.0  ...            16.840179\n",
              "113680               6800.0  ...            11.050893\n",
              "113740               2000.0  ...            10.828571\n",
              "117143                800.0  ...            14.475893\n",
              "\n",
              "[5 rows x 12 columns]"
            ]
          },
          "metadata": {
            "tags": []
          },
          "execution_count": 97
        }
      ]
    },
    {
      "cell_type": "code",
      "metadata": {
        "id": "Yau6eU0JUpM0"
      },
      "source": [
        "values=df3.values\n",
        "x = values[:,[1,2,3,4,5,6,7,8,9,10,11]].astype(float)\n",
        "y = values[:,0].astype(float)"
      ],
      "execution_count": 99,
      "outputs": []
    },
    {
      "cell_type": "code",
      "metadata": {
        "id": "dzX-JWruUpM0"
      },
      "source": [
        "x_train,x_test,y_train,y_test = train_test_split(x, y, test_size = 0.3, random_state = 10)"
      ],
      "execution_count": 100,
      "outputs": []
    },
    {
      "cell_type": "code",
      "metadata": {
        "id": "_Qu1zwAfUpM1",
        "colab": {
          "base_uri": "https://localhost:8080/"
        },
        "outputId": "99e56a1b-8ce7-482c-8f02-d1cf2ae883de"
      },
      "source": [
        "x_train.shape"
      ],
      "execution_count": 101,
      "outputs": [
        {
          "output_type": "execute_result",
          "data": {
            "text/plain": [
              "(20828, 11)"
            ]
          },
          "metadata": {
            "tags": []
          },
          "execution_count": 101
        }
      ]
    },
    {
      "cell_type": "code",
      "metadata": {
        "id": "V4tSJjk0UpM1",
        "colab": {
          "base_uri": "https://localhost:8080/"
        },
        "outputId": "463d66ae-9d25-4458-a792-d856c02dc764"
      },
      "source": [
        "model = Sequential()\n",
        "\n",
        "model.add(Dense(500, input_dim = x_train.shape[1], activation = 'relu'))\n",
        "model.add(Dense(100, activation = 'relu'))\n",
        "model.add(Dense(50, activation = 'relu'))\n",
        "model.add(Dense(1))\n",
        "\n",
        "model.compile(loss = \"mean_squared_error\" , optimizer = \"adam\", metrics = [\"mean_squared_error\"])\n",
        "\n",
        "model.summary()"
      ],
      "execution_count": 102,
      "outputs": [
        {
          "output_type": "stream",
          "text": [
            "Model: \"sequential\"\n",
            "_________________________________________________________________\n",
            "Layer (type)                 Output Shape              Param #   \n",
            "=================================================================\n",
            "dense (Dense)                (None, 500)               6000      \n",
            "_________________________________________________________________\n",
            "dense_1 (Dense)              (None, 100)               50100     \n",
            "_________________________________________________________________\n",
            "dense_2 (Dense)              (None, 50)                5050      \n",
            "_________________________________________________________________\n",
            "dense_3 (Dense)              (None, 1)                 51        \n",
            "=================================================================\n",
            "Total params: 61,201\n",
            "Trainable params: 61,201\n",
            "Non-trainable params: 0\n",
            "_________________________________________________________________\n"
          ],
          "name": "stdout"
        }
      ]
    },
    {
      "cell_type": "code",
      "metadata": {
        "id": "YqmB6FbDUpM1",
        "colab": {
          "base_uri": "https://localhost:8080/"
        },
        "outputId": "63846128-4171-42ca-e1ff-f8199e802e16"
      },
      "source": [
        "history = model.fit(x_train, y_train, epochs = 50, verbose = 1, validation_data=(x_test, y_test))"
      ],
      "execution_count": 103,
      "outputs": [
        {
          "output_type": "stream",
          "text": [
            "Epoch 1/50\n",
            "651/651 [==============================] - 2s 3ms/step - loss: 264185593856.0000 - mean_squared_error: 264185593856.0000 - val_loss: 93453410304.0000 - val_mean_squared_error: 93453410304.0000\n",
            "Epoch 2/50\n",
            "651/651 [==============================] - 2s 2ms/step - loss: 263814135808.0000 - mean_squared_error: 263814135808.0000 - val_loss: 93349453824.0000 - val_mean_squared_error: 93349453824.0000\n",
            "Epoch 3/50\n",
            "651/651 [==============================] - 1s 2ms/step - loss: 263561707520.0000 - mean_squared_error: 263561707520.0000 - val_loss: 93250895872.0000 - val_mean_squared_error: 93250895872.0000\n",
            "Epoch 4/50\n",
            "651/651 [==============================] - 1s 2ms/step - loss: 263341572096.0000 - mean_squared_error: 263341572096.0000 - val_loss: 92950028288.0000 - val_mean_squared_error: 92950028288.0000\n",
            "Epoch 5/50\n",
            "651/651 [==============================] - 1s 2ms/step - loss: 262963740672.0000 - mean_squared_error: 262963740672.0000 - val_loss: 92841566208.0000 - val_mean_squared_error: 92841566208.0000\n",
            "Epoch 6/50\n",
            "651/651 [==============================] - 1s 2ms/step - loss: 262680641536.0000 - mean_squared_error: 262680641536.0000 - val_loss: 92756615168.0000 - val_mean_squared_error: 92756615168.0000\n",
            "Epoch 7/50\n",
            "651/651 [==============================] - 2s 2ms/step - loss: 262384910336.0000 - mean_squared_error: 262384910336.0000 - val_loss: 92827951104.0000 - val_mean_squared_error: 92827951104.0000\n",
            "Epoch 8/50\n",
            "651/651 [==============================] - 2s 2ms/step - loss: 262080380928.0000 - mean_squared_error: 262080380928.0000 - val_loss: 93428342784.0000 - val_mean_squared_error: 93428342784.0000\n",
            "Epoch 9/50\n",
            "651/651 [==============================] - 1s 2ms/step - loss: 261955862528.0000 - mean_squared_error: 261955862528.0000 - val_loss: 92708798464.0000 - val_mean_squared_error: 92708798464.0000\n",
            "Epoch 10/50\n",
            "651/651 [==============================] - 1s 2ms/step - loss: 261794365440.0000 - mean_squared_error: 261794365440.0000 - val_loss: 92858146816.0000 - val_mean_squared_error: 92858146816.0000\n",
            "Epoch 11/50\n",
            "651/651 [==============================] - 2s 2ms/step - loss: 261469667328.0000 - mean_squared_error: 261469667328.0000 - val_loss: 93147979776.0000 - val_mean_squared_error: 93147979776.0000\n",
            "Epoch 12/50\n",
            "651/651 [==============================] - 1s 2ms/step - loss: 261480136704.0000 - mean_squared_error: 261480136704.0000 - val_loss: 92853313536.0000 - val_mean_squared_error: 92853313536.0000\n",
            "Epoch 13/50\n",
            "651/651 [==============================] - 2s 2ms/step - loss: 261126586368.0000 - mean_squared_error: 261126586368.0000 - val_loss: 92804096000.0000 - val_mean_squared_error: 92804096000.0000\n",
            "Epoch 14/50\n",
            "651/651 [==============================] - 1s 2ms/step - loss: 260971839488.0000 - mean_squared_error: 260971839488.0000 - val_loss: 92907814912.0000 - val_mean_squared_error: 92907814912.0000\n",
            "Epoch 15/50\n",
            "651/651 [==============================] - 2s 2ms/step - loss: 260972232704.0000 - mean_squared_error: 260972232704.0000 - val_loss: 93077889024.0000 - val_mean_squared_error: 93077889024.0000\n",
            "Epoch 16/50\n",
            "651/651 [==============================] - 2s 2ms/step - loss: 260769251328.0000 - mean_squared_error: 260769251328.0000 - val_loss: 92997361664.0000 - val_mean_squared_error: 92997361664.0000\n",
            "Epoch 17/50\n",
            "651/651 [==============================] - 1s 2ms/step - loss: 260396515328.0000 - mean_squared_error: 260396515328.0000 - val_loss: 92940460032.0000 - val_mean_squared_error: 92940460032.0000\n",
            "Epoch 18/50\n",
            "651/651 [==============================] - 2s 3ms/step - loss: 260767875072.0000 - mean_squared_error: 260767875072.0000 - val_loss: 93495369728.0000 - val_mean_squared_error: 93495369728.0000\n",
            "Epoch 19/50\n",
            "651/651 [==============================] - 3s 4ms/step - loss: 260459692032.0000 - mean_squared_error: 260459692032.0000 - val_loss: 92975382528.0000 - val_mean_squared_error: 92975382528.0000\n",
            "Epoch 20/50\n",
            "651/651 [==============================] - 2s 3ms/step - loss: 260314906624.0000 - mean_squared_error: 260314906624.0000 - val_loss: 93018603520.0000 - val_mean_squared_error: 93018603520.0000\n",
            "Epoch 21/50\n",
            "651/651 [==============================] - 2s 3ms/step - loss: 260153442304.0000 - mean_squared_error: 260153442304.0000 - val_loss: 92980977664.0000 - val_mean_squared_error: 92980977664.0000\n",
            "Epoch 22/50\n",
            "651/651 [==============================] - 2s 3ms/step - loss: 259869261824.0000 - mean_squared_error: 259869261824.0000 - val_loss: 94450139136.0000 - val_mean_squared_error: 94450139136.0000\n",
            "Epoch 23/50\n",
            "651/651 [==============================] - 2s 3ms/step - loss: 260097146880.0000 - mean_squared_error: 260097146880.0000 - val_loss: 93672579072.0000 - val_mean_squared_error: 93672579072.0000\n",
            "Epoch 24/50\n",
            "651/651 [==============================] - 2s 2ms/step - loss: 259955310592.0000 - mean_squared_error: 259955310592.0000 - val_loss: 93878353920.0000 - val_mean_squared_error: 93878353920.0000\n",
            "Epoch 25/50\n",
            "651/651 [==============================] - 2s 2ms/step - loss: 259051634688.0000 - mean_squared_error: 259051634688.0000 - val_loss: 93053919232.0000 - val_mean_squared_error: 93053919232.0000\n",
            "Epoch 26/50\n",
            "651/651 [==============================] - 1s 2ms/step - loss: 259805265920.0000 - mean_squared_error: 259805265920.0000 - val_loss: 93629177856.0000 - val_mean_squared_error: 93629177856.0000\n",
            "Epoch 27/50\n",
            "651/651 [==============================] - 1s 2ms/step - loss: 259597631488.0000 - mean_squared_error: 259597631488.0000 - val_loss: 93594615808.0000 - val_mean_squared_error: 93594615808.0000\n",
            "Epoch 28/50\n",
            "651/651 [==============================] - 2s 2ms/step - loss: 259390029824.0000 - mean_squared_error: 259390029824.0000 - val_loss: 93204897792.0000 - val_mean_squared_error: 93204897792.0000\n",
            "Epoch 29/50\n",
            "651/651 [==============================] - 1s 2ms/step - loss: 259547856896.0000 - mean_squared_error: 259547856896.0000 - val_loss: 93283164160.0000 - val_mean_squared_error: 93283164160.0000\n",
            "Epoch 30/50\n",
            "651/651 [==============================] - 1s 2ms/step - loss: 259602087936.0000 - mean_squared_error: 259602087936.0000 - val_loss: 93741490176.0000 - val_mean_squared_error: 93741490176.0000\n",
            "Epoch 31/50\n",
            "651/651 [==============================] - 2s 2ms/step - loss: 258719498240.0000 - mean_squared_error: 258719498240.0000 - val_loss: 93098901504.0000 - val_mean_squared_error: 93098901504.0000\n",
            "Epoch 32/50\n",
            "651/651 [==============================] - 2s 2ms/step - loss: 259375415296.0000 - mean_squared_error: 259375415296.0000 - val_loss: 93351559168.0000 - val_mean_squared_error: 93351559168.0000\n",
            "Epoch 33/50\n",
            "651/651 [==============================] - 2s 2ms/step - loss: 259252666368.0000 - mean_squared_error: 259252666368.0000 - val_loss: 93874061312.0000 - val_mean_squared_error: 93874061312.0000\n",
            "Epoch 34/50\n",
            "651/651 [==============================] - 2s 3ms/step - loss: 259199746048.0000 - mean_squared_error: 259199746048.0000 - val_loss: 93614899200.0000 - val_mean_squared_error: 93614899200.0000\n",
            "Epoch 35/50\n",
            "651/651 [==============================] - 2s 2ms/step - loss: 259217276928.0000 - mean_squared_error: 259217276928.0000 - val_loss: 94270103552.0000 - val_mean_squared_error: 94270103552.0000\n",
            "Epoch 36/50\n",
            "651/651 [==============================] - 1s 2ms/step - loss: 258122268672.0000 - mean_squared_error: 258122268672.0000 - val_loss: 93430431744.0000 - val_mean_squared_error: 93430431744.0000\n",
            "Epoch 37/50\n",
            "651/651 [==============================] - 1s 2ms/step - loss: 259028287488.0000 - mean_squared_error: 259028287488.0000 - val_loss: 94367113216.0000 - val_mean_squared_error: 94367113216.0000\n",
            "Epoch 38/50\n",
            "651/651 [==============================] - 2s 2ms/step - loss: 258936946688.0000 - mean_squared_error: 258936946688.0000 - val_loss: 93928054784.0000 - val_mean_squared_error: 93928054784.0000\n",
            "Epoch 39/50\n",
            "651/651 [==============================] - 2s 2ms/step - loss: 258722578432.0000 - mean_squared_error: 258722578432.0000 - val_loss: 93716283392.0000 - val_mean_squared_error: 93716283392.0000\n",
            "Epoch 40/50\n",
            "651/651 [==============================] - 2s 2ms/step - loss: 258565406720.0000 - mean_squared_error: 258565406720.0000 - val_loss: 96055713792.0000 - val_mean_squared_error: 96055713792.0000\n",
            "Epoch 41/50\n",
            "651/651 [==============================] - 2s 2ms/step - loss: 258552905728.0000 - mean_squared_error: 258552905728.0000 - val_loss: 94683439104.0000 - val_mean_squared_error: 94683439104.0000\n",
            "Epoch 42/50\n",
            "651/651 [==============================] - 2s 2ms/step - loss: 258434580480.0000 - mean_squared_error: 258434580480.0000 - val_loss: 96196558848.0000 - val_mean_squared_error: 96196558848.0000\n",
            "Epoch 43/50\n",
            "651/651 [==============================] - 1s 2ms/step - loss: 258696642560.0000 - mean_squared_error: 258696642560.0000 - val_loss: 94707769344.0000 - val_mean_squared_error: 94707769344.0000\n",
            "Epoch 44/50\n",
            "651/651 [==============================] - 2s 2ms/step - loss: 258296610816.0000 - mean_squared_error: 258296610816.0000 - val_loss: 95062900736.0000 - val_mean_squared_error: 95062900736.0000\n",
            "Epoch 45/50\n",
            "651/651 [==============================] - 2s 2ms/step - loss: 258390310912.0000 - mean_squared_error: 258390310912.0000 - val_loss: 95096086528.0000 - val_mean_squared_error: 95096086528.0000\n",
            "Epoch 46/50\n",
            "651/651 [==============================] - 1s 2ms/step - loss: 258339979264.0000 - mean_squared_error: 258339979264.0000 - val_loss: 93693706240.0000 - val_mean_squared_error: 93693706240.0000\n",
            "Epoch 47/50\n",
            "651/651 [==============================] - 1s 2ms/step - loss: 258022998016.0000 - mean_squared_error: 258022998016.0000 - val_loss: 93674708992.0000 - val_mean_squared_error: 93674708992.0000\n",
            "Epoch 48/50\n",
            "651/651 [==============================] - 1s 2ms/step - loss: 258202583040.0000 - mean_squared_error: 258202583040.0000 - val_loss: 93866770432.0000 - val_mean_squared_error: 93866770432.0000\n",
            "Epoch 49/50\n",
            "651/651 [==============================] - 2s 2ms/step - loss: 258167291904.0000 - mean_squared_error: 258167291904.0000 - val_loss: 94232420352.0000 - val_mean_squared_error: 94232420352.0000\n",
            "Epoch 50/50\n",
            "651/651 [==============================] - 1s 2ms/step - loss: 257920155648.0000 - mean_squared_error: 257920155648.0000 - val_loss: 95582773248.0000 - val_mean_squared_error: 95582773248.0000\n"
          ],
          "name": "stdout"
        }
      ]
    },
    {
      "cell_type": "code",
      "metadata": {
        "id": "efpmFepqUpM2",
        "colab": {
          "base_uri": "https://localhost:8080/",
          "height": 369
        },
        "outputId": "86953eef-3c72-4c38-caae-5751416ff64e"
      },
      "source": [
        "plt.figure(figsize=(7, 5))\n",
        "plt.plot(history.epoch, history.history['loss'], lw=3, label='Training set')\n",
        "plt.plot(history.epoch, history.history['val_loss'], lw=3, label='Test set')\n",
        "plt.legend(fontsize=14)\n",
        "plt.title('Loss of the FFNN', fontsize=16)\n",
        "plt.xlabel('Epoch', fontsize=14)\n",
        "plt.ylabel('MAE', fontsize=14)\n",
        "plt.tight_layout()"
      ],
      "execution_count": 104,
      "outputs": [
        {
          "output_type": "display_data",
          "data": {
            "image/png": "[encoded data removed]",
            "text/plain": [
              "<Figure size 504x360 with 1 Axes>"
            ]
          },
          "metadata": {
            "tags": [],
            "needs_background": "light"
          }
        }
      ]
    },
    {
      "cell_type": "code",
      "metadata": {
        "id": "AR4_GNpRUpM2",
        "colab": {
          "base_uri": "https://localhost:8080/"
        },
        "outputId": "2c74438f-41b8-40cd-a6a9-93839e0d461d"
      },
      "source": [
        "pred_train = model.predict(x_train)\n",
        "print(np.sqrt(mean_squared_error(y_train,pred_train)))\n",
        "\n",
        "pred = model.predict(x_test)\n",
        "print(np.sqrt(mean_squared_error(y_test,pred))) "
      ],
      "execution_count": 105,
      "outputs": [
        {
          "output_type": "stream",
          "text": [
            "506873.456143606\n",
            "309164.6300294087\n"
          ],
          "name": "stdout"
        }
      ]
    },
    {
      "cell_type": "markdown",
      "metadata": {
        "id": "UEXSncOe3WVA"
      },
      "source": [
        "On a toujours des erreurs considérables malgré les nouvelles features.\r\n"
      ]
    }
  ]
}