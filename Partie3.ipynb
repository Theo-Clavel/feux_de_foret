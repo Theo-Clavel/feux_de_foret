{
  "nbformat": 4,
  "nbformat_minor": 0,
  "metadata": {
    "colab": {
      "name": "Partie3.ipynb",
      "provenance": [],
      "collapsed_sections": [
        "0OIRA-mRYjpO",
        "Q68Otl4TGgJa"
      ]
    },
    "kernelspec": {
      "display_name": "Python 3",
      "language": "python",
      "name": "python3"
    },
    "language_info": {
      "codemirror_mode": {
        "name": "ipython",
        "version": 3
      },
      "file_extension": ".py",
      "mimetype": "text/x-python",
      "name": "python",
      "nbconvert_exporter": "python",
      "pygments_lexer": "ipython3",
      "version": "3.8.5"
    }
  },
  "cells": [
    {
      "cell_type": "markdown",
      "metadata": {
        "id": "3QfapiE3E-XR"
      },
      "source": [
        "# **Partie 3 : Modélisation**\n",
        "\n",
        "La troisième partie de notre projet consiste en une introduction au Machine Learning. Pour cela, nous avons réalisé des prédictions de l'occurence d'un feu de forêt et de la surface brûlée grâce à l'apprentissage supervisé. \n",
        "\n",
        "Nous avons pour cela identifié certaines méthodes d'apprentissage, que nous avons testé avec notre base de données. Néanmoins, les performances de notre premier essai fût très peu performant. Nous avons donc ensuite tâché d'améliorer ces performances, en exploitant davantage nos données par la création de nouvelles variables. \n"
      ]
    },
    {
      "cell_type": "markdown",
      "metadata": {
        "id": "0OIRA-mRYjpO"
      },
      "source": [
        "# **A. Premier essai : utilisation des données météorologiques seules**"
      ]
    },
    {
      "cell_type": "markdown",
      "metadata": {
        "id": "ff-VzU5gGJqM"
      },
      "source": [
        "## **A.1. Prédiction du déclenchement d'un feu de forêt** "
      ]
    },
    {
      "cell_type": "markdown",
      "metadata": {
        "id": "MMEZbJLKFuD2"
      },
      "source": [
        "\n",
        "L'objectif de cette partie est de prédire les zones dans lesquelles un feu de forêt est propice de se déclencher dans les minutes à venir. On s'aide pour cela des relevés météorologiques pris en temps réel. \n",
        "\n",
        "\n",
        "\n",
        "Le problème auquel nous sommes confrontés est celui d'une classification en deux catégories (va-t-il y avoir un départ de feu ou non ?). Nous disposons des données des relevés météorologiques et feux passés pour entraîner notre algorithme. \n",
        "\n",
        "\n",
        "Nous avons alors sélectionné deux modèles adaptés : \n",
        "\n",
        "\n",
        "1.   Decision Tree Classifier\n",
        "2.   Random Forest Regression"
      ]
    },
    {
      "cell_type": "code",
      "metadata": {
        "id": "wE5s2IQmF_uy"
      },
      "source": [
        "import pandas as pd\n",
        "import numpy as np\n",
        "from sklearn.model_selection import train_test_split\n",
        "from sklearn.metrics import confusion_matrix, accuracy_score, classification_report"
      ],
      "execution_count": 3,
      "outputs": []
    },
    {
      "cell_type": "markdown",
      "metadata": {
        "id": "s6v97fGgGDMR"
      },
      "source": [
        "On utilise la base de données obtenue dans la partie 1, dont on ne va garder plus que les variables météorologiques et la variable binaire *Départ de feu*."
      ]
    },
    {
      "cell_type": "code",
      "metadata": {
        "id": "kgfGj9wBGHuo",
        "colab": {
          "base_uri": "https://localhost:8080/",
          "height": 204
        },
        "outputId": "cb591e59-acce-4efa-cdb4-d4e594cfdb68"
      },
      "source": [
        "df = pd.read_csv('data.zip', low_memory = False)\n",
        "df = df.iloc[:, [0,21,22,23,24]]\n",
        "df = df.dropna()\n",
        "df.head()"
      ],
      "execution_count": 4,
      "outputs": [
        {
          "output_type": "execute_result",
          "data": {
            "text/html": [
              "<div>\n",
              "<style scoped>\n",
              "    .dataframe tbody tr th:only-of-type {\n",
              "        vertical-align: middle;\n",
              "    }\n",
              "\n",
              "    .dataframe tbody tr th {\n",
              "        vertical-align: top;\n",
              "    }\n",
              "\n",
              "    .dataframe thead th {\n",
              "        text-align: right;\n",
              "    }\n",
              "</style>\n",
              "<table border=\"1\" class=\"dataframe\">\n",
              "  <thead>\n",
              "    <tr style=\"text-align: right;\">\n",
              "      <th></th>\n",
              "      <th>Départ de feu</th>\n",
              "      <th>Température (°C)</th>\n",
              "      <th>Précipitations (3 heures)</th>\n",
              "      <th>Humidité (%)</th>\n",
              "      <th>Vitesse du vent (m/s)</th>\n",
              "    </tr>\n",
              "  </thead>\n",
              "  <tbody>\n",
              "    <tr>\n",
              "      <th>0</th>\n",
              "      <td>0</td>\n",
              "      <td>4.0</td>\n",
              "      <td>2.0</td>\n",
              "      <td>92.0</td>\n",
              "      <td>5.1</td>\n",
              "    </tr>\n",
              "    <tr>\n",
              "      <th>1</th>\n",
              "      <td>0</td>\n",
              "      <td>3.7</td>\n",
              "      <td>0.0</td>\n",
              "      <td>91.0</td>\n",
              "      <td>4.1</td>\n",
              "    </tr>\n",
              "    <tr>\n",
              "      <th>2</th>\n",
              "      <td>0</td>\n",
              "      <td>3.1</td>\n",
              "      <td>3.0</td>\n",
              "      <td>92.0</td>\n",
              "      <td>5.1</td>\n",
              "    </tr>\n",
              "    <tr>\n",
              "      <th>3</th>\n",
              "      <td>0</td>\n",
              "      <td>4.7</td>\n",
              "      <td>0.6</td>\n",
              "      <td>96.0</td>\n",
              "      <td>3.1</td>\n",
              "    </tr>\n",
              "    <tr>\n",
              "      <th>4</th>\n",
              "      <td>0</td>\n",
              "      <td>6.1</td>\n",
              "      <td>2.0</td>\n",
              "      <td>94.0</td>\n",
              "      <td>5.1</td>\n",
              "    </tr>\n",
              "  </tbody>\n",
              "</table>\n",
              "</div>"
            ],
            "text/plain": [
              "   Départ de feu  Température (°C)  ...  Humidité (%)  Vitesse du vent (m/s)\n",
              "0              0               4.0  ...          92.0                    5.1\n",
              "1              0               3.7  ...          91.0                    4.1\n",
              "2              0               3.1  ...          92.0                    5.1\n",
              "3              0               4.7  ...          96.0                    3.1\n",
              "4              0               6.1  ...          94.0                    5.1\n",
              "\n",
              "[5 rows x 5 columns]"
            ]
          },
          "metadata": {
            "tags": []
          },
          "execution_count": 4
        }
      ]
    },
    {
      "cell_type": "markdown",
      "metadata": {
        "id": "y_GqyToXGW3N"
      },
      "source": [
        "### **Préparation des bases d'apprentissage et de test**\n",
        "\n",
        "On sépare de façon aléatoire la base de données obtenue dans la partie 1 en deux bases : 80% servira à l'entraînement de l'algorithme (base train) et 20% à observer sa précision (base test). "
      ]
    },
    {
      "cell_type": "code",
      "metadata": {
        "id": "QKPqgfsUGdZH"
      },
      "source": [
        "train, test = train_test_split(df, test_size=0.2, random_state=1, stratify = df['Départ de feu'])"
      ],
      "execution_count": 5,
      "outputs": []
    },
    {
      "cell_type": "markdown",
      "metadata": {
        "id": "UyxKQ6MDGjmt"
      },
      "source": [
        " On vérifie que les proportions des classes sont bien respectées."
      ]
    },
    {
      "cell_type": "code",
      "metadata": {
        "colab": {
          "base_uri": "https://localhost:8080/"
        },
        "id": "HM0oePbfGpeV",
        "outputId": "ef21ac22-6741-4632-9bb0-4ec37c9253bd"
      },
      "source": [
        "print(\"La proportion de départ de feux dans la base d'entraînement est de \" + str(round(train[\"Départ de feu\"].mean() * 10**(4))/10**2) + '%')\n",
        "print(\"Elle est également de \" + str(round(test[\"Départ de feu\"].mean() * 10**(4))/10**2) + '% dans la base de test')"
      ],
      "execution_count": 6,
      "outputs": [
        {
          "output_type": "stream",
          "text": [
            "La proportion de départ de feux dans la base d'entraînement est de 1.61%\n",
            "Elle est également de 1.61% dans la base de test\n"
          ],
          "name": "stdout"
        }
      ]
    },
    {
      "cell_type": "markdown",
      "metadata": {
        "id": "J6qW9ZOcG3Wr"
      },
      "source": [
        "Ensuite, on spécifie pour chaque base la matrice X des variables prédictives (les données météorologiques) et le vecteur Y de la variable cible (*Départ de feu*).\n",
        "\n",
        "Le vecteur Y défini 2 classes : \n",
        "\n",
        "\n",
        "*   Une observation est de classe 0 s'il n'y a pas de départ de feux, i.e. \"Départ de feu\" == 0.\n",
        "*   Une observation est de classe 1 s'il y a départ de feu, i.e. \"Départ de feu\" == 1.\n",
        "\n",
        "On appelle Vrai Négatif $-$ VN $-$ (resp. Vrai Positif $-$ VP $-$) une observation de classe 0 (resp. de classe 1) qui est reconnue par le modèle comme étant de classe 0 (resp. de classe 1). \n",
        "\n",
        "Un Faux Négatif $-$ FN $-$ (resp. Faux Positif $-$ FP $-$) est une observation prédite de classe 0 alors qu'elle est de classe 1 (resp. prédite de classe 1 alors qu'elle est de classe 0).\n"
      ]
    },
    {
      "cell_type": "code",
      "metadata": {
        "id": "x1nlTCiRG-9d"
      },
      "source": [
        "X_train = train.drop(['Départ de feu'], axis = 1).to_numpy()\n",
        "Y_train = train[['Départ de feu']].to_numpy()\n",
        "\n",
        "X_test = test.drop(['Départ de feu'], axis = 1).to_numpy()\n",
        "Y_test = test[['Départ de feu']].to_numpy()\n",
        "\n",
        "Y_train = Y_train.reshape(Y_train.shape[0])\n",
        "Y_test = Y_test.reshape(Y_test.shape[0])"
      ],
      "execution_count": 7,
      "outputs": []
    },
    {
      "cell_type": "markdown",
      "metadata": {
        "id": "ZNarmvBlHBH5"
      },
      "source": [
        "### **Modèle 1 : l'arbre de décision**"
      ]
    },
    {
      "cell_type": "markdown",
      "metadata": {
        "id": "5y3YkuBxHDyE"
      },
      "source": [
        "**Entraînement**\n",
        "\n",
        "On entraîne le modèle sur la base d'entraînement."
      ]
    },
    {
      "cell_type": "code",
      "metadata": {
        "id": "zS_dQYBqHJo4"
      },
      "source": [
        "#instanciation de l'arbre\n",
        "from sklearn.tree import DecisionTreeClassifier\n",
        "tree = DecisionTreeClassifier()\n",
        "\n",
        "#construction de l'arbre\n",
        "tree = tree.fit(X_train, Y_train)"
      ],
      "execution_count": 8,
      "outputs": []
    },
    {
      "cell_type": "markdown",
      "metadata": {
        "id": "wdvzsdYLHMtB"
      },
      "source": [
        "**Evaluation**\n",
        "\n",
        "On évalue les performances prédictives de l'arbre en le testant sur la base de test, puis en comparant les prédictions avec la réalité. \n",
        "\n",
        "*   Distribution de la prédiction"
      ]
    },
    {
      "cell_type": "code",
      "metadata": {
        "colab": {
          "base_uri": "https://localhost:8080/"
        },
        "id": "YVwSMWtEHQJ0",
        "outputId": "b22f1e06-ed8d-42b8-aa5e-9f780de6fb9b"
      },
      "source": [
        "tree_predict_test = tree.predict(X_test)\n",
        "\n",
        "#distribution \n",
        "tree_predict = np.unique(tree_predict_test,return_counts=True)\n",
        "print(tree_predict)\n",
        "print('La classe ' + str(tree_predict[0][0]) + ' a été assignée ' + str(tree_predict[1][0]) + ' fois.')"
      ],
      "execution_count": 9,
      "outputs": [
        {
          "output_type": "stream",
          "text": [
            "(array([0, 1]), array([401158,   5141]))\n",
            "La classe 0 a été assignée 401158 fois.\n"
          ],
          "name": "stdout"
        }
      ]
    },
    {
      "cell_type": "code",
      "metadata": {
        "colab": {
          "base_uri": "https://localhost:8080/"
        },
        "id": "DuMD4ZmtHVPi",
        "outputId": "e482fd6f-83d6-4739-8a08-f2a1faf9dde5"
      },
      "source": [
        "print(\"Notre modèle prédit ainsi qu'il y a parmi la base de test \" + str(tree_predict[1][0]) + \" observations \\\n",
        "ne correspondant pas à un feu de forêt (classe \" + str(tree_predict[0][0]) + \").\")\n",
        "print(\"Il prédit que \" + str(tree_predict[1][1]) + \" observations \\\n",
        "correspondent à un feu de forêt (classe \" + str(tree_predict[0][1]) + \").\")"
      ],
      "execution_count": 10,
      "outputs": [
        {
          "output_type": "stream",
          "text": [
            "Notre modèle prédit ainsi qu'il y a parmi la base de test 401158 observations ne correspondant pas à un feu de forêt (classe 0).\n",
            "Il prédit que 5141 observations correspondent à un feu de forêt (classe 1).\n"
          ],
          "name": "stdout"
        }
      ]
    },
    {
      "cell_type": "markdown",
      "metadata": {
        "id": "VoK63seHHZML"
      },
      "source": [
        "*   Calcul de la matrice de confusion\n",
        "\n",
        "\n",
        "Dans notre cas, la i-ème ligne est la ligne des \"Départ de feu\" = i et la i-ème colonne est la \"Prédiction de Départ de feu\" = i"
      ]
    },
    {
      "cell_type": "code",
      "metadata": {
        "colab": {
          "base_uri": "https://localhost:8080/"
        },
        "id": "YITZH-azHfVs",
        "outputId": "ed133aea-360d-4940-f765-546d47a9e264"
      },
      "source": [
        "#calcul de la matrice de confusion \n",
        "print('Matrice de confusion')\n",
        "confu_tree = confusion_matrix(Y_test,tree_predict_test)\n",
        "print(confu_tree)  "
      ],
      "execution_count": 11,
      "outputs": [
        {
          "output_type": "stream",
          "text": [
            "Matrice de confusion\n",
            "[[395941   3797]\n",
            " [  5217   1344]]\n"
          ],
          "name": "stdout"
        }
      ]
    },
    {
      "cell_type": "markdown",
      "metadata": {
        "id": "dUqNby_nHjE_"
      },
      "source": [
        "Les lignes et les colonnes sont données par ordre croissant. La ligne donne la classe observée (c'est-à-dire la réalité), la colonne la classe prédite (par le modèle). Par exemple : \n"
      ]
    },
    {
      "cell_type": "code",
      "metadata": {
        "colab": {
          "base_uri": "https://localhost:8080/"
        },
        "id": "QVPz3sTkHliL",
        "outputId": "c9dfdcf3-b164-480c-dcc0-ec45ed5ed7b6"
      },
      "source": [
        "print(str(confu_tree[0][0]) + \" observations sans feu ont été prédites à raison comme ne correspondant pas à un feu de forêt.\")\n",
        "print(str(confu_tree[1][0]) + \" observations avec feu ont été prédites à tort comme ne correspondant pas à un feu de forêt.\")"
      ],
      "execution_count": 12,
      "outputs": [
        {
          "output_type": "stream",
          "text": [
            "395941 observations sans feu ont été prédites à raison comme ne correspondant pas à un feu de forêt.\n",
            "5217 observations avec feu ont été prédites à tort comme ne correspondant pas à un feu de forêt.\n"
          ],
          "name": "stdout"
        }
      ]
    },
    {
      "cell_type": "markdown",
      "metadata": {
        "id": "UWtrS0kPHoak"
      },
      "source": [
        "La matrice de confusion nous permet déjà d'observer qu'une très grande proportion des observations correspondant à un feu de forêt ne sont pas reconnues comme telle par le modèle. "
      ]
    },
    {
      "cell_type": "markdown",
      "metadata": {
        "id": "GPLgWZmRHrZJ"
      },
      "source": [
        "*   Indicateurs de précision"
      ]
    },
    {
      "cell_type": "code",
      "metadata": {
        "colab": {
          "base_uri": "https://localhost:8080/"
        },
        "id": "Ad2uj0uuHtde",
        "outputId": "9ac0d9a3-877e-4dba-d191-50219d58f801"
      },
      "source": [
        "#taux de reconnaissance\n",
        "print('le taux de reconnaissance est :', accuracy_score(Y_test,tree_predict_test))\n",
        "\n",
        "#taux d'erreur \n",
        "print(\"le taux d'erreur est :\", 1.0 - accuracy_score(Y_test,tree_predict_test))"
      ],
      "execution_count": 13,
      "outputs": [
        {
          "output_type": "stream",
          "text": [
            "le taux de reconnaissance est : 0.9778143682362004\n",
            "le taux d'erreur est : 0.022185631763799618\n"
          ],
          "name": "stdout"
        }
      ]
    },
    {
      "cell_type": "markdown",
      "metadata": {
        "id": "eVtW3nY0Hz8K"
      },
      "source": [
        "Où le taux de reconnaissance est défini par : \n",
        "\n",
        "$ ( VP + VN ) / Nombre total d'observations $ \n",
        "\n",
        "Le taux de reconnaissance de notre modèle est très bon. Néanmoins, il nous faut encore regarder la répartition de faux-négatifs (déclarés de classe 0 à tort) et de faux-positifs (déclarés de classe 1 à tort). On utilise pour cela le rapport de classification."
      ]
    },
    {
      "cell_type": "code",
      "metadata": {
        "colab": {
          "base_uri": "https://localhost:8080/"
        },
        "id": "uKK1pw1WH2RQ",
        "outputId": "c896bbf5-88d2-42ac-b2a0-7ea4cccc372d"
      },
      "source": [
        "print('Rapport de prédiction sur la base de test :')\n",
        "print(classification_report(Y_test, tree_predict_test))"
      ],
      "execution_count": 14,
      "outputs": [
        {
          "output_type": "stream",
          "text": [
            "Rapport de prédiction sur la base de test :\n",
            "              precision    recall  f1-score   support\n",
            "\n",
            "           0       0.99      0.99      0.99    399738\n",
            "           1       0.26      0.20      0.23      6561\n",
            "\n",
            "    accuracy                           0.98    406299\n",
            "   macro avg       0.62      0.60      0.61    406299\n",
            "weighted avg       0.98      0.98      0.98    406299\n",
            "\n"
          ],
          "name": "stdout"
        }
      ]
    },
    {
      "cell_type": "markdown",
      "metadata": {
        "id": "zrEnr5G9H9SH"
      },
      "source": [
        "**Comment lire le rapport de prédiction ?**\n",
        "\n",
        "*   *Precision : quelle proportion des prédictions est correcte ?*\n",
        "\n",
        "Pour chaque classe, la colonne *precision* indique la proportion d'observations prédites à raison dans cette classe. \n",
        "\n",
        "\n",
        "Alors, \n",
        "\n",
        "$precision_0 = VN / ( VN + FN) $\n",
        "\n",
        "$precision_1 = VP / ( VP + FP ) $ \n",
        "\n",
        "\n",
        "\n",
        "*   *Recall : quelle proportion des cas est detectée ?*\n",
        "\n",
        "Pour chaque classe, la colonne *Recall* indique la proportion d'observations de cette classe qui ont été correctement prédites. \n",
        "\n",
        "$recall_0 = VN / ( VN + FP ) $\n",
        "\n",
        "$recall_1 = VP / ( VP + FN ) $ \n",
        "\n",
        "\n",
        "\n",
        "\n",
        "\n",
        "*   *F1-score* \n",
        "\n",
        "Le *f1 score* est la moyenne harmonique de *precision* et *recall*. \n",
        "\n",
        "$f1score_i = 2 * (recall_i * precision_i) / (recall_i + precision_i)$ \n",
        "\n"
      ]
    },
    {
      "cell_type": "markdown",
      "metadata": {
        "id": "1MiHQXrQ_bSz"
      },
      "source": [
        "*   Aire sous la courbe ROC"
      ]
    },
    {
      "cell_type": "code",
      "metadata": {
        "colab": {
          "base_uri": "https://localhost:8080/",
          "height": 163
        },
        "id": "4IJOMrUC_g48",
        "outputId": "dbec5006-6f8d-4f59-b502-2f991147a278"
      },
      "source": [
        "metrics.roc_auc_score(Y_test,tree_predict_test)"
      ],
      "execution_count": 15,
      "outputs": [
        {
          "output_type": "error",
          "ename": "NameError",
          "evalue": "ignored",
          "traceback": [
            "\u001b[0;31m---------------------------------------------------------------------------\u001b[0m",
            "\u001b[0;31mNameError\u001b[0m                                 Traceback (most recent call last)",
            "\u001b[0;32m<ipython-input-15-9ad3c611948f>\u001b[0m in \u001b[0;36m<module>\u001b[0;34m()\u001b[0m\n\u001b[0;32m----> 1\u001b[0;31m \u001b[0mmetrics\u001b[0m\u001b[0;34m.\u001b[0m\u001b[0mroc_auc_score\u001b[0m\u001b[0;34m(\u001b[0m\u001b[0mY_test\u001b[0m\u001b[0;34m,\u001b[0m\u001b[0mtree_predict_test\u001b[0m\u001b[0;34m)\u001b[0m\u001b[0;34m\u001b[0m\u001b[0;34m\u001b[0m\u001b[0m\n\u001b[0m",
            "\u001b[0;31mNameError\u001b[0m: name 'metrics' is not defined"
          ]
        }
      ]
    },
    {
      "cell_type": "markdown",
      "metadata": {
        "id": "LOV64r7LICjl"
      },
      "source": [
        "**Interprétation**\n",
        "\n",
        "Le modèle semblait être satisfaisant car il avait un faible taux d'erreur. \n",
        "Néanmoins, il prédit très mal les observations de classe 1 : à peine un cinquième d'entre elles sont reconnues par l'arbre de décision. La faible proportion d'observations de classe 1 dans la base de données (1,6%) explique que le modèle conserve une très grande précision malgré ce défaut majeur."
      ]
    },
    {
      "cell_type": "markdown",
      "metadata": {
        "id": "-ilQktMLKF7A"
      },
      "source": [
        "On peut tenter de corriger ce défaut en surpondérant la classe sous-représentée grâce à l'argument \"class_weight\"."
      ]
    },
    {
      "cell_type": "code",
      "metadata": {
        "id": "O7mQDqF5gU0o",
        "colab": {
          "base_uri": "https://localhost:8080/"
        },
        "outputId": "44086f1e-883f-48e2-b43c-9ac93b81f0d4"
      },
      "source": [
        "#instanciation de l'arbre\r\n",
        "from sklearn.tree import DecisionTreeClassifier\r\n",
        "tree = DecisionTreeClassifier(class_weight='balanced')\r\n",
        "\r\n",
        "#construction de l'arbre\r\n",
        "tree = tree.fit(X_train, Y_train)\r\n",
        "tree_predict_test = tree.predict(X_test)\r\n",
        "print('Rapport de prédiction sur la base de test :')\r\n",
        "print(classification_report(Y_test, tree_predict_test))"
      ],
      "execution_count": 16,
      "outputs": [
        {
          "output_type": "stream",
          "text": [
            "Rapport de prédiction sur la base de test :\n",
            "              precision    recall  f1-score   support\n",
            "\n",
            "           0       0.99      0.97      0.98    399738\n",
            "           1       0.14      0.34      0.20      6561\n",
            "\n",
            "    accuracy                           0.96    406299\n",
            "   macro avg       0.57      0.65      0.59    406299\n",
            "weighted avg       0.98      0.96      0.97    406299\n",
            "\n"
          ],
          "name": "stdout"
        }
      ]
    },
    {
      "cell_type": "code",
      "metadata": {
        "colab": {
          "base_uri": "https://localhost:8080/",
          "height": 163
        },
        "id": "EIImNLk4Lp1H",
        "outputId": "b21eaa40-89bc-48d3-cc39-19a73e9c9a93"
      },
      "source": [
        "metrics.roc_auc_score(Y_test,tree_predict_test)"
      ],
      "execution_count": 17,
      "outputs": [
        {
          "output_type": "error",
          "ename": "NameError",
          "evalue": "ignored",
          "traceback": [
            "\u001b[0;31m---------------------------------------------------------------------------\u001b[0m",
            "\u001b[0;31mNameError\u001b[0m                                 Traceback (most recent call last)",
            "\u001b[0;32m<ipython-input-17-9ad3c611948f>\u001b[0m in \u001b[0;36m<module>\u001b[0;34m()\u001b[0m\n\u001b[0;32m----> 1\u001b[0;31m \u001b[0mmetrics\u001b[0m\u001b[0;34m.\u001b[0m\u001b[0mroc_auc_score\u001b[0m\u001b[0;34m(\u001b[0m\u001b[0mY_test\u001b[0m\u001b[0;34m,\u001b[0m\u001b[0mtree_predict_test\u001b[0m\u001b[0;34m)\u001b[0m\u001b[0;34m\u001b[0m\u001b[0;34m\u001b[0m\u001b[0m\n\u001b[0m",
            "\u001b[0;31mNameError\u001b[0m: name 'metrics' is not defined"
          ]
        }
      ]
    },
    {
      "cell_type": "markdown",
      "metadata": {
        "id": "idVf5XetKFAy"
      },
      "source": [
        "Les résultats ne sont que légèrement meilleurs (l'AUC est notamment un peu plus élevé), et ce même en choisissant des pondérations \"extrêmes\" (autant d'observations avec feu que sans feu).\r\n",
        "Le modèle de l'arbre de décision n'est donc pas satisfaisant. "
      ]
    },
    {
      "cell_type": "markdown",
      "metadata": {
        "id": "nkOtWrLeIF-g"
      },
      "source": [
        "### **Modèle 2 : Random Forest**\n",
        "\n",
        "Ce modèle combine de nombreux arbres de décision, ce qui devrait le rendre plus performant que le premier modèle. \n",
        "\n",
        "\n",
        "\n",
        "**Entraînement**"
      ]
    },
    {
      "cell_type": "code",
      "metadata": {
        "id": "S0aTJpGDIJiJ"
      },
      "source": [
        "from sklearn.ensemble import RandomForestClassifier\n",
        "\n",
        "rfc = RandomForestClassifier()\n",
        "rfc = rfc.fit(X_train, Y_train)\n",
        "\n",
        "#Attention : cette cellule met cinq bonnes minutes à tourner "
      ],
      "execution_count": 18,
      "outputs": []
    },
    {
      "cell_type": "markdown",
      "metadata": {
        "id": "QpAEaDyMIMHE"
      },
      "source": [
        "**Evaluation**"
      ]
    },
    {
      "cell_type": "code",
      "metadata": {
        "id": "kyXbH15YIPsy"
      },
      "source": [
        "rfc_predict_test = rfc.predict(X_test)"
      ],
      "execution_count": 19,
      "outputs": []
    },
    {
      "cell_type": "code",
      "metadata": {
        "colab": {
          "base_uri": "https://localhost:8080/"
        },
        "id": "PTa0p4FrIRtM",
        "outputId": "e91b4dac-25fe-450e-e858-bd8a69feb47e"
      },
      "source": [
        "#calcul de la matrice de confusion \n",
        "print('Matrice de confusion')\n",
        "confu_rfc = confusion_matrix(Y_test,rfc_predict_test)\n",
        "print(confu_rfc)   \n",
        "\n",
        "#taux de reconnaissance\n",
        "print('le taux de reconnaissance est :', accuracy_score(Y_test,rfc_predict_test))\n",
        "\n",
        "#taux d'erreur \n",
        "print(\"le taux d'erreur est :\", 1.0 - accuracy_score(Y_test,rfc_predict_test))"
      ],
      "execution_count": 20,
      "outputs": [
        {
          "output_type": "stream",
          "text": [
            "Matrice de confusion\n",
            "[[398045   1693]\n",
            " [  5329   1232]]\n",
            "le taux de reconnaissance est : 0.9827171614992899\n",
            "le taux d'erreur est : 0.017282838500710107\n"
          ],
          "name": "stdout"
        }
      ]
    },
    {
      "cell_type": "code",
      "metadata": {
        "colab": {
          "base_uri": "https://localhost:8080/"
        },
        "id": "-O96R2nmIUF_",
        "outputId": "0897b27a-f672-4c23-fe47-512aefa705dc"
      },
      "source": [
        "print('Rapport de prédiction sur la base de test :')\n",
        "print(classification_report(Y_test, rfc_predict_test))"
      ],
      "execution_count": 21,
      "outputs": [
        {
          "output_type": "stream",
          "text": [
            "Rapport de prédiction sur la base de test :\n",
            "              precision    recall  f1-score   support\n",
            "\n",
            "           0       0.99      1.00      0.99    399738\n",
            "           1       0.42      0.19      0.26      6561\n",
            "\n",
            "    accuracy                           0.98    406299\n",
            "   macro avg       0.70      0.59      0.63    406299\n",
            "weighted avg       0.98      0.98      0.98    406299\n",
            "\n"
          ],
          "name": "stdout"
        }
      ]
    },
    {
      "cell_type": "markdown",
      "metadata": {
        "id": "NDLA5ydmIYqC"
      },
      "source": [
        "Le même problème qu'au modèle 1 apparaît : la plupart des observations correspondant à un feu de forêt ne sont pas reconnues par le modèle (le recall est même légèrement pire pour la random forest). Du fait de l'écrasante majorité d'observations ne correspond pas à un feu de forêt, le modèle semble très précis, mais il est dans les faits très peu performant. "
      ]
    },
    {
      "cell_type": "code",
      "metadata": {
        "colab": {
          "base_uri": "https://localhost:8080/",
          "height": 163
        },
        "id": "XgERg56JJlFQ",
        "outputId": "48f6f669-690c-40c5-8e97-26bd9a0c8eaa"
      },
      "source": [
        "metrics.roc_auc_score(Y_test,rfc_predict_test)"
      ],
      "execution_count": 22,
      "outputs": [
        {
          "output_type": "error",
          "ename": "NameError",
          "evalue": "ignored",
          "traceback": [
            "\u001b[0;31m---------------------------------------------------------------------------\u001b[0m",
            "\u001b[0;31mNameError\u001b[0m                                 Traceback (most recent call last)",
            "\u001b[0;32m<ipython-input-22-5d1e5d589919>\u001b[0m in \u001b[0;36m<module>\u001b[0;34m()\u001b[0m\n\u001b[0;32m----> 1\u001b[0;31m \u001b[0mmetrics\u001b[0m\u001b[0;34m.\u001b[0m\u001b[0mroc_auc_score\u001b[0m\u001b[0;34m(\u001b[0m\u001b[0mY_test\u001b[0m\u001b[0;34m,\u001b[0m\u001b[0mrfc_predict_test\u001b[0m\u001b[0;34m)\u001b[0m\u001b[0;34m\u001b[0m\u001b[0;34m\u001b[0m\u001b[0m\n\u001b[0m",
            "\u001b[0;31mNameError\u001b[0m: name 'metrics' is not defined"
          ]
        }
      ]
    },
    {
      "cell_type": "markdown",
      "metadata": {
        "id": "db1c_GDRdzR_"
      },
      "source": [
        "### **Des soupçons d'overfitting...**\r\n",
        "\r\n",
        "Le surapprentissage (ou overfitting) est souvent une des premières causes des mauvaises performances de modèles prédictifs. Cela se caractèrise par le fait que le modèle prédictif s'adapte trop bien à la base d'apprentissage, et se géneralise mal à des données inconnues. \r\n",
        "\r\n",
        "Afin de confirmer ou d'infirmer nos soupçons, nous allons observer les performances du modèles sur la base d'apprentissage. \r\n",
        "\r\n",
        "**Decision tree**"
      ]
    },
    {
      "cell_type": "code",
      "metadata": {
        "colab": {
          "base_uri": "https://localhost:8080/"
        },
        "id": "v5AO9G6Uf8s2",
        "outputId": "a857db1d-5c08-411f-ae5f-c8b5a7fe60bf"
      },
      "source": [
        "tree_predict_train = tree.predict(X_train)\r\n",
        "print('Rapport de prédiction sur la base de train :')\r\n",
        "print(classification_report(Y_train, tree_predict_train))"
      ],
      "execution_count": 23,
      "outputs": [
        {
          "output_type": "stream",
          "text": [
            "Rapport de prédiction sur la base de train :\n",
            "              precision    recall  f1-score   support\n",
            "\n",
            "           0       1.00      0.98      0.99   1598946\n",
            "           1       0.40      1.00      0.58     26246\n",
            "\n",
            "    accuracy                           0.98   1625192\n",
            "   macro avg       0.70      0.99      0.78   1625192\n",
            "weighted avg       0.99      0.98      0.98   1625192\n",
            "\n"
          ],
          "name": "stdout"
        }
      ]
    },
    {
      "cell_type": "markdown",
      "metadata": {
        "id": "AmiqzRDUgroc"
      },
      "source": [
        "**Random forest**"
      ]
    },
    {
      "cell_type": "code",
      "metadata": {
        "colab": {
          "base_uri": "https://localhost:8080/"
        },
        "id": "kLmpvyUuio6W",
        "outputId": "7a440a8a-4b54-4960-8f36-2c8aaeaa52b5"
      },
      "source": [
        "rfc_predict_train = rfc.predict(X_train)\r\n",
        "print('Rapport de prédiction sur la base de train:')\r\n",
        "print(classification_report(Y_train, rfc_predict_train))"
      ],
      "execution_count": 24,
      "outputs": [
        {
          "output_type": "stream",
          "text": [
            "Rapport de prédiction sur la base de train:\n",
            "              precision    recall  f1-score   support\n",
            "\n",
            "           0       0.99      1.00      1.00   1598946\n",
            "           1       0.92      0.58      0.71     26246\n",
            "\n",
            "    accuracy                           0.99   1625192\n",
            "   macro avg       0.96      0.79      0.85   1625192\n",
            "weighted avg       0.99      0.99      0.99   1625192\n",
            "\n"
          ],
          "name": "stdout"
        }
      ]
    },
    {
      "cell_type": "markdown",
      "metadata": {
        "id": "kTbMMMGFjBQN"
      },
      "source": [
        "Les prédictions des deux modèles sur la base d'entraînement ne sont pas parfaites, néanmoins ils ont de bien meilleures performances que sur la base de test. Le modèle semble donc avoir overfitté. "
      ]
    },
    {
      "cell_type": "markdown",
      "metadata": {
        "id": "hJ7mwthpIZtp"
      },
      "source": [
        "**En conclusion**, les modèles de Machine Learning que nous avons testés sont inefficaces pour prédire le déclenchement d'un feu de forêt. \n",
        "\n",
        "\n",
        "De plus, on remarque que : \n",
        "\n",
        "*   Il y a une bien trop faible proportion d'observations correspondant à un feu de forêt. \n",
        "*   Les variables étudiées ne sont pas assez nombreuses et ne suffissent pas à expliquer le déclenchement d'un feu de forêt : il ne suffit pas qu'il fasse la bonne température, couplée avec la bonne humidité (ou avec la bonne vitesse du vent, le bon niveau de précipitation, etc) pour qu'un feu parte. \n",
        "\n",
        "Ces deux points peuvent être à l'origine de la faible performance de nos modèles.\n"
      ]
    },
    {
      "cell_type": "markdown",
      "metadata": {
        "id": "Q68Otl4TGgJa"
      },
      "source": [
        "## **A.2. Prédiction de la surface brûlée par un feu**"
      ]
    },
    {
      "cell_type": "markdown",
      "metadata": {
        "id": "xbZXPuq2aXCz"
      },
      "source": [
        "Dans cette partie, nous allons tâcher de prédire la surface brûlée par un feu. Nous allons donc nous intéresser uniquement aux observations correspondant à un départ de feu. \r\n",
        "\r\n",
        "Nous avons identifier 3 modèles : réseaux de neurones, arbres de décision et random forest $-$ nous avons déjà vus ces deux derniers dans la partie précédente.\r\n",
        "\r\n",
        "\r\n",
        "\r\n",
        "\r\n"
      ]
    },
    {
      "cell_type": "markdown",
      "metadata": {
        "id": "SMYKaaK6UpMb"
      },
      "source": [
        "### **Méthode du réseau de neurones**"
      ]
    },
    {
      "cell_type": "code",
      "metadata": {
        "id": "Jar7YceUE-Xw"
      },
      "source": [
        "import matplotlib.pyplot as plt\n",
        "import keras\n",
        "from keras.datasets import mnist\n",
        "from keras.models import Sequential\n",
        "from keras.layers import Dense, Dropout, Flatten\n",
        "from keras.layers import Conv2D, MaxPooling2D\n",
        "from keras import activations\n",
        "import sklearn as sk\n",
        "from sklearn.model_selection import train_test_split\n",
        "from sklearn.metrics import confusion_matrix\n",
        "from sklearn.metrics import mean_squared_error"
      ],
      "execution_count": null,
      "outputs": []
    },
    {
      "cell_type": "markdown",
      "metadata": {
        "id": "SuXibro3UpMc"
      },
      "source": [
        "**Préparation des données**"
      ]
    },
    {
      "cell_type": "code",
      "metadata": {
        "id": "qzvLexqXE-X1",
        "scrolled": false
      },
      "source": [
        "df = pd.read_csv('data.csv').dropna(subset = ['Température (°C)', 'Précipitations (3 heures)', 'Humidité (%)', 'Vitesse du vent (m/s)'])\n",
        "df_feu = df[df['Départ de feu'] == 1]\n",
        "df_feu = df_feu.drop(columns = ['Départ de feu'])\n",
        "df_feu = df_feu.sort_values(['Date de première alerte'])\n",
        "df_feu = df_feu.reset_index(drop = True)\n",
        "df_feu.head()"
      ],
      "execution_count": null,
      "outputs": []
    },
    {
      "cell_type": "code",
      "metadata": {
        "id": "yezwe6B6E-X6"
      },
      "source": [
        "df_feu.dtypes"
      ],
      "execution_count": null,
      "outputs": []
    },
    {
      "cell_type": "code",
      "metadata": {
        "id": "yHIvESJ1E-X7"
      },
      "source": [
        "values = df_feu.values\n",
        "values"
      ],
      "execution_count": null,
      "outputs": []
    },
    {
      "cell_type": "code",
      "metadata": {
        "id": "37VCLVEGE-X9"
      },
      "source": [
        "x = values[:,[20,21,22,23]].astype(float)\n",
        "y = values[:,8].astype(float)"
      ],
      "execution_count": null,
      "outputs": []
    },
    {
      "cell_type": "code",
      "metadata": {
        "id": "o0cdrT8AE-X-"
      },
      "source": [
        "x_train,x_test,y_train,y_test = train_test_split(x, y, test_size = 0.3, random_state = 10)"
      ],
      "execution_count": null,
      "outputs": []
    },
    {
      "cell_type": "code",
      "metadata": {
        "id": "hpjwJ-ppE-X_"
      },
      "source": [
        "x_train.shape"
      ],
      "execution_count": null,
      "outputs": []
    },
    {
      "cell_type": "markdown",
      "metadata": {
        "id": "I4qgvT4yUpMf"
      },
      "source": [
        "**Création du FFNN (Feedforward Neural Network)**"
      ]
    },
    {
      "cell_type": "markdown",
      "metadata": {
        "id": "30eHFis_UpMf"
      },
      "source": [
        "Il a 3 couches cachées de respectivement 500, 100 et 50 neurones avec des fonctions d'activation 'relu'. Nous choisissons la métrique Mean Squared Error."
      ]
    },
    {
      "cell_type": "code",
      "metadata": {
        "id": "nuqbPtmTE-YA"
      },
      "source": [
        "model = Sequential()\n",
        "\n",
        "model.add(Dense(500, input_dim = x_train.shape[1], activation = 'relu'))\n",
        "model.add(Dense(100, activation = 'relu'))\n",
        "model.add(Dense(50, activation = 'relu'))\n",
        "model.add(Dense(1))\n",
        "\n",
        "model.compile(loss = \"mean_squared_error\" , optimizer = \"adam\", metrics = [\"mean_squared_error\"])\n",
        "\n",
        "model.summary()"
      ],
      "execution_count": null,
      "outputs": []
    },
    {
      "cell_type": "markdown",
      "metadata": {
        "id": "1M-WnKNgUpMg"
      },
      "source": [
        "**Entraînement**"
      ]
    },
    {
      "cell_type": "markdown",
      "metadata": {
        "id": "CnFwZ2VIUpMg"
      },
      "source": [
        "Nous avons choisi 50 epochs (c'est-à-dire 50 cycles, 1 cycle est un aller et un retour dans le réseau de toutes les données)"
      ]
    },
    {
      "cell_type": "code",
      "metadata": {
        "id": "w3cafD3xE-YC"
      },
      "source": [
        "history = model.fit(x_train, y_train, epochs = 50, verbose = 1, validation_data=(x_test, y_test))"
      ],
      "execution_count": null,
      "outputs": []
    },
    {
      "cell_type": "code",
      "metadata": {
        "id": "0TRPivMJE-YD",
        "scrolled": false
      },
      "source": [
        "plt.figure(figsize=(7, 5))\n",
        "plt.plot(history.epoch, history.history['loss'], lw=3, label='Training set')\n",
        "plt.plot(history.epoch, history.history['val_loss'], lw=3, label='Test set')\n",
        "plt.legend(fontsize=14)\n",
        "plt.title('Loss of the FFNN', fontsize=16)\n",
        "plt.xlabel('Epoch', fontsize=14)\n",
        "plt.ylabel('MSE', fontsize=14)\n",
        "plt.tight_layout()"
      ],
      "execution_count": null,
      "outputs": []
    },
    {
      "cell_type": "markdown",
      "metadata": {
        "id": "ft1su9b3UpMh"
      },
      "source": [
        "La Mean Squared Error est de l'ordre de $10^{11}$, peu importe le nombre d'epochs. Le réseau n'est absolument pas efficace. L'erreur est même plus faible sur le Test set, ce qui est étrange, mais tellement l'erreur est grande cela ne veut plus rien dire."
      ]
    },
    {
      "cell_type": "code",
      "metadata": {
        "id": "-zF9rooUE-YF"
      },
      "source": [
        "pred_train = model.predict(x_train)\n",
        "print(np.sqrt(mean_squared_error(y_train,pred_train)))\n",
        "\n",
        "pred = model.predict(x_test)\n",
        "print(np.sqrt(mean_squared_error(y_test,pred))) "
      ],
      "execution_count": null,
      "outputs": []
    },
    {
      "cell_type": "markdown",
      "metadata": {
        "id": "4lQHEC9BUpMi"
      },
      "source": [
        "On obtient une Root Mean Squared Error de 464 837 m2 sur l'échantillon de train et de 373 929 sur celui de test. "
      ]
    },
    {
      "cell_type": "markdown",
      "metadata": {
        "id": "KL_f2qQicU-j"
      },
      "source": [
        "### **Considérations sur les autres modèles**\r\n",
        "\r\n",
        "D'autres modèles de prédiction sont possibles pour prédire la surface brûlée, tels que les arbres de décision ou random forest. Nous les avons testés, et avons obtenu des erreurs du même ordre de grandeur que pour ce premier modèle. C'est même l'observation de mauvaises prédictions avec random forest et decision tree qui nous a amenés à tenter un réseau de neurones. \r\n",
        "\r\n",
        "Les codes utilisés pour ces deux modèles étaient semblables à ceux dans la partie de classification ci-dessus (A.1), nous avons choisi de ne pas les insérer afin de ne pas surcharger de trop le notebook. \r\n",
        "\r\n"
      ]
    },
    {
      "cell_type": "markdown",
      "metadata": {
        "id": "yZ4KaL8fIi08"
      },
      "source": [
        "# **B. Deuxième essai : création de nouvelles variables**"
      ]
    },
    {
      "cell_type": "markdown",
      "metadata": {
        "id": "2ETta9NqJPLB"
      },
      "source": [
        "Dans la première partie, nous n'avions utilisé que les variables météorologiques données directement par la base de données. Les modèles que nous avions utilisés avaient alors de très mauvaises performances. Le nombre de variables considérées et leur pertinence sont deux raisons pour lesquelles les modèles n'étaient pas satisfaisant. \n",
        "\n",
        "Nous allons, dans cette, créer de nouvelles variables/features qui témoigneront de la propension d'une observation à être un feu de forêt grâce à sa localisation et au mois considéré. Notre étude prend désormais en compte des variables géographiques (et non juste météorologiques).\n"
      ]
    },
    {
      "cell_type": "markdown",
      "metadata": {
        "id": "l4TgdIcClCd3"
      },
      "source": [
        "## **B.1. Prédiction du déclenchement d'un feu de forêt** "
      ]
    },
    {
      "cell_type": "markdown",
      "metadata": {
        "id": "OII_xvspKbF7"
      },
      "source": [
        "### **Création de nouvelles variables**"
      ]
    },
    {
      "cell_type": "code",
      "metadata": {
        "id": "JH50rkyyKK0z"
      },
      "source": [
        "from datetime import datetime\n",
        "df = pd.read_csv('data.zip', low_memory = False)"
      ],
      "execution_count": 56,
      "outputs": []
    },
    {
      "cell_type": "code",
      "metadata": {
        "id": "duv6APpsKkq3"
      },
      "source": [
        "df_feu = df[df[\"Départ de feu\"] == 1]"
      ],
      "execution_count": 57,
      "outputs": []
    },
    {
      "cell_type": "markdown",
      "metadata": {
        "id": "PwfKj1fjKrnm"
      },
      "source": [
        "**Création d'une variable sur le mois** \n",
        "\n",
        "L'on va ici chercher à créer une variable quantitative qui rende compte de la \"prédisposition\" d'un mois à connaître des feux de forêts. Comme on a pu le voir précédemment, il y a empiriquement plus de feux en août qu'en octobre. On cherche donc une variable qui permette d'en témoigner. \n",
        "\n",
        "On crée ainsi une variable *Mois propice* qui à chaque observation donne le pourcentage des feux des années précédentes (dans la limite de nos données, c'est-à-dire l'année 2006) s'étant produits durant ce mois de l'année. Plus ce chiffre est élevé, plus ce mois est à risque.\n",
        "\n",
        "Cette variable s'appuie exclusivement sur les données des années précédentes. La valeur attribuée à chaque mois varie également d'une année à l'autre, car elle prend en compte les feux de l'année qui vient de s'écouler. Ce comptage est intéressant car il gagne en fiabilité d'années en années. \n"
      ]
    },
    {
      "cell_type": "code",
      "metadata": {
        "colab": {
          "base_uri": "https://localhost:8080/"
        },
        "id": "Hu93YgefKzvg",
        "outputId": "829f2c9b-be9b-4b80-fa7c-c9a96a25aa49"
      },
      "source": [
        "répartition = []\n",
        "\n",
        "for année in range(2007,2020) :\n",
        "\n",
        "    mois, nb_mois_previous_years = np.unique(df_feu['Date de première alerte'][df_feu.Année < année].str[5:7], return_counts=True)\n",
        "    répartition_previous_years = nb_mois_previous_years / sum(nb_mois_previous_years)\n",
        "\n",
        "    répartition.append([année,répartition_previous_years])\n",
        "\n",
        "répartition[0:3]"
      ],
      "execution_count": 58,
      "outputs": [
        {
          "output_type": "execute_result",
          "data": {
            "text/plain": [
              "[[2007, array([0.01557839, 0.03579715, 0.05502154, 0.09214451, 0.09048724,\n",
              "         0.1528008 , 0.25223732, 0.18362612, 0.06463374, 0.02320186,\n",
              "         0.02552204, 0.00894929])],\n",
              " [2008, array([0.02895404, 0.03184944, 0.07871878, 0.09156714, 0.06858487,\n",
              "         0.11653999, 0.2062975 , 0.15635179, 0.09989142, 0.06424177,\n",
              "         0.03999276, 0.0170105 ])],\n",
              " [2009, array([0.03337488, 0.06051793, 0.08613765, 0.08932281, 0.06093339,\n",
              "         0.09735494, 0.19055532, 0.15939621, 0.09901676, 0.07519734,\n",
              "         0.0340673 , 0.01412547])]]"
            ]
          },
          "metadata": {
            "tags": []
          },
          "execution_count": 58
        }
      ]
    },
    {
      "cell_type": "markdown",
      "metadata": {
        "id": "CN0xShB9K371"
      },
      "source": [
        "Le tableau *répartition* indique pour chaque année la proportion par mois des feux déclarés les années précédentes (depuis 2006). "
      ]
    },
    {
      "cell_type": "code",
      "metadata": {
        "colab": {
          "base_uri": "https://localhost:8080/"
        },
        "id": "k8drdI6xK6Ub",
        "outputId": "29bb0d42-b960-4d8d-cb12-d90e3fc3f9b0"
      },
      "source": [
        "répartition[4]"
      ],
      "execution_count": 59,
      "outputs": [
        {
          "output_type": "execute_result",
          "data": {
            "text/plain": [
              "[2011, array([0.02136822, 0.0519987 , 0.11594085, 0.08409165, 0.05492363,\n",
              "        0.09140396, 0.190039  , 0.17907052, 0.10814105, 0.06857329,\n",
              "        0.02445564, 0.0099935 ])]"
            ]
          },
          "metadata": {
            "tags": []
          },
          "execution_count": 59
        }
      ]
    },
    {
      "cell_type": "markdown",
      "metadata": {
        "id": "4KMJUX83K9Fp"
      },
      "source": [
        "Par exemple, entre 2006 et 2010, 2% des feux se sont produits durant les mois de janviers, alors que 19% des feux entre 2006 et 2010 ont été en juillet. "
      ]
    },
    {
      "cell_type": "code",
      "metadata": {
        "id": "csFkPI_ALB4Y"
      },
      "source": [
        "def mois_propice(date) : \n",
        "    \"renvoie la proportion des feux déclenchés ce mois-ci les années précédentes\"\n",
        "    date = datetime.strptime(date, '%Y-%m-%d %H:%M:%S')\n",
        "    month, year = date.month, date.year\n",
        "\n",
        "    if year > 2006 : \n",
        "        return répartition[year-2007][1][month-1]"
      ],
      "execution_count": 60,
      "outputs": []
    },
    {
      "cell_type": "code",
      "metadata": {
        "id": "_di80bzBLEEu"
      },
      "source": [
        "df['Mois propice'] = df['Date'].apply(lambda row: mois_propice(row))"
      ],
      "execution_count": 61,
      "outputs": []
    },
    {
      "cell_type": "markdown",
      "metadata": {
        "id": "GbJLI4bCLJ6p"
      },
      "source": [
        "**Création d'une variable sur la station** \n",
        "\n",
        "On crée maintenant une variable qui témoigne de la \"prédisposition\" d'une zone géographique (représentée par une station) à connaître des feux de forêts. \n",
        "\n",
        "On raisonne pareillement que pour la variable *Mois propice* en termes de pourcentage de feux des années précédentes observée par station. \n",
        "\n",
        "\n",
        "On ne peut en effet pas : \n",
        "\n",
        "\n",
        "*   Compter le nombre de feux par station dans la base, car lorsqu'on utilisera les méthodes de prédiction sur une certaine observation (à une certaine date), cela voudrait dire que l'on utilise les données de dates ultérieures, et donc qu'on connaît l'avenir. \n",
        "\n",
        "\n",
        "*   Compter le nombre de feux par station qui se sont produits avant l'observation. Les valeurs prises par une station seraient différentes d'une année à l'autre, et la variable n'aurait alors plus de sens. (Par exemple, on peut imaginer qu'il y ait autant de feu en Haute-Corse en 2006 qu'en Bretagne entre 2006 et 2018 : la valeur prise par la variable *Zone propice* pour une observation en Corse en 2007 serait égale à celle prise par une observation en Bretagne en 2019, ce qui ne rendrait pas bien compte de la réalité lorsqu'on utilisera les techniques de prédiction. \n",
        "\n",
        "Considérer les données sur toutes les années précédentes permet de créer une variable plus fiable que si l'on utilisait que celle d'une année précédente."
      ]
    },
    {
      "cell_type": "code",
      "metadata": {
        "id": "FLZHoGVTLQag"
      },
      "source": [
        "répartition_zone = []\n",
        "\n",
        "for année in range(2007,2020) :\n",
        "\n",
        "    zone, nb_zone = np.unique(df_feu['id_station'][df_feu.Année < année], return_counts=True)\n",
        "    prop_zone = nb_zone / sum(nb_zone)\n",
        "    prop_zone_previous = [ [zone[i], prop_zone[i]] for i in range(0,len(zone)) ]\n",
        "    répartition_zone.append([année,prop_zone_previous])"
      ],
      "execution_count": 62,
      "outputs": []
    },
    {
      "cell_type": "markdown",
      "metadata": {
        "id": "mAA3aUQDLTem"
      },
      "source": [
        "*répartition_zone* est un tableau donnant, pour chaque année, la proportion de feux s'étant déclarée dans chaque station les années précédentes"
      ]
    },
    {
      "cell_type": "code",
      "metadata": {
        "colab": {
          "base_uri": "https://localhost:8080/"
        },
        "id": "ov61AAHgLWMf",
        "outputId": "9bc654d1-5c8e-408e-e3ac-fd4692a342db"
      },
      "source": [
        "#Exemple : la répartition pour l'année 2007\n",
        "répartition_zone[0][1]"
      ],
      "execution_count": 63,
      "outputs": [
        {
          "output_type": "execute_result",
          "data": {
            "text/plain": [
              "[[7110, 0.0006629101756711965],\n",
              " [7130, 0.0019887305270135896],\n",
              " [7139, 0.004971826317533974],\n",
              " [7149, 0.003646005966191581],\n",
              " [7207, 0.0016572754391779914],\n",
              " [7222, 0.00033145508783559825],\n",
              " [7240, 0.0029830957905203847],\n",
              " [7255, 0.0016572754391779914],\n",
              " [7280, 0.0009943652635067948],\n",
              " [7299, 0.0016572754391779914],\n",
              " [7314, 0.003977461054027179],\n",
              " [7335, 0.0029830957905203847],\n",
              " [7434, 0.011269472986410341],\n",
              " [7460, 0.0019887305270135896],\n",
              " [7471, 0.008286377195889956],\n",
              " [7481, 0.010275107722903546],\n",
              " [7510, 0.12595293337752733],\n",
              " [7535, 0.03513423931057342],\n",
              " [7558, 0.01358965860125953],\n",
              " [7577, 0.0573417301955585],\n",
              " [7591, 0.005634736493205171],\n",
              " [7607, 0.07093138879681803],\n",
              " [7621, 0.00033145508783559825],\n",
              " [7627, 0.013258203513423931],\n",
              " [7630, 0.006297646668876367],\n",
              " [7643, 0.04441498176997017],\n",
              " [7650, 0.07590321511435201],\n",
              " [7661, 0.060656281073914485],\n",
              " [7690, 0.07225720914816043],\n",
              " [7747, 0.06529665230361285],\n",
              " [7761, 0.1537951607557176],\n",
              " [7790, 0.13921113689095127],\n",
              " [61968, 0.0006629101756711965]]"
            ]
          },
          "metadata": {
            "tags": []
          },
          "execution_count": 63
        }
      ]
    },
    {
      "cell_type": "code",
      "metadata": {
        "id": "MsIvgFaVLY8Q"
      },
      "source": [
        "def zone_propice(date,station) : \n",
        "    \"renvoie la proportion des feux déclenchés dans cette zone les années précédentes\"\n",
        "\n",
        "    date = datetime.strptime(date, '%Y-%m-%d %H:%M:%S')\n",
        "    year = date.year\n",
        " \n",
        "    if year > 2006 : \n",
        "        ligne = [i for i in range(0,len(répartition_zone[year-2007][1])) if répartition_zone[year-2007][1][i][0] == station]\n",
        "        #liste des lignes correspondant à l'année et à la station \n",
        "        if len(ligne) != 0 :\n",
        "            #len(ligne) == 1 si la station n'est pas dégénérée (existe dans les données)\n",
        "            return répartition_zone[year-2007][1][ligne[0]][1]"
      ],
      "execution_count": 64,
      "outputs": []
    },
    {
      "cell_type": "code",
      "metadata": {
        "id": "_Z8xAm3hLbXZ"
      },
      "source": [
        "df['Zone propice'] = df.apply(lambda row: zone_propice(row['Date'], row['id_station']), axis=1)"
      ],
      "execution_count": 65,
      "outputs": []
    },
    {
      "cell_type": "code",
      "metadata": {
        "colab": {
          "base_uri": "https://localhost:8080/",
          "height": 204
        },
        "id": "J2GzziPiLd-5",
        "outputId": "31953fca-b10b-409d-98d2-bfc0c445ac4e"
      },
      "source": [
        "#Exemple d'une station Corse\n",
        "df[df[\"id_station\"] == 7761][[\"Date\",\"Zone propice\"]].sample(5) "
      ],
      "execution_count": 68,
      "outputs": [
        {
          "output_type": "execute_result",
          "data": {
            "text/html": [
              "<div>\n",
              "<style scoped>\n",
              "    .dataframe tbody tr th:only-of-type {\n",
              "        vertical-align: middle;\n",
              "    }\n",
              "\n",
              "    .dataframe tbody tr th {\n",
              "        vertical-align: top;\n",
              "    }\n",
              "\n",
              "    .dataframe thead th {\n",
              "        text-align: right;\n",
              "    }\n",
              "</style>\n",
              "<table border=\"1\" class=\"dataframe\">\n",
              "  <thead>\n",
              "    <tr style=\"text-align: right;\">\n",
              "      <th></th>\n",
              "      <th>Date</th>\n",
              "      <th>Zone propice</th>\n",
              "    </tr>\n",
              "  </thead>\n",
              "  <tbody>\n",
              "    <tr>\n",
              "      <th>1647936</th>\n",
              "      <td>2018-10-15 12:00:00</td>\n",
              "      <td>0.115816</td>\n",
              "    </tr>\n",
              "    <tr>\n",
              "      <th>1639431</th>\n",
              "      <td>2015-11-16 09:00:00</td>\n",
              "      <td>0.142891</td>\n",
              "    </tr>\n",
              "    <tr>\n",
              "      <th>1649322</th>\n",
              "      <td>2019-04-05 09:00:00</td>\n",
              "      <td>0.111874</td>\n",
              "    </tr>\n",
              "    <tr>\n",
              "      <th>1621185</th>\n",
              "      <td>2009-09-27 09:00:00</td>\n",
              "      <td>0.158981</td>\n",
              "    </tr>\n",
              "    <tr>\n",
              "      <th>1645580</th>\n",
              "      <td>2017-12-25 15:00:00</td>\n",
              "      <td>0.127048</td>\n",
              "    </tr>\n",
              "  </tbody>\n",
              "</table>\n",
              "</div>"
            ],
            "text/plain": [
              "                        Date  Zone propice\n",
              "1647936  2018-10-15 12:00:00      0.115816\n",
              "1639431  2015-11-16 09:00:00      0.142891\n",
              "1649322  2019-04-05 09:00:00      0.111874\n",
              "1621185  2009-09-27 09:00:00      0.158981\n",
              "1645580  2017-12-25 15:00:00      0.127048"
            ]
          },
          "metadata": {
            "tags": []
          },
          "execution_count": 68
        }
      ]
    },
    {
      "cell_type": "markdown",
      "metadata": {
        "id": "EQCxbsMKLx13"
      },
      "source": [
        "Le raisonnement que l'on va maintenant mener est identique à celui que nous avons eu dans le premier essai. Nous allons comparer les résultats des deux essais, et on s'attend à ce que ce deuxième essai, qui prend en compte davantage de variables, ait de meilleurs résultats. "
      ]
    },
    {
      "cell_type": "markdown",
      "metadata": {
        "id": "Wqu_cZMILqyK"
      },
      "source": [
        "### **Préparation des bases d'apprentissage et de test**"
      ]
    },
    {
      "cell_type": "code",
      "metadata": {
        "id": "ruPzzrcrMCM-"
      },
      "source": [
        "df2 = df.iloc[:, [0,17,18,19,21,22,23,24,25,26]]  \n",
        "df2 = df2.dropna()"
      ],
      "execution_count": 69,
      "outputs": []
    },
    {
      "cell_type": "code",
      "metadata": {
        "colab": {
          "base_uri": "https://localhost:8080/",
          "height": 221
        },
        "id": "fFVEwsV4MC80",
        "outputId": "59facb08-7ede-4acd-ef2c-8720a2e3a2cc"
      },
      "source": [
        "df2.head()"
      ],
      "execution_count": 70,
      "outputs": [
        {
          "output_type": "execute_result",
          "data": {
            "text/html": [
              "<div>\n",
              "<style scoped>\n",
              "    .dataframe tbody tr th:only-of-type {\n",
              "        vertical-align: middle;\n",
              "    }\n",
              "\n",
              "    .dataframe tbody tr th {\n",
              "        vertical-align: top;\n",
              "    }\n",
              "\n",
              "    .dataframe thead th {\n",
              "        text-align: right;\n",
              "    }\n",
              "</style>\n",
              "<table border=\"1\" class=\"dataframe\">\n",
              "  <thead>\n",
              "    <tr style=\"text-align: right;\">\n",
              "      <th></th>\n",
              "      <th>Départ de feu</th>\n",
              "      <th>Latitude station</th>\n",
              "      <th>Longitude station</th>\n",
              "      <th>Altitude station</th>\n",
              "      <th>Température (°C)</th>\n",
              "      <th>Précipitations (3 heures)</th>\n",
              "      <th>Humidité (%)</th>\n",
              "      <th>Vitesse du vent (m/s)</th>\n",
              "      <th>Mois propice</th>\n",
              "      <th>Zone propice</th>\n",
              "    </tr>\n",
              "  </thead>\n",
              "  <tbody>\n",
              "    <tr>\n",
              "      <th>69920</th>\n",
              "      <td>0</td>\n",
              "      <td>50.57</td>\n",
              "      <td>3.0975</td>\n",
              "      <td>47</td>\n",
              "      <td>7.7</td>\n",
              "      <td>-0.1</td>\n",
              "      <td>86.0</td>\n",
              "      <td>4.1</td>\n",
              "      <td>0.024042</td>\n",
              "      <td>0.000042</td>\n",
              "    </tr>\n",
              "    <tr>\n",
              "      <th>69921</th>\n",
              "      <td>0</td>\n",
              "      <td>50.57</td>\n",
              "      <td>3.0975</td>\n",
              "      <td>47</td>\n",
              "      <td>5.4</td>\n",
              "      <td>0.0</td>\n",
              "      <td>87.0</td>\n",
              "      <td>3.3</td>\n",
              "      <td>0.024042</td>\n",
              "      <td>0.000042</td>\n",
              "    </tr>\n",
              "    <tr>\n",
              "      <th>69922</th>\n",
              "      <td>0</td>\n",
              "      <td>50.57</td>\n",
              "      <td>3.0975</td>\n",
              "      <td>47</td>\n",
              "      <td>2.7</td>\n",
              "      <td>0.0</td>\n",
              "      <td>96.0</td>\n",
              "      <td>1.4</td>\n",
              "      <td>0.024042</td>\n",
              "      <td>0.000042</td>\n",
              "    </tr>\n",
              "    <tr>\n",
              "      <th>69923</th>\n",
              "      <td>0</td>\n",
              "      <td>50.57</td>\n",
              "      <td>3.0975</td>\n",
              "      <td>47</td>\n",
              "      <td>2.7</td>\n",
              "      <td>-0.1</td>\n",
              "      <td>97.0</td>\n",
              "      <td>0.9</td>\n",
              "      <td>0.024042</td>\n",
              "      <td>0.000042</td>\n",
              "    </tr>\n",
              "    <tr>\n",
              "      <th>69924</th>\n",
              "      <td>0</td>\n",
              "      <td>50.57</td>\n",
              "      <td>3.0975</td>\n",
              "      <td>47</td>\n",
              "      <td>6.3</td>\n",
              "      <td>0.0</td>\n",
              "      <td>97.0</td>\n",
              "      <td>2.9</td>\n",
              "      <td>0.024042</td>\n",
              "      <td>0.000042</td>\n",
              "    </tr>\n",
              "  </tbody>\n",
              "</table>\n",
              "</div>"
            ],
            "text/plain": [
              "       Départ de feu  Latitude station  ...  Mois propice  Zone propice\n",
              "69920              0             50.57  ...      0.024042      0.000042\n",
              "69921              0             50.57  ...      0.024042      0.000042\n",
              "69922              0             50.57  ...      0.024042      0.000042\n",
              "69923              0             50.57  ...      0.024042      0.000042\n",
              "69924              0             50.57  ...      0.024042      0.000042\n",
              "\n",
              "[5 rows x 10 columns]"
            ]
          },
          "metadata": {
            "tags": []
          },
          "execution_count": 70
        }
      ]
    },
    {
      "cell_type": "markdown",
      "metadata": {
        "id": "Tu0bJDSBMVfC"
      },
      "source": [
        "Le dataframe que nous considérons maintenant comporte davantage de variables que celui utilisé précédemment : on a des informations sur la localisation de la station (latitude, longitude et altitude) et sur la prédisposition du mois et de la zone à être victime de feux de forêt. "
      ]
    },
    {
      "cell_type": "code",
      "metadata": {
        "id": "fNfgXWAlNRqs"
      },
      "source": [
        "train, test = train_test_split(df2, test_size=0.2, random_state=1)"
      ],
      "execution_count": 71,
      "outputs": []
    },
    {
      "cell_type": "code",
      "metadata": {
        "id": "07JrAYNkNW0S"
      },
      "source": [
        "X_train = train.drop(['Départ de feu'], axis = 1).to_numpy()\n",
        "Y_train = train[['Départ de feu']].to_numpy()\n",
        "\n",
        "X_test = test.drop(['Départ de feu'], axis = 1).to_numpy()\n",
        "Y_test = test[['Départ de feu']].to_numpy()\n",
        "\n",
        "Y_train = Y_train.reshape(Y_train.shape[0])\n",
        "Y_test = Y_test.reshape(Y_test.shape[0])"
      ],
      "execution_count": 72,
      "outputs": []
    },
    {
      "cell_type": "markdown",
      "metadata": {
        "id": "xxBGzP9VNc2-"
      },
      "source": [
        "### **Modèle 1 : l'arbre de décision**"
      ]
    },
    {
      "cell_type": "markdown",
      "metadata": {
        "id": "Ic8QqfyBNpmH"
      },
      "source": [
        "**Entraînement**"
      ]
    },
    {
      "cell_type": "code",
      "metadata": {
        "id": "FNfjm1Y_Ncn8"
      },
      "source": [
        "#instanciation de l'arbre\n",
        "from sklearn.tree import DecisionTreeClassifier\n",
        "tree = DecisionTreeClassifier()\n",
        "\n",
        "#construction de l'arbre\n",
        "tree = tree.fit(X_train, Y_train)"
      ],
      "execution_count": 73,
      "outputs": []
    },
    {
      "cell_type": "markdown",
      "metadata": {
        "id": "orScCSuiN0a5"
      },
      "source": [
        "**Evaluation**"
      ]
    },
    {
      "cell_type": "code",
      "metadata": {
        "id": "zZhi5q5wN28t"
      },
      "source": [
        "tree_predict_test = tree.predict(X_test)"
      ],
      "execution_count": 74,
      "outputs": []
    },
    {
      "cell_type": "markdown",
      "metadata": {
        "id": "oXSQKdGqOLwg"
      },
      "source": [
        "Comme l'on a pu le voir précédemment, les taux de reconnaissance et d'erreur du modèle peuvent être trompeurs du fait de la faible proportion d'observations correspondant à un feu de forêt. On s'intéressera donc principalement au rapport de prédiction. "
      ]
    },
    {
      "cell_type": "code",
      "metadata": {
        "colab": {
          "base_uri": "https://localhost:8080/"
        },
        "id": "MUvJO6EdOGUK",
        "outputId": "5f8d1b70-116c-48e6-cacb-6c70903bcf5a"
      },
      "source": [
        "print('Rapport de prédiction sur la base de test :')\n",
        "print(classification_report(Y_test, tree_predict_test))"
      ],
      "execution_count": 75,
      "outputs": [
        {
          "output_type": "stream",
          "text": [
            "Rapport de prédiction sur la base de test :\n",
            "              precision    recall  f1-score   support\n",
            "\n",
            "           0       0.99      0.98      0.98    282442\n",
            "           1       0.30      0.39      0.34      6004\n",
            "\n",
            "    accuracy                           0.97    288446\n",
            "   macro avg       0.64      0.68      0.66    288446\n",
            "weighted avg       0.97      0.97      0.97    288446\n",
            "\n"
          ],
          "name": "stdout"
        }
      ]
    },
    {
      "cell_type": "code",
      "metadata": {
        "id": "CgZZu7_9UpMs",
        "colab": {
          "base_uri": "https://localhost:8080/"
        },
        "outputId": "bab002d6-d950-4d2d-bac2-668f00894d4c"
      },
      "source": [
        "#calcul de la matrice de confusion \n",
        "print('Matrice de confusion')\n",
        "confu_tree = confusion_matrix(Y_test,tree_predict_test)\n",
        "print(confu_tree)  "
      ],
      "execution_count": 76,
      "outputs": [
        {
          "output_type": "stream",
          "text": [
            "Matrice de confusion\n",
            "[[277059   5383]\n",
            " [  3674   2330]]\n"
          ],
          "name": "stdout"
        }
      ]
    },
    {
      "cell_type": "markdown",
      "metadata": {
        "id": "90kqqrvsOeh-"
      },
      "source": [
        "On observe encore une fois une très bonne performance du modèle sur les observations ne correspondant pas à un feu de forêt. \n",
        "\n",
        "En ce qui concerne les observations correspondant à un feu de forêt (*Départ de feu* == 1), le modèle affiche de meilleures performances en précision et en recall (il est passé de 0.2 à 0.39 !). Le nombre de vrais positifs a fortement augmenté (près du double).\n",
        "Cela est encourageant, néanmoins nous sommes encore loin d'une prédiction satisfaisante."
      ]
    },
    {
      "cell_type": "markdown",
      "metadata": {
        "id": "2FL5Q934PKVW"
      },
      "source": [
        "### **Modèle 2 : Random forest**"
      ]
    },
    {
      "cell_type": "markdown",
      "metadata": {
        "id": "Y2MGIzjfPf_a"
      },
      "source": [
        "Le modèle *Random Forest* est censé nous livrer de meilleurs résultats qu'un arbre de décision seul.\n",
        "\n",
        "**Entraînement**"
      ]
    },
    {
      "cell_type": "code",
      "metadata": {
        "id": "tdNrVfaoPKDK"
      },
      "source": [
        "#Attention : cellule longue à exécuter\n",
        "rfc = RandomForestClassifier()\n",
        "rfc = rfc.fit(X_train, Y_train)"
      ],
      "execution_count": 77,
      "outputs": []
    },
    {
      "cell_type": "markdown",
      "metadata": {
        "id": "uArpQGOsPo0Y"
      },
      "source": [
        "**Evaluation**"
      ]
    },
    {
      "cell_type": "code",
      "metadata": {
        "id": "sRC4ecOXPrwd"
      },
      "source": [
        "rfc_predict_test = rfc.predict(X_test)"
      ],
      "execution_count": 78,
      "outputs": []
    },
    {
      "cell_type": "code",
      "metadata": {
        "colab": {
          "base_uri": "https://localhost:8080/"
        },
        "id": "JHrXWX2qRuWK",
        "outputId": "cf6c80cf-a46a-4d4c-d171-65a198a31782"
      },
      "source": [
        "#calcul de la matrice de confusion \n",
        "print('Matrice de confusion')\n",
        "confu_rfc = confusion_matrix(Y_test,rfc_predict_test)\n",
        "print(confu_rfc)  "
      ],
      "execution_count": 79,
      "outputs": [
        {
          "output_type": "stream",
          "text": [
            "Matrice de confusion\n",
            "[[281974    468]\n",
            " [  4192   1812]]\n"
          ],
          "name": "stdout"
        }
      ]
    },
    {
      "cell_type": "code",
      "metadata": {
        "colab": {
          "base_uri": "https://localhost:8080/"
        },
        "id": "5OIt_UNYRAwf",
        "outputId": "7905f946-2556-48dd-e101-d67ba1beed03"
      },
      "source": [
        "print('Rapport de prédiction sur la base de test :')\n",
        "print(classification_report(Y_test, rfc_predict_test))"
      ],
      "execution_count": 80,
      "outputs": [
        {
          "output_type": "stream",
          "text": [
            "Rapport de prédiction sur la base de test :\n",
            "              precision    recall  f1-score   support\n",
            "\n",
            "           0       0.99      1.00      0.99    282442\n",
            "           1       0.79      0.30      0.44      6004\n",
            "\n",
            "    accuracy                           0.98    288446\n",
            "   macro avg       0.89      0.65      0.71    288446\n",
            "weighted avg       0.98      0.98      0.98    288446\n",
            "\n"
          ],
          "name": "stdout"
        }
      ]
    },
    {
      "cell_type": "markdown",
      "metadata": {
        "id": "oIxpP2OGR0tf"
      },
      "source": [
        "Notre travail commence à porter ses fruits : \n",
        "\n",
        "Le modèle *Random Forest* a une excellente performance sur les observations ne correspondant pas à un feu de forêt. \n",
        "\n",
        "Concernant les observations correspondant à un feu de forêt, la précision s'est grandement améliorée et commence à devenir intéressante. La part de faux positifs a diminué ( $ = 1 - precision_1 $), comme on peut l'obverser sur la matrice de confusion (cellule 1,1). Le modèle arrive à mieux reconnaître les observations ne correspondant pas à un feu de forêt. \n",
        "\n",
        "Néanmoins, $recall_1$ demeure faible : le modèle a des difficultés à reconnaître lorsqu'une observation correspond à un feu de forêt. Ce recall est même mieux avec l'arbre de décision (0.39) qu'avec la random forest (0.29).\n",
        "\n",
        "\n"
      ]
    },
    {
      "cell_type": "markdown",
      "metadata": {
        "id": "PumRkg9Rm2g8"
      },
      "source": [
        "### **Et l'overfit ?**\r\n",
        "\r\n",
        "De la même manière que dans la sous-partie précédente, nous allons vérifier si nos modèles ont overfitté ou non. "
      ]
    },
    {
      "cell_type": "code",
      "metadata": {
        "colab": {
          "base_uri": "https://localhost:8080/"
        },
        "id": "Skm0ojb7mqpl",
        "outputId": "d12a69cd-18bb-42e4-d265-9f1653ec39df"
      },
      "source": [
        "tree_predict_train = tree.predict(X_train)\r\n",
        "print('Rapport de prédiction sur la base de train :')\r\n",
        "print(classification_report(Y_train, tree_predict_train))"
      ],
      "execution_count": 81,
      "outputs": [
        {
          "output_type": "stream",
          "text": [
            "Rapport de prédiction sur la base de train :\n",
            "              precision    recall  f1-score   support\n",
            "\n",
            "           0       1.00      1.00      1.00   1130033\n",
            "           1       1.00      1.00      1.00     23751\n",
            "\n",
            "    accuracy                           1.00   1153784\n",
            "   macro avg       1.00      1.00      1.00   1153784\n",
            "weighted avg       1.00      1.00      1.00   1153784\n",
            "\n"
          ],
          "name": "stdout"
        }
      ]
    },
    {
      "cell_type": "code",
      "metadata": {
        "colab": {
          "base_uri": "https://localhost:8080/"
        },
        "id": "UBz3N3_Vm0hW",
        "outputId": "acfee2a5-ceae-415b-e156-df0835de5f3a"
      },
      "source": [
        "rfc_predict_train = rfc.predict(X_train)\r\n",
        "print('Rapport de prédiction sur la base de train:')\r\n",
        "print(classification_report(Y_train, rfc_predict_train))"
      ],
      "execution_count": 82,
      "outputs": [
        {
          "output_type": "stream",
          "text": [
            "Rapport de prédiction sur la base de train:\n",
            "              precision    recall  f1-score   support\n",
            "\n",
            "           0       1.00      1.00      1.00   1130033\n",
            "           1       1.00      1.00      1.00     23751\n",
            "\n",
            "    accuracy                           1.00   1153784\n",
            "   macro avg       1.00      1.00      1.00   1153784\n",
            "weighted avg       1.00      1.00      1.00   1153784\n",
            "\n"
          ],
          "name": "stdout"
        }
      ]
    },
    {
      "cell_type": "markdown",
      "metadata": {
        "id": "ZpQ4SBr0so0t"
      },
      "source": [
        "Les deux modèles ont overfitté. Cela explique qu'il se généralise si mal aux données de la base Test (données qu'il n'a pas rencontrées auparavant). \r\n",
        "Un moyen de lutter contre ce surapprentissage est la méthode de la Validation Croisée (*cross validation*).\r\n"
      ]
    },
    {
      "cell_type": "markdown",
      "metadata": {
        "id": "h6th1uR8Vo6b"
      },
      "source": [
        "## **B.2. Prédiction de la surface brûlée par un feu**"
      ]
    },
    {
      "cell_type": "markdown",
      "metadata": {
        "id": "GsLQZY5yUpMv"
      },
      "source": [
        "Dans cette toute dernière partie on retest le réseau de neurones avec les nouvelles features.\n",
        "\n",
        "On va même ajouter 2 nouvelles features qui étaient beaucoup trop longues à faire tourner sur la base de données avec tous les relevés météo. Ici, on s'intéresse seulement aux relevés avec départ de feu.\n",
        "\n",
        "Ces 2 nouvelles features sont \"la quantité moyenne de précipitation de la semaine précédent le relevé\" et \"la moyenne de température des deux semaines précédent le relevé\"."
      ]
    },
    {
      "cell_type": "markdown",
      "metadata": {
        "id": "E6ogSYXZUpMv"
      },
      "source": [
        "On garde les mêmes features que précédemment et seulement les lignes sans valeurs manquantes et où il y a eu départ de feu (grâce au dropna)."
      ]
    },
    {
      "cell_type": "markdown",
      "metadata": {
        "id": "BJAyr3UFUpMw"
      },
      "source": [
        "**Création de variables**\n",
        "\n",
        "On crée une variable nous donnant la **quantité moyenne de précipitation de la semaine précédent le relevé**.\n",
        "\n",
        "Comme il y a des relevés toutes les 3 heures, une semaine correspond à 56 relevés. Pour chaque ligne, on somme donc sa quantité de précipitation avec les 55 précédentes (la base est déjà ordonnée par date). Cela signifie qu'il faudra ignorer la première semaine des données, ce qui n'est pas dramatique étant donnée la taille de base. On fait cela pour chaque station.\n",
        "\n"
      ]
    },
    {
      "cell_type": "markdown",
      "metadata": {
        "id": "JfjNYlalUpMw"
      },
      "source": [
        "*Attention :* la création de ces 2 nouvelles features sont longues à exécuter."
      ]
    },
    {
      "cell_type": "code",
      "metadata": {
        "colab": {
          "base_uri": "https://localhost:8080/",
          "height": 847
        },
        "id": "pCTmaBURrKIT",
        "outputId": "25d3c8e0-1c74-4267-c527-b0d213aff09b"
      },
      "source": [
        "df"
      ],
      "execution_count": 49,
      "outputs": [
        {
          "output_type": "execute_result",
          "data": {
            "text/html": [
              "<div>\n",
              "<style scoped>\n",
              "    .dataframe tbody tr th:only-of-type {\n",
              "        vertical-align: middle;\n",
              "    }\n",
              "\n",
              "    .dataframe tbody tr th {\n",
              "        vertical-align: top;\n",
              "    }\n",
              "\n",
              "    .dataframe thead th {\n",
              "        text-align: right;\n",
              "    }\n",
              "</style>\n",
              "<table border=\"1\" class=\"dataframe\">\n",
              "  <thead>\n",
              "    <tr style=\"text-align: right;\">\n",
              "      <th></th>\n",
              "      <th>Départ de feu</th>\n",
              "      <th>Année</th>\n",
              "      <th>Date de première alerte</th>\n",
              "      <th>Département</th>\n",
              "      <th>Commune</th>\n",
              "      <th>Code postal</th>\n",
              "      <th>Code INSEE</th>\n",
              "      <th>Latitude commune</th>\n",
              "      <th>Longitude commune</th>\n",
              "      <th>Surface brûlée (m2)</th>\n",
              "      <th>Surface forêt (m2)</th>\n",
              "      <th>Surface autres terres boisées (m2)</th>\n",
              "      <th>Surfaces non boisées naturelles (m2)</th>\n",
              "      <th>Surfaces non boisées artificialisées (m2)</th>\n",
              "      <th>Surfaces non boisées (m2)</th>\n",
              "      <th>Nom station</th>\n",
              "      <th>id_station</th>\n",
              "      <th>Latitude station</th>\n",
              "      <th>Longitude station</th>\n",
              "      <th>Altitude station</th>\n",
              "      <th>Date</th>\n",
              "      <th>Température (°C)</th>\n",
              "      <th>Précipitations (3 heures)</th>\n",
              "      <th>Humidité (%)</th>\n",
              "      <th>Vitesse du vent (m/s)</th>\n",
              "      <th>Mois propice</th>\n",
              "      <th>Zone propice</th>\n",
              "    </tr>\n",
              "  </thead>\n",
              "  <tbody>\n",
              "    <tr>\n",
              "      <th>0</th>\n",
              "      <td>0</td>\n",
              "      <td>NaN</td>\n",
              "      <td>NaN</td>\n",
              "      <td>NaN</td>\n",
              "      <td>NaN</td>\n",
              "      <td>NaN</td>\n",
              "      <td>NaN</td>\n",
              "      <td>NaN</td>\n",
              "      <td>NaN</td>\n",
              "      <td>NaN</td>\n",
              "      <td>NaN</td>\n",
              "      <td>NaN</td>\n",
              "      <td>NaN</td>\n",
              "      <td>NaN</td>\n",
              "      <td>NaN</td>\n",
              "      <td>ABBEVILLE</td>\n",
              "      <td>7005</td>\n",
              "      <td>50.136000</td>\n",
              "      <td>1.834</td>\n",
              "      <td>69</td>\n",
              "      <td>2006-01-01 00:00:00</td>\n",
              "      <td>4.0</td>\n",
              "      <td>2.0</td>\n",
              "      <td>92.0</td>\n",
              "      <td>5.1</td>\n",
              "      <td>NaN</td>\n",
              "      <td>NaN</td>\n",
              "    </tr>\n",
              "    <tr>\n",
              "      <th>1</th>\n",
              "      <td>0</td>\n",
              "      <td>NaN</td>\n",
              "      <td>NaN</td>\n",
              "      <td>NaN</td>\n",
              "      <td>NaN</td>\n",
              "      <td>NaN</td>\n",
              "      <td>NaN</td>\n",
              "      <td>NaN</td>\n",
              "      <td>NaN</td>\n",
              "      <td>NaN</td>\n",
              "      <td>NaN</td>\n",
              "      <td>NaN</td>\n",
              "      <td>NaN</td>\n",
              "      <td>NaN</td>\n",
              "      <td>NaN</td>\n",
              "      <td>ABBEVILLE</td>\n",
              "      <td>7005</td>\n",
              "      <td>50.136000</td>\n",
              "      <td>1.834</td>\n",
              "      <td>69</td>\n",
              "      <td>2006-01-01 03:00:00</td>\n",
              "      <td>3.7</td>\n",
              "      <td>0.0</td>\n",
              "      <td>91.0</td>\n",
              "      <td>4.1</td>\n",
              "      <td>NaN</td>\n",
              "      <td>NaN</td>\n",
              "    </tr>\n",
              "    <tr>\n",
              "      <th>2</th>\n",
              "      <td>0</td>\n",
              "      <td>NaN</td>\n",
              "      <td>NaN</td>\n",
              "      <td>NaN</td>\n",
              "      <td>NaN</td>\n",
              "      <td>NaN</td>\n",
              "      <td>NaN</td>\n",
              "      <td>NaN</td>\n",
              "      <td>NaN</td>\n",
              "      <td>NaN</td>\n",
              "      <td>NaN</td>\n",
              "      <td>NaN</td>\n",
              "      <td>NaN</td>\n",
              "      <td>NaN</td>\n",
              "      <td>NaN</td>\n",
              "      <td>ABBEVILLE</td>\n",
              "      <td>7005</td>\n",
              "      <td>50.136000</td>\n",
              "      <td>1.834</td>\n",
              "      <td>69</td>\n",
              "      <td>2006-01-01 06:00:00</td>\n",
              "      <td>3.1</td>\n",
              "      <td>3.0</td>\n",
              "      <td>92.0</td>\n",
              "      <td>5.1</td>\n",
              "      <td>NaN</td>\n",
              "      <td>NaN</td>\n",
              "    </tr>\n",
              "    <tr>\n",
              "      <th>3</th>\n",
              "      <td>0</td>\n",
              "      <td>NaN</td>\n",
              "      <td>NaN</td>\n",
              "      <td>NaN</td>\n",
              "      <td>NaN</td>\n",
              "      <td>NaN</td>\n",
              "      <td>NaN</td>\n",
              "      <td>NaN</td>\n",
              "      <td>NaN</td>\n",
              "      <td>NaN</td>\n",
              "      <td>NaN</td>\n",
              "      <td>NaN</td>\n",
              "      <td>NaN</td>\n",
              "      <td>NaN</td>\n",
              "      <td>NaN</td>\n",
              "      <td>ABBEVILLE</td>\n",
              "      <td>7005</td>\n",
              "      <td>50.136000</td>\n",
              "      <td>1.834</td>\n",
              "      <td>69</td>\n",
              "      <td>2006-01-01 09:00:00</td>\n",
              "      <td>4.7</td>\n",
              "      <td>0.6</td>\n",
              "      <td>96.0</td>\n",
              "      <td>3.1</td>\n",
              "      <td>NaN</td>\n",
              "      <td>NaN</td>\n",
              "    </tr>\n",
              "    <tr>\n",
              "      <th>4</th>\n",
              "      <td>0</td>\n",
              "      <td>NaN</td>\n",
              "      <td>NaN</td>\n",
              "      <td>NaN</td>\n",
              "      <td>NaN</td>\n",
              "      <td>NaN</td>\n",
              "      <td>NaN</td>\n",
              "      <td>NaN</td>\n",
              "      <td>NaN</td>\n",
              "      <td>NaN</td>\n",
              "      <td>NaN</td>\n",
              "      <td>NaN</td>\n",
              "      <td>NaN</td>\n",
              "      <td>NaN</td>\n",
              "      <td>NaN</td>\n",
              "      <td>ABBEVILLE</td>\n",
              "      <td>7005</td>\n",
              "      <td>50.136000</td>\n",
              "      <td>1.834</td>\n",
              "      <td>69</td>\n",
              "      <td>2006-01-01 12:00:00</td>\n",
              "      <td>6.1</td>\n",
              "      <td>2.0</td>\n",
              "      <td>94.0</td>\n",
              "      <td>5.1</td>\n",
              "      <td>NaN</td>\n",
              "      <td>NaN</td>\n",
              "    </tr>\n",
              "    <tr>\n",
              "      <th>...</th>\n",
              "      <td>...</td>\n",
              "      <td>...</td>\n",
              "      <td>...</td>\n",
              "      <td>...</td>\n",
              "      <td>...</td>\n",
              "      <td>...</td>\n",
              "      <td>...</td>\n",
              "      <td>...</td>\n",
              "      <td>...</td>\n",
              "      <td>...</td>\n",
              "      <td>...</td>\n",
              "      <td>...</td>\n",
              "      <td>...</td>\n",
              "      <td>...</td>\n",
              "      <td>...</td>\n",
              "      <td>...</td>\n",
              "      <td>...</td>\n",
              "      <td>...</td>\n",
              "      <td>...</td>\n",
              "      <td>...</td>\n",
              "      <td>...</td>\n",
              "      <td>...</td>\n",
              "      <td>...</td>\n",
              "      <td>...</td>\n",
              "      <td>...</td>\n",
              "      <td>...</td>\n",
              "      <td>...</td>\n",
              "    </tr>\n",
              "    <tr>\n",
              "      <th>2363072</th>\n",
              "      <td>0</td>\n",
              "      <td>NaN</td>\n",
              "      <td>NaN</td>\n",
              "      <td>NaN</td>\n",
              "      <td>NaN</td>\n",
              "      <td>NaN</td>\n",
              "      <td>NaN</td>\n",
              "      <td>NaN</td>\n",
              "      <td>NaN</td>\n",
              "      <td>NaN</td>\n",
              "      <td>NaN</td>\n",
              "      <td>NaN</td>\n",
              "      <td>NaN</td>\n",
              "      <td>NaN</td>\n",
              "      <td>NaN</td>\n",
              "      <td>DUMONT D'URVILLE</td>\n",
              "      <td>89642</td>\n",
              "      <td>-66.663167</td>\n",
              "      <td>140.001</td>\n",
              "      <td>43</td>\n",
              "      <td>2019-12-31 00:00:00</td>\n",
              "      <td>0.7</td>\n",
              "      <td>NaN</td>\n",
              "      <td>62.0</td>\n",
              "      <td>28.3</td>\n",
              "      <td>0.016747</td>\n",
              "      <td>NaN</td>\n",
              "    </tr>\n",
              "    <tr>\n",
              "      <th>2363073</th>\n",
              "      <td>0</td>\n",
              "      <td>NaN</td>\n",
              "      <td>NaN</td>\n",
              "      <td>NaN</td>\n",
              "      <td>NaN</td>\n",
              "      <td>NaN</td>\n",
              "      <td>NaN</td>\n",
              "      <td>NaN</td>\n",
              "      <td>NaN</td>\n",
              "      <td>NaN</td>\n",
              "      <td>NaN</td>\n",
              "      <td>NaN</td>\n",
              "      <td>NaN</td>\n",
              "      <td>NaN</td>\n",
              "      <td>NaN</td>\n",
              "      <td>DUMONT D'URVILLE</td>\n",
              "      <td>89642</td>\n",
              "      <td>-66.663167</td>\n",
              "      <td>140.001</td>\n",
              "      <td>43</td>\n",
              "      <td>2019-12-31 12:00:00</td>\n",
              "      <td>1.7</td>\n",
              "      <td>NaN</td>\n",
              "      <td>74.0</td>\n",
              "      <td>23.1</td>\n",
              "      <td>0.016747</td>\n",
              "      <td>NaN</td>\n",
              "    </tr>\n",
              "    <tr>\n",
              "      <th>2363074</th>\n",
              "      <td>0</td>\n",
              "      <td>NaN</td>\n",
              "      <td>NaN</td>\n",
              "      <td>NaN</td>\n",
              "      <td>NaN</td>\n",
              "      <td>NaN</td>\n",
              "      <td>NaN</td>\n",
              "      <td>NaN</td>\n",
              "      <td>NaN</td>\n",
              "      <td>NaN</td>\n",
              "      <td>NaN</td>\n",
              "      <td>NaN</td>\n",
              "      <td>NaN</td>\n",
              "      <td>NaN</td>\n",
              "      <td>NaN</td>\n",
              "      <td>DUMONT D'URVILLE</td>\n",
              "      <td>89642</td>\n",
              "      <td>-66.663167</td>\n",
              "      <td>140.001</td>\n",
              "      <td>43</td>\n",
              "      <td>2019-12-31 15:00:00</td>\n",
              "      <td>1.0</td>\n",
              "      <td>NaN</td>\n",
              "      <td>78.0</td>\n",
              "      <td>18.0</td>\n",
              "      <td>0.016747</td>\n",
              "      <td>NaN</td>\n",
              "    </tr>\n",
              "    <tr>\n",
              "      <th>2363075</th>\n",
              "      <td>0</td>\n",
              "      <td>NaN</td>\n",
              "      <td>NaN</td>\n",
              "      <td>NaN</td>\n",
              "      <td>NaN</td>\n",
              "      <td>NaN</td>\n",
              "      <td>NaN</td>\n",
              "      <td>NaN</td>\n",
              "      <td>NaN</td>\n",
              "      <td>NaN</td>\n",
              "      <td>NaN</td>\n",
              "      <td>NaN</td>\n",
              "      <td>NaN</td>\n",
              "      <td>NaN</td>\n",
              "      <td>NaN</td>\n",
              "      <td>DUMONT D'URVILLE</td>\n",
              "      <td>89642</td>\n",
              "      <td>-66.663167</td>\n",
              "      <td>140.001</td>\n",
              "      <td>43</td>\n",
              "      <td>2019-12-31 18:00:00</td>\n",
              "      <td>1.0</td>\n",
              "      <td>NaN</td>\n",
              "      <td>72.0</td>\n",
              "      <td>20.6</td>\n",
              "      <td>0.016747</td>\n",
              "      <td>NaN</td>\n",
              "    </tr>\n",
              "    <tr>\n",
              "      <th>2363076</th>\n",
              "      <td>0</td>\n",
              "      <td>NaN</td>\n",
              "      <td>NaN</td>\n",
              "      <td>NaN</td>\n",
              "      <td>NaN</td>\n",
              "      <td>NaN</td>\n",
              "      <td>NaN</td>\n",
              "      <td>NaN</td>\n",
              "      <td>NaN</td>\n",
              "      <td>NaN</td>\n",
              "      <td>NaN</td>\n",
              "      <td>NaN</td>\n",
              "      <td>NaN</td>\n",
              "      <td>NaN</td>\n",
              "      <td>NaN</td>\n",
              "      <td>DUMONT D'URVILLE</td>\n",
              "      <td>89642</td>\n",
              "      <td>-66.663167</td>\n",
              "      <td>140.001</td>\n",
              "      <td>43</td>\n",
              "      <td>2019-12-31 21:00:00</td>\n",
              "      <td>0.6</td>\n",
              "      <td>NaN</td>\n",
              "      <td>73.0</td>\n",
              "      <td>21.6</td>\n",
              "      <td>0.016747</td>\n",
              "      <td>NaN</td>\n",
              "    </tr>\n",
              "  </tbody>\n",
              "</table>\n",
              "<p>2363077 rows × 27 columns</p>\n",
              "</div>"
            ],
            "text/plain": [
              "         Départ de feu  Année  ... Mois propice Zone propice\n",
              "0                    0    NaN  ...          NaN          NaN\n",
              "1                    0    NaN  ...          NaN          NaN\n",
              "2                    0    NaN  ...          NaN          NaN\n",
              "3                    0    NaN  ...          NaN          NaN\n",
              "4                    0    NaN  ...          NaN          NaN\n",
              "...                ...    ...  ...          ...          ...\n",
              "2363072              0    NaN  ...     0.016747          NaN\n",
              "2363073              0    NaN  ...     0.016747          NaN\n",
              "2363074              0    NaN  ...     0.016747          NaN\n",
              "2363075              0    NaN  ...     0.016747          NaN\n",
              "2363076              0    NaN  ...     0.016747          NaN\n",
              "\n",
              "[2363077 rows x 27 columns]"
            ]
          },
          "metadata": {
            "tags": []
          },
          "execution_count": 49
        }
      ]
    },
    {
      "cell_type": "code",
      "metadata": {
        "id": "GG09VlXdYXQI",
        "colab": {
          "base_uri": "https://localhost:8080/"
        },
        "outputId": "8f7b96cd-cf04-4932-e8b9-fe7a6c4a7606"
      },
      "source": [
        "import math\r\n",
        "from tqdm import tqdm\r\n",
        "tqdm.pandas()\r\n",
        "df['Index']=df.index\r\n",
        "df_feu=df[df['Départ de feu']==1]\r\n",
        "df_feu['Index']=df_feu.index"
      ],
      "execution_count": 51,
      "outputs": [
        {
          "output_type": "stream",
          "text": [
            "/usr/local/lib/python3.6/dist-packages/ipykernel_launcher.py:6: SettingWithCopyWarning: \n",
            "A value is trying to be set on a copy of a slice from a DataFrame.\n",
            "Try using .loc[row_indexer,col_indexer] = value instead\n",
            "\n",
            "See the caveats in the documentation: https://pandas.pydata.org/pandas-docs/stable/user_guide/indexing.html#returning-a-view-versus-a-copy\n",
            "  \n"
          ],
          "name": "stderr"
        }
      ]
    },
    {
      "cell_type": "code",
      "metadata": {
        "id": "JS3_3jYAUpMx"
      },
      "source": [
        "def moyenne_precipitations(index):\n",
        "    if math.isnan(df.iloc[index,16]):\n",
        "        return np.nan\n",
        "    sub = df[df['id_station'] == df.iloc[index,16]]  #on se restreint aux relevés d'une même station. La base est ordonnée par station donc les index restent dans le bon ordre et se suivent\n",
        "    if index >= 55 and index+1 <= df.shape[0]:\n",
        "        sub = sub[sub['Index'].between(index-54,index+1)]        #on garde prend les 55 relevés précédents\n",
        "        return sub['Précipitations (3 heures)'].sum(axis=0)/56   #on fait la moyenne pour les relevés pertinents\n",
        "    else:\n",
        "        return np.nan   #pour les premier relevés, on ne peut pas avoir la moyenne de la semaine précédente, la valeur est NaN"
      ],
      "execution_count": 52,
      "outputs": []
    },
    {
      "cell_type": "code",
      "metadata": {
        "colab": {
          "base_uri": "https://localhost:8080/"
        },
        "id": "CDYkifU3UpMx",
        "outputId": "655b20ad-6394-41e1-c81f-f5ccab178b69"
      },
      "source": [
        "df_feu['Précipitation semaine'] = df_feu['Index'].progress_apply(lambda row: moyenne_precipitations(row))"
      ],
      "execution_count": 53,
      "outputs": [
        {
          "output_type": "stream",
          "text": [
            "100%|██████████| 33080/33080 [06:20<00:00, 86.85it/s]\n",
            "/usr/local/lib/python3.6/dist-packages/ipykernel_launcher.py:1: SettingWithCopyWarning: \n",
            "A value is trying to be set on a copy of a slice from a DataFrame.\n",
            "Try using .loc[row_indexer,col_indexer] = value instead\n",
            "\n",
            "See the caveats in the documentation: https://pandas.pydata.org/pandas-docs/stable/user_guide/indexing.html#returning-a-view-versus-a-copy\n",
            "  \"\"\"Entry point for launching an IPython kernel.\n"
          ],
          "name": "stderr"
        }
      ]
    },
    {
      "cell_type": "markdown",
      "metadata": {
        "id": "5ZpjeobwUpMx"
      },
      "source": [
        "On crée également une variable nous donnant la moyenne de température des deux semaines précédent le relevé (moyenne avec les 111 relevés précedents donc)."
      ]
    },
    {
      "cell_type": "code",
      "metadata": {
        "id": "cPvOObjik6fi"
      },
      "source": [
        "def moyenne_temperature(index):\r\n",
        "    if math.isnan(df.iloc[index,16]):\r\n",
        "        return np.nan\r\n",
        "    sub = df[df['id_station'] == df.iloc[index,16]]  #on se restreint aux relevés d'une même station. La base est ordonnée par station donc les index restent dans le bon ordre et se suivent\r\n",
        "    if index >= 111 and index+1 <= df.shape[0]:\r\n",
        "        sub = sub[sub['Index'].between(index-110,index+1)]        #on garde prend les 111 relevés précédents\r\n",
        "        return sub['Température (°C)'].sum(axis=0)/112   #on fait la moyenne pour les relevés pertinents\r\n",
        "    else:\r\n",
        "        return np.nan   #pour les premier relevés, on ne peut pas avoir la moyenne de la semaine précédente, la valeur est NaN"
      ],
      "execution_count": 54,
      "outputs": []
    },
    {
      "cell_type": "code",
      "metadata": {
        "id": "8At6DvNZUpMy",
        "colab": {
          "base_uri": "https://localhost:8080/",
          "height": 357
        },
        "outputId": "3aebdd82-2022-4be9-9f2f-366951ae5603"
      },
      "source": [
        "df_feu['Température semaine'] = df_feu['Index'].progress_apply(lambda row: moyenne_temperature(row))"
      ],
      "execution_count": 55,
      "outputs": [
        {
          "output_type": "stream",
          "text": [
            " 84%|████████▍ | 27872/33080 [05:19<00:59, 86.89it/s]"
          ],
          "name": "stderr"
        },
        {
          "output_type": "error",
          "ename": "KeyboardInterrupt",
          "evalue": "ignored",
          "traceback": [
            "\u001b[0;31m---------------------------------------------------------------------------\u001b[0m",
            "\u001b[0;31mKeyboardInterrupt\u001b[0m                         Traceback (most recent call last)",
            "\u001b[0;32m<ipython-input-55-fc5df2a74066>\u001b[0m in \u001b[0;36m<module>\u001b[0;34m()\u001b[0m\n\u001b[0;32m----> 1\u001b[0;31m \u001b[0mdf_feu\u001b[0m\u001b[0;34m[\u001b[0m\u001b[0;34m'Température semaine'\u001b[0m\u001b[0;34m]\u001b[0m \u001b[0;34m=\u001b[0m \u001b[0mdf_feu\u001b[0m\u001b[0;34m[\u001b[0m\u001b[0;34m'Index'\u001b[0m\u001b[0;34m]\u001b[0m\u001b[0;34m.\u001b[0m\u001b[0mprogress_apply\u001b[0m\u001b[0;34m(\u001b[0m\u001b[0;32mlambda\u001b[0m \u001b[0mrow\u001b[0m\u001b[0;34m:\u001b[0m \u001b[0mmoyenne_temperature\u001b[0m\u001b[0;34m(\u001b[0m\u001b[0mrow\u001b[0m\u001b[0;34m)\u001b[0m\u001b[0;34m)\u001b[0m\u001b[0;34m\u001b[0m\u001b[0;34m\u001b[0m\u001b[0m\n\u001b[0m",
            "\u001b[0;32m/usr/local/lib/python3.6/dist-packages/tqdm/std.py\u001b[0m in \u001b[0;36minner\u001b[0;34m(df, func, *args, **kwargs)\u001b[0m\n\u001b[1;32m    751\u001b[0m                 \u001b[0;31m# Apply the provided function (in **kwargs)\u001b[0m\u001b[0;34m\u001b[0m\u001b[0;34m\u001b[0m\u001b[0;34m\u001b[0m\u001b[0m\n\u001b[1;32m    752\u001b[0m                 \u001b[0;31m# on the df using our wrapper (which provides bar updating)\u001b[0m\u001b[0;34m\u001b[0m\u001b[0;34m\u001b[0m\u001b[0;34m\u001b[0m\u001b[0m\n\u001b[0;32m--> 753\u001b[0;31m                 \u001b[0mresult\u001b[0m \u001b[0;34m=\u001b[0m \u001b[0mgetattr\u001b[0m\u001b[0;34m(\u001b[0m\u001b[0mdf\u001b[0m\u001b[0;34m,\u001b[0m \u001b[0mdf_function\u001b[0m\u001b[0;34m)\u001b[0m\u001b[0;34m(\u001b[0m\u001b[0mwrapper\u001b[0m\u001b[0;34m,\u001b[0m \u001b[0;34m**\u001b[0m\u001b[0mkwargs\u001b[0m\u001b[0;34m)\u001b[0m\u001b[0;34m\u001b[0m\u001b[0;34m\u001b[0m\u001b[0m\n\u001b[0m\u001b[1;32m    754\u001b[0m \u001b[0;34m\u001b[0m\u001b[0m\n\u001b[1;32m    755\u001b[0m                 \u001b[0;31m# Close bar and return pandas calculation result\u001b[0m\u001b[0;34m\u001b[0m\u001b[0;34m\u001b[0m\u001b[0;34m\u001b[0m\u001b[0m\n",
            "\u001b[0;32m/usr/local/lib/python3.6/dist-packages/pandas/core/series.py\u001b[0m in \u001b[0;36mapply\u001b[0;34m(self, func, convert_dtype, args, **kwds)\u001b[0m\n\u001b[1;32m   4211\u001b[0m             \u001b[0;32melse\u001b[0m\u001b[0;34m:\u001b[0m\u001b[0;34m\u001b[0m\u001b[0;34m\u001b[0m\u001b[0m\n\u001b[1;32m   4212\u001b[0m                 \u001b[0mvalues\u001b[0m \u001b[0;34m=\u001b[0m \u001b[0mself\u001b[0m\u001b[0;34m.\u001b[0m\u001b[0mastype\u001b[0m\u001b[0;34m(\u001b[0m\u001b[0mobject\u001b[0m\u001b[0;34m)\u001b[0m\u001b[0;34m.\u001b[0m\u001b[0m_values\u001b[0m\u001b[0;34m\u001b[0m\u001b[0;34m\u001b[0m\u001b[0m\n\u001b[0;32m-> 4213\u001b[0;31m                 \u001b[0mmapped\u001b[0m \u001b[0;34m=\u001b[0m \u001b[0mlib\u001b[0m\u001b[0;34m.\u001b[0m\u001b[0mmap_infer\u001b[0m\u001b[0;34m(\u001b[0m\u001b[0mvalues\u001b[0m\u001b[0;34m,\u001b[0m \u001b[0mf\u001b[0m\u001b[0;34m,\u001b[0m \u001b[0mconvert\u001b[0m\u001b[0;34m=\u001b[0m\u001b[0mconvert_dtype\u001b[0m\u001b[0;34m)\u001b[0m\u001b[0;34m\u001b[0m\u001b[0;34m\u001b[0m\u001b[0m\n\u001b[0m\u001b[1;32m   4214\u001b[0m \u001b[0;34m\u001b[0m\u001b[0m\n\u001b[1;32m   4215\u001b[0m         \u001b[0;32mif\u001b[0m \u001b[0mlen\u001b[0m\u001b[0;34m(\u001b[0m\u001b[0mmapped\u001b[0m\u001b[0;34m)\u001b[0m \u001b[0;32mand\u001b[0m \u001b[0misinstance\u001b[0m\u001b[0;34m(\u001b[0m\u001b[0mmapped\u001b[0m\u001b[0;34m[\u001b[0m\u001b[0;36m0\u001b[0m\u001b[0;34m]\u001b[0m\u001b[0;34m,\u001b[0m \u001b[0mSeries\u001b[0m\u001b[0;34m)\u001b[0m\u001b[0;34m:\u001b[0m\u001b[0;34m\u001b[0m\u001b[0;34m\u001b[0m\u001b[0m\n",
            "\u001b[0;32mpandas/_libs/lib.pyx\u001b[0m in \u001b[0;36mpandas._libs.lib.map_infer\u001b[0;34m()\u001b[0m\n",
            "\u001b[0;32m/usr/local/lib/python3.6/dist-packages/tqdm/std.py\u001b[0m in \u001b[0;36mwrapper\u001b[0;34m(*args, **kwargs)\u001b[0m\n\u001b[1;32m    747\u001b[0m                     \u001b[0;31m# take a fast or slow code path; so stop when t.total==t.n\u001b[0m\u001b[0;34m\u001b[0m\u001b[0;34m\u001b[0m\u001b[0;34m\u001b[0m\u001b[0m\n\u001b[1;32m    748\u001b[0m                     \u001b[0mt\u001b[0m\u001b[0;34m.\u001b[0m\u001b[0mupdate\u001b[0m\u001b[0;34m(\u001b[0m\u001b[0mn\u001b[0m\u001b[0;34m=\u001b[0m\u001b[0;36m1\u001b[0m \u001b[0;32mif\u001b[0m \u001b[0;32mnot\u001b[0m \u001b[0mt\u001b[0m\u001b[0;34m.\u001b[0m\u001b[0mtotal\u001b[0m \u001b[0;32mor\u001b[0m \u001b[0mt\u001b[0m\u001b[0;34m.\u001b[0m\u001b[0mn\u001b[0m \u001b[0;34m<\u001b[0m \u001b[0mt\u001b[0m\u001b[0;34m.\u001b[0m\u001b[0mtotal\u001b[0m \u001b[0;32melse\u001b[0m \u001b[0;36m0\u001b[0m\u001b[0;34m)\u001b[0m\u001b[0;34m\u001b[0m\u001b[0;34m\u001b[0m\u001b[0m\n\u001b[0;32m--> 749\u001b[0;31m                     \u001b[0;32mreturn\u001b[0m \u001b[0mfunc\u001b[0m\u001b[0;34m(\u001b[0m\u001b[0;34m*\u001b[0m\u001b[0margs\u001b[0m\u001b[0;34m,\u001b[0m \u001b[0;34m**\u001b[0m\u001b[0mkwargs\u001b[0m\u001b[0;34m)\u001b[0m\u001b[0;34m\u001b[0m\u001b[0;34m\u001b[0m\u001b[0m\n\u001b[0m\u001b[1;32m    750\u001b[0m \u001b[0;34m\u001b[0m\u001b[0m\n\u001b[1;32m    751\u001b[0m                 \u001b[0;31m# Apply the provided function (in **kwargs)\u001b[0m\u001b[0;34m\u001b[0m\u001b[0;34m\u001b[0m\u001b[0;34m\u001b[0m\u001b[0m\n",
            "\u001b[0;32m<ipython-input-55-fc5df2a74066>\u001b[0m in \u001b[0;36m<lambda>\u001b[0;34m(row)\u001b[0m\n\u001b[0;32m----> 1\u001b[0;31m \u001b[0mdf_feu\u001b[0m\u001b[0;34m[\u001b[0m\u001b[0;34m'Température semaine'\u001b[0m\u001b[0;34m]\u001b[0m \u001b[0;34m=\u001b[0m \u001b[0mdf_feu\u001b[0m\u001b[0;34m[\u001b[0m\u001b[0;34m'Index'\u001b[0m\u001b[0;34m]\u001b[0m\u001b[0;34m.\u001b[0m\u001b[0mprogress_apply\u001b[0m\u001b[0;34m(\u001b[0m\u001b[0;32mlambda\u001b[0m \u001b[0mrow\u001b[0m\u001b[0;34m:\u001b[0m \u001b[0mmoyenne_temperature\u001b[0m\u001b[0;34m(\u001b[0m\u001b[0mrow\u001b[0m\u001b[0;34m)\u001b[0m\u001b[0;34m)\u001b[0m\u001b[0;34m\u001b[0m\u001b[0;34m\u001b[0m\u001b[0m\n\u001b[0m",
            "\u001b[0;32m<ipython-input-54-2291cb1c8ff5>\u001b[0m in \u001b[0;36mmoyenne_temperature\u001b[0;34m(index)\u001b[0m\n\u001b[1;32m      4\u001b[0m     \u001b[0msub\u001b[0m \u001b[0;34m=\u001b[0m \u001b[0mdf\u001b[0m\u001b[0;34m[\u001b[0m\u001b[0mdf\u001b[0m\u001b[0;34m[\u001b[0m\u001b[0;34m'id_station'\u001b[0m\u001b[0;34m]\u001b[0m \u001b[0;34m==\u001b[0m \u001b[0mdf\u001b[0m\u001b[0;34m.\u001b[0m\u001b[0miloc\u001b[0m\u001b[0;34m[\u001b[0m\u001b[0mindex\u001b[0m\u001b[0;34m,\u001b[0m\u001b[0;36m16\u001b[0m\u001b[0;34m]\u001b[0m\u001b[0;34m]\u001b[0m  \u001b[0;31m#on se restreint aux relevés d'une même station. La base est ordonnée par station donc les index restent dans le bon ordre et se suivent\u001b[0m\u001b[0;34m\u001b[0m\u001b[0;34m\u001b[0m\u001b[0m\n\u001b[1;32m      5\u001b[0m     \u001b[0;32mif\u001b[0m \u001b[0mindex\u001b[0m \u001b[0;34m>=\u001b[0m \u001b[0;36m111\u001b[0m \u001b[0;32mand\u001b[0m \u001b[0mindex\u001b[0m\u001b[0;34m+\u001b[0m\u001b[0;36m1\u001b[0m \u001b[0;34m<=\u001b[0m \u001b[0mdf\u001b[0m\u001b[0;34m.\u001b[0m\u001b[0mshape\u001b[0m\u001b[0;34m[\u001b[0m\u001b[0;36m0\u001b[0m\u001b[0;34m]\u001b[0m\u001b[0;34m:\u001b[0m\u001b[0;34m\u001b[0m\u001b[0;34m\u001b[0m\u001b[0m\n\u001b[0;32m----> 6\u001b[0;31m         \u001b[0msub\u001b[0m \u001b[0;34m=\u001b[0m \u001b[0msub\u001b[0m\u001b[0;34m[\u001b[0m\u001b[0msub\u001b[0m\u001b[0;34m[\u001b[0m\u001b[0;34m'Index'\u001b[0m\u001b[0;34m]\u001b[0m\u001b[0;34m.\u001b[0m\u001b[0mbetween\u001b[0m\u001b[0;34m(\u001b[0m\u001b[0mindex\u001b[0m\u001b[0;34m-\u001b[0m\u001b[0;36m110\u001b[0m\u001b[0;34m,\u001b[0m\u001b[0mindex\u001b[0m\u001b[0;34m+\u001b[0m\u001b[0;36m1\u001b[0m\u001b[0;34m)\u001b[0m\u001b[0;34m]\u001b[0m        \u001b[0;31m#on garde prend les 111 relevés précédents\u001b[0m\u001b[0;34m\u001b[0m\u001b[0;34m\u001b[0m\u001b[0m\n\u001b[0m\u001b[1;32m      7\u001b[0m         \u001b[0;32mreturn\u001b[0m \u001b[0msub\u001b[0m\u001b[0;34m[\u001b[0m\u001b[0;34m'Température (°C)'\u001b[0m\u001b[0;34m]\u001b[0m\u001b[0;34m.\u001b[0m\u001b[0msum\u001b[0m\u001b[0;34m(\u001b[0m\u001b[0maxis\u001b[0m\u001b[0;34m=\u001b[0m\u001b[0;36m0\u001b[0m\u001b[0;34m)\u001b[0m\u001b[0;34m/\u001b[0m\u001b[0;36m112\u001b[0m   \u001b[0;31m#on fait la moyenne pour les relevés pertinents\u001b[0m\u001b[0;34m\u001b[0m\u001b[0;34m\u001b[0m\u001b[0m\n\u001b[1;32m      8\u001b[0m     \u001b[0;32melse\u001b[0m\u001b[0;34m:\u001b[0m\u001b[0;34m\u001b[0m\u001b[0;34m\u001b[0m\u001b[0m\n",
            "\u001b[0;32m/usr/local/lib/python3.6/dist-packages/pandas/core/frame.py\u001b[0m in \u001b[0;36m__getitem__\u001b[0;34m(self, key)\u001b[0m\n\u001b[1;32m   2895\u001b[0m         \u001b[0;31m# Do we have a (boolean) 1d indexer?\u001b[0m\u001b[0;34m\u001b[0m\u001b[0;34m\u001b[0m\u001b[0;34m\u001b[0m\u001b[0m\n\u001b[1;32m   2896\u001b[0m         \u001b[0;32mif\u001b[0m \u001b[0mcom\u001b[0m\u001b[0;34m.\u001b[0m\u001b[0mis_bool_indexer\u001b[0m\u001b[0;34m(\u001b[0m\u001b[0mkey\u001b[0m\u001b[0;34m)\u001b[0m\u001b[0;34m:\u001b[0m\u001b[0;34m\u001b[0m\u001b[0;34m\u001b[0m\u001b[0m\n\u001b[0;32m-> 2897\u001b[0;31m             \u001b[0;32mreturn\u001b[0m \u001b[0mself\u001b[0m\u001b[0;34m.\u001b[0m\u001b[0m_getitem_bool_array\u001b[0m\u001b[0;34m(\u001b[0m\u001b[0mkey\u001b[0m\u001b[0;34m)\u001b[0m\u001b[0;34m\u001b[0m\u001b[0;34m\u001b[0m\u001b[0m\n\u001b[0m\u001b[1;32m   2898\u001b[0m \u001b[0;34m\u001b[0m\u001b[0m\n\u001b[1;32m   2899\u001b[0m         \u001b[0;31m# We are left with two options: a single key, and a collection of keys,\u001b[0m\u001b[0;34m\u001b[0m\u001b[0;34m\u001b[0m\u001b[0;34m\u001b[0m\u001b[0m\n",
            "\u001b[0;32m/usr/local/lib/python3.6/dist-packages/pandas/core/frame.py\u001b[0m in \u001b[0;36m_getitem_bool_array\u001b[0;34m(self, key)\u001b[0m\n\u001b[1;32m   2947\u001b[0m         \u001b[0;31m# check_bool_indexer will throw exception if Series key cannot\u001b[0m\u001b[0;34m\u001b[0m\u001b[0;34m\u001b[0m\u001b[0;34m\u001b[0m\u001b[0m\n\u001b[1;32m   2948\u001b[0m         \u001b[0;31m# be reindexed to match DataFrame rows\u001b[0m\u001b[0;34m\u001b[0m\u001b[0;34m\u001b[0m\u001b[0;34m\u001b[0m\u001b[0m\n\u001b[0;32m-> 2949\u001b[0;31m         \u001b[0mkey\u001b[0m \u001b[0;34m=\u001b[0m \u001b[0mcheck_bool_indexer\u001b[0m\u001b[0;34m(\u001b[0m\u001b[0mself\u001b[0m\u001b[0;34m.\u001b[0m\u001b[0mindex\u001b[0m\u001b[0;34m,\u001b[0m \u001b[0mkey\u001b[0m\u001b[0;34m)\u001b[0m\u001b[0;34m\u001b[0m\u001b[0;34m\u001b[0m\u001b[0m\n\u001b[0m\u001b[1;32m   2950\u001b[0m         \u001b[0mindexer\u001b[0m \u001b[0;34m=\u001b[0m \u001b[0mkey\u001b[0m\u001b[0;34m.\u001b[0m\u001b[0mnonzero\u001b[0m\u001b[0;34m(\u001b[0m\u001b[0;34m)\u001b[0m\u001b[0;34m[\u001b[0m\u001b[0;36m0\u001b[0m\u001b[0;34m]\u001b[0m\u001b[0;34m\u001b[0m\u001b[0;34m\u001b[0m\u001b[0m\n\u001b[1;32m   2951\u001b[0m         \u001b[0;32mreturn\u001b[0m \u001b[0mself\u001b[0m\u001b[0;34m.\u001b[0m\u001b[0m_take_with_is_copy\u001b[0m\u001b[0;34m(\u001b[0m\u001b[0mindexer\u001b[0m\u001b[0;34m,\u001b[0m \u001b[0maxis\u001b[0m\u001b[0;34m=\u001b[0m\u001b[0;36m0\u001b[0m\u001b[0;34m)\u001b[0m\u001b[0;34m\u001b[0m\u001b[0;34m\u001b[0m\u001b[0m\n",
            "\u001b[0;32m/usr/local/lib/python3.6/dist-packages/pandas/core/indexing.py\u001b[0m in \u001b[0;36mcheck_bool_indexer\u001b[0;34m(index, key)\u001b[0m\n\u001b[1;32m   2193\u001b[0m         \u001b[0;31m# key may contain nan elements, check_array_indexer needs bool array\u001b[0m\u001b[0;34m\u001b[0m\u001b[0;34m\u001b[0m\u001b[0;34m\u001b[0m\u001b[0m\n\u001b[1;32m   2194\u001b[0m         \u001b[0mresult\u001b[0m \u001b[0;34m=\u001b[0m \u001b[0mpd_array\u001b[0m\u001b[0;34m(\u001b[0m\u001b[0mresult\u001b[0m\u001b[0;34m,\u001b[0m \u001b[0mdtype\u001b[0m\u001b[0;34m=\u001b[0m\u001b[0mbool\u001b[0m\u001b[0;34m)\u001b[0m\u001b[0;34m\u001b[0m\u001b[0;34m\u001b[0m\u001b[0m\n\u001b[0;32m-> 2195\u001b[0;31m     \u001b[0;32mreturn\u001b[0m \u001b[0mcheck_array_indexer\u001b[0m\u001b[0;34m(\u001b[0m\u001b[0mindex\u001b[0m\u001b[0;34m,\u001b[0m \u001b[0mresult\u001b[0m\u001b[0;34m)\u001b[0m\u001b[0;34m\u001b[0m\u001b[0;34m\u001b[0m\u001b[0m\n\u001b[0m\u001b[1;32m   2196\u001b[0m \u001b[0;34m\u001b[0m\u001b[0m\n\u001b[1;32m   2197\u001b[0m \u001b[0;34m\u001b[0m\u001b[0m\n",
            "\u001b[0;32m/usr/local/lib/python3.6/dist-packages/pandas/core/indexers.py\u001b[0m in \u001b[0;36mcheck_array_indexer\u001b[0;34m(array, indexer)\u001b[0m\n\u001b[1;32m    467\u001b[0m \u001b[0;34m\u001b[0m\u001b[0m\n\u001b[1;32m    468\u001b[0m         \u001b[0;31m# GH26658\u001b[0m\u001b[0;34m\u001b[0m\u001b[0;34m\u001b[0m\u001b[0;34m\u001b[0m\u001b[0m\n\u001b[0;32m--> 469\u001b[0;31m         \u001b[0;32mif\u001b[0m \u001b[0mlen\u001b[0m\u001b[0;34m(\u001b[0m\u001b[0mindexer\u001b[0m\u001b[0;34m)\u001b[0m \u001b[0;34m!=\u001b[0m \u001b[0mlen\u001b[0m\u001b[0;34m(\u001b[0m\u001b[0marray\u001b[0m\u001b[0;34m)\u001b[0m\u001b[0;34m:\u001b[0m\u001b[0;34m\u001b[0m\u001b[0;34m\u001b[0m\u001b[0m\n\u001b[0m\u001b[1;32m    470\u001b[0m             raise IndexError(\n\u001b[1;32m    471\u001b[0m                 \u001b[0;34mf\"Boolean index has wrong length: \"\u001b[0m\u001b[0;34m\u001b[0m\u001b[0;34m\u001b[0m\u001b[0m\n",
            "\u001b[0;31mKeyboardInterrupt\u001b[0m: "
          ]
        }
      ]
    },
    {
      "cell_type": "code",
      "metadata": {
        "id": "SDphMZRJpNas"
      },
      "source": [
        "df_feu"
      ],
      "execution_count": null,
      "outputs": []
    },
    {
      "cell_type": "code",
      "metadata": {
        "id": "zVrwK96BpLvj"
      },
      "source": [
        "df3 = df_feu.iloc[:, [9,17,18,19,21,22,23,24,25,26,28,29]]  \r\n",
        "df3 = df3.dropna()\r\n",
        "df3.head()\r\n"
      ],
      "execution_count": null,
      "outputs": []
    },
    {
      "cell_type": "code",
      "metadata": {
        "id": "Yau6eU0JUpM0"
      },
      "source": [
        "values=df3.values\n",
        "x = values[:,[1,2,3,4,5,6,7,8,9,10,11]].astype(float)\n",
        "y = values[:,0].astype(float)"
      ],
      "execution_count": null,
      "outputs": []
    },
    {
      "cell_type": "code",
      "metadata": {
        "id": "dzX-JWruUpM0"
      },
      "source": [
        "x_train,x_test,y_train,y_test = train_test_split(x, y, test_size = 0.3, random_state = 10)"
      ],
      "execution_count": null,
      "outputs": []
    },
    {
      "cell_type": "code",
      "metadata": {
        "id": "_Qu1zwAfUpM1"
      },
      "source": [
        "x_train.shape"
      ],
      "execution_count": null,
      "outputs": []
    },
    {
      "cell_type": "code",
      "metadata": {
        "id": "V4tSJjk0UpM1"
      },
      "source": [
        "model = Sequential()\n",
        "\n",
        "model.add(Dense(500, input_dim = x_train.shape[1], activation = 'relu'))\n",
        "model.add(Dense(100, activation = 'relu'))\n",
        "model.add(Dense(50, activation = 'relu'))\n",
        "model.add(Dense(1))\n",
        "\n",
        "model.compile(loss = \"mean_squared_error\" , optimizer = \"adam\", metrics = [\"mean_squared_error\"])\n",
        "\n",
        "model.summary()"
      ],
      "execution_count": null,
      "outputs": []
    },
    {
      "cell_type": "code",
      "metadata": {
        "id": "YqmB6FbDUpM1"
      },
      "source": [
        "history = model.fit(x_train, y_train, epochs = 50, verbose = 1, validation_data=(x_test, y_test))"
      ],
      "execution_count": null,
      "outputs": []
    },
    {
      "cell_type": "code",
      "metadata": {
        "id": "efpmFepqUpM2"
      },
      "source": [
        "plt.figure(figsize=(7, 5))\n",
        "plt.plot(history.epoch, history.history['loss'], lw=3, label='Training set')\n",
        "plt.plot(history.epoch, history.history['val_loss'], lw=3, label='Test set')\n",
        "plt.legend(fontsize=14)\n",
        "plt.title('Loss of the FFNN', fontsize=16)\n",
        "plt.xlabel('Epoch', fontsize=14)\n",
        "plt.ylabel('MAE', fontsize=14)\n",
        "plt.tight_layout()"
      ],
      "execution_count": null,
      "outputs": []
    },
    {
      "cell_type": "code",
      "metadata": {
        "id": "AR4_GNpRUpM2"
      },
      "source": [
        "pred_train = model.predict(x_train)\n",
        "print(np.sqrt(mean_squared_error(y_train,pred_train)))\n",
        "\n",
        "pred = model.predict(x_test)\n",
        "print(np.sqrt(mean_squared_error(y_test,pred))) "
      ],
      "execution_count": null,
      "outputs": []
    },
    {
      "cell_type": "markdown",
      "metadata": {
        "id": "UEXSncOe3WVA"
      },
      "source": [
        "On a toujours des erreurs considérables malgré les nouvelles features.\r\n"
      ]
    }
  ]
}